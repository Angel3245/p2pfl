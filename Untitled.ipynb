{
 "cells": [
  {
   "cell_type": "code",
   "execution_count": null,
   "id": "21867234",
   "metadata": {
    "scrolled": true
   },
   "outputs": [
    {
     "name": "stdout",
     "output_type": "stream",
     "text": [
      "Train: 54000 Val:6000 Test:10000\n",
      "INFO:root:Nodo a la escucha en 127.0.0.1 55211\n",
      "INFO:root:Broadcasting start learning...\n",
      "INFO:root:Broadcasting model to all clients...\n",
      "INFO:root:Training...\n",
      "INFO:root:Model added (1/1)\n",
      "INFO:root:Agregating models. XD\n",
      "Agregating models in FedAvgINFO:root:Broadcasting model to all clients...\n",
      "\n",
      "step 1\n",
      "step 2\n",
      "54000\n",
      "step 3\n",
      "step 4\n",
      "-------params setted-------\n",
      "calling on_round_finished\n",
      "executing on_round_finished\n",
      "INFO:root:Round 1 of 2 finished. (('127.0.0.1', 55211))\n",
      "INFO:root:Training...\n",
      "INFO:root:Model added (2/1)\n",
      "INFO:root:Broadcasting model to all clients...\n"
     ]
    }
   ],
   "source": [
    "from p2pfl.node import Node\n",
    "from p2pfl.learning.pytorch.mnist_examples.mnistfederated_dm import MnistFederatedDM\n",
    "from p2pfl.learning.pytorch.mnist_examples.models.mlp import MLP\n",
    "from collections import OrderedDict\n",
    "import torch\n",
    "import time\n",
    "\n",
    "node = Node(MLP(),MnistFederatedDM())\n",
    "node.start()\n",
    "\n",
    "#node.connect_to(\"localhost\",7777)\n",
    "time.sleep(0.1)\n",
    "node.set_start_learning(rounds=2,epochs=0)\n",
    "\n",
    "time.sleep(200)\n"
   ]
  },
  {
   "cell_type": "code",
   "execution_count": 2,
   "id": "d8d24bb5",
   "metadata": {},
   "outputs": [
    {
     "name": "stdout",
     "output_type": "stream",
     "text": [
      "None\n"
     ]
    }
   ],
   "source": [
    "print(node.round)"
   ]
  },
  {
   "cell_type": "code",
   "execution_count": null,
   "id": "a5c0a43d",
   "metadata": {},
   "outputs": [],
   "source": []
  }
 ],
 "metadata": {
  "kernelspec": {
   "display_name": "Python 3 (ipykernel)",
   "language": "python",
   "name": "python3"
  },
  "language_info": {
   "codemirror_mode": {
    "name": "ipython",
    "version": 3
   },
   "file_extension": ".py",
   "mimetype": "text/x-python",
   "name": "python",
   "nbconvert_exporter": "python",
   "pygments_lexer": "ipython3",
   "version": "3.9.12"
  }
 },
 "nbformat": 4,
 "nbformat_minor": 5
}

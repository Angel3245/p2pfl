{
 "cells": [
  {
   "cell_type": "code",
   "execution_count": 1,
   "id": "de3333e5",
   "metadata": {
    "scrolled": true
   },
   "outputs": [
    {
     "name": "stdout",
     "output_type": "stream",
     "text": [
      "INFO:torch.distributed.nn.jit.instantiator:Created a temporary directory at /var/folders/vm/p9lv42ms7ml71cjvsj4bnbnm0000gn/T/tmpvxxm6r7k\n",
      "INFO:torch.distributed.nn.jit.instantiator:Writing /var/folders/vm/p9lv42ms7ml71cjvsj4bnbnm0000gn/T/tmpvxxm6r7k/_remote_module_non_sriptable.py\n",
      "INFO:root:Nodo a la escucha en localhost 52390\n",
      "INFO:root:Nodo a la escucha en localhost 52391\n",
      "INFO:root:Conexión aceptada con ('localhost', 52391)\n",
      "INFO:root:Broadcasting start learning...\n",
      "INFO:root:Training...\n",
      "INFO:root:Training...\n"
     ]
    },
    {
     "name": "stderr",
     "output_type": "stream",
     "text": [
      "GPU available: False, used: False\n",
      "TPU available: False, using: 0 TPU cores\n",
      "GPU available: False, used: False\n",
      "TPU available: False, using: 0 TPU cores\n",
      "IPU available: False, using: 0 IPUs\n",
      "IPU available: False, using: 0 IPUs\n",
      "HPU available: False, using: 0 HPUs\n",
      "HPU available: False, using: 0 HPUs\n"
     ]
    },
    {
     "name": "stdout",
     "output_type": "stream",
     "text": [
      "Train: 54000 Val:6000 Test:10000Train: 54000 Val:6000 Test:10000\n",
      "\n"
     ]
    },
    {
     "name": "stderr",
     "output_type": "stream",
     "text": [
      "\n",
      "  | Name     | Type     | Params\n",
      "--------------------------------------\n",
      "0 | accuracy | Accuracy | 0     \n",
      "1 | l1       | Linear   | 100 K \n",
      "2 | l2       | Linear   | 33.0 K\n",
      "3 | l3       | Linear   | 2.6 K \n",
      "--------------------------------------\n",
      "136 K     Trainable params\n",
      "0         Non-trainable params\n",
      "136 K     Total params\n",
      "0.544     Total estimated model params size (MB)\n",
      "\n",
      "  | Name     | Type     | Params\n",
      "--------------------------------------\n",
      "0 | accuracy | Accuracy | 0     \n",
      "1 | l1       | Linear   | 100 K \n",
      "2 | l2       | Linear   | 33.0 K\n",
      "3 | l3       | Linear   | 2.6 K \n",
      "--------------------------------------\n",
      "136 K     Trainable params\n",
      "0         Non-trainable params\n",
      "136 K     Total params\n",
      "0.544     Total estimated model params size (MB)\n"
     ]
    },
    {
     "data": {
      "application/vnd.jupyter.widget-view+json": {
       "model_id": "",
       "version_major": 2,
       "version_minor": 0
      },
      "text/plain": [
       "Sanity Checking: 0it [00:00, ?it/s]"
      ]
     },
     "metadata": {},
     "output_type": "display_data"
    },
    {
     "data": {
      "application/vnd.jupyter.widget-view+json": {
       "model_id": "",
       "version_major": 2,
       "version_minor": 0
      },
      "text/plain": [
       "Sanity Checking: 0it [00:00, ?it/s]"
      ]
     },
     "metadata": {},
     "output_type": "display_data"
    },
    {
     "data": {
      "application/vnd.jupyter.widget-view+json": {
       "model_id": "f276647885084831ab981659dd84a6ca",
       "version_major": 2,
       "version_minor": 0
      },
      "text/plain": [
       "Training: 0it [00:00, ?it/s]"
      ]
     },
     "metadata": {},
     "output_type": "display_data"
    },
    {
     "data": {
      "application/vnd.jupyter.widget-view+json": {
       "model_id": "a274b66f7c1e4f459bc76f2744500d29",
       "version_major": 2,
       "version_minor": 0
      },
      "text/plain": [
       "Training: 0it [00:00, ?it/s]"
      ]
     },
     "metadata": {},
     "output_type": "display_data"
    },
    {
     "data": {
      "application/vnd.jupyter.widget-view+json": {
       "model_id": "",
       "version_major": 2,
       "version_minor": 0
      },
      "text/plain": [
       "Validation: 0it [00:00, ?it/s]"
      ]
     },
     "metadata": {},
     "output_type": "display_data"
    },
    {
     "data": {
      "application/vnd.jupyter.widget-view+json": {
       "model_id": "",
       "version_major": 2,
       "version_minor": 0
      },
      "text/plain": [
       "Validation: 0it [00:00, ?it/s]"
      ]
     },
     "metadata": {},
     "output_type": "display_data"
    },
    {
     "name": "stdout",
     "output_type": "stream",
     "text": [
      "INFO:root:Model added (1/1)\n",
      "INFO:root:Broadcasting model to all clients...\n",
      "INFO:root:Model added (1/1)\n",
      "INFO:root:Broadcasting model to all clients...\n",
      "clear buffer\n",
      "INFO:root:Model added (2/1)\n",
      "INFO:root:Agregating models.\n",
      "INFO:root:Round 1 of 2 finished. (('localhost', 52390))\n",
      "INFO:root:Training...\n"
     ]
    },
    {
     "name": "stderr",
     "output_type": "stream",
     "text": [
      "GPU available: False, used: False\n",
      "TPU available: False, using: 0 TPU cores\n",
      "IPU available: False, using: 0 IPUs\n",
      "HPU available: False, using: 0 HPUs\n"
     ]
    },
    {
     "name": "stdout",
     "output_type": "stream",
     "text": [
      "clear buffer\n",
      "INFO:root:Model added (2/1)\n",
      "INFO:root:Agregating models.\n",
      "INFO:root:Round 1 of 2 finished. (('localhost', 52391))\n",
      "INFO:root:Training...\n"
     ]
    },
    {
     "name": "stderr",
     "output_type": "stream",
     "text": [
      "GPU available: False, used: False\n",
      "TPU available: False, using: 0 TPU cores\n",
      "IPU available: False, using: 0 IPUs\n",
      "HPU available: False, using: 0 HPUs\n",
      "/Users/pedro/.local/share/virtualenvs/federated_learning_p2p-Ow5sDig_/lib/python3.9/site-packages/pytorch_lightning/callbacks/model_checkpoint.py:611: UserWarning: Checkpoint directory training_logs/localhost_52391/version_0/checkpoints exists and is not empty.\n",
      "  rank_zero_warn(f\"Checkpoint directory {dirpath} exists and is not empty.\")\n",
      "\n",
      "  | Name     | Type     | Params\n",
      "--------------------------------------\n",
      "0 | accuracy | Accuracy | 0     \n",
      "1 | l1       | Linear   | 100 K \n",
      "2 | l2       | Linear   | 33.0 K\n",
      "3 | l3       | Linear   | 2.6 K \n",
      "--------------------------------------\n",
      "136 K     Trainable params\n",
      "0         Non-trainable params\n",
      "136 K     Total params\n",
      "0.544     Total estimated model params size (MB)\n",
      "/Users/pedro/.local/share/virtualenvs/federated_learning_p2p-Ow5sDig_/lib/python3.9/site-packages/pytorch_lightning/callbacks/model_checkpoint.py:611: UserWarning: Checkpoint directory training_logs/localhost_52390/version_0/checkpoints exists and is not empty.\n",
      "  rank_zero_warn(f\"Checkpoint directory {dirpath} exists and is not empty.\")\n"
     ]
    },
    {
     "name": "stdout",
     "output_type": "stream",
     "text": [
      "Train: 54000 Val:6000 Test:10000Train: 54000 Val:6000 Test:10000\n",
      "\n"
     ]
    },
    {
     "name": "stderr",
     "output_type": "stream",
     "text": [
      "\n",
      "  | Name     | Type     | Params\n",
      "--------------------------------------\n",
      "0 | accuracy | Accuracy | 0     \n",
      "1 | l1       | Linear   | 100 K \n",
      "2 | l2       | Linear   | 33.0 K\n",
      "3 | l3       | Linear   | 2.6 K \n",
      "--------------------------------------\n",
      "136 K     Trainable params\n",
      "0         Non-trainable params\n",
      "136 K     Total params\n",
      "0.544     Total estimated model params size (MB)\n"
     ]
    },
    {
     "data": {
      "application/vnd.jupyter.widget-view+json": {
       "model_id": "",
       "version_major": 2,
       "version_minor": 0
      },
      "text/plain": [
       "Sanity Checking: 0it [00:00, ?it/s]"
      ]
     },
     "metadata": {},
     "output_type": "display_data"
    },
    {
     "data": {
      "application/vnd.jupyter.widget-view+json": {
       "model_id": "",
       "version_major": 2,
       "version_minor": 0
      },
      "text/plain": [
       "Sanity Checking: 0it [00:00, ?it/s]"
      ]
     },
     "metadata": {},
     "output_type": "display_data"
    },
    {
     "data": {
      "application/vnd.jupyter.widget-view+json": {
       "model_id": "dbd58f529af04b9fbb739d1ee612c81d",
       "version_major": 2,
       "version_minor": 0
      },
      "text/plain": [
       "Training: 0it [00:00, ?it/s]"
      ]
     },
     "metadata": {},
     "output_type": "display_data"
    },
    {
     "data": {
      "application/vnd.jupyter.widget-view+json": {
       "model_id": "00b70844a43b4bc4aa8d880d453e33c4",
       "version_major": 2,
       "version_minor": 0
      },
      "text/plain": [
       "Training: 0it [00:00, ?it/s]"
      ]
     },
     "metadata": {},
     "output_type": "display_data"
    },
    {
     "data": {
      "application/vnd.jupyter.widget-view+json": {
       "model_id": "",
       "version_major": 2,
       "version_minor": 0
      },
      "text/plain": [
       "Validation: 0it [00:00, ?it/s]"
      ]
     },
     "metadata": {},
     "output_type": "display_data"
    },
    {
     "data": {
      "application/vnd.jupyter.widget-view+json": {
       "model_id": "",
       "version_major": 2,
       "version_minor": 0
      },
      "text/plain": [
       "Validation: 0it [00:00, ?it/s]"
      ]
     },
     "metadata": {},
     "output_type": "display_data"
    },
    {
     "name": "stdout",
     "output_type": "stream",
     "text": [
      "INFO:root:Model added (1/1)\n",
      "INFO:root:Broadcasting model to all clients...\n",
      "clear buffer\n",
      "INFO:root:Model added (1/1)\n",
      "INFO:root:Model added (2/1)\n",
      "INFO:root:Agregating models.\n",
      "INFO:root:Broadcasting model to all clients...\n",
      "INFO:root:Round 2 of 2 finished. (('localhost', 52390))\n",
      "INFO:root:Finish!!.\n",
      "clear buffer\n",
      "INFO:root:Model added (2/1)\n",
      "INFO:root:Agregating models.\n",
      "INFO:root:Round 2 of 2 finished. (('localhost', 52391))\n",
      "INFO:root:Finish!!.\n",
      "DEBUG:root:('localhost', 52390) (NodeConnection) Exception: [Errno 2] No such file or directory: 'logs/communication84.log'\n",
      "ERROR:root:[Errno 2] No such file or directory: 'logs/communication84.log'\n",
      "Traceback (most recent call last):\n",
      "  File \"/Users/pedro/Documents/UDC/4/TFG/federated_learning_p2p/p2pfl/node_connection.py\", line 41, in run\n",
      "    if not self.comm_protocol.process_message(msg):\n",
      "  File \"/Users/pedro/Documents/UDC/4/TFG/federated_learning_p2p/p2pfl/communication_protocol.py\", line 86, in process_message\n",
      "    f.write(str(msg))\n",
      "FileNotFoundError: [Errno 2] No such file or directory: 'logs/communication84.log'\n",
      "DEBUG:root:Closed connection with ('localhost', 52390)\n",
      "DEBUG:root:('localhost', 52391) (NodeConnection) Exception: [Errno 2] No such file or directory: 'logs/communication94.log'\n",
      "ERROR:root:[Errno 2] No such file or directory: 'logs/communication94.log'\n",
      "Traceback (most recent call last):\n",
      "  File \"/Users/pedro/Documents/UDC/4/TFG/federated_learning_p2p/p2pfl/node_connection.py\", line 41, in run\n",
      "    if not self.comm_protocol.process_message(msg):\n",
      "  File \"/Users/pedro/Documents/UDC/4/TFG/federated_learning_p2p/p2pfl/communication_protocol.py\", line 86, in process_message\n",
      "    f.write(str(msg))\n",
      "FileNotFoundError: [Errno 2] No such file or directory: 'logs/communication94.log'\n",
      "DEBUG:root:Closed connection with ('localhost', 52391)\n"
     ]
    }
   ],
   "source": [
    "from p2pfl.node import Node\n",
    "from p2pfl.learning.learner import MyNodeLearning\n",
    "from p2pfl.agregator import FedAvg    \n",
    "from collections import OrderedDict\n",
    "import torch\n",
    "import time\n",
    "\n",
    "def test_convergence(x):\n",
    "    n,r = x\n",
    "\n",
    "    # Node Creation\n",
    "    nodes = []\n",
    "    for i in range(n):\n",
    "        node = Node(host=\"localhost\")\n",
    "        node.start()\n",
    "        nodes.append(node)\n",
    "\n",
    "    # Node Connection\n",
    "    for i in range(len(nodes)-1):\n",
    "        nodes[i+1].connect_to(nodes[i].host,nodes[i].port)\n",
    "        time.sleep(0.1)\n",
    "\n",
    "    # Check if they are connected\n",
    "    for node in nodes:\n",
    "        assert len(node.neightboors) == n-1\n",
    "\n",
    "    # Start Learning\n",
    "    nodes[0].set_start_learning(rounds=r)\n",
    "\n",
    "    return nodes\n",
    "\n",
    "nodes = test_convergence((2,2))"
   ]
  },
  {
   "cell_type": "code",
   "execution_count": 1,
   "id": "b7275f9c",
   "metadata": {
    "scrolled": true
   },
   "outputs": [
    {
     "ename": "NameError",
     "evalue": "name 'nodes' is not defined",
     "output_type": "error",
     "traceback": [
      "\u001b[0;31m---------------------------------------------------------------------------\u001b[0m",
      "\u001b[0;31mNameError\u001b[0m                                 Traceback (most recent call last)",
      "Input \u001b[0;32mIn [1]\u001b[0m, in \u001b[0;36m<cell line: 2>\u001b[0;34m()\u001b[0m\n\u001b[1;32m      1\u001b[0m \u001b[38;5;66;03m# Validamos Modelos obtenidos sean iguales\u001b[39;00m\n\u001b[0;32m----> 2\u001b[0m \u001b[38;5;28mprint\u001b[39m(\u001b[43mnodes\u001b[49m[\u001b[38;5;241m1\u001b[39m]\u001b[38;5;241m.\u001b[39mlearner\u001b[38;5;241m.\u001b[39mget_parameters())\n",
      "\u001b[0;31mNameError\u001b[0m: name 'nodes' is not defined"
     ]
    }
   ],
   "source": [
    "# Validamos Modelos obtenidos sean iguales\n",
    "print(nodes[1].learner.get_parameters())"
   ]
  },
  {
   "cell_type": "code",
   "execution_count": 2,
   "id": "1f0d1ccb",
   "metadata": {},
   "outputs": [
    {
     "name": "stdout",
     "output_type": "stream",
     "text": [
      "INFO:root:Broadcasting start learning...\n",
      "INFO:root:Training...\n"
     ]
    },
    {
     "name": "stderr",
     "output_type": "stream",
     "text": [
      "GPU available: False, used: False\n"
     ]
    },
    {
     "name": "stdout",
     "output_type": "stream",
     "text": [
      "INFO:root:Training...\n"
     ]
    },
    {
     "name": "stderr",
     "output_type": "stream",
     "text": [
      "TPU available: False, using: 0 TPU cores\n",
      "GPU available: False, used: False\n",
      "IPU available: False, using: 0 IPUs\n",
      "TPU available: False, using: 0 TPU cores\n",
      "IPU available: False, using: 0 IPUs\n",
      "HPU available: False, using: 0 HPUs\n",
      "HPU available: False, using: 0 HPUs\n",
      "\n",
      "  | Name     | Type     | Params\n",
      "--------------------------------------\n",
      "0 | accuracy | Accuracy | 0     \n",
      "1 | l1       | Linear   | 100 K \n",
      "2 | l2       | Linear   | 33.0 K\n",
      "3 | l3       | Linear   | 2.6 K \n",
      "--------------------------------------\n",
      "136 K     Trainable params\n",
      "0         Non-trainable params\n",
      "136 K     Total params\n",
      "0.544     Total estimated model params size (MB)\n"
     ]
    },
    {
     "name": "stdout",
     "output_type": "stream",
     "text": [
      "Train: 54000 Val:6000 Test:10000\n",
      "Train: 54000 Val:6000 Test:10000\n"
     ]
    },
    {
     "name": "stderr",
     "output_type": "stream",
     "text": [
      "\n",
      "  | Name     | Type     | Params\n",
      "--------------------------------------\n",
      "0 | accuracy | Accuracy | 0     \n",
      "1 | l1       | Linear   | 100 K \n",
      "2 | l2       | Linear   | 33.0 K\n",
      "3 | l3       | Linear   | 2.6 K \n",
      "--------------------------------------\n",
      "136 K     Trainable params\n",
      "0         Non-trainable params\n",
      "136 K     Total params\n",
      "0.544     Total estimated model params size (MB)\n"
     ]
    },
    {
     "data": {
      "application/vnd.jupyter.widget-view+json": {
       "model_id": "",
       "version_major": 2,
       "version_minor": 0
      },
      "text/plain": [
       "Sanity Checking: 0it [00:00, ?it/s]"
      ]
     },
     "metadata": {},
     "output_type": "display_data"
    },
    {
     "data": {
      "application/vnd.jupyter.widget-view+json": {
       "model_id": "",
       "version_major": 2,
       "version_minor": 0
      },
      "text/plain": [
       "Sanity Checking: 0it [00:00, ?it/s]"
      ]
     },
     "metadata": {},
     "output_type": "display_data"
    },
    {
     "data": {
      "application/vnd.jupyter.widget-view+json": {
       "model_id": "feac51d78bef438b833896e99f0cfa5e",
       "version_major": 2,
       "version_minor": 0
      },
      "text/plain": [
       "Training: 0it [00:00, ?it/s]"
      ]
     },
     "metadata": {},
     "output_type": "display_data"
    },
    {
     "data": {
      "application/vnd.jupyter.widget-view+json": {
       "model_id": "ec758225638a43d79b15c5cd9c3c0986",
       "version_major": 2,
       "version_minor": 0
      },
      "text/plain": [
       "Training: 0it [00:00, ?it/s]"
      ]
     },
     "metadata": {},
     "output_type": "display_data"
    },
    {
     "data": {
      "application/vnd.jupyter.widget-view+json": {
       "model_id": "",
       "version_major": 2,
       "version_minor": 0
      },
      "text/plain": [
       "Validation: 0it [00:00, ?it/s]"
      ]
     },
     "metadata": {},
     "output_type": "display_data"
    },
    {
     "data": {
      "application/vnd.jupyter.widget-view+json": {
       "model_id": "",
       "version_major": 2,
       "version_minor": 0
      },
      "text/plain": [
       "Validation: 0it [00:00, ?it/s]"
      ]
     },
     "metadata": {},
     "output_type": "display_data"
    },
    {
     "name": "stdout",
     "output_type": "stream",
     "text": [
      "INFO:root:Model added (1/1)\n",
      "INFO:root:Broadcasting model to all clients...\n",
      "clear buffer\n",
      "INFO:root:Model added (1/1)\n",
      "INFO:root:Model added (2/1)\n",
      "INFO:root:Agregating models.\n",
      "INFO:root:Broadcasting model to all clients...\n",
      "INFO:root:Round 1 of 1 finished. (('localhost', 51907))\n",
      "INFO:root:Finish!!.\n",
      "clear buffer\n",
      "INFO:root:Model added (2/1)\n",
      "INFO:root:Agregating models.\n",
      "INFO:root:Round 1 of 1 finished. (('localhost', 51908))\n",
      "INFO:root:Finish!!.\n"
     ]
    }
   ],
   "source": [
    "nodes[0].set_start_learning(rounds=1)"
   ]
  },
  {
   "cell_type": "code",
   "execution_count": null,
   "id": "c04a4ed6",
   "metadata": {},
   "outputs": [],
   "source": []
  }
 ],
 "metadata": {
  "kernelspec": {
   "display_name": "Python 3 (ipykernel)",
   "language": "python",
   "name": "python3"
  },
  "language_info": {
   "codemirror_mode": {
    "name": "ipython",
    "version": 3
   },
   "file_extension": ".py",
   "mimetype": "text/x-python",
   "name": "python",
   "nbconvert_exporter": "python",
   "pygments_lexer": "ipython3",
   "version": "3.9.12"
  }
 },
 "nbformat": 4,
 "nbformat_minor": 5
}

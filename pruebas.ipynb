{
 "cells": [
  {
   "cell_type": "code",
   "execution_count": 1,
   "id": "cfb3662e",
   "metadata": {},
   "outputs": [],
   "source": [
    "from p2pfl.node import Node\n",
    "import time"
   ]
  },
  {
   "cell_type": "code",
   "execution_count": 2,
   "id": "a692f2c3",
   "metadata": {
    "scrolled": false
   },
   "outputs": [
    {
     "name": "stdout",
     "output_type": "stream",
     "text": [
      "INFO:root:Nodo a la escucha en localhost 65404\n",
      "INFO:root:Nodo a la escucha en localhost 65405\n",
      "INFO:root:Nodo a la escucha en localhost 65406\n",
      "INFO:root:Nodo a la escucha en localhost 65407\n",
      "INFO:root:Nodo a la escucha en localhost 65408\n",
      "0\n",
      "1\n",
      "2\n",
      "3\n",
      "4\n"
     ]
    }
   ],
   "source": [
    "n=5\n",
    "nodes = []\n",
    "for i in range(n):\n",
    "    node = Node(host=\"localhost\",model=i)\n",
    "    node.start()\n",
    "    nodes.append(node)\n",
    "    \n",
    "for node in nodes:\n",
    "    print(node.model)\n"
   ]
  },
  {
   "cell_type": "code",
   "execution_count": 3,
   "id": "1f4e2684",
   "metadata": {
    "scrolled": true
   },
   "outputs": [
    {
     "name": "stdout",
     "output_type": "stream",
     "text": [
      "INFO:root:Conexión aceptada con ('localhost', 65405)\n",
      "INFO:root:Conexión aceptada con ('localhost', 65406)\n",
      "INFO:root:Conexión aceptada con ('localhost', 65404)\n",
      "INFO:root:Conexión aceptada con ('localhost', 65407)\n",
      "INFO:root:Conexión aceptada con ('localhost', 65405)\n",
      "INFO:root:Conexión aceptada con ('localhost', 65404)\n",
      "INFO:root:Conexión aceptada con ('localhost', 65408)\n",
      "INFO:root:Conexión aceptada con ('localhost', 65405)\n",
      "INFO:root:Conexión aceptada con ('localhost', 65406)\n",
      "INFO:root:Conexión aceptada con ('localhost', 65404)\n"
     ]
    }
   ],
   "source": [
    "for i in range(len(nodes)-1):\n",
    "    nodes[i+1].connect_to(nodes[i].host,nodes[i].port)\n",
    "    time.sleep(0.1)\n"
   ]
  },
  {
   "cell_type": "code",
   "execution_count": 4,
   "id": "a891391d",
   "metadata": {
    "scrolled": true
   },
   "outputs": [
    {
     "name": "stdout",
     "output_type": "stream",
     "text": [
      "True\n",
      "True\n",
      "True\n",
      "True\n",
      "True\n"
     ]
    }
   ],
   "source": [
    "# Check if they are connected\n",
    "for node in nodes:\n",
    "    print(len(node.neightboors) == n-1)\n",
    "    "
   ]
  },
  {
   "cell_type": "code",
   "execution_count": 5,
   "id": "f7ca47e2",
   "metadata": {
    "scrolled": true
   },
   "outputs": [
    {
     "name": "stdout",
     "output_type": "stream",
     "text": [
      "INFO:root:Broadcasting model to all clients: 1\n",
      "INFO:root:Broadcasting model to all clients: 2\n",
      "INFO:root:Broadcasting model to all clients: 0\n",
      "INFO:root:Broadcasting model to all clients: 3\n",
      "DEBUG:root:Processing params: PARAMS 1 \\PARAMS\n",
      "DEBUG:root:Processing params: PARAMS 1 \\PARAMS\n",
      "INFO:root:Broadcasting model to all clients: 4\n",
      "DEBUG:root:Processing params: PARAMS 1 \\PARAMS\n",
      "INFO:root:Model added (1/4)\n",
      "DEBUG:root:Processing params: PARAMS 2 \\PARAMS\n",
      "INFO:root:Model added (1/4)\n",
      "DEBUG:root:Processing params: PARAMS 2 \\PARAMS\n",
      "DEBUG:root:Processing params: PARAMS 2 \\PARAMS\n",
      "DEBUG:root:Processing params: PARAMS 0 \\PARAMS\n",
      "DEBUG:root:Processing params: PARAMS 0 \\PARAMS\n",
      "DEBUG:root:Processing params: PARAMS 3 \\PARAMS\n",
      "DEBUG:root:Processing params: PARAMS 3 \\PARAMS\n",
      "DEBUG:root:Processing params: PARAMS 0 \\PARAMS\n",
      "INFO:root:Model added (2/4)\n",
      "DEBUG:root:Processing params: PARAMS 3 \\PARAMS\n",
      "INFO:root:Model added (1/4)\n",
      "INFO:root:Model added (1/4)\n",
      "DEBUG:root:Processing params: PARAMS 4 \\PARAMS\n",
      "DEBUG:root:Processing params: PARAMS 0 \\PARAMS\n",
      "DEBUG:root:Processing params: PARAMS 4 \\PARAMS\n",
      "DEBUG:root:Processing params: PARAMS 4 \\PARAMS\n",
      "DEBUG:root:Processing params: PARAMS 4 \\PARAMS\n",
      "DEBUG:root:Processing params: PARAMS 1 \\PARAMS\n",
      "DEBUG:root:Processing params: PARAMS 2 \\PARAMS\n",
      "INFO:root:Model added (2/4)\n",
      "INFO:root:Model added (1/4)\n",
      "DEBUG:root:Processing params: PARAMS 3 \\PARAMS\n",
      "INFO:root:Model added (2/4)\n",
      "INFO:root:Model added (2/4)\n",
      "INFO:root:Model added (3/4)\n",
      "INFO:root:Model added (3/4)\n",
      "INFO:root:Model added (2/4)\n",
      "INFO:root:Model added (3/4)\n",
      "INFO:root:Model added (3/4)\n",
      "INFO:root:Model added (4/4)\n",
      "INFO:root:Model added (4/4)\n",
      "INFO:root:Model added (3/4)\n",
      "INFO:root:Model added (4/4)\n",
      "INFO:root:Model added (4/4)\n",
      "INFO:root:Comenzando la promediación\n",
      "INFO:root:Comenzando la promediación\n",
      "INFO:root:Model added (4/4)\n",
      "INFO:root:Comenzando la promediación\n",
      "INFO:root:Comenzando la promediación\n",
      "INFO:root:Comenzando la promediación\n"
     ]
    }
   ],
   "source": [
    "nodes[0].set_start_learning()"
   ]
  },
  {
   "cell_type": "code",
   "execution_count": 7,
   "id": "a3ee7c01",
   "metadata": {
    "scrolled": true
   },
   "outputs": [
    {
     "name": "stdout",
     "output_type": "stream",
     "text": [
      "2.0\n",
      "2.0\n",
      "2.0\n",
      "2.0\n",
      "2.0\n"
     ]
    }
   ],
   "source": [
    "for node in nodes:\n",
    "    print(node.model)"
   ]
  },
  {
   "cell_type": "code",
   "execution_count": 7,
   "id": "696a8706",
   "metadata": {
    "scrolled": false
   },
   "outputs": [
    {
     "name": "stdout",
     "output_type": "stream",
     "text": [
      "1\n",
      "1\n",
      "1\n",
      "1\n",
      "1\n"
     ]
    }
   ],
   "source": [
    "for node in nodes:\n",
    "    print(node.round)"
   ]
  },
  {
   "cell_type": "code",
   "execution_count": 10,
   "id": "ce1c6d2b",
   "metadata": {},
   "outputs": [
    {
     "name": "stdout",
     "output_type": "stream",
     "text": [
      "0\n",
      "1\n",
      "2\n",
      "3\n",
      "4\n"
     ]
    }
   ],
   "source": [
    "for node in nodes:\n",
    "    print(node.model)"
   ]
  },
  {
   "cell_type": "code",
   "execution_count": 11,
   "id": "537fa5ca",
   "metadata": {},
   "outputs": [
    {
     "name": "stdout",
     "output_type": "stream",
     "text": [
      "INFO:root:Stopping learning\n",
      "INFO:root:Stopping learning\n",
      "INFO:root:Stopping learning\n",
      "INFO:root:Stopping learning\n",
      "INFO:root:Stopping learning\n"
     ]
    }
   ],
   "source": [
    "nodes[0].set_stop_learning()"
   ]
  },
  {
   "cell_type": "code",
   "execution_count": 1,
   "id": "9a85a32f",
   "metadata": {
    "scrolled": true
   },
   "outputs": [],
   "source": [
    "import torch\n",
    "from torch import nn\n",
    "from torch.nn import functional as F\n",
    "import pytorch_lightning as pl\n",
    "from torchmetrics import Accuracy\n",
    "\n",
    "class MLP(pl.LightningModule):\n",
    "\n",
    "\n",
    "    def __init__(self):\n",
    "        super().__init__()\n",
    "        self.lr_rate = 0.02\n",
    "        self.accuracy = Accuracy()\n",
    "\n",
    "        # 10 clases de salida\n",
    "        self.l1 = torch.nn.Linear(28 * 28, 128)\n",
    "        self.l2 = torch.nn.Linear(128, 256)\n",
    "        self.l3 = torch.nn.Linear(256, 10)\n",
    "\n",
    "    def forward(self, x):\n",
    "        batch_size, channels, width, height = x.size()\n",
    "        \n",
    "        # (b, 1, 28, 28) -> (b, 1*28*28)\n",
    "        x = x.view(batch_size, -1)\n",
    "\n",
    "        x = self.l1(x)\n",
    "        x = torch.relu(x)\n",
    "        x = self.l2(x)\n",
    "        x = torch.relu(x)\n",
    "        x = self.l3(x)\n",
    "\n",
    "\n",
    "        x = torch.log_softmax(x, dim=1)\n",
    "        return x\n",
    "\n",
    "    def configure_optimizers(self):\n",
    "        return torch.optim.Adam(self.parameters(), lr=self.lr_rate)\n",
    "\n",
    "\n",
    "    def training_step(self, batch, batch_id):\n",
    "        x, y = batch\n",
    "        loss = F.cross_entropy(self(x), y)\n",
    "        \n",
    "        self.log(\"train_loss\", loss, prog_bar=True)\n",
    "\n",
    "        return loss \n",
    "\n",
    "\n",
    "    def validation_step(self, batch, batch_idx):\n",
    "        x, y = batch\n",
    "        logits = self(x)\n",
    "\n",
    "        loss = F.cross_entropy(self(x), y)\n",
    "\n",
    "        out = torch.argmax(logits, dim=1)\n",
    "        acc = self.accuracy(out, y) \n",
    "\n",
    "        self.log(\"val_loss\", loss, prog_bar=True)\n",
    "        self.log(\"val_acc\", acc, prog_bar=True)\n",
    "        \n",
    "        self.log\n",
    "        return loss\n",
    "\n",
    "    def test_step(self, batch, batch_idx):\n",
    "        x, y = batch\n",
    "        logits = self(x)\n",
    "\n",
    "        loss = F.cross_entropy(self(x), y)\n",
    "\n",
    "        out = torch.argmax(logits, dim=1)\n",
    "        acc = self.accuracy(out, y) \n",
    "\n",
    "        self.log(\"test_loss\", loss, prog_bar=True)\n",
    "        self.log(\"test_acc\", acc, prog_bar=True)\n",
    "        \n",
    "        self.log\n",
    "        return loss\n",
    "        \n"
   ]
  },
  {
   "cell_type": "code",
   "execution_count": 2,
   "id": "23d792ce",
   "metadata": {},
   "outputs": [],
   "source": [
    "model = MLP()"
   ]
  },
  {
   "cell_type": "code",
   "execution_count": 6,
   "id": "39093444",
   "metadata": {},
   "outputs": [
    {
     "data": {
      "text/plain": [
       "[array([[-0.02893332,  0.02919314,  0.01222849, ...,  0.01862139,\n",
       "          0.02185085,  0.02695582],\n",
       "        [-0.03463912,  0.00209042, -0.03030546, ...,  0.00085545,\n",
       "          0.01175655,  0.0272004 ],\n",
       "        [ 0.03290805, -0.00562747,  0.0301982 , ...,  0.03348413,\n",
       "         -0.00771396, -0.0193994 ],\n",
       "        ...,\n",
       "        [ 0.01508801, -0.00857255,  0.03219221, ...,  0.0045099 ,\n",
       "          0.00885244, -0.0155958 ],\n",
       "        [-0.03231334, -0.01538485, -0.03044182, ...,  0.01606286,\n",
       "          0.00039962, -0.02985382],\n",
       "        [-0.01017734, -0.03229888,  0.01801966, ...,  0.00917631,\n",
       "         -0.01646002, -0.01879791]], dtype=float32),\n",
       " array([-5.87676652e-03, -7.94191100e-03, -1.20719597e-02,  2.04666555e-02,\n",
       "         2.60983855e-02, -2.34108493e-02, -3.17336768e-02,  3.10098194e-02,\n",
       "        -2.68743522e-02,  2.63165981e-02, -1.04977619e-02, -2.83281524e-02,\n",
       "        -2.26684734e-02, -2.33334303e-03, -1.77407824e-02,  7.55000487e-03,\n",
       "        -1.85791440e-02, -1.95869934e-02, -1.26519632e-02, -1.19480193e-02,\n",
       "         6.84398040e-03,  3.76006961e-03, -1.77251194e-02,  2.69851200e-02,\n",
       "        -2.83660814e-02,  7.62706250e-03, -4.14997339e-03,  2.57670619e-02,\n",
       "        -1.56467035e-03, -7.45755062e-03,  2.12179981e-02, -1.88896190e-02,\n",
       "        -1.62752271e-02, -2.66425312e-04,  5.78405336e-03,  2.26288587e-02,\n",
       "        -3.53731997e-02, -2.21274979e-02,  6.77672029e-03,  1.72158480e-02,\n",
       "         3.29944603e-02,  3.07188444e-02, -2.34221574e-02, -2.63678320e-02,\n",
       "        -2.16160081e-02, -1.63678359e-02,  1.60114467e-02,  3.19345109e-02,\n",
       "         2.34572329e-02, -1.64762195e-02, -1.55708157e-02,  5.16030937e-04,\n",
       "        -2.80246511e-03, -1.20988917e-02,  9.56506282e-03,  2.90197395e-02,\n",
       "         1.31969750e-02,  1.30105875e-02,  2.21270323e-02, -3.94803658e-03,\n",
       "         8.99932534e-03,  3.39526795e-02, -1.56191289e-02,  2.35695764e-03,\n",
       "        -1.97561271e-02,  3.04247327e-02, -1.04704555e-02, -2.95655280e-02,\n",
       "        -6.11256808e-03,  3.46915387e-02,  5.86022809e-03,  1.19548924e-02,\n",
       "         2.34899297e-03,  2.36889161e-02, -3.33331786e-02,  3.34473811e-02,\n",
       "        -1.23324525e-02,  2.31386758e-02,  1.54050365e-02, -2.17682868e-02,\n",
       "         2.16472298e-02,  3.08622792e-03,  8.35759938e-03,  7.49456510e-03,\n",
       "        -3.13785672e-02,  3.45561244e-02,  6.81560114e-03, -2.54582763e-02,\n",
       "         4.69270721e-03,  7.77667388e-03,  1.75380073e-02,  1.40694156e-02,\n",
       "        -2.43611783e-02, -2.16185674e-02, -1.66659430e-03, -2.85079330e-02,\n",
       "        -2.96119116e-02, -9.03508626e-03, -7.01376796e-03, -3.33085172e-02,\n",
       "         2.53280289e-02,  3.78264114e-03, -3.28772739e-02, -1.85432360e-02,\n",
       "        -3.50438952e-02, -3.49915214e-02, -2.05283053e-02, -3.24442796e-02,\n",
       "        -2.86290701e-02,  2.84293331e-02,  3.03011574e-02,  4.76576388e-05,\n",
       "        -1.01192296e-02,  1.25764683e-03, -2.59461999e-02,  4.43814322e-03,\n",
       "        -1.21367369e-02,  3.19619738e-02,  3.25129144e-02,  2.34431401e-03,\n",
       "         3.46390046e-02, -2.92903073e-02, -1.49731003e-02,  1.04137994e-02,\n",
       "        -1.15080699e-02,  1.38394870e-02,  1.97331049e-02, -3.31257880e-02],\n",
       "       dtype=float32),\n",
       " array([[-0.03380684, -0.05847254, -0.00679   , ...,  0.04665656,\n",
       "         -0.07612833, -0.06675615],\n",
       "        [ 0.08278964, -0.07892673,  0.0528812 , ...,  0.01735342,\n",
       "          0.01286763,  0.05932605],\n",
       "        [-0.0462068 , -0.05585472, -0.04454199, ..., -0.05198228,\n",
       "          0.03311286, -0.05269144],\n",
       "        ...,\n",
       "        [ 0.07512552, -0.04369603,  0.01018046, ...,  0.08218104,\n",
       "         -0.08092157,  0.05907536],\n",
       "        [ 0.01050094,  0.0656793 ,  0.0214605 , ...,  0.01148567,\n",
       "          0.03219534, -0.01554798],\n",
       "        [ 0.00299592, -0.00837692, -0.08044121, ..., -0.05290776,\n",
       "          0.05971655,  0.02912166]], dtype=float32),\n",
       " array([-0.07739463, -0.08205418, -0.01695302,  0.07848068,  0.07634019,\n",
       "         0.01227813,  0.02695255,  0.06682325, -0.05198365,  0.07757307,\n",
       "        -0.00271076,  0.03892554,  0.04277238,  0.00444145,  0.05763348,\n",
       "         0.00080102,  0.08207712,  0.05842391, -0.06539075,  0.0180061 ,\n",
       "        -0.06978266, -0.03385738,  0.08030125,  0.04982647,  0.04158353,\n",
       "         0.08047961,  0.03217831,  0.00552345, -0.02160075, -0.02809152,\n",
       "        -0.08118078, -0.04683833,  0.01026095,  0.06772584,  0.07839098,\n",
       "         0.07873795,  0.0300404 , -0.00896614, -0.08562113,  0.07187847,\n",
       "        -0.02625476,  0.04835684,  0.03340892,  0.02816598,  0.00485004,\n",
       "        -0.06096919, -0.07065528, -0.0151194 , -0.07572784, -0.0159812 ,\n",
       "        -0.08678658,  0.05203145, -0.08027904,  0.05036841, -0.03144209,\n",
       "        -0.04802065, -0.08297593, -0.06137842, -0.05370026,  0.0449238 ,\n",
       "         0.08365307, -0.02288363, -0.06962962,  0.0485632 ,  0.08159909,\n",
       "        -0.00065327,  0.07276235,  0.05380241, -0.06557217, -0.03906123,\n",
       "         0.02279922, -0.00414484,  0.02057067,  0.02581064,  0.00598974,\n",
       "         0.08674792,  0.0698499 , -0.03272173,  0.05145844,  0.06267995,\n",
       "         0.03945815,  0.02471144,  0.05260306, -0.01922912,  0.07372607,\n",
       "        -0.03329444,  0.07671913,  0.03843429,  0.01646919,  0.02355705,\n",
       "         0.04628343,  0.06356321, -0.0677699 , -0.05082975,  0.04984961,\n",
       "        -0.08584961, -0.08394825,  0.08809077, -0.05788196,  0.03557321,\n",
       "         0.03874099, -0.02030243,  0.03158751,  0.04364397,  0.00554077,\n",
       "         0.06435926,  0.0204433 , -0.06959428,  0.07902732, -0.01536997,\n",
       "        -0.03017189,  0.02980287,  0.05838662,  0.03893089, -0.03520405,\n",
       "         0.08336399,  0.01291036,  0.04673245, -0.06793402,  0.02258995,\n",
       "        -0.01310638,  0.0167632 ,  0.03937065, -0.06084017,  0.04555752,\n",
       "         0.06462377,  0.07809787, -0.00558264,  0.04759524, -0.07503804,\n",
       "         0.04709335,  0.02304873,  0.07929269, -0.01087004, -0.07562354,\n",
       "        -0.06456314,  0.06775609,  0.07170532,  0.0142898 ,  0.02118061,\n",
       "        -0.06058999, -0.03658729, -0.02352419,  0.0174773 ,  0.08450318,\n",
       "        -0.08633082,  0.04715797, -0.08094377,  0.03214479, -0.02259397,\n",
       "        -0.07468642,  0.02534144,  0.07156154,  0.06484469, -0.05781457,\n",
       "        -0.00431512, -0.05897723,  0.08068011,  0.05115791, -0.07059881,\n",
       "        -0.02751751, -0.06977972, -0.02796775, -0.02375079, -0.06282872,\n",
       "         0.05493172,  0.03925978, -0.05990206, -0.02308166,  0.07601082,\n",
       "        -0.02515152, -0.04840867,  0.0651026 , -0.04246663, -0.06566337,\n",
       "         0.08127943,  0.06419063, -0.00074642,  0.08593743, -0.06027506,\n",
       "        -0.07664793, -0.04252384,  0.00569542,  0.03363039, -0.00925305,\n",
       "         0.02011907,  0.04156234,  0.00617781, -0.08274946,  0.08294352,\n",
       "        -0.01842208,  0.02182863, -0.07453008, -0.02226977,  0.07791408,\n",
       "         0.0370606 , -0.03862656,  0.06928699, -0.06360498,  0.02360737,\n",
       "         0.05865779, -0.05880191,  0.05883377, -0.01941711, -0.03377964,\n",
       "         0.05140207, -0.04442669, -0.04156411,  0.07050199,  0.00984477,\n",
       "         0.0819794 ,  0.04439431,  0.06675052,  0.03619791,  0.07003643,\n",
       "         0.03786217,  0.07704499, -0.07791855, -0.01909488,  0.05195148,\n",
       "        -0.02293774, -0.02049346, -0.05664759, -0.06357975,  0.03304851,\n",
       "         0.07608586, -0.06052954,  0.08280706, -0.08376104,  0.07829841,\n",
       "        -0.02649786,  0.06831013, -0.01916861, -0.0567572 ,  0.04638068,\n",
       "        -0.06248226,  0.06206983, -0.00035099, -0.01444111, -0.04146667,\n",
       "        -0.06532283,  0.06253412, -0.08405287, -0.02666378, -0.02506373,\n",
       "         0.05219878, -0.07855678, -0.05525037, -0.05500117,  0.0026924 ,\n",
       "        -0.06193709,  0.01129606,  0.08735471, -0.03904808, -0.07825721,\n",
       "        -0.05968145], dtype=float32),\n",
       " array([[-0.00296093, -0.03013537,  0.02010111, ..., -0.03933131,\n",
       "          0.04797047,  0.06074727],\n",
       "        [-0.06220141,  0.01591081, -0.03894988, ...,  0.03045937,\n",
       "          0.02128367, -0.0408712 ],\n",
       "        [ 0.05708515,  0.00893827, -0.04840497, ..., -0.03149637,\n",
       "          0.03267141, -0.01175056],\n",
       "        ...,\n",
       "        [ 0.0618351 ,  0.00104808, -0.02072698, ...,  0.06239045,\n",
       "         -0.03245047, -0.06102487],\n",
       "        [ 0.02867892,  0.03681422,  0.05708158, ..., -0.03648436,\n",
       "          0.04241969, -0.02890056],\n",
       "        [ 0.02320702,  0.01331206, -0.02430242, ..., -0.00374053,\n",
       "          0.02794626, -0.0541904 ]], dtype=float32),\n",
       " array([ 0.04928806, -0.00549861,  0.01272757,  0.04270209, -0.05326582,\n",
       "        -0.04080267,  0.03083719,  0.05651292,  0.06170815, -0.05694347],\n",
       "       dtype=float32)]"
      ]
     },
     "execution_count": 6,
     "metadata": {},
     "output_type": "execute_result"
    }
   ],
   "source": [
    "[val.cpu().numpy() for _, val in model.state_dict().items()]\n"
   ]
  },
  {
   "cell_type": "code",
   "execution_count": null,
   "id": "c6fa31ac",
   "metadata": {},
   "outputs": [],
   "source": []
  }
 ],
 "metadata": {
  "kernelspec": {
   "display_name": "Python 3 (ipykernel)",
   "language": "python",
   "name": "python3"
  },
  "language_info": {
   "codemirror_mode": {
    "name": "ipython",
    "version": 3
   },
   "file_extension": ".py",
   "mimetype": "text/x-python",
   "name": "python",
   "nbconvert_exporter": "python",
   "pygments_lexer": "ipython3",
   "version": "3.9.10"
  }
 },
 "nbformat": 4,
 "nbformat_minor": 5
}

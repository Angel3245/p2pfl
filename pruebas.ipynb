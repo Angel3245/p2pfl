{
 "cells": [
  {
   "cell_type": "code",
   "execution_count": 1,
   "id": "cfb3662e",
   "metadata": {
    "scrolled": false
   },
   "outputs": [
    {
     "name": "stderr",
     "output_type": "stream",
     "text": [
      "/usr/local/lib/python3.9/site-packages/tqdm/auto.py:22: TqdmWarning: IProgress not found. Please update jupyter and ipywidgets. See https://ipywidgets.readthedocs.io/en/stable/user_install.html\n",
      "  from .autonotebook import tqdm as notebook_tqdm\n"
     ]
    }
   ],
   "source": [
    "from p2pfl.node import Node\n",
    "import time"
   ]
  },
  {
   "cell_type": "code",
   "execution_count": 2,
   "id": "a692f2c3",
   "metadata": {
    "scrolled": false
   },
   "outputs": [
    {
     "name": "stdout",
     "output_type": "stream",
     "text": [
      "INFO:root:Nodo a la escucha en localhost 59676\n",
      "INFO:root:Nodo a la escucha en localhost 59678\n"
     ]
    }
   ],
   "source": [
    "n=2\n",
    "nodes = []\n",
    "for i in range(n):\n",
    "    node = Node(host=\"localhost\")\n",
    "    node.start()\n",
    "    nodes.append(node)\n",
    "    \n"
   ]
  },
  {
   "cell_type": "code",
   "execution_count": 3,
   "id": "1f4e2684",
   "metadata": {
    "scrolled": true
   },
   "outputs": [
    {
     "name": "stdout",
     "output_type": "stream",
     "text": [
      "INFO:root:Conexión aceptada con ('localhost', 59678)\n"
     ]
    }
   ],
   "source": [
    "for i in range(len(nodes)-1):\n",
    "    nodes[i+1].connect_to(nodes[i].host,nodes[i].port)\n",
    "    time.sleep(0.1)\n"
   ]
  },
  {
   "cell_type": "code",
   "execution_count": 4,
   "id": "a891391d",
   "metadata": {
    "scrolled": true
   },
   "outputs": [
    {
     "name": "stdout",
     "output_type": "stream",
     "text": [
      "True\n",
      "True\n"
     ]
    }
   ],
   "source": [
    "# Check if they are connected\n",
    "for node in nodes:\n",
    "    print(len(node.neightboors) == n-1)\n",
    "    "
   ]
  },
  {
   "cell_type": "code",
   "execution_count": 5,
   "id": "f7ca47e2",
   "metadata": {
    "scrolled": true
   },
   "outputs": [
    {
     "name": "stdout",
     "output_type": "stream",
     "text": [
      "INFO:root:Broadcasting start learning...\n",
      "INFO:root:Broadcasting model to all clients...\n",
      "DEBUG:root:Processing message: ['START_LEARNING', '1']\n",
      "efectivamente se reconoce el COMANDO\n",
      "INFO:root:Broadcasting model to all clients...\n",
      "Params received\n",
      "Params received\n",
      "DEBUG:root:Processing message: ['BEAT']\n",
      "DEBUG:root:Processing message: ['BEAT']\n",
      "DEBUG:root:Processing message: ['BEAT']\n",
      "DEBUG:root:Processing message: ['BEAT']\n",
      "DEBUG:root:Processing message: ['BEAT']\n",
      "DEBUG:root:Processing message: ['BEAT']\n",
      "DEBUG:root:Processing message: ['BEAT']\n",
      "DEBUG:root:Processing message: ['BEAT']\n",
      "DEBUG:root:Processing message: ['BEAT']\n",
      "DEBUG:root:Processing message: ['BEAT']\n",
      "DEBUG:root:Processing message: ['BEAT']\n",
      "DEBUG:root:Processing message: ['BEAT']\n",
      "DEBUG:root:Processing message: ['BEAT']\n",
      "DEBUG:root:Processing message: ['BEAT']\n",
      "DEBUG:root:Processing message: ['BEAT']\n",
      "DEBUG:root:Processing message: ['BEAT']\n",
      "DEBUG:root:Processing message: ['BEAT']\n",
      "DEBUG:root:Processing message: ['BEAT']\n",
      "DEBUG:root:Processing message: ['BEAT']\n",
      "DEBUG:root:Processing message: ['BEAT']\n",
      "DEBUG:root:Processing message: ['BEAT']\n",
      "DEBUG:root:Processing message: ['BEAT']\n",
      "DEBUG:root:Processing message: ['BEAT']\n",
      "DEBUG:root:Processing message: ['BEAT']\n",
      "DEBUG:root:Processing message: ['BEAT']\n",
      "DEBUG:root:Processing message: ['BEAT']\n",
      "DEBUG:root:Processing message: ['BEAT']\n",
      "DEBUG:root:Processing message: ['BEAT']\n",
      "DEBUG:root:Processing message: ['BEAT']\n",
      "DEBUG:root:Processing message: ['BEAT']\n",
      "DEBUG:root:Processing message: ['BEAT']\n",
      "DEBUG:root:Processing message: ['BEAT']\n",
      "DEBUG:root:Processing message: ['BEAT']\n",
      "DEBUG:root:Processing message: ['BEAT']\n",
      "DEBUG:root:Processing message: ['BEAT']\n",
      "DEBUG:root:Processing message: ['BEAT']\n",
      "DEBUG:root:Processing message: ['BEAT']\n",
      "DEBUG:root:Processing message: ['BEAT']\n",
      "DEBUG:root:Processing message: ['BEAT']\n",
      "DEBUG:root:Processing message: ['BEAT']\n",
      "DEBUG:root:Processing message: ['BEAT']\n",
      "DEBUG:root:Processing message: ['BEAT']\n",
      "DEBUG:root:Processing message: ['BEAT']\n",
      "DEBUG:root:Processing message: ['BEAT']\n",
      "DEBUG:root:Processing message: ['BEAT']\n",
      "DEBUG:root:Processing message: ['BEAT']\n",
      "DEBUG:root:Processing message: ['BEAT']\n",
      "DEBUG:root:Processing message: ['BEAT']\n",
      "DEBUG:root:Processing message: ['BEAT']\n",
      "DEBUG:root:Processing message: ['BEAT']\n",
      "DEBUG:root:Processing message: ['BEAT']\n",
      "DEBUG:root:Processing message: ['BEAT']\n",
      "DEBUG:root:Processing message: ['BEAT']\n",
      "DEBUG:root:Processing message: ['BEAT']\n",
      "DEBUG:root:Processing message: ['BEAT']\n",
      "DEBUG:root:Processing message: ['BEAT']\n",
      "DEBUG:root:Processing message: ['BEAT']\n",
      "DEBUG:root:Processing message: ['BEAT']\n",
      "DEBUG:root:Processing message: ['BEAT']\n",
      "DEBUG:root:Processing message: ['BEAT']\n",
      "DEBUG:root:Processing message: ['BEAT']\n",
      "DEBUG:root:Processing message: ['BEAT']\n",
      "DEBUG:root:Processing message: ['BEAT']\n",
      "DEBUG:root:Processing message: ['BEAT']\n",
      "DEBUG:root:Processing message: ['BEAT']\n",
      "DEBUG:root:Processing message: ['BEAT']\n",
      "DEBUG:root:Processing message: ['BEAT']\n",
      "DEBUG:root:Processing message: ['BEAT']\n",
      "DEBUG:root:Processing message: ['BEAT']\n",
      "DEBUG:root:Processing message: ['BEAT']\n",
      "DEBUG:root:Processing message: ['BEAT']\n",
      "DEBUG:root:Processing message: ['BEAT']\n",
      "DEBUG:root:Processing message: ['BEAT']\n",
      "DEBUG:root:Processing message: ['BEAT']\n",
      "DEBUG:root:Processing message: ['BEAT']\n",
      "DEBUG:root:Processing message: ['BEAT']\n",
      "DEBUG:root:Processing message: ['BEAT']\n",
      "DEBUG:root:Processing message: ['BEAT']\n",
      "DEBUG:root:Processing message: ['BEAT']\n",
      "DEBUG:root:Processing message: ['BEAT']\n",
      "DEBUG:root:Processing message: ['BEAT']\n",
      "DEBUG:root:Processing message: ['BEAT']\n",
      "DEBUG:root:Processing message: ['BEAT']\n",
      "DEBUG:root:Processing message: ['BEAT']\n",
      "DEBUG:root:Processing message: ['BEAT']\n",
      "DEBUG:root:Processing message: ['BEAT']\n",
      "DEBUG:root:Processing message: ['BEAT']\n",
      "DEBUG:root:Processing message: ['BEAT']\n",
      "DEBUG:root:Processing message: ['BEAT']\n",
      "DEBUG:root:Processing message: ['BEAT']\n",
      "DEBUG:root:Processing message: ['BEAT']\n",
      "DEBUG:root:Processing message: ['BEAT']\n",
      "DEBUG:root:Processing message: ['BEAT']\n",
      "DEBUG:root:Processing message: ['BEAT']\n",
      "DEBUG:root:Processing message: ['BEAT']\n",
      "DEBUG:root:Processing message: ['BEAT']\n",
      "DEBUG:root:Processing message: ['BEAT']\n",
      "DEBUG:root:Processing message: ['BEAT']\n",
      "DEBUG:root:Processing message: ['BEAT']\n",
      "DEBUG:root:Processing message: ['BEAT']\n",
      "DEBUG:root:Processing message: ['BEAT']\n",
      "DEBUG:root:Processing message: ['BEAT']\n",
      "DEBUG:root:Processing message: ['BEAT']\n",
      "DEBUG:root:Processing message: ['BEAT']\n",
      "DEBUG:root:Processing message: ['BEAT']\n",
      "DEBUG:root:Processing message: ['BEAT']\n",
      "DEBUG:root:Processing message: ['BEAT']\n",
      "DEBUG:root:Processing message: ['BEAT']\n",
      "DEBUG:root:Processing message: ['BEAT']\n",
      "DEBUG:root:Processing message: ['BEAT']\n",
      "DEBUG:root:Processing message: ['BEAT']\n",
      "DEBUG:root:Processing message: ['BEAT']\n",
      "DEBUG:root:Processing message: ['BEAT']\n",
      "DEBUG:root:Processing message: ['BEAT']\n",
      "DEBUG:root:Processing message: ['BEAT']\n",
      "DEBUG:root:Processing message: ['BEAT']\n",
      "DEBUG:root:Processing message: ['BEAT']\n",
      "DEBUG:root:Processing message: ['BEAT']\n",
      "DEBUG:root:Processing message: ['BEAT']\n",
      "DEBUG:root:Processing message: ['BEAT']\n"
     ]
    }
   ],
   "source": [
    "nodes[0].set_start_learning()"
   ]
  },
  {
   "cell_type": "code",
   "execution_count": 7,
   "id": "a3ee7c01",
   "metadata": {
    "scrolled": true
   },
   "outputs": [
    {
     "name": "stdout",
     "output_type": "stream",
     "text": [
      "2.0\n",
      "2.0\n",
      "2.0\n",
      "2.0\n",
      "2.0\n"
     ]
    }
   ],
   "source": [
    "for node in nodes:\n",
    "    print(node.model)"
   ]
  },
  {
   "cell_type": "code",
   "execution_count": 7,
   "id": "696a8706",
   "metadata": {
    "scrolled": false
   },
   "outputs": [
    {
     "name": "stdout",
     "output_type": "stream",
     "text": [
      "1\n",
      "1\n",
      "1\n",
      "1\n",
      "1\n"
     ]
    }
   ],
   "source": [
    "for node in nodes:\n",
    "    print(node.round)"
   ]
  },
  {
   "cell_type": "code",
   "execution_count": 1,
   "id": "ce1c6d2b",
   "metadata": {},
   "outputs": [
    {
     "ename": "NameError",
     "evalue": "name 'nodes' is not defined",
     "output_type": "error",
     "traceback": [
      "\u001b[0;31m---------------------------------------------------------------------------\u001b[0m",
      "\u001b[0;31mNameError\u001b[0m                                 Traceback (most recent call last)",
      "Input \u001b[0;32mIn [1]\u001b[0m, in \u001b[0;36m<cell line: 1>\u001b[0;34m()\u001b[0m\n\u001b[0;32m----> 1\u001b[0m \u001b[38;5;28;01mfor\u001b[39;00m node \u001b[38;5;129;01min\u001b[39;00m \u001b[43mnodes\u001b[49m:\n\u001b[1;32m      2\u001b[0m     \u001b[38;5;28mprint\u001b[39m(node\u001b[38;5;241m.\u001b[39mmodel)\n",
      "\u001b[0;31mNameError\u001b[0m: name 'nodes' is not defined"
     ]
    }
   ],
   "source": [
    "for node in nodes:\n",
    "    print(node.model)"
   ]
  },
  {
   "cell_type": "code",
   "execution_count": 11,
   "id": "537fa5ca",
   "metadata": {
    "scrolled": false
   },
   "outputs": [
    {
     "name": "stdout",
     "output_type": "stream",
     "text": [
      "INFO:root:Stopping learning\n",
      "INFO:root:Stopping learning\n",
      "INFO:root:Stopping learning\n",
      "INFO:root:Stopping learning\n",
      "INFO:root:Stopping learning\n"
     ]
    }
   ],
   "source": [
    "nodes[0].set_stop_learning()"
   ]
  },
  {
   "cell_type": "code",
   "execution_count": 55,
   "id": "847b714a",
   "metadata": {},
   "outputs": [
    {
     "name": "stdout",
     "output_type": "stream",
     "text": [
      "[[ 0.01700013 -0.00202657 -0.02171957 ... -0.01853876  0.01490386\n",
      "  -0.00891006]\n",
      " [-0.01811369  0.01111963  0.03501726 ... -0.02571347  0.01592484\n",
      "   0.00897522]\n",
      " [ 0.00937013 -0.01602109 -0.01612764 ... -0.0048445   0.01773874\n",
      "   0.00843355]\n",
      " ...\n",
      " [ 0.00930244 -0.01235592 -0.03509238 ...  0.02637826 -0.02439705\n",
      "   0.02636678]\n",
      " [-0.00259882 -0.00180632  0.0132384  ...  0.00111574  0.03459569\n",
      "  -0.0356814 ]\n",
      " [ 0.03110098  0.0031391  -0.01866219 ... -0.0112348  -0.00716331\n",
      "   0.03277582]]\n",
      "[]\n",
      "----------\n",
      "[ 0.03310055 -0.03125035  0.01227049  0.01506457 -0.0121666   0.01009908\n",
      "  0.01363941  0.00697762  0.00662349  0.03456899  0.00533926 -0.02103855\n",
      "  0.03163164 -0.00088175 -0.01339702 -0.02912547 -0.01159946 -0.00239607\n",
      " -0.01855935 -0.02954929 -0.00774772 -0.0072178  -0.03265165 -0.0051045\n",
      "  0.02895099 -0.01508762 -0.00365993 -0.01255451  0.03113279 -0.02041463\n",
      " -0.02170713  0.02934271  0.01027098  0.02785992 -0.01547625 -0.02106673\n",
      "  0.02726589 -0.03565474  0.00472037  0.01956816 -0.03142373  0.01061026\n",
      " -0.01128848 -0.01741879  0.02850709 -0.00915175  0.03454092 -0.00933746\n",
      " -0.01027187 -0.00155852 -0.0025498   0.02530847 -0.02843352 -0.0027734\n",
      "  0.02565932  0.02172192 -0.03062399  0.01362352  0.02719083  0.02060857\n",
      " -0.02024572  0.03527501  0.02790875  0.01238911  0.00738129  0.00612567\n",
      " -0.01219471  0.01262388  0.03449519  0.00511962 -0.00472558 -0.00215349\n",
      " -0.01716579  0.01787055  0.00252277 -0.0277988   0.01515223  0.0094426\n",
      "  0.0126177   0.01066878 -0.02532738  0.02891583 -0.0149801  -0.01379204\n",
      "  0.02759059 -0.00369683  0.00656309  0.01711463  0.00340179  0.03276629\n",
      " -0.03315138  0.01522054  0.0052335  -0.01743435  0.02315493  0.02076771\n",
      "  0.00913275  0.00585122  0.02466737  0.02467271 -0.02081777  0.00604319\n",
      " -0.005365   -0.00787535 -0.01885977 -0.03258857  0.02596823 -0.01690629\n",
      "  0.02942247 -0.01204721 -0.00607538 -0.03530215 -0.00595773  0.02093266\n",
      " -0.01154631  0.01064661 -0.02732079  0.02713672  0.03146252 -0.02025078\n",
      " -0.00562499  0.01358281  0.00383065 -0.02221479 -0.01271542 -0.02618105\n",
      " -0.00306334  0.02318117]\n",
      "[]\n",
      "----------\n",
      "[[-3.77342217e-02 -5.18430024e-02 -6.75792024e-02 ... -3.18714455e-02\n",
      "   8.40118006e-02 -8.28308538e-02]\n",
      " [-5.52903526e-02  8.68124738e-02  1.42898336e-02 ... -4.44222391e-02\n",
      "   7.23989084e-02  7.95177147e-02]\n",
      " [-5.07906377e-02  5.58467284e-02  6.09229431e-02 ... -1.85192823e-02\n",
      "  -4.80627902e-02  5.28999642e-02]\n",
      " ...\n",
      " [ 6.55533448e-02  7.49301687e-02  5.61678335e-02 ...  5.10598645e-02\n",
      "  -1.42304525e-02 -3.97315584e-02]\n",
      " [-4.98822182e-02  3.43594253e-02 -8.81026983e-02 ... -5.51652275e-02\n",
      "  -8.40127468e-05  9.83059406e-03]\n",
      " [ 7.56767765e-02  7.51191899e-02 -3.61447372e-02 ...  8.44159797e-02\n",
      "  -3.02705914e-02 -1.53983906e-02]]\n",
      "[]\n",
      "----------\n",
      "[ 0.00136136 -0.04605342 -0.02935312  0.06995412 -0.08410077  0.03088593\n",
      " -0.01084513  0.08138636 -0.02486193 -0.00661436 -0.03609118  0.08284331\n",
      "  0.00980897  0.0027697   0.04435752 -0.04391434  0.04928925  0.08197083\n",
      "  0.08808766 -0.04239581  0.07170533 -0.08267164 -0.08063598 -0.02406403\n",
      "  0.02816518 -0.01000169  0.01220689 -0.04100143  0.02715218 -0.02152675\n",
      " -0.07524294  0.00655025  0.04343086 -0.08485579 -0.08358369  0.01684906\n",
      "  0.07056796 -0.05554317 -0.05360667  0.02711772  0.05297663 -0.00376295\n",
      "  0.07923093  0.00265414 -0.04570229 -0.01363455 -0.06352206 -0.02984328\n",
      "  0.04333524  0.05364314  0.07485195 -0.00618074 -0.03498433 -0.02133536\n",
      " -0.03945769 -0.00484719  0.02504768 -0.03067977 -0.08293722 -0.00686026\n",
      " -0.04696128 -0.06685948 -0.00423384  0.02715351 -0.02437653 -0.05356031\n",
      " -0.04467059  0.00178179 -0.02228207  0.08004532 -0.03348247 -0.03328355\n",
      " -0.06493941  0.02354199 -0.08231747 -0.06110504 -0.06741966  0.04804233\n",
      " -0.01844085 -0.02405274  0.07885275 -0.07803328  0.03536993  0.01340334\n",
      " -0.00678777 -0.06858718  0.0397254   0.03430924 -0.08599064 -0.08496719\n",
      " -0.07262996 -0.00543241 -0.0283781  -0.04194282  0.03337543 -0.06768703\n",
      "  0.08211387  0.0832342  -0.05499919 -0.05447872  0.00975843 -0.03188072\n",
      " -0.05978125  0.06294125 -0.00437129  0.07153384 -0.02450072 -0.00395682\n",
      " -0.05813463 -0.02668    -0.02208577  0.02491538  0.0193153  -0.00034002\n",
      "  0.07143854  0.0002      0.04303392 -0.06144389 -0.01592954 -0.07471688\n",
      "  0.06057187  0.03624762  0.06163806  0.05538683 -0.07136771  0.02634788\n",
      " -0.02081078 -0.07469662 -0.004525   -0.07534011 -0.01008255  0.03048721\n",
      "  0.00838908  0.0637811   0.03860249  0.02748946 -0.04610412  0.08139437\n",
      " -0.04652255 -0.0652788   0.00562905 -0.00184938 -0.05402698 -0.03913112\n",
      " -0.00419498  0.03554828  0.05731968  0.02864381 -0.01687101 -0.03898446\n",
      "  0.05476526 -0.00084542  0.04636382  0.00245612 -0.01713192  0.04807018\n",
      "  0.05406629  0.07816396 -0.00834294  0.0522616  -0.00318561 -0.05767731\n",
      " -0.06326389 -0.0850404   0.08522401 -0.0043608  -0.04040403  0.00180238\n",
      "  0.04060058  0.03103774 -0.04569081  0.05406424  0.08032527  0.06022219\n",
      "  0.03859813  0.06568881  0.05759972  0.06316569  0.02966916 -0.03770669\n",
      " -0.05665682  0.02139027 -0.0439811  -0.00309406 -0.02350144  0.07007996\n",
      " -0.08142292 -0.0289491  -0.00081747  0.0522392  -0.03467058  0.07696076\n",
      " -0.01156914 -0.05102409 -0.04735702  0.04977442 -0.0421572   0.03352557\n",
      " -0.05003812  0.08559126 -0.08725598 -0.05474946  0.00045092  0.00400715\n",
      "  0.083589   -0.05193931  0.01682112  0.04373304 -0.05614761 -0.08248589\n",
      " -0.03628202 -0.03827406  0.03478088 -0.00923181 -0.07136553 -0.06545351\n",
      " -0.01925105  0.07699911  0.00980511 -0.02935291 -0.01373129 -0.04086505\n",
      "  0.07845766 -0.00848421 -0.07021044 -0.06302274  0.00188828  0.00563215\n",
      "  0.04872657  0.02167178  0.08624794 -0.00454649  0.06768393  0.04286706\n",
      " -0.02459344  0.03989389 -0.05286737 -0.03299399  0.00091834 -0.01848693\n",
      " -0.0214377  -0.00725723 -0.02461109 -0.07769919 -0.04678893  0.00247072\n",
      "  0.05760401 -0.05703315  0.00890733  0.00601782  0.04755998 -0.08836668\n",
      "  0.06487437 -0.04933749 -0.02221126 -0.06384207]\n",
      "[]\n",
      "----------\n",
      "[[ 0.01731783 -0.04366535 -0.03043431 ...  0.01491418  0.03704561\n",
      "   0.00480832]\n",
      " [ 0.03997289  0.01874078 -0.05770615 ... -0.05584711  0.05401129\n",
      "   0.03524484]\n",
      " [ 0.05363486  0.01623596 -0.04778654 ...  0.00535638  0.02077731\n",
      "  -0.01360445]\n",
      " ...\n",
      " [-0.04202624  0.01619057 -0.03625968 ... -0.0112815   0.03029568\n",
      "   0.01007053]\n",
      " [ 0.01553439 -0.0230817   0.00907705 ...  0.00382622  0.04076152\n",
      "   0.02187183]\n",
      " [ 0.00383489 -0.05003215  0.01988452 ...  0.00807063 -0.02265517\n",
      "   0.04107249]]\n",
      "[]\n",
      "----------\n",
      "[ 0.03918679 -0.02142642 -0.03475972 -0.00590508 -0.05104841 -0.02763744\n",
      " -0.02647158  0.02534629 -0.05033068 -0.02508732]\n",
      "[]\n",
      "----------\n"
     ]
    },
    {
     "name": "stderr",
     "output_type": "stream",
     "text": [
      "/var/folders/vm/p9lv42ms7ml71cjvsj4bnbnm0000gn/T/ipykernel_35243/1554814457.py:15: DeprecationWarning: string or file could not be read to its end due to unmatched data; this will raise a ValueError in the future.\n",
      "  print(np.fromstring(a,dtype=float,sep=\" \"))\n"
     ]
    }
   ],
   "source": [
    "from p2pfl.learning.model import MyNodeLearning\n",
    "import numpy as np\n",
    "nl1 = MyNodeLearning(None)\n",
    "\n",
    "\n",
    "pesos = [val.cpu().numpy() for _, val in nl1.model.state_dict().items()]\n",
    "\n",
    "\n",
    "arrays = [ np.array2string(a) for a in pesos ]\n",
    "txt = \"|\".join(arrays)\n",
    "\n",
    "\n",
    "for a in txt.split(\"|\"):\n",
    "    print(a)\n",
    "    print(np.fromstring(a,dtype=float,sep=\" \"))\n",
    "    print(\"----------\")\n",
    "    \n",
    "\n",
    "\n",
    "#print(pesos)\n",
    "#print(\"----------\")\n",
    "#print(pesos_copia)\n",
    "    \n",
    "#txt=\n",
    "#np.fromstring(txt,like=array)\n"
   ]
  },
  {
   "cell_type": "code",
   "execution_count": 14,
   "id": "9a85a32f",
   "metadata": {
    "scrolled": true
   },
   "outputs": [
    {
     "ename": "TypeError",
     "evalue": "unsupported operand type(s) for +: 'collections.OrderedDict' and 'collections.OrderedDict'",
     "output_type": "error",
     "traceback": [
      "\u001b[0;31m---------------------------------------------------------------------------\u001b[0m",
      "\u001b[0;31mTypeError\u001b[0m                                 Traceback (most recent call last)",
      "\u001b[0;32m/var/folders/vm/p9lv42ms7ml71cjvsj4bnbnm0000gn/T/ipykernel_40180/1489876266.py\u001b[0m in \u001b[0;36m<module>\u001b[0;34m\u001b[0m\n\u001b[1;32m      6\u001b[0m \u001b[0;31m#for layer in params:\u001b[0m\u001b[0;34m\u001b[0m\u001b[0;34m\u001b[0m\u001b[0m\n\u001b[1;32m      7\u001b[0m     \u001b[0;31m#print(params[layer]*0)\u001b[0m\u001b[0;34m\u001b[0m\u001b[0;34m\u001b[0m\u001b[0m\n\u001b[0;32m----> 8\u001b[0;31m \u001b[0mparams\u001b[0m\u001b[0;34m+\u001b[0m\u001b[0mparams\u001b[0m\u001b[0;34m\u001b[0m\u001b[0;34m\u001b[0m\u001b[0m\n\u001b[0m",
      "\u001b[0;31mTypeError\u001b[0m: unsupported operand type(s) for +: 'collections.OrderedDict' and 'collections.OrderedDict'"
     ]
    },
    {
     "name": "stdout",
     "output_type": "stream",
     "text": [
      "DEBUG:root:Processing message: ['BEAT']\n",
      "DEBUG:root:Processing message: ['BEAT']\n",
      "DEBUG:root:Processing message: ['BEAT']\n",
      "DEBUG:root:Processing message: ['BEAT']\n",
      "DEBUG:root:Processing message: ['BEAT']\n",
      "DEBUG:root:Processing message: ['BEAT']\n",
      "DEBUG:root:Processing message: ['BEAT']\n",
      "DEBUG:root:Processing message: ['BEAT']\n",
      "DEBUG:root:Processing message: ['BEAT']\n",
      "DEBUG:root:Processing message: ['BEAT']\n",
      "DEBUG:root:Processing message: ['BEAT']\n",
      "DEBUG:root:Processing message: ['BEAT']\n",
      "DEBUG:root:Processing message: ['BEAT']\n",
      "DEBUG:root:Processing message: ['BEAT']\n",
      "DEBUG:root:Processing message: ['BEAT']\n",
      "DEBUG:root:Processing message: ['BEAT']\n",
      "DEBUG:root:Processing message: ['BEAT']\n",
      "DEBUG:root:Processing message: ['BEAT']\n",
      "DEBUG:root:Processing message: ['BEAT']\n",
      "DEBUG:root:Processing message: ['BEAT']\n",
      "DEBUG:root:Processing message: ['BEAT']\n",
      "DEBUG:root:Processing message: ['BEAT']\n",
      "DEBUG:root:Processing message: ['BEAT']\n",
      "DEBUG:root:Processing message: ['BEAT']\n",
      "DEBUG:root:Processing message: ['BEAT']\n",
      "DEBUG:root:Processing message: ['BEAT']\n",
      "DEBUG:root:Processing message: ['BEAT']\n",
      "DEBUG:root:Processing message: ['BEAT']\n",
      "DEBUG:root:Processing message: ['BEAT']\n",
      "DEBUG:root:Processing message: ['BEAT']\n",
      "DEBUG:root:Processing message: ['BEAT']\n",
      "DEBUG:root:Processing message: ['BEAT']\n",
      "DEBUG:root:Processing message: ['BEAT']\n",
      "DEBUG:root:Processing message: ['BEAT']\n",
      "DEBUG:root:Processing message: ['BEAT']\n",
      "DEBUG:root:Processing message: ['BEAT']\n",
      "DEBUG:root:Processing message: ['BEAT']\n",
      "DEBUG:root:Processing message: ['BEAT']\n",
      "DEBUG:root:Processing message: ['BEAT']\n",
      "DEBUG:root:Processing message: ['BEAT']\n"
     ]
    }
   ],
   "source": [
    "from p2pfl.learning.model import MyNodeLearning\n",
    "\n",
    "nl1 = MyNodeLearning(None)\n",
    "params = nl1.model.state_dict()\n",
    "\n",
    "#for layer in params:\n",
    "    #print(params[layer]*0)\n",
    "params+params"
   ]
  },
  {
   "cell_type": "code",
   "execution_count": 22,
   "id": "a40a34d1",
   "metadata": {},
   "outputs": [
    {
     "data": {
      "text/plain": [
       "False"
      ]
     },
     "execution_count": 22,
     "metadata": {},
     "output_type": "execute_result"
    }
   ],
   "source": [
    "1111111111111100==111111100"
   ]
  },
  {
   "cell_type": "code",
   "execution_count": 46,
   "id": "228a1d08",
   "metadata": {},
   "outputs": [],
   "source": [
    "        return CommunicationProtocol.PARAMS.encode(\"utf-8\") + (data) + (\" \\\\\" + CommunicationProtocol.PARAMS).encode(\"utf-8\")\n",
    "\n"
   ]
  },
  {
   "cell_type": "code",
   "execution_count": 4,
   "id": "15caecc8",
   "metadata": {},
   "outputs": [
    {
     "name": "stdout",
     "output_type": "stream",
     "text": [
      "l1.weight\n",
      "tensor([[0.9729, 0.9819, 0.9776,  ..., 0.9697, 0.9719, 1.0096],\n",
      "        [1.0329, 1.0154, 0.9853,  ..., 1.0257, 1.0197, 0.9686],\n",
      "        [1.0017, 0.9770, 1.0132,  ..., 1.0173, 0.9795, 0.9847],\n",
      "        ...,\n",
      "        [1.0044, 1.0041, 0.9707,  ..., 0.9785, 0.9941, 1.0087],\n",
      "        [1.0018, 1.0014, 1.0299,  ..., 1.0178, 1.0233, 0.9873],\n",
      "        [1.0010, 1.0287, 1.0002,  ..., 0.9760, 0.9767, 1.0109]])\n",
      "tensor([[-1.0271, -1.0181, -1.0224,  ..., -1.0303, -1.0281, -0.9904],\n",
      "        [-0.9671, -0.9846, -1.0147,  ..., -0.9743, -0.9803, -1.0314],\n",
      "        [-0.9983, -1.0230, -0.9868,  ..., -0.9827, -1.0205, -1.0153],\n",
      "        ...,\n",
      "        [-0.9956, -0.9959, -1.0293,  ..., -1.0215, -1.0059, -0.9913],\n",
      "        [-0.9982, -0.9986, -0.9701,  ..., -0.9822, -0.9767, -1.0127],\n",
      "        [-0.9990, -0.9713, -0.9998,  ..., -1.0240, -1.0233, -0.9891]])\n",
      "l1.bias\n",
      "tensor([0.9946, 1.0205, 1.0004, 1.0176, 0.9964, 0.9854, 0.9709, 0.9708, 0.9744,\n",
      "        0.9994, 0.9921, 1.0102, 1.0101, 1.0229, 1.0316, 1.0310, 0.9934, 1.0149,\n",
      "        1.0017, 1.0134, 1.0016, 0.9672, 1.0224, 1.0111, 1.0217, 0.9938, 1.0261,\n",
      "        0.9716, 0.9671, 1.0343, 0.9853, 0.9657, 1.0203, 1.0032, 1.0273, 0.9897,\n",
      "        0.9937, 0.9819, 0.9940, 1.0148, 0.9747, 1.0197, 1.0171, 1.0151, 1.0262,\n",
      "        0.9805, 0.9968, 1.0166, 0.9973, 1.0239, 0.9886, 0.9889, 1.0151, 0.9688,\n",
      "        1.0093, 1.0180, 0.9719, 1.0045, 0.9717, 0.9912, 1.0128, 0.9783, 1.0135,\n",
      "        0.9937, 1.0183, 0.9890, 1.0084, 1.0238, 0.9975, 1.0154, 0.9986, 0.9720,\n",
      "        1.0104, 0.9884, 0.9996, 0.9711, 1.0082, 1.0005, 0.9872, 1.0310, 1.0023,\n",
      "        0.9687, 1.0271, 0.9983, 0.9841, 1.0151, 0.9931, 1.0187, 1.0021, 1.0287,\n",
      "        1.0192, 0.9894, 1.0014, 1.0095, 0.9765, 0.9722, 0.9889, 0.9810, 1.0280,\n",
      "        1.0116, 0.9790, 0.9988, 1.0001, 1.0014, 1.0337, 0.9735, 1.0036, 0.9791,\n",
      "        0.9720, 1.0251, 0.9950, 1.0243, 1.0128, 1.0184, 0.9975, 1.0143, 0.9896,\n",
      "        0.9700, 1.0190, 1.0335, 1.0179, 1.0278, 0.9692, 1.0205, 1.0048, 0.9852,\n",
      "        1.0073, 0.9855])\n",
      "tensor([-1.0054, -0.9795, -0.9996, -0.9824, -1.0036, -1.0146, -1.0291, -1.0292,\n",
      "        -1.0256, -1.0006, -1.0079, -0.9898, -0.9899, -0.9771, -0.9684, -0.9690,\n",
      "        -1.0066, -0.9851, -0.9983, -0.9866, -0.9984, -1.0328, -0.9776, -0.9889,\n",
      "        -0.9783, -1.0062, -0.9739, -1.0284, -1.0329, -0.9657, -1.0147, -1.0343,\n",
      "        -0.9797, -0.9968, -0.9727, -1.0103, -1.0063, -1.0181, -1.0060, -0.9852,\n",
      "        -1.0253, -0.9803, -0.9829, -0.9849, -0.9738, -1.0195, -1.0032, -0.9834,\n",
      "        -1.0027, -0.9761, -1.0114, -1.0111, -0.9849, -1.0312, -0.9907, -0.9820,\n",
      "        -1.0281, -0.9955, -1.0283, -1.0088, -0.9872, -1.0217, -0.9865, -1.0063,\n",
      "        -0.9817, -1.0110, -0.9916, -0.9762, -1.0025, -0.9846, -1.0014, -1.0280,\n",
      "        -0.9896, -1.0116, -1.0004, -1.0289, -0.9918, -0.9995, -1.0128, -0.9690,\n",
      "        -0.9977, -1.0313, -0.9729, -1.0017, -1.0159, -0.9849, -1.0069, -0.9813,\n",
      "        -0.9979, -0.9713, -0.9808, -1.0106, -0.9986, -0.9905, -1.0235, -1.0278,\n",
      "        -1.0111, -1.0190, -0.9720, -0.9884, -1.0210, -1.0012, -0.9999, -0.9986,\n",
      "        -0.9663, -1.0265, -0.9964, -1.0209, -1.0280, -0.9749, -1.0050, -0.9757,\n",
      "        -0.9872, -0.9816, -1.0025, -0.9857, -1.0104, -1.0300, -0.9810, -0.9665,\n",
      "        -0.9821, -0.9722, -1.0308, -0.9795, -0.9952, -1.0148, -0.9927, -1.0145])\n",
      "l2.weight\n",
      "tensor([[1.0281, 1.0120, 1.0806,  ..., 0.9948, 1.0488, 0.9892],\n",
      "        [0.9615, 0.9792, 0.9423,  ..., 0.9949, 1.0269, 0.9790],\n",
      "        [1.0541, 0.9899, 0.9679,  ..., 0.9606, 1.0549, 1.0695],\n",
      "        ...,\n",
      "        [0.9815, 0.9604, 1.0564,  ..., 0.9476, 1.0224, 1.0577],\n",
      "        [0.9380, 1.0446, 0.9960,  ..., 0.9938, 1.0365, 1.0145],\n",
      "        [0.9620, 0.9661, 1.0712,  ..., 0.9294, 0.9432, 1.0205]])\n",
      "tensor([[-0.9719, -0.9880, -0.9194,  ..., -1.0052, -0.9512, -1.0108],\n",
      "        [-1.0385, -1.0208, -1.0577,  ..., -1.0051, -0.9731, -1.0210],\n",
      "        [-0.9459, -1.0101, -1.0321,  ..., -1.0394, -0.9451, -0.9305],\n",
      "        ...,\n",
      "        [-1.0185, -1.0396, -0.9436,  ..., -1.0524, -0.9776, -0.9423],\n",
      "        [-1.0620, -0.9554, -1.0040,  ..., -1.0062, -0.9635, -0.9855],\n",
      "        [-1.0380, -1.0339, -0.9288,  ..., -1.0706, -1.0568, -0.9795]])\n",
      "l2.bias\n",
      "tensor([1.0639, 1.0756, 0.9156, 0.9675, 1.0228, 0.9131, 0.9816, 1.0290, 0.9892,\n",
      "        1.0653, 1.0177, 1.0782, 0.9575, 1.0470, 0.9446, 0.9405, 1.0335, 1.0875,\n",
      "        1.0774, 0.9877, 0.9630, 1.0743, 1.0761, 0.9828, 0.9740, 0.9995, 1.0747,\n",
      "        1.0756, 1.0492, 0.9985, 0.9351, 1.0675, 1.0222, 1.0353, 1.0119, 0.9178,\n",
      "        1.0473, 1.0670, 0.9429, 0.9803, 1.0061, 0.9377, 1.0749, 1.0587, 0.9853,\n",
      "        1.0681, 0.9248, 0.9592, 0.9296, 1.0744, 1.0180, 0.9425, 0.9512, 1.0705,\n",
      "        0.9175, 1.0292, 1.0708, 1.0359, 0.9799, 1.0197, 1.0530, 0.9638, 0.9759,\n",
      "        0.9835, 0.9576, 0.9687, 0.9715, 1.0281, 1.0154, 0.9980, 0.9820, 0.9565,\n",
      "        0.9769, 1.0653, 0.9834, 1.0534, 0.9981, 1.0787, 0.9173, 0.9673, 0.9563,\n",
      "        0.9898, 1.0543, 1.0026, 0.9202, 0.9325, 1.0316, 0.9617, 0.9714, 0.9631,\n",
      "        1.0271, 0.9684, 1.0701, 1.0197, 0.9638, 0.9661, 0.9346, 1.0737, 1.0052,\n",
      "        1.0878, 1.0791, 1.0777, 1.0643, 0.9938, 1.0548, 1.0655, 1.0310, 1.0090,\n",
      "        1.0629, 0.9230, 0.9678, 1.0636, 0.9195, 0.9539, 0.9273, 1.0679, 0.9559,\n",
      "        1.0138, 1.0488, 1.0770, 0.9318, 0.9496, 1.0851, 0.9309, 1.0155, 1.0664,\n",
      "        1.0542, 0.9227, 1.0817, 1.0502, 0.9928, 0.9908, 0.9238, 1.0040, 1.0027,\n",
      "        0.9807, 0.9695, 0.9892, 0.9479, 0.9725, 1.0023, 1.0078, 0.9964, 0.9602,\n",
      "        1.0098, 1.0215, 0.9201, 0.9798, 1.0102, 0.9426, 1.0019, 1.0798, 1.0551,\n",
      "        1.0603, 1.0120, 1.0142, 1.0203, 0.9830, 0.9375, 1.0268, 0.9383, 1.0298,\n",
      "        1.0658, 1.0295, 0.9415, 1.0372, 0.9391, 1.0469, 1.0697, 0.9345, 0.9583,\n",
      "        1.0119, 0.9822, 0.9723, 1.0629, 0.9999, 0.9952, 0.9364, 1.0877, 0.9676,\n",
      "        0.9857, 1.0138, 0.9674, 0.9937, 0.9394, 1.0101, 0.9725, 1.0466, 0.9658,\n",
      "        1.0220, 0.9352, 1.0510, 1.0879, 1.0822, 1.0016, 1.0408, 1.0059, 0.9242,\n",
      "        1.0738, 0.9864, 0.9658, 1.0393, 0.9588, 0.9674, 1.0412, 0.9393, 1.0369,\n",
      "        1.0559, 0.9461, 0.9852, 0.9299, 0.9239, 0.9185, 0.9919, 0.9168, 0.9892,\n",
      "        0.9187, 0.9598, 0.9360, 1.0558, 1.0196, 1.0635, 1.0390, 0.9914, 1.0486,\n",
      "        0.9677, 0.9415, 0.9259, 0.9980, 0.9437, 1.0554, 1.0275, 1.0447, 0.9774,\n",
      "        0.9239, 0.9312, 0.9818, 0.9504, 1.0282, 1.0765, 0.9239, 0.9146, 1.0199,\n",
      "        0.9790, 1.0285, 1.0262, 1.0442, 1.0637, 1.0557, 1.0492, 0.9137, 0.9622,\n",
      "        0.9129, 1.0610, 0.9670, 0.9337])\n",
      "tensor([-0.9361, -0.9244, -1.0844, -1.0325, -0.9772, -1.0869, -1.0184, -0.9710,\n",
      "        -1.0108, -0.9347, -0.9823, -0.9218, -1.0425, -0.9530, -1.0554, -1.0595,\n",
      "        -0.9665, -0.9125, -0.9226, -1.0123, -1.0370, -0.9257, -0.9239, -1.0172,\n",
      "        -1.0260, -1.0005, -0.9253, -0.9244, -0.9508, -1.0015, -1.0649, -0.9325,\n",
      "        -0.9778, -0.9647, -0.9881, -1.0822, -0.9527, -0.9330, -1.0571, -1.0197,\n",
      "        -0.9939, -1.0623, -0.9251, -0.9413, -1.0147, -0.9319, -1.0752, -1.0408,\n",
      "        -1.0704, -0.9256, -0.9820, -1.0575, -1.0488, -0.9295, -1.0825, -0.9708,\n",
      "        -0.9292, -0.9641, -1.0201, -0.9803, -0.9470, -1.0362, -1.0241, -1.0165,\n",
      "        -1.0424, -1.0313, -1.0285, -0.9719, -0.9846, -1.0020, -1.0180, -1.0435,\n",
      "        -1.0231, -0.9347, -1.0166, -0.9466, -1.0019, -0.9213, -1.0827, -1.0327,\n",
      "        -1.0437, -1.0102, -0.9457, -0.9974, -1.0798, -1.0675, -0.9684, -1.0383,\n",
      "        -1.0286, -1.0369, -0.9729, -1.0316, -0.9299, -0.9803, -1.0362, -1.0339,\n",
      "        -1.0654, -0.9263, -0.9948, -0.9122, -0.9209, -0.9223, -0.9357, -1.0062,\n",
      "        -0.9452, -0.9345, -0.9690, -0.9910, -0.9371, -1.0770, -1.0322, -0.9364,\n",
      "        -1.0805, -1.0461, -1.0727, -0.9321, -1.0441, -0.9862, -0.9512, -0.9230,\n",
      "        -1.0682, -1.0504, -0.9149, -1.0691, -0.9845, -0.9336, -0.9458, -1.0773,\n",
      "        -0.9183, -0.9498, -1.0072, -1.0092, -1.0762, -0.9960, -0.9973, -1.0193,\n",
      "        -1.0305, -1.0108, -1.0521, -1.0275, -0.9977, -0.9922, -1.0036, -1.0398,\n",
      "        -0.9902, -0.9785, -1.0799, -1.0202, -0.9898, -1.0574, -0.9981, -0.9202,\n",
      "        -0.9449, -0.9397, -0.9880, -0.9858, -0.9797, -1.0170, -1.0625, -0.9732,\n",
      "        -1.0617, -0.9702, -0.9342, -0.9705, -1.0585, -0.9628, -1.0609, -0.9531,\n",
      "        -0.9303, -1.0655, -1.0417, -0.9881, -1.0178, -1.0277, -0.9371, -1.0001,\n",
      "        -1.0048, -1.0636, -0.9123, -1.0324, -1.0143, -0.9862, -1.0326, -1.0063,\n",
      "        -1.0606, -0.9899, -1.0275, -0.9534, -1.0342, -0.9780, -1.0648, -0.9490,\n",
      "        -0.9121, -0.9178, -0.9984, -0.9592, -0.9941, -1.0758, -0.9262, -1.0136,\n",
      "        -1.0342, -0.9607, -1.0412, -1.0326, -0.9588, -1.0607, -0.9631, -0.9441,\n",
      "        -1.0539, -1.0148, -1.0701, -1.0761, -1.0815, -1.0081, -1.0832, -1.0108,\n",
      "        -1.0813, -1.0402, -1.0640, -0.9442, -0.9804, -0.9365, -0.9610, -1.0086,\n",
      "        -0.9514, -1.0323, -1.0585, -1.0741, -1.0020, -1.0563, -0.9446, -0.9725,\n",
      "        -0.9553, -1.0226, -1.0761, -1.0688, -1.0182, -1.0496, -0.9718, -0.9235,\n",
      "        -1.0761, -1.0854, -0.9801, -1.0210, -0.9715, -0.9738, -0.9558, -0.9363,\n",
      "        -0.9443, -0.9508, -1.0863, -1.0378, -1.0871, -0.9390, -1.0330, -1.0663])\n",
      "l3.weight\n",
      "tensor([[1.0105, 1.0502, 1.0424,  ..., 0.9447, 0.9559, 0.9481],\n",
      "        [1.0459, 1.0328, 0.9601,  ..., 0.9698, 0.9548, 1.0078],\n",
      "        [0.9394, 1.0090, 0.9898,  ..., 1.0333, 0.9737, 0.9474],\n",
      "        ...,\n",
      "        [0.9787, 1.0555, 0.9776,  ..., 1.0368, 0.9593, 1.0433],\n",
      "        [0.9423, 0.9981, 0.9394,  ..., 1.0288, 0.9920, 1.0423],\n",
      "        [0.9495, 0.9422, 0.9498,  ..., 0.9449, 1.0601, 1.0282]])\n",
      "tensor([[-0.9895, -0.9498, -0.9576,  ..., -1.0553, -1.0441, -1.0519],\n",
      "        [-0.9541, -0.9672, -1.0399,  ..., -1.0302, -1.0452, -0.9922],\n",
      "        [-1.0606, -0.9910, -1.0102,  ..., -0.9667, -1.0263, -1.0526],\n",
      "        ...,\n",
      "        [-1.0213, -0.9445, -1.0224,  ..., -0.9632, -1.0407, -0.9567],\n",
      "        [-1.0577, -1.0019, -1.0606,  ..., -0.9712, -1.0080, -0.9577],\n",
      "        [-1.0505, -1.0578, -1.0502,  ..., -1.0551, -0.9399, -0.9718]])\n",
      "l3.bias\n",
      "tensor([1.0201, 1.0300, 1.0106, 1.0116, 1.0055, 1.0577, 1.0313, 1.0484, 0.9927,\n",
      "        0.9829])\n",
      "tensor([-0.9799, -0.9700, -0.9894, -0.9884, -0.9945, -0.9423, -0.9687, -0.9516,\n",
      "        -1.0073, -1.0171])\n",
      "Res\n",
      "[ 0.02007592  0.02996171  0.01055396  0.01157615  0.00546598  0.05766669\n",
      "  0.03127861  0.04842499 -0.0072782  -0.01708972]\n",
      "Params\n",
      "[ 0.02007589  0.02996171  0.01055399  0.01157612  0.00546599  0.0576667\n",
      "  0.0312786   0.048425   -0.00727823 -0.01708971]\n",
      "[False  True False False False False False False False False]\n",
      "tensor(False)\n",
      "tensor(True)\n",
      "tensor(True)\n",
      "tensor(True)\n",
      "tensor(True)\n",
      "tensor(True)\n"
     ]
    }
   ],
   "source": [
    "from p2pfl.learning.model import MyNodeLearning\n",
    "from p2pfl.agregator import FedAvg\n",
    "import torch\n",
    "\n",
    "nl1 = MyNodeLearning(None)\n",
    "params = nl1.get_parameters()\n",
    "params1 = nl1.get_parameters()\n",
    "params2 = nl1.get_parameters()\n",
    "\n",
    "result = FedAvg.agregate([params])\n",
    "\n",
    "# Check Results\n",
    "for layer in params:\n",
    "    assert eq(params[layer], result[layer]).all()\n",
    "\n",
    "for layer in params2:\n",
    "    print(layer)\n",
    "    params1[layer] = params1[layer]+1\n",
    "    print(params1[layer])\n",
    "    params2[layer] = params2[layer]-1\n",
    "    print(params2[layer])\n",
    "    \n",
    "result = FedAvg.agregate([params1.copy(), params2.copy()])\n",
    "\n",
    "    \n",
    "    \n",
    "print(\"Res\")    \n",
    "print(result[\"l3.bias\"].cpu().numpy())\n",
    "print(\"Params\")\n",
    "print(params[\"l3.bias\"].cpu().numpy())\n",
    "\n",
    "print(result[\"l3.bias\"].cpu().numpy() == params[\"l3.bias\"].cpu().numpy())\n",
    "\n",
    "# Check Results\n",
    "for layer in params:\n",
    "    a = torch.round(params[layer], decimals=2)\n",
    "    b = torch.round(result[layer], decimals=2)\n",
    "    print(torch.eq(a, b).all())\n",
    "    \n"
   ]
  },
  {
   "cell_type": "code",
   "execution_count": 24,
   "id": "a6062d5c",
   "metadata": {},
   "outputs": [
    {
     "data": {
      "text/plain": [
       "True"
      ]
     },
     "execution_count": 24,
     "metadata": {},
     "output_type": "execute_result"
    }
   ],
   "source": [
    "0.05378953 == 0.05378953"
   ]
  },
  {
   "cell_type": "code",
   "execution_count": 8,
   "id": "bc240497",
   "metadata": {},
   "outputs": [
    {
     "data": {
      "text/plain": [
       "[1, 2]"
      ]
     },
     "execution_count": 8,
     "metadata": {},
     "output_type": "execute_result"
    }
   ],
   "source": [
    "[1,2,3][:-1]"
   ]
  },
  {
   "cell_type": "code",
   "execution_count": null,
   "id": "4fa9663a",
   "metadata": {},
   "outputs": [],
   "source": []
  }
 ],
 "metadata": {
  "kernelspec": {
   "display_name": "Python 3 (ipykernel)",
   "language": "python",
   "name": "python3"
  },
  "language_info": {
   "codemirror_mode": {
    "name": "ipython",
    "version": 3
   },
   "file_extension": ".py",
   "mimetype": "text/x-python",
   "name": "python",
   "nbconvert_exporter": "python",
   "pygments_lexer": "ipython3",
   "version": "3.9.12"
  }
 },
 "nbformat": 4,
 "nbformat_minor": 5
}

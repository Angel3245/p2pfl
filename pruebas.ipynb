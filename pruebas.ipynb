{
 "cells": [
  {
   "cell_type": "code",
   "execution_count": 1,
   "id": "de3333e5",
   "metadata": {
    "scrolled": true
   },
   "outputs": [
    {
     "name": "stdout",
     "output_type": "stream",
     "text": [
      "Train: 54000 Val:6000 Test:10000\n",
      "INFO:root:Nodo a la escucha en 127.0.0.1 48601\n",
      "Train: 54000 Val:6000 Test:10000\n",
      "INFO:root:Nodo a la escucha en 127.0.0.1 59437\n",
      "INFO:root:(('127.0.0.1', 48601)) Conexión aceptada con ('127.0.0.1', 59437)\n",
      "INFO:root:(('127.0.0.1', 48601)) Broadcasting start learning...\n",
      "INFO:root:(('127.0.0.1', 48601)) Sending Initial Model Weights\n",
      "INFO:root:(('127.0.0.1', 48601)) Broadcasting model to 1 clients. (size: 548864 bytes)\n",
      "INFO:root:(('127.0.0.1', 59437)) Broadcasting Number of Samples...\n",
      "INFO:root:(('127.0.0.1', 59437)) Initialicing Model Weights\n",
      "INFO:root:(('127.0.0.1', 59437)) Model initialized\n",
      "INFO:root:(('127.0.0.1', 48601)) Broadcasting Number of Samples...\n",
      "[('127.0.0.1', 59437), ('127.0.0.1', 59437), ('127.0.0.1', 59437)]\n",
      "INFO:root:(('127.0.0.1', 48601)) Evaluating...\n",
      "aun no implementao\n"
     ]
    },
    {
     "name": "stderr",
     "output_type": "stream",
     "text": [
      "GPU available: False, used: False\n",
      "TPU available: False, using: 0 TPU cores\n",
      "IPU available: False, using: 0 IPUs\n",
      "HPU available: False, using: 0 HPUs\n"
     ]
    },
    {
     "data": {
      "application/vnd.jupyter.widget-view+json": {
       "model_id": "5c40e0b3c0e44ae490dcbd68e8e234cd",
       "version_major": 2,
       "version_minor": 0
      },
      "text/plain": [
       "Testing: 0it [00:00, ?it/s]"
      ]
     },
     "metadata": {},
     "output_type": "display_data"
    },
    {
     "name": "stdout",
     "output_type": "stream",
     "text": [
      "[('127.0.0.1', 48601), ('127.0.0.1', 48601), ('127.0.0.1', 48601)]\n",
      "INFO:root:(('127.0.0.1', 59437)) Evaluating...\n"
     ]
    },
    {
     "name": "stderr",
     "output_type": "stream",
     "text": [
      "GPU available: False, used: False\n",
      "TPU available: False, using: 0 TPU cores\n",
      "IPU available: False, using: 0 IPUs\n",
      "HPU available: False, using: 0 HPUs\n"
     ]
    },
    {
     "name": "stdout",
     "output_type": "stream",
     "text": [
      "aun no implementao\n"
     ]
    },
    {
     "data": {
      "application/vnd.jupyter.widget-view+json": {
       "model_id": "8b6726076239478bb10ae576c66779ab",
       "version_major": 2,
       "version_minor": 0
      },
      "text/plain": [
       "Testing: 0it [00:00, ?it/s]"
      ]
     },
     "metadata": {},
     "output_type": "display_data"
    },
    {
     "name": "stderr",
     "output_type": "stream",
     "text": [
      "/home/pedro/.local/share/virtualenvs/federated_learning_p2p-ODhT9q3L/lib/python3.9/site-packages/torchmetrics/utilities/prints.py:36: UserWarning: The ``compute`` method of metric Accuracy was called before the ``update`` method which may lead to errors, as metric states have not yet been updated.\n",
      "  warnings.warn(*args, **kwargs)\n"
     ]
    },
    {
     "name": "stdout",
     "output_type": "stream",
     "text": [
      "INFO:root:(('127.0.0.1', 59437)) Evaluated. Losss: 2.301456928253174, Metric: 0.1296866089105606. (Check tensorboard for more info)\n",
      "INFO:root:(('127.0.0.1', 59437)) Broadcasting metrics to 1 clients.\n",
      "INFO:root:(('127.0.0.1', 59437)) Training...\n"
     ]
    },
    {
     "name": "stderr",
     "output_type": "stream",
     "text": [
      "GPU available: False, used: False\n",
      "TPU available: False, using: 0 TPU cores\n",
      "IPU available: False, using: 0 IPUs\n",
      "HPU available: False, using: 0 HPUs\n",
      "\n",
      "  | Name   | Type     | Params\n",
      "------------------------------------\n",
      "0 | metric | Accuracy | 0     \n",
      "1 | l1     | Linear   | 100 K \n",
      "2 | l2     | Linear   | 33.0 K\n",
      "3 | l3     | Linear   | 2.6 K \n",
      "------------------------------------\n",
      "136 K     Trainable params\n",
      "0         Non-trainable params\n",
      "136 K     Total params\n",
      "0.544     Total estimated model params size (MB)\n"
     ]
    },
    {
     "name": "stdout",
     "output_type": "stream",
     "text": [
      "METRICS RECEIVED ('127.0.0.1:59437', 0, 2.301456928253174, 0.1296866089105606)\n"
     ]
    },
    {
     "data": {
      "application/vnd.jupyter.widget-view+json": {
       "model_id": "",
       "version_major": 2,
       "version_minor": 0
      },
      "text/plain": [
       "Sanity Checking: 0it [00:00, ?it/s]"
      ]
     },
     "metadata": {},
     "output_type": "display_data"
    },
    {
     "data": {
      "application/vnd.jupyter.widget-view+json": {
       "model_id": "7e593c32bd0545abbba12e6957cd0b46",
       "version_major": 2,
       "version_minor": 0
      },
      "text/plain": [
       "Training: 0it [00:00, ?it/s]"
      ]
     },
     "metadata": {},
     "output_type": "display_data"
    },
    {
     "name": "stdout",
     "output_type": "stream",
     "text": [
      "INFO:root:(('127.0.0.1', 48601)) Evaluated. Losss: 2.301456928253174, Metric: 0.11917966604232788. (Check tensorboard for more info)\n",
      "INFO:root:(('127.0.0.1', 48601)) Broadcasting metrics to 1 clients.\n",
      "INFO:root:(('127.0.0.1', 48601)) Training...\n",
      "METRICS RECEIVED ('127.0.0.1:48601', 0, 2.301456928253174, 0.11917966604232788)\n"
     ]
    },
    {
     "name": "stderr",
     "output_type": "stream",
     "text": [
      "GPU available: False, used: False\n",
      "TPU available: False, using: 0 TPU cores\n",
      "IPU available: False, using: 0 IPUs\n",
      "HPU available: False, using: 0 HPUs\n",
      "\n",
      "  | Name   | Type     | Params\n",
      "------------------------------------\n",
      "0 | metric | Accuracy | 0     \n",
      "1 | l1     | Linear   | 100 K \n",
      "2 | l2     | Linear   | 33.0 K\n",
      "3 | l3     | Linear   | 2.6 K \n",
      "------------------------------------\n",
      "136 K     Trainable params\n",
      "0         Non-trainable params\n",
      "136 K     Total params\n",
      "0.544     Total estimated model params size (MB)\n"
     ]
    },
    {
     "data": {
      "application/vnd.jupyter.widget-view+json": {
       "model_id": "",
       "version_major": 2,
       "version_minor": 0
      },
      "text/plain": [
       "Sanity Checking: 0it [00:00, ?it/s]"
      ]
     },
     "metadata": {},
     "output_type": "display_data"
    },
    {
     "data": {
      "application/vnd.jupyter.widget-view+json": {
       "model_id": "fbf3bf9e680242d38246262f42744684",
       "version_major": 2,
       "version_minor": 0
      },
      "text/plain": [
       "Training: 0it [00:00, ?it/s]"
      ]
     },
     "metadata": {},
     "output_type": "display_data"
    },
    {
     "data": {
      "application/vnd.jupyter.widget-view+json": {
       "model_id": "",
       "version_major": 2,
       "version_minor": 0
      },
      "text/plain": [
       "Validation: 0it [00:00, ?it/s]"
      ]
     },
     "metadata": {},
     "output_type": "display_data"
    },
    {
     "data": {
      "application/vnd.jupyter.widget-view+json": {
       "model_id": "",
       "version_major": 2,
       "version_minor": 0
      },
      "text/plain": [
       "Validation: 0it [00:00, ?it/s]"
      ]
     },
     "metadata": {},
     "output_type": "display_data"
    },
    {
     "name": "stdout",
     "output_type": "stream",
     "text": [
      "INFO:root:(127.0.0.1:48601) Model added (1/2) from ('127.0.0.1', 48601)\n",
      "INFO:root:(('127.0.0.1', 48601)) Broadcasting model to 1 clients. (size: 548864 bytes)\n",
      "INFO:root:(127.0.0.1:59437) Model added (1/2) from ('127.0.0.1', 48601)\n",
      "INFO:root:(127.0.0.1:59437) Model added (2/2) from ('127.0.0.1', 59437)\n",
      "INFO:root:(127.0.0.1:59437) Agregating models.\n",
      "INFO:root:(('127.0.0.1', 59437)) Broadcasting model to 1 clients. (size: 548864 bytes)\n",
      "INFO:root:(('127.0.0.1', 59437)) Waiting other nodes.\n",
      "INFO:root:(127.0.0.1:48601) Model added (2/2) from ('127.0.0.1', 59437)\n",
      "INFO:root:(127.0.0.1:48601) Agregating models.\n",
      "INFO:root:(('127.0.0.1', 48601)) Waiting other nodes.\n",
      "INFO:root:(('127.0.0.1', 59437)) Round 1 of 2 finished.\n",
      "[('127.0.0.1', 48601), ('127.0.0.1', 48601), ('127.0.0.1', 48601)]\n",
      "INFO:root:(('127.0.0.1', 48601)) Round 1 of 2 finished.\n",
      "aun no implementao\n",
      "[('127.0.0.1', 59437), ('127.0.0.1', 59437), ('127.0.0.1', 59437)]\n",
      "INFO:root:(('127.0.0.1', 59437)) Evaluating...\n",
      "aun no implementao\n",
      "INFO:root:(('127.0.0.1', 48601)) Evaluating...\n"
     ]
    },
    {
     "name": "stderr",
     "output_type": "stream",
     "text": [
      "GPU available: False, used: False\n",
      "GPU available: False, used: False\n",
      "TPU available: False, using: 0 TPU cores\n",
      "TPU available: False, using: 0 TPU cores\n",
      "IPU available: False, using: 0 IPUs\n",
      "IPU available: False, using: 0 IPUs\n",
      "HPU available: False, using: 0 HPUs\n",
      "HPU available: False, using: 0 HPUs\n"
     ]
    },
    {
     "data": {
      "application/vnd.jupyter.widget-view+json": {
       "model_id": "fb785f0c6c674885ae370e9d8b676ae5",
       "version_major": 2,
       "version_minor": 0
      },
      "text/plain": [
       "Testing: 0it [00:00, ?it/s]"
      ]
     },
     "metadata": {},
     "output_type": "display_data"
    },
    {
     "data": {
      "application/vnd.jupyter.widget-view+json": {
       "model_id": "73eecce8882b479f92952f447f395792",
       "version_major": 2,
       "version_minor": 0
      },
      "text/plain": [
       "Testing: 0it [00:00, ?it/s]"
      ]
     },
     "metadata": {},
     "output_type": "display_data"
    },
    {
     "name": "stdout",
     "output_type": "stream",
     "text": [
      "INFO:root:(('127.0.0.1', 48601)) Evaluated. Losss: 0.14684411883354187, Metric: 0.9211124181747437. (Check tensorboard for more info)\n",
      "INFO:root:(('127.0.0.1', 48601)) Broadcasting metrics to 1 clients.\n",
      "INFO:root:(('127.0.0.1', 48601)) Training...\n",
      "METRICS RECEIVED ('127.0.0.1:48601', 1, 0.14684411883354187, 0.9211124181747437)\n"
     ]
    },
    {
     "name": "stderr",
     "output_type": "stream",
     "text": [
      "GPU available: False, used: False\n",
      "TPU available: False, using: 0 TPU cores\n",
      "IPU available: False, using: 0 IPUs\n",
      "HPU available: False, using: 0 HPUs\n",
      "\n",
      "  | Name   | Type     | Params\n",
      "------------------------------------\n",
      "0 | metric | Accuracy | 0     \n",
      "1 | l1     | Linear   | 100 K \n",
      "2 | l2     | Linear   | 33.0 K\n",
      "3 | l3     | Linear   | 2.6 K \n",
      "------------------------------------\n",
      "136 K     Trainable params\n",
      "0         Non-trainable params\n",
      "136 K     Total params\n",
      "0.544     Total estimated model params size (MB)\n"
     ]
    },
    {
     "data": {
      "application/vnd.jupyter.widget-view+json": {
       "model_id": "",
       "version_major": 2,
       "version_minor": 0
      },
      "text/plain": [
       "Sanity Checking: 0it [00:00, ?it/s]"
      ]
     },
     "metadata": {},
     "output_type": "display_data"
    },
    {
     "name": "stdout",
     "output_type": "stream",
     "text": [
      "INFO:root:(('127.0.0.1', 59437)) Evaluated. Losss: 0.14684411883354187, Metric: 0.9221212863922119. (Check tensorboard for more info)\n",
      "INFO:root:(('127.0.0.1', 59437)) Broadcasting metrics to 1 clients.\n"
     ]
    },
    {
     "data": {
      "application/vnd.jupyter.widget-view+json": {
       "model_id": "3286b9db7be74a97803db36710736107",
       "version_major": 2,
       "version_minor": 0
      },
      "text/plain": [
       "Training: 0it [00:00, ?it/s]"
      ]
     },
     "metadata": {},
     "output_type": "display_data"
    },
    {
     "name": "stdout",
     "output_type": "stream",
     "text": [
      "INFO:root:(('127.0.0.1', 59437)) Training...\n",
      "METRICS RECEIVED ('127.0.0.1:59437', 1, 0.14684411883354187, 0.9221212863922119)\n"
     ]
    },
    {
     "name": "stderr",
     "output_type": "stream",
     "text": [
      "GPU available: False, used: False\n",
      "TPU available: False, using: 0 TPU cores\n",
      "IPU available: False, using: 0 IPUs\n",
      "HPU available: False, using: 0 HPUs\n",
      "\n",
      "  | Name   | Type     | Params\n",
      "------------------------------------\n",
      "0 | metric | Accuracy | 0     \n",
      "1 | l1     | Linear   | 100 K \n",
      "2 | l2     | Linear   | 33.0 K\n",
      "3 | l3     | Linear   | 2.6 K \n",
      "------------------------------------\n",
      "136 K     Trainable params\n",
      "0         Non-trainable params\n",
      "136 K     Total params\n",
      "0.544     Total estimated model params size (MB)\n"
     ]
    },
    {
     "data": {
      "application/vnd.jupyter.widget-view+json": {
       "model_id": "",
       "version_major": 2,
       "version_minor": 0
      },
      "text/plain": [
       "Sanity Checking: 0it [00:00, ?it/s]"
      ]
     },
     "metadata": {},
     "output_type": "display_data"
    },
    {
     "data": {
      "application/vnd.jupyter.widget-view+json": {
       "model_id": "8624ac9815aa45f28c48f0e740a8b041",
       "version_major": 2,
       "version_minor": 0
      },
      "text/plain": [
       "Training: 0it [00:00, ?it/s]"
      ]
     },
     "metadata": {},
     "output_type": "display_data"
    },
    {
     "data": {
      "application/vnd.jupyter.widget-view+json": {
       "model_id": "",
       "version_major": 2,
       "version_minor": 0
      },
      "text/plain": [
       "Validation: 0it [00:00, ?it/s]"
      ]
     },
     "metadata": {},
     "output_type": "display_data"
    },
    {
     "data": {
      "application/vnd.jupyter.widget-view+json": {
       "model_id": "",
       "version_major": 2,
       "version_minor": 0
      },
      "text/plain": [
       "Validation: 0it [00:00, ?it/s]"
      ]
     },
     "metadata": {},
     "output_type": "display_data"
    },
    {
     "name": "stdout",
     "output_type": "stream",
     "text": [
      "INFO:root:(127.0.0.1:59437) Model added (1/2) from ('127.0.0.1', 59437)\n",
      "INFO:root:(('127.0.0.1', 59437)) Broadcasting model to 1 clients. (size: 548864 bytes)\n",
      "INFO:root:(127.0.0.1:48601) Model added (1/2) from ('127.0.0.1', 59437)\n"
     ]
    },
    {
     "name": "stderr",
     "output_type": "stream",
     "text": [
      "HPU available: False, using: 0 HPUs\n"
     ]
    },
    {
     "name": "stdout",
     "output_type": "stream",
     "text": [
      "INFO:root:(127.0.0.1:48601) Model added (2/2) from ('127.0.0.1', 48601)\n",
      "INFO:root:(127.0.0.1:48601) Agregating models.\n",
      "INFO:root:(('127.0.0.1', 48601)) Broadcasting model to 1 clients. (size: 548864 bytes)\n",
      "INFO:root:(('127.0.0.1', 48601)) Waiting other nodes.\n",
      "INFO:root:(127.0.0.1:59437) Model added (2/2) from ('127.0.0.1', 48601)\n",
      "INFO:root:(127.0.0.1:59437) Agregating models.\n",
      "INFO:root:(('127.0.0.1', 59437)) Waiting other nodes.\n",
      "INFO:root:(('127.0.0.1', 59437)) Round 2 of 2 finished.\n",
      "INFO:root:(('127.0.0.1', 48601)) Round 2 of 2 finished.\n",
      "INFO:root:(('127.0.0.1', 59437)) Evaluating...\n"
     ]
    },
    {
     "name": "stderr",
     "output_type": "stream",
     "text": [
      "GPU available: False, used: False\n"
     ]
    },
    {
     "name": "stdout",
     "output_type": "stream",
     "text": [
      "INFO:root:(('127.0.0.1', 48601)) Evaluating...\n"
     ]
    },
    {
     "name": "stderr",
     "output_type": "stream",
     "text": [
      "TPU available: False, using: 0 TPU cores\n",
      "GPU available: False, used: False\n",
      "IPU available: False, using: 0 IPUs\n",
      "TPU available: False, using: 0 TPU cores\n",
      "HPU available: False, using: 0 HPUs\n",
      "IPU available: False, using: 0 IPUs\n",
      "HPU available: False, using: 0 HPUs\n"
     ]
    },
    {
     "data": {
      "application/vnd.jupyter.widget-view+json": {
       "model_id": "64a266781ce745d0bec31054935c63e4",
       "version_major": 2,
       "version_minor": 0
      },
      "text/plain": [
       "Testing: 0it [00:00, ?it/s]"
      ]
     },
     "metadata": {},
     "output_type": "display_data"
    },
    {
     "data": {
      "application/vnd.jupyter.widget-view+json": {
       "model_id": "0d34a74670e648c594a709b5cca8aaf4",
       "version_major": 2,
       "version_minor": 0
      },
      "text/plain": [
       "Testing: 0it [00:00, ?it/s]"
      ]
     },
     "metadata": {},
     "output_type": "display_data"
    },
    {
     "name": "stdout",
     "output_type": "stream",
     "text": [
      "INFO:root:(('127.0.0.1', 59437)) Evaluated. Losss: 0.07928825169801712, Metric: 0.953066885471344. (Check tensorboard for more info)\n",
      "INFO:root:(('127.0.0.1', 48601)) Evaluated. Losss: 0.07928825169801712, Metric: 0.9548781514167786. (Check tensorboard for more info)\n",
      "INFO:root:(('127.0.0.1', 59437)) Broadcasting metrics to 1 clients.\n",
      "INFO:root:(('127.0.0.1', 48601)) Broadcasting metrics to 1 clients.\n",
      "METRICS RECEIVED ('127.0.0.1:59437', 2, 0.07928825169801712, 0.953066885471344)\n",
      "INFO:root:(('127.0.0.1', 59437)) Finish!!.\n",
      "METRICS RECEIVED ('127.0.0.1:48601', 2, 0.07928825169801712, 0.9548781514167786)\n",
      "INFO:root:(('127.0.0.1', 48601)) Finish!!.\n",
      "INFO:root:Bajando el nodo, dejando de escuchar en 127.0.0.1 48601 y desconectándose de 1 nodos\n",
      "DEBUG:root:Closed connection: ('127.0.0.1', 48601)\n",
      "DEBUG:root:Closed connection: ('127.0.0.1', 59437)\n",
      "INFO:root:Bajando el nodo, dejando de escuchar en 127.0.0.1 59437 y desconectándose de 0 nodos\n"
     ]
    }
   ],
   "source": [
    "from p2pfl.node import Node\n",
    "from p2pfl.learning.pytorch.mnist_examples.mnistfederated_dm import MnistFederatedDM\n",
    "from p2pfl.learning.pytorch.mnist_examples.models.mlp import MLP\n",
    "from collections import OrderedDict\n",
    "import torch\n",
    "import time\n",
    "\n",
    "def test_convergence(x):\n",
    "    n,r = x\n",
    "\n",
    "    # Node Creation\n",
    "    nodes = []\n",
    "    for i in range(n):\n",
    "        node = Node(MLP(),MnistFederatedDM())\n",
    "        node.start()\n",
    "        nodes.append(node)\n",
    "\n",
    "    # Node Connection\n",
    "    for i in range(len(nodes)-1):\n",
    "        nodes[i+1].connect_to(nodes[i].host,nodes[i].port)\n",
    "        time.sleep(0.1)\n",
    "\n",
    "    # Check if they are connected\n",
    "    for node in nodes:\n",
    "        assert len(node.neightboors) == n-1\n",
    "\n",
    "    # Start Learning\n",
    "    nodes[0].set_start_learning(rounds=r,epochs=1)\n",
    "\n",
    "    # Wait 4 results\n",
    "    while True:\n",
    "        time.sleep(1)\n",
    "        finish = True\n",
    "        for f in [node.round is None for node in nodes]:\n",
    "            finish = finish and f\n",
    "\n",
    "        if finish:\n",
    "            break\n",
    "\n",
    "\n",
    "    # Validamos Modelos obtenidos sean iguales\n",
    "    model = None\n",
    "    first = True\n",
    "    for node in nodes:\n",
    "        if first:\n",
    "            model = node.learner.get_parameters()\n",
    "            first = False\n",
    "        else:\n",
    "            for layer in model:\n",
    "                a = torch.round(model[layer], decimals=2)\n",
    "                b = torch.round(node.learner.get_parameters()[layer], decimals=2)\n",
    "                assert torch.eq(a, b).all()\n",
    "\n",
    "    # Cerrar\n",
    "    for node in nodes:\n",
    "        node.stop()\n",
    "        time.sleep(.1) #Esperar por la asincronía\n",
    "    \n",
    "    return nodes\n",
    "        \n",
    "nodes = test_convergence((2,2))"
   ]
  },
  {
   "cell_type": "code",
   "execution_count": 1,
   "id": "034fde84",
   "metadata": {
    "scrolled": true
   },
   "outputs": [
    {
     "name": "stdout",
     "output_type": "stream",
     "text": [
      "Train: 54000 Val:6000 Test:10000\n",
      "INFO:root:Nodo a la escucha en 127.0.0.1 58369\n",
      "Train: 54000 Val:6000 Test:10000\n",
      "INFO:root:Nodo a la escucha en 127.0.0.1 59757\n",
      "Train: 54000 Val:6000 Test:10000\n",
      "INFO:root:Nodo a la escucha en 127.0.0.1 33029\n",
      "Train: 54000 Val:6000 Test:10000\n",
      "INFO:root:Nodo a la escucha en 127.0.0.1 41593\n",
      "INFO:root:(('127.0.0.1', 58369)) Conexión aceptada con ('127.0.0.1', 59757)\n",
      "INFO:root:(('127.0.0.1', 59757)) Conexión aceptada con ('127.0.0.1', 33029)\n",
      "INFO:root:(('127.0.0.1', 33029)) Conexión aceptada con ('127.0.0.1', 58369)\n",
      "INFO:root:(('127.0.0.1', 33029)) Conexión aceptada con ('127.0.0.1', 41593)\n",
      "INFO:root:(('127.0.0.1', 41593)) Conexión aceptada con ('127.0.0.1', 58369)\n",
      "INFO:root:(('127.0.0.1', 41593)) Conexión aceptada con ('127.0.0.1', 59757)\n",
      "INFO:root:(('127.0.0.1', 58369)) Broadcasting start learning...\n",
      "INFO:root:(('127.0.0.1', 58369)) Sending Initial Model Weights\n",
      "INFO:root:(('127.0.0.1', 58369)) Broadcasting model to 3 clients. (size: 548864 bytes)\n",
      "INFO:root:(('127.0.0.1', 59757)) Broadcasting Number of Samples...\n",
      "INFO:root:(('127.0.0.1', 33029)) Broadcasting Number of Samples...\n",
      "INFO:root:(('127.0.0.1', 41593)) Broadcasting Number of Samples...\n",
      "INFO:root:(('127.0.0.1', 59757)) Initialicing Model Weights\n",
      "INFO:root:(('127.0.0.1', 33029)) Initialicing Model Weights\n",
      "INFO:root:(('127.0.0.1', 41593)) Initialicing Model Weights\n",
      "INFO:root:(('127.0.0.1', 59757)) Model initialized\n",
      "INFO:root:(('127.0.0.1', 33029)) Model initialized\n",
      "INFO:root:(('127.0.0.1', 41593)) Model initialized\n",
      "INFO:root:(('127.0.0.1', 59757)) Stopping learning\n",
      "INFO:root:(('127.0.0.1', 58369)) Broadcasting Number of Samples...\n",
      "INFO:root:Bajando el nodo, dejando de escuchar en 127.0.0.1 59757 y desconectándose de 3 nodos\n",
      "[('127.0.0.1', 33029), ('127.0.0.1', 59757), ('127.0.0.1', 33029)]\n",
      "INFO:root:(('127.0.0.1', 58369)) Evaluating...\n",
      "aun no implementao\n",
      "aun no implementao\n"
     ]
    },
    {
     "name": "stderr",
     "output_type": "stream",
     "text": [
      "GPU available: False, used: False\n"
     ]
    },
    {
     "name": "stdout",
     "output_type": "stream",
     "text": [
      "DEBUG:root:Closed connection: ('127.0.0.1', 59757)\n",
      "aun no implementao\n",
      "DEBUG:root:Closed connection: ('127.0.0.1', 59757)\n"
     ]
    },
    {
     "name": "stderr",
     "output_type": "stream",
     "text": [
      "TPU available: False, using: 0 TPU cores\n",
      "IPU available: False, using: 0 IPUs\n"
     ]
    },
    {
     "name": "stdout",
     "output_type": "stream",
     "text": [
      "DEBUG:root:Closed connection: ('127.0.0.1', 59757)\n"
     ]
    },
    {
     "name": "stderr",
     "output_type": "stream",
     "text": [
      "HPU available: False, using: 0 HPUs\n"
     ]
    },
    {
     "name": "stdout",
     "output_type": "stream",
     "text": [
      "DEBUG:root:Closed connection: ('127.0.0.1', 58369)\n",
      "DEBUG:root:Closed connection: ('127.0.0.1', 33029)\n",
      "DEBUG:root:Closed connection: ('127.0.0.1', 41593)\n"
     ]
    },
    {
     "data": {
      "application/vnd.jupyter.widget-view+json": {
       "model_id": "c0f727979b0b4cb7ba0fb281002d2703",
       "version_major": 2,
       "version_minor": 0
      },
      "text/plain": [
       "Testing: 0it [00:00, ?it/s]"
      ]
     },
     "metadata": {},
     "output_type": "display_data"
    },
    {
     "name": "stdout",
     "output_type": "stream",
     "text": [
      "[('127.0.0.1', 41593), ('127.0.0.1', 41593), ('127.0.0.1', 58369)][('127.0.0.1', 33029), ('127.0.0.1', 33029), ('127.0.0.1', 33029)]\n",
      "INFO:root:(('127.0.0.1', 41593)) Evaluating...\n",
      "aun no implementao\n",
      "aun no implementao\n",
      "\n",
      "aun no implementao\n",
      "aun no implementao\n",
      "INFO:root:(('127.0.0.1', 33029)) Evaluating...\n"
     ]
    },
    {
     "name": "stderr",
     "output_type": "stream",
     "text": [
      "GPU available: False, used: False\n",
      "TPU available: False, using: 0 TPU cores\n",
      "IPU available: False, using: 0 IPUs\n",
      "HPU available: False, using: 0 HPUs\n",
      "GPU available: False, used: False\n",
      "TPU available: False, using: 0 TPU cores\n",
      "IPU available: False, using: 0 IPUs\n",
      "HPU available: False, using: 0 HPUs\n"
     ]
    },
    {
     "data": {
      "application/vnd.jupyter.widget-view+json": {
       "model_id": "b2541d0357c8456882b8c09ee263e825",
       "version_major": 2,
       "version_minor": 0
      },
      "text/plain": [
       "Testing: 0it [00:00, ?it/s]"
      ]
     },
     "metadata": {},
     "output_type": "display_data"
    },
    {
     "data": {
      "application/vnd.jupyter.widget-view+json": {
       "model_id": "a4bcae87459c4d6ba5074bbdd9289907",
       "version_major": 2,
       "version_minor": 0
      },
      "text/plain": [
       "Testing: 0it [00:00, ?it/s]"
      ]
     },
     "metadata": {},
     "output_type": "display_data"
    },
    {
     "name": "stderr",
     "output_type": "stream",
     "text": [
      "/home/pedro/.local/share/virtualenvs/federated_learning_p2p-ODhT9q3L/lib/python3.9/site-packages/torchmetrics/utilities/prints.py:36: UserWarning: The ``compute`` method of metric Accuracy was called before the ``update`` method which may lead to errors, as metric states have not yet been updated.\n",
      "  warnings.warn(*args, **kwargs)\n"
     ]
    },
    {
     "name": "stdout",
     "output_type": "stream",
     "text": [
      "INFO:root:(('127.0.0.1', 41593)) Evaluated. Losss: 2.301456928253174, Metric: 0.16008031368255615. (Check tensorboard for more info)\n",
      "INFO:root:(('127.0.0.1', 41593)) Broadcasting metrics to 2 clients.\n",
      "INFO:root:(('127.0.0.1', 33029)) Evaluated. Losss: 2.301456928253174, Metric: 0.16775915026664734. (Check tensorboard for more info)\n",
      "METRICS RECEIVED ('127.0.0.1:41593', 0, 2.301456928253174, 0.16008031368255615)\n",
      "INFO:root:(('127.0.0.1', 33029)) Broadcasting metrics to 2 clients.\n",
      "METRICS RECEIVED ('127.0.0.1:41593', 0, 2.301456928253174, 0.16008031368255615)\n",
      "INFO:root:(('127.0.0.1', 41593)) Training...\n",
      "METRICS RECEIVED ('127.0.0.1:33029', 0, 2.301456928253174, 0.16775915026664734)\n",
      "METRICS RECEIVED ('127.0.0.1:33029', 0, 2.301456928253174, 0.16775915026664734)\n",
      "INFO:root:(('127.0.0.1', 33029)) Training...\n",
      "INFO:root:(('127.0.0.1', 58369)) Evaluated. Losss: 2.301456928253174, Metric: 0.17644193768501282. (Check tensorboard for more info)\n",
      "INFO:root:(127.0.0.1:41593) Model added (1/3) from ('127.0.0.1', 41593)\n",
      "INFO:root:(127.0.0.1:33029) Model added (1/3) from ('127.0.0.1', 33029)\n",
      "INFO:root:(('127.0.0.1', 58369)) Broadcasting metrics to 2 clients.\n",
      "INFO:root:(('127.0.0.1', 41593)) Broadcasting model to 2 clients. (size: 548864 bytes)\n",
      "METRICS RECEIVED ('127.0.0.1:58369', 0, 2.301456928253174, 0.17644193768501282)\n",
      "METRICS RECEIVED ('127.0.0.1:58369', 0, 2.301456928253174, 0.17644193768501282)\n",
      "INFO:root:(('127.0.0.1', 58369)) Training...\n",
      "INFO:root:(('127.0.0.1', 33029)) Broadcasting model to 2 clients. (size: 548864 bytes)\n",
      "INFO:root:(127.0.0.1:58369) Model added (1/3) from ('127.0.0.1', 58369)\n",
      "INFO:root:(('127.0.0.1', 58369)) Broadcasting model to 2 clients. (size: 548864 bytes)\n",
      "INFO:root:(127.0.0.1:33029) Model added (2/3) from ('127.0.0.1', 41593)\n",
      "INFO:root:(127.0.0.1:58369) Model added (2/3) from ('127.0.0.1', 41593)\n",
      "INFO:root:(127.0.0.1:58369) Model added (3/3) from ('127.0.0.1', 33029)\n",
      "INFO:root:(127.0.0.1:58369) Agregating models.\n",
      "INFO:root:(127.0.0.1:41593) Model added (2/3) from ('127.0.0.1', 33029)\n",
      "INFO:root:(127.0.0.1:33029) Model added (3/3) from ('127.0.0.1', 58369)\n",
      "INFO:root:(127.0.0.1:33029) Agregating models.\n",
      "INFO:root:(127.0.0.1:41593) Model added (3/3) from ('127.0.0.1', 58369)\n",
      "INFO:root:(127.0.0.1:41593) Agregating models.\n",
      "INFO:root:(('127.0.0.1', 58369)) Waiting other nodes.\n",
      "INFO:root:(('127.0.0.1', 33029)) Waiting other nodes.\n",
      "INFO:root:(('127.0.0.1', 41593)) Waiting other nodes.\n",
      "INFO:root:(('127.0.0.1', 33029)) Round 1 of 2 finished.\n",
      "[('127.0.0.1', 58369), ('127.0.0.1', 41593), ('127.0.0.1', 58369)]\n",
      "INFO:root:(('127.0.0.1', 58369)) Round 1 of 2 finished.\n",
      "aun no implementao\n",
      "aun no implementao\n",
      "[('127.0.0.1', 33029), ('127.0.0.1', 41593), ('127.0.0.1', 41593)]\n",
      "INFO:root:(('127.0.0.1', 41593)) Round 1 of 2 finished.\n",
      "aun no implementao\n",
      "aun no implementao\n",
      "[('127.0.0.1', 33029), ('127.0.0.1', 33029), ('127.0.0.1', 33029)]\n",
      "INFO:root:(('127.0.0.1', 41593)) Evaluating...\n",
      "aun no implementao\n"
     ]
    },
    {
     "name": "stderr",
     "output_type": "stream",
     "text": [
      "GPU available: False, used: False\n"
     ]
    },
    {
     "name": "stdout",
     "output_type": "stream",
     "text": [
      "INFO:root:(('127.0.0.1', 58369)) Evaluating...\n",
      "aun no implementao\n",
      "INFO:root:(('127.0.0.1', 33029)) Evaluating...\n"
     ]
    },
    {
     "name": "stderr",
     "output_type": "stream",
     "text": [
      "TPU available: False, using: 0 TPU cores\n",
      "GPU available: False, used: False\n",
      "GPU available: False, used: False\n",
      "TPU available: False, using: 0 TPU cores\n",
      "TPU available: False, using: 0 TPU cores\n",
      "IPU available: False, using: 0 IPUs\n",
      "IPU available: False, using: 0 IPUs\n",
      "IPU available: False, using: 0 IPUs\n",
      "HPU available: False, using: 0 HPUs\n",
      "HPU available: False, using: 0 HPUs\n",
      "HPU available: False, using: 0 HPUs\n"
     ]
    },
    {
     "data": {
      "application/vnd.jupyter.widget-view+json": {
       "model_id": "55898bea8c1641c3961f321bd485e514",
       "version_major": 2,
       "version_minor": 0
      },
      "text/plain": [
       "Testing: 0it [00:00, ?it/s]"
      ]
     },
     "metadata": {},
     "output_type": "display_data"
    },
    {
     "data": {
      "application/vnd.jupyter.widget-view+json": {
       "model_id": "4fc8cf124f6e4ddf89e2e2276b9a7023",
       "version_major": 2,
       "version_minor": 0
      },
      "text/plain": [
       "Testing: 0it [00:00, ?it/s]"
      ]
     },
     "metadata": {},
     "output_type": "display_data"
    },
    {
     "data": {
      "application/vnd.jupyter.widget-view+json": {
       "model_id": "8b3efab207454f6d887d61a60f534281",
       "version_major": 2,
       "version_minor": 0
      },
      "text/plain": [
       "Testing: 0it [00:00, ?it/s]"
      ]
     },
     "metadata": {},
     "output_type": "display_data"
    },
    {
     "name": "stdout",
     "output_type": "stream",
     "text": [
      "INFO:root:(('127.0.0.1', 58369)) Evaluated. Losss: 2.301456928253174, Metric: 0.1232050433754921. (Check tensorboard for more info)\n",
      "INFO:root:(('127.0.0.1', 58369)) Broadcasting metrics to 2 clients.\n",
      "INFO:root:(('127.0.0.1', 58369)) Training...\n",
      "METRICS RECEIVED ('127.0.0.1:58369', 1, 2.301456928253174, 0.1232050433754921)\n",
      "METRICS RECEIVED ('127.0.0.1:58369', 1, 2.301456928253174, 0.1232050433754921)\n",
      "INFO:root:(127.0.0.1:58369) Model added (1/3) from ('127.0.0.1', 58369)\n",
      "INFO:root:(('127.0.0.1', 58369)) Broadcasting model to 2 clients. (size: 548864 bytes)\n",
      "INFO:root:(127.0.0.1:41593) Model added (1/3) from ('127.0.0.1', 58369)\n",
      "INFO:root:(127.0.0.1:33029) Model added (1/3) from ('127.0.0.1', 58369)\n",
      "INFO:root:(('127.0.0.1', 41593)) Evaluated. Losss: 2.301456928253174, Metric: 0.12196329236030579. (Check tensorboard for more info)\n",
      "INFO:root:(('127.0.0.1', 41593)) Broadcasting metrics to 2 clients.\n",
      "INFO:root:(('127.0.0.1', 33029)) Evaluated. Losss: 2.301456928253174, Metric: 0.13315024971961975. (Check tensorboard for more info)\n",
      "METRICS RECEIVED ('127.0.0.1:41593', 1, 2.301456928253174, 0.12196329236030579)\n",
      "METRICS RECEIVED ('127.0.0.1:41593', 1, 2.301456928253174, 0.12196329236030579)\n",
      "INFO:root:(('127.0.0.1', 41593)) Training...\n",
      "INFO:root:(('127.0.0.1', 33029)) Broadcasting metrics to 2 clients.\n",
      "INFO:root:(127.0.0.1:41593) Model added (2/3) from ('127.0.0.1', 41593)\n",
      "METRICS RECEIVED ('127.0.0.1:33029', 1, 2.301456928253174, 0.13315024971961975)METRICS RECEIVED ('127.0.0.1:33029', 1, 2.301456928253174, 0.13315024971961975)\n",
      "INFO:root:(('127.0.0.1', 33029)) Training...\n",
      "\n",
      "INFO:root:(('127.0.0.1', 41593)) Broadcasting model to 2 clients. (size: 548864 bytes)\n",
      "INFO:root:(127.0.0.1:33029) Model added (2/3) from ('127.0.0.1', 33029)\n",
      "INFO:root:(('127.0.0.1', 33029)) Broadcasting model to 2 clients. (size: 548864 bytes)\n",
      "INFO:root:(127.0.0.1:58369) Model added (2/3) from ('127.0.0.1', 33029)\n",
      "INFO:root:(127.0.0.1:58369) Model added (3/3) from ('127.0.0.1', 41593)\n",
      "INFO:root:(127.0.0.1:58369) Agregating models.\n",
      "INFO:root:(127.0.0.1:33029) Model added (3/3) from ('127.0.0.1', 41593)\n",
      "INFO:root:(127.0.0.1:41593) Model added (3/3) from ('127.0.0.1', 33029)\n",
      "INFO:root:(127.0.0.1:33029) Agregating models.\n",
      "INFO:root:(127.0.0.1:41593) Agregating models.\n",
      "INFO:root:(('127.0.0.1', 33029)) Waiting other nodes.\n",
      "INFO:root:(('127.0.0.1', 58369)) Waiting other nodes.\n",
      "INFO:root:(('127.0.0.1', 33029)) Round 2 of 2 finished.\n",
      "INFO:root:(('127.0.0.1', 41593)) Waiting other nodes.\n",
      "INFO:root:(('127.0.0.1', 41593)) Round 2 of 2 finished.\n",
      "INFO:root:(('127.0.0.1', 58369)) Round 2 of 2 finished.\n",
      "INFO:root:(('127.0.0.1', 33029)) Evaluating...\n"
     ]
    },
    {
     "name": "stderr",
     "output_type": "stream",
     "text": [
      "GPU available: False, used: False\n"
     ]
    },
    {
     "name": "stdout",
     "output_type": "stream",
     "text": [
      "INFO:root:(('127.0.0.1', 41593)) Evaluating...\n",
      "INFO:root:(('127.0.0.1', 58369)) Evaluating...\n"
     ]
    },
    {
     "name": "stderr",
     "output_type": "stream",
     "text": [
      "GPU available: False, used: False\n",
      "TPU available: False, using: 0 TPU cores\n",
      "GPU available: False, used: False\n",
      "TPU available: False, using: 0 TPU cores\n",
      "IPU available: False, using: 0 IPUs\n",
      "TPU available: False, using: 0 TPU cores\n",
      "IPU available: False, using: 0 IPUs\n",
      "HPU available: False, using: 0 HPUs\n",
      "IPU available: False, using: 0 IPUs\n",
      "HPU available: False, using: 0 HPUs\n",
      "HPU available: False, using: 0 HPUs\n"
     ]
    },
    {
     "data": {
      "application/vnd.jupyter.widget-view+json": {
       "model_id": "eaa34e6036004490b7ccecd5e97c60f7",
       "version_major": 2,
       "version_minor": 0
      },
      "text/plain": [
       "Testing: 0it [00:00, ?it/s]"
      ]
     },
     "metadata": {},
     "output_type": "display_data"
    },
    {
     "data": {
      "application/vnd.jupyter.widget-view+json": {
       "model_id": "80b64ffd9f62430c933d4b993f38c0a9",
       "version_major": 2,
       "version_minor": 0
      },
      "text/plain": [
       "Testing: 0it [00:00, ?it/s]"
      ]
     },
     "metadata": {},
     "output_type": "display_data"
    },
    {
     "data": {
      "application/vnd.jupyter.widget-view+json": {
       "model_id": "e523004076ce41cfa74dbd8c67834dd0",
       "version_major": 2,
       "version_minor": 0
      },
      "text/plain": [
       "Testing: 0it [00:00, ?it/s]"
      ]
     },
     "metadata": {},
     "output_type": "display_data"
    },
    {
     "name": "stdout",
     "output_type": "stream",
     "text": [
      "INFO:root:(('127.0.0.1', 41593)) Evaluated. Losss: 2.301456928253174, Metric: 0.1290014237165451. (Check tensorboard for more info)\n",
      "INFO:root:(('127.0.0.1', 41593)) Broadcasting metrics to 2 clients.\n",
      "INFO:root:(('127.0.0.1', 41593)) Finish!!.\n",
      "METRICS RECEIVED ('127.0.0.1:41593', 2, 2.301456928253174, 0.1290014237165451)\n",
      "METRICS RECEIVED ('127.0.0.1:41593', 2, 2.301456928253174, 0.1290014237165451)\n",
      "INFO:root:(('127.0.0.1', 58369)) Evaluated. Losss: 2.301456928253174, Metric: 0.12670005857944489. (Check tensorboard for more info)\n",
      "INFO:root:(('127.0.0.1', 58369)) Broadcasting metrics to 2 clients.\n",
      "METRICS RECEIVED ('127.0.0.1:58369', 2, 2.301456928253174, 0.12670005857944489)INFO:root:(('127.0.0.1', 58369)) Finish!!.\n",
      "METRICS RECEIVED ('127.0.0.1:58369', 2, 2.301456928253174, 0.12670005857944489)\n",
      "\n",
      "INFO:root:(('127.0.0.1', 33029)) Evaluated. Losss: 2.301456928253174, Metric: 0.13405504822731018. (Check tensorboard for more info)\n",
      "INFO:root:(('127.0.0.1', 33029)) Broadcasting metrics to 2 clients.\n",
      "METRICS RECEIVED ('127.0.0.1:33029', 2, 2.301456928253174, 0.13405504822731018)\n",
      "INFO:root:(('127.0.0.1', 33029)) Finish!!.\n",
      "METRICS RECEIVED ('127.0.0.1:33029', 2, 2.301456928253174, 0.13405504822731018)\n",
      "INFO:root:Bajando el nodo, dejando de escuchar en 127.0.0.1 58369 y desconectándose de 2 nodos\n",
      "INFO:root:Bajando el nodo, dejando de escuchar en 127.0.0.1 33029 y desconectándose de 2 nodos\n",
      "DEBUG:root:Closed connection: ('127.0.0.1', 58369)\n",
      "DEBUG:root:Closed connection: ('127.0.0.1', 58369)\n",
      "INFO:root:Bajando el nodo, dejando de escuchar en 127.0.0.1 41593 y desconectándose de 2 nodos\n",
      "DEBUG:root:Closed connection: ('127.0.0.1', 33029)\n",
      "DEBUG:root:Closed connection: ('127.0.0.1', 33029)\n",
      "DEBUG:root:Closed connection: ('127.0.0.1', 41593)\n",
      "DEBUG:root:Closed connection: ('127.0.0.1', 41593)\n",
      "Train: 54000 Val:6000 Test:10000\n",
      "INFO:root:Nodo a la escucha en 127.0.0.1 35483\n",
      "Train: 54000 Val:6000 Test:10000\n",
      "INFO:root:Nodo a la escucha en 127.0.0.1 56225\n",
      "Train: 54000 Val:6000 Test:10000\n",
      "INFO:root:Nodo a la escucha en 127.0.0.1 38687\n",
      "Train: 54000 Val:6000 Test:10000\n",
      "INFO:root:Nodo a la escucha en 127.0.0.1 33349\n",
      "INFO:root:(('127.0.0.1', 35483)) Conexión aceptada con ('127.0.0.1', 56225)\n",
      "INFO:root:(('127.0.0.1', 56225)) Conexión aceptada con ('127.0.0.1', 38687)\n",
      "INFO:root:(('127.0.0.1', 38687)) Conexión aceptada con ('127.0.0.1', 35483)\n",
      "INFO:root:(('127.0.0.1', 38687)) Conexión aceptada con ('127.0.0.1', 33349)\n",
      "INFO:root:(('127.0.0.1', 33349)) Conexión aceptada con ('127.0.0.1', 56225)\n",
      "INFO:root:(('127.0.0.1', 33349)) Conexión aceptada con ('127.0.0.1', 35483)\n",
      "INFO:root:(('127.0.0.1', 35483)) Broadcasting start learning...\n",
      "INFO:root:(('127.0.0.1', 35483)) Sending Initial Model Weights\n",
      "INFO:root:(('127.0.0.1', 35483)) Broadcasting model to 3 clients. (size: 548864 bytes)\n",
      "INFO:root:(('127.0.0.1', 56225)) Stopping learning\n",
      "INFO:root:Bajando el nodo, dejando de escuchar en 127.0.0.1 56225 y desconectándose de 3 nodos\n",
      "INFO:root:(('127.0.0.1', 38687)) Model initialized\n",
      "INFO:root:(('127.0.0.1', 38687)) Broadcasting Number of Samples...\n",
      "[('127.0.0.1', 33349), ('127.0.0.1', 35483), ('127.0.0.1', 33349)]\n",
      "INFO:root:(('127.0.0.1', 33349)) Broadcasting Number of Samples...\n",
      "INFO:root:(('127.0.0.1', 56225)) Broadcasting Number of Samples...\n",
      "[('127.0.0.1', 38687), ('127.0.0.1', 56225), ('127.0.0.1', 35483)]\n",
      "aun no implementao\n",
      "aun no implementao\n",
      "INFO:root:(('127.0.0.1', 56225)) Initialicing Model Weights\n",
      "DEBUG:root:Closed connection: ('127.0.0.1', 56225)\n",
      "DEBUG:root:Closed connection: ('127.0.0.1', 56225)\n",
      "INFO:root:(('127.0.0.1', 38687)) Evaluating...\n",
      "DEBUG:root:Closed connection: ('127.0.0.1', 33349)\n"
     ]
    },
    {
     "name": "stderr",
     "output_type": "stream",
     "text": [
      "GPU available: False, used: False\n"
     ]
    },
    {
     "name": "stdout",
     "output_type": "stream",
     "text": [
      "INFO:root:(('127.0.0.1', 33349)) Model initialized\n"
     ]
    },
    {
     "name": "stderr",
     "output_type": "stream",
     "text": [
      "TPU available: False, using: 0 TPU cores\n",
      "IPU available: False, using: 0 IPUs\n"
     ]
    },
    {
     "name": "stdout",
     "output_type": "stream",
     "text": [
      "INFO:root:(('127.0.0.1', 33349)) Evaluating...\n"
     ]
    },
    {
     "name": "stderr",
     "output_type": "stream",
     "text": [
      "HPU available: False, using: 0 HPUs\n"
     ]
    },
    {
     "name": "stdout",
     "output_type": "stream",
     "text": [
      "DEBUG:root:Closed connection: ('127.0.0.1', 56225)\n"
     ]
    },
    {
     "name": "stderr",
     "output_type": "stream",
     "text": [
      "GPU available: False, used: False\n"
     ]
    },
    {
     "name": "stdout",
     "output_type": "stream",
     "text": [
      "DEBUG:root:Closed connection: ('127.0.0.1', 35483)\n",
      "INFO:root:(('127.0.0.1', 35483)) Broadcasting Number of Samples...\n",
      "DEBUG:root:Closed connection: ('127.0.0.1', 38687)\n",
      "[('127.0.0.1', 38687), ('127.0.0.1', 38687), ('127.0.0.1', 33349)]\n",
      "aun no implementao\n",
      "aun no implementao\n",
      "INFO:root:(('127.0.0.1', 35483)) Evaluating...\n"
     ]
    },
    {
     "data": {
      "application/vnd.jupyter.widget-view+json": {
       "model_id": "a5abe1eb67494738bbd476ed322199b4",
       "version_major": 2,
       "version_minor": 0
      },
      "text/plain": [
       "Testing: 0it [00:00, ?it/s]"
      ]
     },
     "metadata": {},
     "output_type": "display_data"
    },
    {
     "name": "stderr",
     "output_type": "stream",
     "text": [
      "TPU available: False, using: 0 TPU cores\n",
      "IPU available: False, using: 0 IPUs\n",
      "HPU available: False, using: 0 HPUs\n",
      "GPU available: False, used: False\n",
      "TPU available: False, using: 0 TPU cores\n",
      "IPU available: False, using: 0 IPUs\n",
      "HPU available: False, using: 0 HPUs\n"
     ]
    },
    {
     "data": {
      "application/vnd.jupyter.widget-view+json": {
       "model_id": "e3ac4e2f9309432faa537219ce6c2850",
       "version_major": 2,
       "version_minor": 0
      },
      "text/plain": [
       "Testing: 0it [00:00, ?it/s]"
      ]
     },
     "metadata": {},
     "output_type": "display_data"
    },
    {
     "data": {
      "application/vnd.jupyter.widget-view+json": {
       "model_id": "95190384b8254f8d8949e02abe0e8eec",
       "version_major": 2,
       "version_minor": 0
      },
      "text/plain": [
       "Testing: 0it [00:00, ?it/s]"
      ]
     },
     "metadata": {},
     "output_type": "display_data"
    },
    {
     "name": "stdout",
     "output_type": "stream",
     "text": [
      "INFO:root:(('127.0.0.1', 33349)) Evaluated. Losss: 2.301456928253174, Metric: 0.12590447068214417. (Check tensorboard for more info)\n",
      "INFO:root:(('127.0.0.1', 33349)) Broadcasting metrics to 2 clients.\n",
      "INFO:root:(('127.0.0.1', 35483)) Evaluated. Losss: 2.301456928253174, Metric: 0.12804704904556274. (Check tensorboard for more info)\n",
      "METRICS RECEIVED ('127.0.0.1:33349', 0, 2.301456928253174, 0.12590447068214417)\n",
      "METRICS RECEIVED ('127.0.0.1:33349', 0, 2.301456928253174, 0.12590447068214417)\n",
      "INFO:root:(('127.0.0.1', 35483)) Broadcasting metrics to 2 clients.\n",
      "INFO:root:(('127.0.0.1', 33349)) Training...\n",
      "METRICS RECEIVED ('127.0.0.1:35483', 0, 2.301456928253174, 0.12804704904556274)\n",
      "METRICS RECEIVED ('127.0.0.1:35483', 0, 2.301456928253174, 0.12804704904556274)INFO:root:(('127.0.0.1', 35483)) Training...\n",
      "\n",
      "INFO:root:(127.0.0.1:33349) Model added (1/3) from ('127.0.0.1', 33349)\n",
      "INFO:root:(127.0.0.1:35483) Model added (1/3) from ('127.0.0.1', 35483)\n",
      "INFO:root:(('127.0.0.1', 33349)) Broadcasting model to 2 clients. (size: 548864 bytes)\n",
      "INFO:root:(('127.0.0.1', 35483)) Broadcasting model to 2 clients. (size: 548864 bytes)\n",
      "INFO:root:(127.0.0.1:38687) Model added (1/3) from ('127.0.0.1', 35483)\n",
      "INFO:root:(127.0.0.1:33349) Model added (2/3) from ('127.0.0.1', 35483)\n",
      "INFO:root:(127.0.0.1:38687) Model added (2/3) from ('127.0.0.1', 33349)\n",
      "INFO:root:(127.0.0.1:35483) Model added (2/3) from ('127.0.0.1', 33349)\n",
      "INFO:root:(('127.0.0.1', 38687)) Evaluated. Losss: 2.301456928253174, Metric: 0.14313222467899323. (Check tensorboard for more info)\n",
      "INFO:root:(('127.0.0.1', 38687)) Broadcasting metrics to 2 clients.\n",
      "METRICS RECEIVED ('127.0.0.1:38687', 0, 2.301456928253174, 0.14313222467899323)\n",
      "INFO:root:(('127.0.0.1', 38687)) Training...\n",
      "METRICS RECEIVED ('127.0.0.1:38687', 0, 2.301456928253174, 0.14313222467899323)\n",
      "INFO:root:(127.0.0.1:38687) Model added (3/3) from ('127.0.0.1', 38687)\n",
      "INFO:root:(127.0.0.1:38687) Agregating models.\n",
      "INFO:root:(('127.0.0.1', 38687)) Broadcasting model to 2 clients. (size: 548864 bytes)\n",
      "INFO:root:(('127.0.0.1', 38687)) Waiting other nodes.\n",
      "INFO:root:(127.0.0.1:33349) Model added (3/3) from ('127.0.0.1', 38687)\n",
      "INFO:root:(127.0.0.1:33349) Agregating models.\n",
      "INFO:root:(127.0.0.1:35483) Model added (3/3) from ('127.0.0.1', 38687)\n",
      "INFO:root:(127.0.0.1:35483) Agregating models.\n",
      "INFO:root:(('127.0.0.1', 33349)) Waiting other nodes.\n",
      "INFO:root:(('127.0.0.1', 35483)) Waiting other nodes.\n",
      "INFO:root:(('127.0.0.1', 38687)) Round 1 of 2 finished.\n",
      "[('127.0.0.1', 33349), ('127.0.0.1', 33349), ('127.0.0.1', 33349)]\n",
      "INFO:root:(('127.0.0.1', 33349)) Round 1 of 2 finished.\n",
      "aun no implementao\n",
      "aun no implementao\n",
      "[('127.0.0.1', 35483), ('127.0.0.1', 35483), ('127.0.0.1', 35483)]\n",
      "INFO:root:(('127.0.0.1', 35483)) Round 1 of 2 finished.\n",
      "aun no implementaoaun no implementao\n",
      "\n",
      "[('127.0.0.1', 38687), ('127.0.0.1', 33349), ('127.0.0.1', 38687)]\n",
      "INFO:root:(('127.0.0.1', 38687)) Evaluating...\n",
      "aun no implementao\n",
      "aun no implementao\n",
      "INFO:root:(('127.0.0.1', 33349)) Evaluating...\n"
     ]
    },
    {
     "name": "stderr",
     "output_type": "stream",
     "text": [
      "GPU available: False, used: False\n"
     ]
    },
    {
     "name": "stdout",
     "output_type": "stream",
     "text": [
      "INFO:root:(('127.0.0.1', 35483)) Evaluating...\n"
     ]
    },
    {
     "name": "stderr",
     "output_type": "stream",
     "text": [
      "GPU available: False, used: False\n",
      "TPU available: False, using: 0 TPU cores\n",
      "GPU available: False, used: False\n",
      "TPU available: False, using: 0 TPU cores\n",
      "IPU available: False, using: 0 IPUs\n",
      "TPU available: False, using: 0 TPU cores\n",
      "IPU available: False, using: 0 IPUs\n",
      "HPU available: False, using: 0 HPUs\n",
      "IPU available: False, using: 0 IPUs\n",
      "HPU available: False, using: 0 HPUs\n",
      "HPU available: False, using: 0 HPUs\n"
     ]
    },
    {
     "data": {
      "application/vnd.jupyter.widget-view+json": {
       "model_id": "6085e8b5ef3a42faa98db2d49d9f95ce",
       "version_major": 2,
       "version_minor": 0
      },
      "text/plain": [
       "Testing: 0it [00:00, ?it/s]"
      ]
     },
     "metadata": {},
     "output_type": "display_data"
    },
    {
     "data": {
      "application/vnd.jupyter.widget-view+json": {
       "model_id": "00e3f00bcfaa4cd6a1cbb3619eaf91fb",
       "version_major": 2,
       "version_minor": 0
      },
      "text/plain": [
       "Testing: 0it [00:00, ?it/s]"
      ]
     },
     "metadata": {},
     "output_type": "display_data"
    },
    {
     "data": {
      "application/vnd.jupyter.widget-view+json": {
       "model_id": "e59dcfa7aff846bd9c53eaa6c23fc97b",
       "version_major": 2,
       "version_minor": 0
      },
      "text/plain": [
       "Testing: 0it [00:00, ?it/s]"
      ]
     },
     "metadata": {},
     "output_type": "display_data"
    },
    {
     "name": "stdout",
     "output_type": "stream",
     "text": [
      "INFO:root:(('127.0.0.1', 33349)) Evaluated. Losss: 2.301456928253174, Metric: 0.13751204311847687. (Check tensorboard for more info)\n",
      "INFO:root:(('127.0.0.1', 33349)) Broadcasting metrics to 2 clients.\n",
      "METRICS RECEIVED ('127.0.0.1:33349', 1, 2.301456928253174, 0.13751204311847687)INFO:root:(('127.0.0.1', 33349)) Training...\n",
      "\n",
      "METRICS RECEIVED ('127.0.0.1:33349', 1, 2.301456928253174, 0.13751204311847687)\n",
      "INFO:root:(127.0.0.1:33349) Model added (1/3) from ('127.0.0.1', 33349)\n",
      "INFO:root:(('127.0.0.1', 33349)) Broadcasting model to 2 clients. (size: 548864 bytes)\n",
      "INFO:root:(('127.0.0.1', 35483)) Evaluated. Losss: 2.301456928253174, Metric: 0.1470353603363037. (Check tensorboard for more info)\n",
      "INFO:root:(('127.0.0.1', 38687)) Evaluated. Losss: 2.301456928253174, Metric: 0.15308703482151031. (Check tensorboard for more info)\n",
      "INFO:root:(('127.0.0.1', 35483)) Broadcasting metrics to 2 clients.\n",
      "INFO:root:(('127.0.0.1', 38687)) Broadcasting metrics to 2 clients.\n",
      "METRICS RECEIVED ('127.0.0.1:35483', 1, 2.301456928253174, 0.1470353603363037)\n",
      "METRICS RECEIVED ('127.0.0.1:35483', 1, 2.301456928253174, 0.1470353603363037)\n",
      "INFO:root:(('127.0.0.1', 35483)) Training...\n",
      "METRICS RECEIVED ('127.0.0.1:38687', 1, 2.301456928253174, 0.15308703482151031)\n",
      "METRICS RECEIVED ('127.0.0.1:38687', 1, 2.301456928253174, 0.15308703482151031)\n",
      "INFO:root:(127.0.0.1:38687) Model added (1/3) from ('127.0.0.1', 33349)\n",
      "INFO:root:(127.0.0.1:35483) Model added (1/3) from ('127.0.0.1', 33349)\n",
      "INFO:root:(('127.0.0.1', 38687)) Training...\n",
      "INFO:root:(127.0.0.1:35483) Model added (2/3) from ('127.0.0.1', 35483)\n",
      "INFO:root:(127.0.0.1:38687) Model added (2/3) from ('127.0.0.1', 38687)\n",
      "INFO:root:(('127.0.0.1', 35483)) Broadcasting model to 2 clients. (size: 548864 bytes)\n",
      "INFO:root:(('127.0.0.1', 38687)) Broadcasting model to 2 clients. (size: 548864 bytes)\n",
      "INFO:root:(127.0.0.1:38687) Model added (3/3) from ('127.0.0.1', 35483)\n",
      "INFO:root:(127.0.0.1:33349) Model added (2/3) from ('127.0.0.1', 35483)\n",
      "INFO:root:(127.0.0.1:38687) Agregating models.\n",
      "INFO:root:(127.0.0.1:35483) Model added (3/3) from ('127.0.0.1', 38687)\n",
      "INFO:root:(127.0.0.1:33349) Model added (3/3) from ('127.0.0.1', 38687)\n",
      "INFO:root:(127.0.0.1:33349) Agregating models.\n",
      "INFO:root:(127.0.0.1:35483) Agregating models.\n",
      "INFO:root:(('127.0.0.1', 33349)) Waiting other nodes.\n",
      "INFO:root:(('127.0.0.1', 38687)) Waiting other nodes.\n",
      "INFO:root:(('127.0.0.1', 35483)) Waiting other nodes.\n",
      "INFO:root:(('127.0.0.1', 35483)) Round 2 of 2 finished.\n",
      "INFO:root:(('127.0.0.1', 35483)) Evaluating...\n"
     ]
    },
    {
     "name": "stderr",
     "output_type": "stream",
     "text": [
      "GPU available: False, used: False\n"
     ]
    },
    {
     "name": "stdout",
     "output_type": "stream",
     "text": [
      "INFO:root:(('127.0.0.1', 38687)) Round 2 of 2 finished.\n",
      "INFO:root:(('127.0.0.1', 38687)) Evaluating...\n"
     ]
    },
    {
     "name": "stderr",
     "output_type": "stream",
     "text": [
      "TPU available: False, using: 0 TPU cores\n"
     ]
    },
    {
     "name": "stdout",
     "output_type": "stream",
     "text": [
      "INFO:root:(('127.0.0.1', 33349)) Round 2 of 2 finished.\n",
      "INFO:root:(('127.0.0.1', 33349)) Evaluating...\n"
     ]
    },
    {
     "name": "stderr",
     "output_type": "stream",
     "text": [
      "IPU available: False, using: 0 IPUs\n",
      "GPU available: False, used: False\n",
      "TPU available: False, using: 0 TPU cores\n",
      "HPU available: False, using: 0 HPUs\n",
      "GPU available: False, used: False\n",
      "IPU available: False, using: 0 IPUs\n",
      "HPU available: False, using: 0 HPUs\n",
      "TPU available: False, using: 0 TPU cores\n",
      "IPU available: False, using: 0 IPUs\n",
      "HPU available: False, using: 0 HPUs\n"
     ]
    },
    {
     "data": {
      "application/vnd.jupyter.widget-view+json": {
       "model_id": "be6b6b498ce64892b7e27003186f3a6f",
       "version_major": 2,
       "version_minor": 0
      },
      "text/plain": [
       "Testing: 0it [00:00, ?it/s]"
      ]
     },
     "metadata": {},
     "output_type": "display_data"
    },
    {
     "data": {
      "application/vnd.jupyter.widget-view+json": {
       "model_id": "572b14701f2b422caa7ae9670fb9c592",
       "version_major": 2,
       "version_minor": 0
      },
      "text/plain": [
       "Testing: 0it [00:00, ?it/s]"
      ]
     },
     "metadata": {},
     "output_type": "display_data"
    },
    {
     "data": {
      "application/vnd.jupyter.widget-view+json": {
       "model_id": "ccc66c8ca5f3466c8f35c2b00c609bea",
       "version_major": 2,
       "version_minor": 0
      },
      "text/plain": [
       "Testing: 0it [00:00, ?it/s]"
      ]
     },
     "metadata": {},
     "output_type": "display_data"
    },
    {
     "name": "stdout",
     "output_type": "stream",
     "text": [
      "INFO:root:(('127.0.0.1', 38687)) Evaluated. Losss: 2.301456928253174, Metric: 0.14144663512706757. (Check tensorboard for more info)\n",
      "INFO:root:(('127.0.0.1', 38687)) Broadcasting metrics to 2 clients.\n",
      "INFO:root:(('127.0.0.1', 38687)) Finish!!.\n",
      "METRICS RECEIVED ('127.0.0.1:38687', 2, 2.301456928253174, 0.14144663512706757)\n",
      "METRICS RECEIVED ('127.0.0.1:38687', 2, 2.301456928253174, 0.14144663512706757)\n",
      "INFO:root:(('127.0.0.1', 35483)) Evaluated. Losss: 2.301456928253174, Metric: 0.15534445643424988. (Check tensorboard for more info)\n",
      "INFO:root:(('127.0.0.1', 33349)) Evaluated. Losss: 2.301456928253174, Metric: 0.13167601823806763. (Check tensorboard for more info)\n",
      "INFO:root:(('127.0.0.1', 35483)) Broadcasting metrics to 2 clients.\n",
      "INFO:root:(('127.0.0.1', 33349)) Broadcasting metrics to 2 clients.\n",
      "METRICS RECEIVED ('127.0.0.1:35483', 2, 2.301456928253174, 0.15534445643424988)\n",
      "METRICS RECEIVED ('127.0.0.1:35483', 2, 2.301456928253174, 0.15534445643424988)\n",
      "INFO:root:(('127.0.0.1', 35483)) Finish!!.\n",
      "METRICS RECEIVED ('127.0.0.1:33349', 2, 2.301456928253174, 0.13167601823806763)\n",
      "METRICS RECEIVED ('127.0.0.1:33349', 2, 2.301456928253174, 0.13167601823806763)\n",
      "INFO:root:(('127.0.0.1', 33349)) Finish!!.\n",
      "INFO:root:Bajando el nodo, dejando de escuchar en 127.0.0.1 35483 y desconectándose de 2 nodos\n",
      "DEBUG:root:Closed connection: ('127.0.0.1', 35483)\n",
      "INFO:root:Bajando el nodo, dejando de escuchar en 127.0.0.1 38687 y desconectándose de 2 nodos\n",
      "DEBUG:root:Closed connection: ('127.0.0.1', 35483)\n",
      "DEBUG:root:Closed connection: ('127.0.0.1', 38687)\n",
      "INFO:root:Bajando el nodo, dejando de escuchar en 127.0.0.1 33349 y desconectándose de 2 nodos\n",
      "DEBUG:root:Closed connection: ('127.0.0.1', 38687)\n",
      "DEBUG:root:Closed connection: ('127.0.0.1', 33349)\n",
      "DEBUG:root:Closed connection: ('127.0.0.1', 33349)\n",
      "Train: 54000 Val:6000 Test:10000\n",
      "INFO:root:Nodo a la escucha en 127.0.0.1 48723\n",
      "Train: 54000 Val:6000 Test:10000\n",
      "INFO:root:Nodo a la escucha en 127.0.0.1 35263\n",
      "Train: 54000 Val:6000 Test:10000\n",
      "INFO:root:Nodo a la escucha en 127.0.0.1 47821\n",
      "Train: 54000 Val:6000 Test:10000\n",
      "INFO:root:Nodo a la escucha en 127.0.0.1 57257\n",
      "INFO:root:(('127.0.0.1', 48723)) Conexión aceptada con ('127.0.0.1', 35263)\n",
      "INFO:root:(('127.0.0.1', 35263)) Conexión aceptada con ('127.0.0.1', 47821)\n",
      "INFO:root:(('127.0.0.1', 47821)) Conexión aceptada con ('127.0.0.1', 48723)\n",
      "INFO:root:(('127.0.0.1', 47821)) Conexión aceptada con ('127.0.0.1', 57257)\n",
      "INFO:root:(('127.0.0.1', 57257)) Conexión aceptada con ('127.0.0.1', 48723)\n",
      "INFO:root:(('127.0.0.1', 57257)) Conexión aceptada con ('127.0.0.1', 35263)\n",
      "INFO:root:(('127.0.0.1', 48723)) Broadcasting start learning...\n",
      "INFO:root:(('127.0.0.1', 48723)) Sending Initial Model Weights\n",
      "INFO:root:(('127.0.0.1', 47821)) Broadcasting Number of Samples...\n",
      "INFO:root:(('127.0.0.1', 48723)) Broadcasting model to 3 clients. (size: 548864 bytes)\n",
      "INFO:root:(('127.0.0.1', 35263)) Broadcasting Number of Samples...\n",
      "INFO:root:(('127.0.0.1', 47821)) Initialicing Model Weights\n",
      "INFO:root:(('127.0.0.1', 57257)) Broadcasting Number of Samples...\n",
      "INFO:root:(('127.0.0.1', 35263)) Initialicing Model Weights\n",
      "INFO:root:(('127.0.0.1', 57257)) Initialicing Model Weights\n",
      "INFO:root:(('127.0.0.1', 47821)) Model initialized\n",
      "INFO:root:(('127.0.0.1', 35263)) Stopping learning\n",
      "INFO:root:(('127.0.0.1', 35263)) Model initialized\n",
      "INFO:root:(('127.0.0.1', 57257)) Model initialized\n",
      "INFO:root:Bajando el nodo, dejando de escuchar en 127.0.0.1 35263 y desconectándose de 3 nodos\n",
      "INFO:root:(('127.0.0.1', 48723)) Broadcasting Number of Samples...\n",
      "[('127.0.0.1', 35263), ('127.0.0.1', 57257), ('127.0.0.1', 35263)]\n",
      "DEBUG:root:Closed connection: ('127.0.0.1', 35263)\n",
      "DEBUG:root:Closed connection: ('127.0.0.1', 35263)\n",
      "DEBUG:root:Closed connection: ('127.0.0.1', 35263)\n",
      "DEBUG:root:Closed connection: ('127.0.0.1', 48723)\n",
      "INFO:root:(('127.0.0.1', 48723)) Evaluating...\n",
      "DEBUG:root:Closed connection: ('127.0.0.1', 57257)\n"
     ]
    },
    {
     "name": "stderr",
     "output_type": "stream",
     "text": [
      "GPU available: False, used: False\n"
     ]
    },
    {
     "name": "stdout",
     "output_type": "stream",
     "text": [
      "DEBUG:root:Closed connection: ('127.0.0.1', 47821)\n"
     ]
    },
    {
     "name": "stderr",
     "output_type": "stream",
     "text": [
      "TPU available: False, using: 0 TPU cores\n",
      "IPU available: False, using: 0 IPUs\n",
      "HPU available: False, using: 0 HPUs\n"
     ]
    },
    {
     "data": {
      "application/vnd.jupyter.widget-view+json": {
       "model_id": "dd211ebb2cb2409fbcf37568a7f2b712",
       "version_major": 2,
       "version_minor": 0
      },
      "text/plain": [
       "Testing: 0it [00:00, ?it/s]"
      ]
     },
     "metadata": {},
     "output_type": "display_data"
    },
    {
     "name": "stdout",
     "output_type": "stream",
     "text": [
      "[('127.0.0.1', 57257), ('127.0.0.1', 48723), ('127.0.0.1', 48723)]\n",
      "aun no implementao\n",
      "[('127.0.0.1', 48723), ('127.0.0.1', 47821), ('127.0.0.1', 47821)]\n",
      "INFO:root:(('127.0.0.1', 57257)) Evaluating...\n",
      "aun no implementao\n"
     ]
    },
    {
     "name": "stderr",
     "output_type": "stream",
     "text": [
      "GPU available: False, used: False\n"
     ]
    },
    {
     "name": "stdout",
     "output_type": "stream",
     "text": [
      "aun no implementao\n",
      "aun no implementao\n",
      "INFO:root:(('127.0.0.1', 47821)) Evaluating...\n"
     ]
    },
    {
     "name": "stderr",
     "output_type": "stream",
     "text": [
      "TPU available: False, using: 0 TPU cores\n",
      "IPU available: False, using: 0 IPUs\n",
      "HPU available: False, using: 0 HPUs\n",
      "GPU available: False, used: False\n",
      "TPU available: False, using: 0 TPU cores\n",
      "IPU available: False, using: 0 IPUs\n",
      "HPU available: False, using: 0 HPUs\n"
     ]
    },
    {
     "data": {
      "application/vnd.jupyter.widget-view+json": {
       "model_id": "5ea33a8eb0334e42b49e5d63ea909334",
       "version_major": 2,
       "version_minor": 0
      },
      "text/plain": [
       "Testing: 0it [00:00, ?it/s]"
      ]
     },
     "metadata": {},
     "output_type": "display_data"
    },
    {
     "data": {
      "application/vnd.jupyter.widget-view+json": {
       "model_id": "d372d3e9243e4f0e8d3068789cf55da5",
       "version_major": 2,
       "version_minor": 0
      },
      "text/plain": [
       "Testing: 0it [00:00, ?it/s]"
      ]
     },
     "metadata": {},
     "output_type": "display_data"
    },
    {
     "name": "stdout",
     "output_type": "stream",
     "text": [
      "INFO:root:(('127.0.0.1', 47821)) Evaluated. Losss: 2.301456928253174, Metric: 0.14468742907047272. (Check tensorboard for more info)\n",
      "INFO:root:(('127.0.0.1', 47821)) Broadcasting metrics to 2 clients.\n",
      "METRICS RECEIVED ('127.0.0.1:47821', 0, 2.301456928253174, 0.14468742907047272)INFO:root:(('127.0.0.1', 47821)) Training...\n",
      "\n",
      "METRICS RECEIVED ('127.0.0.1:47821', 0, 2.301456928253174, 0.14468742907047272)\n",
      "INFO:root:(127.0.0.1:47821) Model added (1/3) from ('127.0.0.1', 47821)\n",
      "INFO:root:(('127.0.0.1', 47821)) Broadcasting model to 2 clients. (size: 548864 bytes)\n",
      "INFO:root:(127.0.0.1:57257) Model added (1/3) from ('127.0.0.1', 47821)\n",
      "INFO:root:(127.0.0.1:48723) Model added (1/3) from ('127.0.0.1', 47821)\n",
      "[('127.0.0.1', 57257), ('127.0.0.1', 48723), ('127.0.0.1', 48723)]\n",
      "INFO:root:(('127.0.0.1', 48723)) Evaluated. Losss: 2.301456928253174, Metric: 0.139080211520195. (Check tensorboard for more info)\n",
      "INFO:root:(('127.0.0.1', 48723)) Broadcasting metrics to 2 clients.\n",
      "METRICS RECEIVED ('127.0.0.1:48723', 0, 2.301456928253174, 0.139080211520195)\n",
      "INFO:root:(('127.0.0.1', 48723)) Training...\n",
      "METRICS RECEIVED ('127.0.0.1:48723', 0, 2.301456928253174, 0.139080211520195)\n",
      "INFO:root:(127.0.0.1:48723) Model added (2/3) from ('127.0.0.1', 48723)\n",
      "INFO:root:(('127.0.0.1', 48723)) Broadcasting model to 2 clients. (size: 548864 bytes)\n",
      "INFO:root:(127.0.0.1:57257) Model added (2/3) from ('127.0.0.1', 48723)\n",
      "INFO:root:(127.0.0.1:47821) Model added (2/3) from ('127.0.0.1', 48723)\n",
      "INFO:root:(('127.0.0.1', 57257)) Evaluated. Losss: 2.301456928253174, Metric: 0.13725979626178741. (Check tensorboard for more info)\n",
      "INFO:root:(('127.0.0.1', 57257)) Broadcasting metrics to 2 clients.\n",
      "METRICS RECEIVED ('127.0.0.1:57257', 0, 2.301456928253174, 0.13725979626178741)INFO:root:(('127.0.0.1', 57257)) Training...\n",
      "METRICS RECEIVED ('127.0.0.1:57257', 0, 2.301456928253174, 0.13725979626178741)\n",
      "\n",
      "INFO:root:(127.0.0.1:57257) Model added (3/3) from ('127.0.0.1', 57257)\n",
      "INFO:root:(('127.0.0.1', 57257)) Broadcasting model to 2 clients. (size: 548864 bytes)\n",
      "INFO:root:(127.0.0.1:57257) Agregating models.\n",
      "INFO:root:(('127.0.0.1', 57257)) Waiting other nodes.\n",
      "INFO:root:(127.0.0.1:47821) Model added (3/3) from ('127.0.0.1', 57257)\n",
      "INFO:root:(127.0.0.1:47821) Agregating models.\n",
      "INFO:root:(127.0.0.1:48723) Model added (3/3) from ('127.0.0.1', 57257)\n",
      "INFO:root:(127.0.0.1:48723) Agregating models.\n",
      "INFO:root:(('127.0.0.1', 48723)) Waiting other nodes.\n",
      "INFO:root:(('127.0.0.1', 47821)) Waiting other nodes.\n",
      "INFO:root:(('127.0.0.1', 48723)) Round 1 of 2 finished.\n",
      "[('127.0.0.1', 57257), ('127.0.0.1', 47821), ('127.0.0.1', 47821)]\n",
      "INFO:root:(('127.0.0.1', 57257)) Round 1 of 2 finished.\n",
      "aun no implementaoaun no implementao\n",
      "\n",
      "[('127.0.0.1', 47821), ('127.0.0.1', 48723), ('127.0.0.1', 48723)]\n",
      "aun no implementao\n",
      "aun no implementao\n",
      "INFO:root:(('127.0.0.1', 47821)) Round 1 of 2 finished.\n",
      "[('127.0.0.1', 48723), ('127.0.0.1', 57257), ('127.0.0.1', 48723)]\n",
      "INFO:root:(('127.0.0.1', 48723)) Evaluating...\n",
      "aun no implementao\n",
      "aun no implementaoINFO:root:(('127.0.0.1', 57257)) Evaluating...\n"
     ]
    },
    {
     "name": "stderr",
     "output_type": "stream",
     "text": [
      "GPU available: False, used: False\n",
      "TPU available: False, using: 0 TPU cores\n"
     ]
    },
    {
     "name": "stdout",
     "output_type": "stream",
     "text": [
      "\n",
      "INFO:root:(('127.0.0.1', 47821)) Evaluating...\n"
     ]
    },
    {
     "name": "stderr",
     "output_type": "stream",
     "text": [
      "GPU available: False, used: False\n",
      "IPU available: False, using: 0 IPUs\n",
      "GPU available: False, used: False\n",
      "TPU available: False, using: 0 TPU cores\n",
      "HPU available: False, using: 0 HPUs\n",
      "TPU available: False, using: 0 TPU cores\n",
      "IPU available: False, using: 0 IPUs\n",
      "IPU available: False, using: 0 IPUs\n",
      "HPU available: False, using: 0 HPUs\n",
      "HPU available: False, using: 0 HPUs\n"
     ]
    },
    {
     "data": {
      "application/vnd.jupyter.widget-view+json": {
       "model_id": "268a450a2a254c94aba87eb2cc79bd95",
       "version_major": 2,
       "version_minor": 0
      },
      "text/plain": [
       "Testing: 0it [00:00, ?it/s]"
      ]
     },
     "metadata": {},
     "output_type": "display_data"
    },
    {
     "data": {
      "application/vnd.jupyter.widget-view+json": {
       "model_id": "9812884b2fbb47dd874b4eb7b0729eed",
       "version_major": 2,
       "version_minor": 0
      },
      "text/plain": [
       "Testing: 0it [00:00, ?it/s]"
      ]
     },
     "metadata": {},
     "output_type": "display_data"
    },
    {
     "data": {
      "application/vnd.jupyter.widget-view+json": {
       "model_id": "3526f1c5dd3d4409a52eb52e7c7a5a1c",
       "version_major": 2,
       "version_minor": 0
      },
      "text/plain": [
       "Testing: 0it [00:00, ?it/s]"
      ]
     },
     "metadata": {},
     "output_type": "display_data"
    },
    {
     "name": "stdout",
     "output_type": "stream",
     "text": [
      "INFO:root:(('127.0.0.1', 47821)) Evaluated. Losss: 2.301456928253174, Metric: 0.14963467419147491. (Check tensorboard for more info)\n",
      "INFO:root:(('127.0.0.1', 47821)) Broadcasting metrics to 2 clients.\n",
      "METRICS RECEIVED ('127.0.0.1:47821', 1, 2.301456928253174, 0.14963467419147491)INFO:root:(('127.0.0.1', 47821)) Training...\n",
      "\n",
      "METRICS RECEIVED ('127.0.0.1:47821', 1, 2.301456928253174, 0.14963467419147491)\n",
      "INFO:root:(127.0.0.1:47821) Model added (1/3) from ('127.0.0.1', 47821)\n",
      "INFO:root:(('127.0.0.1', 47821)) Broadcasting model to 2 clients. (size: 548864 bytes)\n",
      "INFO:root:(127.0.0.1:48723) Model added (1/3) from ('127.0.0.1', 47821)\n",
      "INFO:root:(127.0.0.1:57257) Model added (1/3) from ('127.0.0.1', 47821)\n",
      "INFO:root:(('127.0.0.1', 48723)) Evaluated. Losss: 2.301456928253174, Metric: 0.12401632964611053. (Check tensorboard for more info)\n",
      "INFO:root:(('127.0.0.1', 48723)) Broadcasting metrics to 2 clients.\n",
      "INFO:root:(('127.0.0.1', 57257)) Evaluated. Losss: 2.301456928253174, Metric: 0.1494274139404297. (Check tensorboard for more info)\n",
      "INFO:root:(('127.0.0.1', 57257)) Broadcasting metrics to 2 clients.\n",
      "METRICS RECEIVED ('127.0.0.1:48723', 1, 2.301456928253174, 0.12401632964611053)\n",
      "METRICS RECEIVED ('127.0.0.1:48723', 1, 2.301456928253174, 0.12401632964611053)\n",
      "INFO:root:(('127.0.0.1', 48723)) Training...\n",
      "METRICS RECEIVED ('127.0.0.1:57257', 1, 2.301456928253174, 0.1494274139404297)METRICS RECEIVED ('127.0.0.1:57257', 1, 2.301456928253174, 0.1494274139404297)\n",
      "INFO:root:(('127.0.0.1', 57257)) Training...\n",
      "\n",
      "INFO:root:(127.0.0.1:48723) Model added (2/3) from ('127.0.0.1', 48723)\n",
      "INFO:root:(127.0.0.1:57257) Model added (2/3) from ('127.0.0.1', 57257)\n",
      "INFO:root:(('127.0.0.1', 48723)) Broadcasting model to 2 clients. (size: 548864 bytes)\n",
      "INFO:root:(('127.0.0.1', 57257)) Broadcasting model to 2 clients. (size: 548864 bytes)\n",
      "INFO:root:(127.0.0.1:47821) Model added (2/3) from ('127.0.0.1', 48723)\n",
      "INFO:root:(127.0.0.1:48723) Model added (3/3) from ('127.0.0.1', 57257)\n",
      "INFO:root:(127.0.0.1:47821) Model added (3/3) from ('127.0.0.1', 57257)\n",
      "INFO:root:(127.0.0.1:48723) Agregating models.\n",
      "INFO:root:(127.0.0.1:47821) Agregating models.\n",
      "INFO:root:(127.0.0.1:57257) Model added (3/3) from ('127.0.0.1', 48723)\n",
      "INFO:root:(127.0.0.1:57257) Agregating models.\n",
      "INFO:root:(('127.0.0.1', 48723)) Waiting other nodes.\n",
      "INFO:root:(('127.0.0.1', 47821)) Waiting other nodes.\n",
      "INFO:root:(('127.0.0.1', 57257)) Waiting other nodes.\n",
      "INFO:root:(('127.0.0.1', 48723)) Round 2 of 2 finished.\n",
      "INFO:root:(('127.0.0.1', 47821)) Round 2 of 2 finished.\n",
      "INFO:root:(('127.0.0.1', 57257)) Round 2 of 2 finished.\n",
      "INFO:root:(('127.0.0.1', 48723)) Evaluating...\n",
      "INFO:root:(('127.0.0.1', 47821)) Evaluating...\n"
     ]
    },
    {
     "name": "stderr",
     "output_type": "stream",
     "text": [
      "GPU available: False, used: False\n"
     ]
    },
    {
     "name": "stdout",
     "output_type": "stream",
     "text": [
      "INFO:root:(('127.0.0.1', 57257)) Evaluating...\n"
     ]
    },
    {
     "name": "stderr",
     "output_type": "stream",
     "text": [
      "GPU available: False, used: False\n",
      "TPU available: False, using: 0 TPU cores\n",
      "GPU available: False, used: False\n",
      "TPU available: False, using: 0 TPU cores\n",
      "IPU available: False, using: 0 IPUs\n",
      "TPU available: False, using: 0 TPU cores\n",
      "IPU available: False, using: 0 IPUs\n",
      "HPU available: False, using: 0 HPUs\n",
      "IPU available: False, using: 0 IPUs\n",
      "HPU available: False, using: 0 HPUs\n",
      "HPU available: False, using: 0 HPUs\n"
     ]
    },
    {
     "data": {
      "application/vnd.jupyter.widget-view+json": {
       "model_id": "fae81edf90a248a8bcef293c40f43c5e",
       "version_major": 2,
       "version_minor": 0
      },
      "text/plain": [
       "Testing: 0it [00:00, ?it/s]"
      ]
     },
     "metadata": {},
     "output_type": "display_data"
    },
    {
     "data": {
      "application/vnd.jupyter.widget-view+json": {
       "model_id": "55f23b84a2234dbba8eb157ec1ee39ad",
       "version_major": 2,
       "version_minor": 0
      },
      "text/plain": [
       "Testing: 0it [00:00, ?it/s]"
      ]
     },
     "metadata": {},
     "output_type": "display_data"
    },
    {
     "data": {
      "application/vnd.jupyter.widget-view+json": {
       "model_id": "529e0cb966474153983718f16805d9f3",
       "version_major": 2,
       "version_minor": 0
      },
      "text/plain": [
       "Testing: 0it [00:00, ?it/s]"
      ]
     },
     "metadata": {},
     "output_type": "display_data"
    },
    {
     "name": "stdout",
     "output_type": "stream",
     "text": [
      "INFO:root:(('127.0.0.1', 47821)) Evaluated. Losss: 2.301456928253174, Metric: 0.13459759950637817. (Check tensorboard for more info)\n",
      "INFO:root:(('127.0.0.1', 47821)) Broadcasting metrics to 2 clients.\n",
      "INFO:root:(('127.0.0.1', 47821)) Finish!!.\n",
      "METRICS RECEIVED ('127.0.0.1:47821', 2, 2.301456928253174, 0.13459759950637817)\n",
      "METRICS RECEIVED ('127.0.0.1:47821', 2, 2.301456928253174, 0.13459759950637817)\n",
      "INFO:root:(('127.0.0.1', 57257)) Evaluated. Losss: 2.301456928253174, Metric: 0.13445468246936798. (Check tensorboard for more info)\n",
      "INFO:root:(('127.0.0.1', 57257)) Broadcasting metrics to 2 clients.\n",
      "METRICS RECEIVED ('127.0.0.1:57257', 2, 2.301456928253174, 0.13445468246936798)\n",
      "INFO:root:(('127.0.0.1', 57257)) Finish!!.\n",
      "METRICS RECEIVED ('127.0.0.1:57257', 2, 2.301456928253174, 0.13445468246936798)\n",
      "INFO:root:(('127.0.0.1', 48723)) Evaluated. Losss: 2.301456928253174, Metric: 0.12453962117433548. (Check tensorboard for more info)\n",
      "INFO:root:(('127.0.0.1', 48723)) Broadcasting metrics to 2 clients.\n",
      "METRICS RECEIVED ('127.0.0.1:48723', 2, 2.301456928253174, 0.12453962117433548)INFO:root:(('127.0.0.1', 48723)) Finish!!.\n",
      "\n",
      "METRICS RECEIVED ('127.0.0.1:48723', 2, 2.301456928253174, 0.12453962117433548)\n",
      "INFO:root:Bajando el nodo, dejando de escuchar en 127.0.0.1 48723 y desconectándose de 2 nodos\n",
      "DEBUG:root:Closed connection: ('127.0.0.1', 48723)\n",
      "DEBUG:root:Closed connection: ('127.0.0.1', 47821)\n",
      "DEBUG:root:Closed connection: ('127.0.0.1', 48723)\n",
      "INFO:root:Bajando el nodo, dejando de escuchar en 127.0.0.1 47821 y desconectándose de 1 nodos\n",
      "INFO:root:Bajando el nodo, dejando de escuchar en 127.0.0.1 57257 y desconectándose de 1 nodos\n",
      "DEBUG:root:Closed connection: ('127.0.0.1', 57257)\n",
      "DEBUG:root:Closed connection: ('127.0.0.1', 47821)\n",
      "DEBUG:root:Closed connection: ('127.0.0.1', 57257)\n",
      "Train: 54000 Val:6000 Test:10000\n",
      "INFO:root:Nodo a la escucha en 127.0.0.1 51369\n",
      "Train: 54000 Val:6000 Test:10000\n",
      "INFO:root:Nodo a la escucha en 127.0.0.1 59825\n",
      "Train: 54000 Val:6000 Test:10000\n",
      "INFO:root:Nodo a la escucha en 127.0.0.1 38661\n",
      "Train: 54000 Val:6000 Test:10000\n",
      "INFO:root:Nodo a la escucha en 127.0.0.1 59625\n",
      "INFO:root:(('127.0.0.1', 51369)) Conexión aceptada con ('127.0.0.1', 59825)\n",
      "INFO:root:(('127.0.0.1', 59825)) Conexión aceptada con ('127.0.0.1', 38661)\n",
      "INFO:root:(('127.0.0.1', 38661)) Conexión aceptada con ('127.0.0.1', 51369)\n",
      "INFO:root:(('127.0.0.1', 38661)) Conexión aceptada con ('127.0.0.1', 59625)\n",
      "INFO:root:(('127.0.0.1', 59625)) Conexión aceptada con ('127.0.0.1', 59825)\n",
      "INFO:root:(('127.0.0.1', 59625)) Conexión aceptada con ('127.0.0.1', 51369)\n",
      "INFO:root:(('127.0.0.1', 51369)) Broadcasting start learning...\n",
      "INFO:root:(('127.0.0.1', 51369)) Sending Initial Model Weights\n",
      "INFO:root:(('127.0.0.1', 38661)) Broadcasting Number of Samples...\n",
      "INFO:root:(('127.0.0.1', 51369)) Broadcasting model to 3 clients. (size: 548864 bytes)\n",
      "INFO:root:(('127.0.0.1', 59625)) Broadcasting Number of Samples...\n",
      "INFO:root:(('127.0.0.1', 59825)) Broadcasting Number of Samples...\n",
      "INFO:root:(('127.0.0.1', 38661)) Initialicing Model Weights\n",
      "INFO:root:(('127.0.0.1', 59825)) Initialicing Model Weights\n",
      "INFO:root:(('127.0.0.1', 59625)) Initialicing Model Weights\n",
      "INFO:root:(('127.0.0.1', 59825)) Model initialized\n",
      "INFO:root:(('127.0.0.1', 59625)) Model initialized\n",
      "INFO:root:(('127.0.0.1', 38661)) Model initialized\n",
      "INFO:root:(('127.0.0.1', 59825)) Stopping learning\n",
      "INFO:root:(('127.0.0.1', 51369)) Broadcasting Number of Samples...\n",
      "INFO:root:Bajando el nodo, dejando de escuchar en 127.0.0.1 59825 y desconectándose de 3 nodos\n",
      "[('127.0.0.1', 38661), ('127.0.0.1', 59825), ('127.0.0.1', 59625)]\n",
      "DEBUG:root:Closed connection: ('127.0.0.1', 59825)\n",
      "DEBUG:root:Closed connection: ('127.0.0.1', 59825)\n",
      "aun no implementao\n",
      "aun no implementao\n",
      "aun no implementao\n",
      "DEBUG:root:Closed connection: ('127.0.0.1', 59825)\n",
      "INFO:root:(('127.0.0.1', 51369)) Evaluating...\n"
     ]
    },
    {
     "name": "stderr",
     "output_type": "stream",
     "text": [
      "GPU available: False, used: False\n"
     ]
    },
    {
     "name": "stdout",
     "output_type": "stream",
     "text": [
      "DEBUG:root:Closed connection: ('127.0.0.1', 51369)\n"
     ]
    },
    {
     "name": "stderr",
     "output_type": "stream",
     "text": [
      "TPU available: False, using: 0 TPU cores\n"
     ]
    },
    {
     "name": "stdout",
     "output_type": "stream",
     "text": [
      "DEBUG:root:Closed connection: ('127.0.0.1', 38661)\n"
     ]
    },
    {
     "name": "stderr",
     "output_type": "stream",
     "text": [
      "IPU available: False, using: 0 IPUs\n",
      "HPU available: False, using: 0 HPUs\n"
     ]
    },
    {
     "name": "stdout",
     "output_type": "stream",
     "text": [
      "DEBUG:root:Closed connection: ('127.0.0.1', 59625)\n"
     ]
    },
    {
     "data": {
      "application/vnd.jupyter.widget-view+json": {
       "model_id": "ce7528b6047f435a8f552a2e048aef12",
       "version_major": 2,
       "version_minor": 0
      },
      "text/plain": [
       "Testing: 0it [00:00, ?it/s]"
      ]
     },
     "metadata": {},
     "output_type": "display_data"
    },
    {
     "name": "stdout",
     "output_type": "stream",
     "text": [
      "[('127.0.0.1', 51369), ('127.0.0.1', 59625), ('127.0.0.1', 51369)]\n",
      "aun no implementao\n",
      "INFO:root:(('127.0.0.1', 38661)) Evaluating...\n"
     ]
    },
    {
     "name": "stderr",
     "output_type": "stream",
     "text": [
      "GPU available: False, used: False\n",
      "TPU available: False, using: 0 TPU cores\n"
     ]
    },
    {
     "name": "stdout",
     "output_type": "stream",
     "text": [
      "aun no implementao\n",
      "[('127.0.0.1', 51369), ('127.0.0.1', 51369), ('127.0.0.1', 38661)]\n",
      "aun no implementao\n",
      "INFO:root:(('127.0.0.1', 59625)) Evaluating...\n",
      "aun no implementao\n"
     ]
    },
    {
     "name": "stderr",
     "output_type": "stream",
     "text": [
      "IPU available: False, using: 0 IPUs\n",
      "HPU available: False, using: 0 HPUs\n",
      "GPU available: False, used: False\n",
      "TPU available: False, using: 0 TPU cores\n",
      "IPU available: False, using: 0 IPUs\n",
      "HPU available: False, using: 0 HPUs\n"
     ]
    },
    {
     "data": {
      "application/vnd.jupyter.widget-view+json": {
       "model_id": "1454d5a231404662a3cb3d46379ad48e",
       "version_major": 2,
       "version_minor": 0
      },
      "text/plain": [
       "Testing: 0it [00:00, ?it/s]"
      ]
     },
     "metadata": {},
     "output_type": "display_data"
    },
    {
     "data": {
      "application/vnd.jupyter.widget-view+json": {
       "model_id": "f5d371bd9bd64f69b28378a4530f3671",
       "version_major": 2,
       "version_minor": 0
      },
      "text/plain": [
       "Testing: 0it [00:00, ?it/s]"
      ]
     },
     "metadata": {},
     "output_type": "display_data"
    },
    {
     "name": "stdout",
     "output_type": "stream",
     "text": [
      "INFO:root:(('127.0.0.1', 51369)) Evaluated. Losss: 2.301456928253174, Metric: 0.11453574150800705. (Check tensorboard for more info)\n",
      "INFO:root:(('127.0.0.1', 51369)) Broadcasting metrics to 2 clients.\n",
      "METRICS RECEIVED ('127.0.0.1:51369', 0, 2.301456928253174, 0.11453574150800705)INFO:root:(('127.0.0.1', 51369)) Training...\n",
      "METRICS RECEIVED ('127.0.0.1:51369', 0, 2.301456928253174, 0.11453574150800705)\n",
      "\n",
      "INFO:root:(127.0.0.1:51369) Model added (1/3) from ('127.0.0.1', 51369)\n",
      "INFO:root:(('127.0.0.1', 51369)) Broadcasting model to 2 clients. (size: 548864 bytes)\n",
      "INFO:root:(127.0.0.1:59625) Model added (1/3) from ('127.0.0.1', 51369)\n",
      "INFO:root:(127.0.0.1:38661) Model added (1/3) from ('127.0.0.1', 51369)\n",
      "INFO:root:(('127.0.0.1', 38661)) Evaluated. Losss: 2.301456928253174, Metric: 0.12777720391750336. (Check tensorboard for more info)\n",
      "INFO:root:(('127.0.0.1', 38661)) Broadcasting metrics to 2 clients.\n",
      "METRICS RECEIVED ('127.0.0.1:38661', 0, 2.301456928253174, 0.12777720391750336)\n",
      "INFO:root:(('127.0.0.1', 38661)) Training...\n",
      "METRICS RECEIVED ('127.0.0.1:38661', 0, 2.301456928253174, 0.12777720391750336)\n",
      "INFO:root:(127.0.0.1:38661) Model added (2/3) from ('127.0.0.1', 38661)\n",
      "INFO:root:(('127.0.0.1', 38661)) Broadcasting model to 2 clients. (size: 548864 bytes)\n",
      "INFO:root:(('127.0.0.1', 59625)) Evaluated. Losss: 2.301456928253174, Metric: 0.12520097196102142. (Check tensorboard for more info)\n",
      "INFO:root:(('127.0.0.1', 59625)) Broadcasting metrics to 2 clients.\n",
      "INFO:root:(('127.0.0.1', 59625)) Training...\n",
      "METRICS RECEIVED ('127.0.0.1:59625', 0, 2.301456928253174, 0.12520097196102142)\n",
      "METRICS RECEIVED ('127.0.0.1:59625', 0, 2.301456928253174, 0.12520097196102142)\n",
      "INFO:root:(127.0.0.1:59625) Model added (2/3) from ('127.0.0.1', 59625)\n",
      "INFO:root:(('127.0.0.1', 59625)) Broadcasting model to 2 clients. (size: 548864 bytes)\n",
      "INFO:root:(127.0.0.1:51369) Model added (2/3) from ('127.0.0.1', 38661)\n",
      "INFO:root:(127.0.0.1:59625) Model added (3/3) from ('127.0.0.1', 38661)\n",
      "INFO:root:(127.0.0.1:38661) Model added (3/3) from ('127.0.0.1', 59625)\n",
      "INFO:root:(127.0.0.1:38661) Agregating models.\n",
      "INFO:root:(127.0.0.1:59625) Agregating models.\n",
      "INFO:root:(('127.0.0.1', 38661)) Waiting other nodes.\n",
      "INFO:root:(127.0.0.1:51369) Model added (3/3) from ('127.0.0.1', 59625)\n",
      "INFO:root:(127.0.0.1:51369) Agregating models.\n",
      "INFO:root:(('127.0.0.1', 51369)) Waiting other nodes.\n",
      "INFO:root:(('127.0.0.1', 59625)) Waiting other nodes.\n",
      "INFO:root:(('127.0.0.1', 59625)) Round 1 of 2 finished.\n",
      "[('127.0.0.1', 51369), ('127.0.0.1', 38661), ('127.0.0.1', 38661)]\n",
      "INFO:root:(('127.0.0.1', 51369)) Round 1 of 2 finished.\n",
      "aun no implementaoaun no implementao\n",
      "\n",
      "[('127.0.0.1', 38661), ('127.0.0.1', 59625), ('127.0.0.1', 59625)]\n",
      "INFO:root:(('127.0.0.1', 38661)) Round 1 of 2 finished.\n",
      "aun no implementao[('127.0.0.1', 51369), ('127.0.0.1', 51369), ('127.0.0.1', 51369)]\n",
      "\n",
      "INFO:root:(('127.0.0.1', 59625)) Evaluating...\n",
      "aun no implementao\n",
      "aun no implementao\n",
      "aun no implementao\n",
      "INFO:root:(('127.0.0.1', 51369)) Evaluating...\n"
     ]
    },
    {
     "name": "stderr",
     "output_type": "stream",
     "text": [
      "GPU available: False, used: False\n",
      "TPU available: False, using: 0 TPU cores\n"
     ]
    },
    {
     "name": "stdout",
     "output_type": "stream",
     "text": [
      "INFO:root:(('127.0.0.1', 38661)) Evaluating...\n"
     ]
    },
    {
     "name": "stderr",
     "output_type": "stream",
     "text": [
      "GPU available: False, used: False\n",
      "IPU available: False, using: 0 IPUs\n",
      "GPU available: False, used: False\n",
      "TPU available: False, using: 0 TPU cores\n",
      "IPU available: False, using: 0 IPUs\n",
      "TPU available: False, using: 0 TPU cores\n",
      "HPU available: False, using: 0 HPUs\n",
      "HPU available: False, using: 0 HPUs\n",
      "IPU available: False, using: 0 IPUs\n",
      "HPU available: False, using: 0 HPUs\n"
     ]
    },
    {
     "data": {
      "application/vnd.jupyter.widget-view+json": {
       "model_id": "d8d659348f31452bae3007065bca0b42",
       "version_major": 2,
       "version_minor": 0
      },
      "text/plain": [
       "Testing: 0it [00:00, ?it/s]"
      ]
     },
     "metadata": {},
     "output_type": "display_data"
    },
    {
     "data": {
      "application/vnd.jupyter.widget-view+json": {
       "model_id": "d76e0d2a19ed446e81bc8a2704e85f78",
       "version_major": 2,
       "version_minor": 0
      },
      "text/plain": [
       "Testing: 0it [00:00, ?it/s]"
      ]
     },
     "metadata": {},
     "output_type": "display_data"
    },
    {
     "data": {
      "application/vnd.jupyter.widget-view+json": {
       "model_id": "f3207e33149346b394e206920ed0fc84",
       "version_major": 2,
       "version_minor": 0
      },
      "text/plain": [
       "Testing: 0it [00:00, ?it/s]"
      ]
     },
     "metadata": {},
     "output_type": "display_data"
    },
    {
     "name": "stdout",
     "output_type": "stream",
     "text": [
      "INFO:root:(('127.0.0.1', 51369)) Evaluated. Losss: 2.301456928253174, Metric: 0.13986754417419434. (Check tensorboard for more info)\n",
      "INFO:root:(('127.0.0.1', 59625)) Evaluated. Losss: 2.301456928253174, Metric: 0.15702226758003235. (Check tensorboard for more info)\n",
      "INFO:root:(('127.0.0.1', 59625)) Broadcasting metrics to 2 clients.\n",
      "METRICS RECEIVED ('127.0.0.1:59625', 1, 2.301456928253174, 0.15702226758003235)INFO:root:(('127.0.0.1', 51369)) Broadcasting metrics to 2 clients.\n",
      "\n",
      "METRICS RECEIVED ('127.0.0.1:59625', 1, 2.301456928253174, 0.15702226758003235)\n",
      "INFO:root:(('127.0.0.1', 38661)) Evaluated. Losss: 2.301456928253174, Metric: 0.13728009164333344. (Check tensorboard for more info)\n",
      "METRICS RECEIVED ('127.0.0.1:51369', 1, 2.301456928253174, 0.13986754417419434)\n",
      "INFO:root:(('127.0.0.1', 59625)) Training...\n",
      "METRICS RECEIVED ('127.0.0.1:51369', 1, 2.301456928253174, 0.13986754417419434)\n",
      "INFO:root:(('127.0.0.1', 38661)) Broadcasting metrics to 2 clients.\n",
      "INFO:root:(('127.0.0.1', 51369)) Training...\n",
      "METRICS RECEIVED ('127.0.0.1:38661', 1, 2.301456928253174, 0.13728009164333344)METRICS RECEIVED ('127.0.0.1:38661', 1, 2.301456928253174, 0.13728009164333344)\n",
      "\n",
      "INFO:root:(127.0.0.1:59625) Model added (1/3) from ('127.0.0.1', 59625)\n",
      "INFO:root:(('127.0.0.1', 38661)) Training...\n",
      "INFO:root:(127.0.0.1:51369) Model added (1/3) from ('127.0.0.1', 51369)\n",
      "INFO:root:(('127.0.0.1', 59625)) Broadcasting model to 2 clients. (size: 548864 bytes)\n",
      "INFO:root:(127.0.0.1:38661) Model added (1/3) from ('127.0.0.1', 38661)\n",
      "INFO:root:(('127.0.0.1', 51369)) Broadcasting model to 2 clients. (size: 548864 bytes)\n",
      "INFO:root:(('127.0.0.1', 38661)) Broadcasting model to 2 clients. (size: 548864 bytes)\n",
      "INFO:root:(127.0.0.1:51369) Model added (2/3) from ('127.0.0.1', 59625)\n",
      "INFO:root:(127.0.0.1:38661) Model added (2/3) from ('127.0.0.1', 51369)\n",
      "INFO:root:(127.0.0.1:59625) Model added (2/3) from ('127.0.0.1', 38661)\n",
      "INFO:root:(127.0.0.1:38661) Model added (3/3) from ('127.0.0.1', 59625)\n",
      "INFO:root:(127.0.0.1:38661) Agregating models.\n",
      "INFO:root:(127.0.0.1:51369) Model added (3/3) from ('127.0.0.1', 38661)\n",
      "INFO:root:(127.0.0.1:51369) Agregating models.\n",
      "INFO:root:(127.0.0.1:59625) Model added (3/3) from ('127.0.0.1', 51369)\n",
      "INFO:root:(127.0.0.1:59625) Agregating models.\n",
      "INFO:root:(('127.0.0.1', 38661)) Waiting other nodes.\n",
      "INFO:root:(('127.0.0.1', 51369)) Waiting other nodes.\n",
      "INFO:root:(('127.0.0.1', 59625)) Waiting other nodes.\n",
      "INFO:root:(('127.0.0.1', 38661)) Round 2 of 2 finished.\n",
      "INFO:root:(('127.0.0.1', 51369)) Round 2 of 2 finished.\n",
      "INFO:root:(('127.0.0.1', 51369)) Evaluating...\n"
     ]
    },
    {
     "name": "stderr",
     "output_type": "stream",
     "text": [
      "GPU available: False, used: False\n"
     ]
    },
    {
     "name": "stdout",
     "output_type": "stream",
     "text": [
      "INFO:root:(('127.0.0.1', 38661)) Evaluating...\n"
     ]
    },
    {
     "name": "stderr",
     "output_type": "stream",
     "text": [
      "GPU available: False, used: False\n"
     ]
    },
    {
     "name": "stdout",
     "output_type": "stream",
     "text": [
      "INFO:root:(('127.0.0.1', 59625)) Round 2 of 2 finished.\n",
      "INFO:root:(('127.0.0.1', 59625)) Evaluating...\n"
     ]
    },
    {
     "name": "stderr",
     "output_type": "stream",
     "text": [
      "TPU available: False, using: 0 TPU cores\n",
      "TPU available: False, using: 0 TPU cores\n",
      "GPU available: False, used: False\n",
      "IPU available: False, using: 0 IPUs\n",
      "IPU available: False, using: 0 IPUs\n",
      "TPU available: False, using: 0 TPU cores\n",
      "HPU available: False, using: 0 HPUs\n",
      "HPU available: False, using: 0 HPUs\n",
      "IPU available: False, using: 0 IPUs\n",
      "HPU available: False, using: 0 HPUs\n"
     ]
    },
    {
     "data": {
      "application/vnd.jupyter.widget-view+json": {
       "model_id": "b3c00c8607224df394bf448be1d6c764",
       "version_major": 2,
       "version_minor": 0
      },
      "text/plain": [
       "Testing: 0it [00:00, ?it/s]"
      ]
     },
     "metadata": {},
     "output_type": "display_data"
    },
    {
     "data": {
      "application/vnd.jupyter.widget-view+json": {
       "model_id": "b6675b23e59a435f971e87e56961c57d",
       "version_major": 2,
       "version_minor": 0
      },
      "text/plain": [
       "Testing: 0it [00:00, ?it/s]"
      ]
     },
     "metadata": {},
     "output_type": "display_data"
    },
    {
     "data": {
      "application/vnd.jupyter.widget-view+json": {
       "model_id": "9975b754bee34655ac73dd8ec3aa3c8a",
       "version_major": 2,
       "version_minor": 0
      },
      "text/plain": [
       "Testing: 0it [00:00, ?it/s]"
      ]
     },
     "metadata": {},
     "output_type": "display_data"
    },
    {
     "name": "stdout",
     "output_type": "stream",
     "text": [
      "INFO:root:(('127.0.0.1', 51369)) Evaluated. Losss: 2.301456928253174, Metric: 0.13021989166736603. (Check tensorboard for more info)\n",
      "INFO:root:(('127.0.0.1', 51369)) Broadcasting metrics to 2 clients.\n",
      "METRICS RECEIVED ('127.0.0.1:51369', 2, 2.301456928253174, 0.13021989166736603)\n",
      "INFO:root:(('127.0.0.1', 51369)) Finish!!.\n",
      "METRICS RECEIVED ('127.0.0.1:51369', 2, 2.301456928253174, 0.13021989166736603)\n",
      "INFO:root:(('127.0.0.1', 38661)) Evaluated. Losss: 2.301456928253174, Metric: 0.14161476492881775. (Check tensorboard for more info)\n",
      "INFO:root:(('127.0.0.1', 59625)) Evaluated. Losss: 2.301456928253174, Metric: 0.12511099874973297. (Check tensorboard for more info)\n",
      "INFO:root:(('127.0.0.1', 38661)) Broadcasting metrics to 2 clients.\n",
      "INFO:root:(('127.0.0.1', 59625)) Broadcasting metrics to 2 clients.\n",
      "METRICS RECEIVED ('127.0.0.1:38661', 2, 2.301456928253174, 0.14161476492881775)\n",
      "METRICS RECEIVED ('127.0.0.1:38661', 2, 2.301456928253174, 0.14161476492881775)\n",
      "INFO:root:(('127.0.0.1', 38661)) Finish!!.\n",
      "METRICS RECEIVED ('127.0.0.1:59625', 2, 2.301456928253174, 0.12511099874973297)\n",
      "METRICS RECEIVED ('127.0.0.1:59625', 2, 2.301456928253174, 0.12511099874973297)\n",
      "INFO:root:(('127.0.0.1', 59625)) Finish!!.\n",
      "INFO:root:Bajando el nodo, dejando de escuchar en 127.0.0.1 51369 y desconectándose de 2 nodos\n",
      "DEBUG:root:Closed connection: ('127.0.0.1', 51369)\n",
      "DEBUG:root:Closed connection: ('127.0.0.1', 51369)\n",
      "INFO:root:Bajando el nodo, dejando de escuchar en 127.0.0.1 38661 y desconectándose de 1 nodos\n",
      "DEBUG:root:Closed connection: ('127.0.0.1', 38661)\n",
      "DEBUG:root:Closed connection: ('127.0.0.1', 59625)\n",
      "DEBUG:root:Closed connection: ('127.0.0.1', 38661)\n",
      "DEBUG:root:Closed connection: ('127.0.0.1', 59625)\n",
      "INFO:root:Bajando el nodo, dejando de escuchar en 127.0.0.1 59625 y desconectándose de 0 nodos\n",
      "Train: 54000 Val:6000 Test:10000\n",
      "INFO:root:Nodo a la escucha en 127.0.0.1 47361\n",
      "Train: 54000 Val:6000 Test:10000\n",
      "INFO:root:Nodo a la escucha en 127.0.0.1 32905\n",
      "Train: 54000 Val:6000 Test:10000\n",
      "INFO:root:Nodo a la escucha en 127.0.0.1 53951\n",
      "Train: 54000 Val:6000 Test:10000\n",
      "INFO:root:Nodo a la escucha en 127.0.0.1 40193\n",
      "INFO:root:(('127.0.0.1', 47361)) Conexión aceptada con ('127.0.0.1', 32905)\n",
      "INFO:root:(('127.0.0.1', 32905)) Conexión aceptada con ('127.0.0.1', 53951)\n",
      "INFO:root:(('127.0.0.1', 53951)) Conexión aceptada con ('127.0.0.1', 47361)\n",
      "INFO:root:(('127.0.0.1', 53951)) Conexión aceptada con ('127.0.0.1', 40193)\n",
      "INFO:root:(('127.0.0.1', 40193)) Conexión aceptada con ('127.0.0.1', 32905)\n",
      "INFO:root:(('127.0.0.1', 40193)) Conexión aceptada con ('127.0.0.1', 47361)\n",
      "INFO:root:(('127.0.0.1', 47361)) Broadcasting start learning...\n",
      "INFO:root:(('127.0.0.1', 47361)) Sending Initial Model Weights\n",
      "INFO:root:(('127.0.0.1', 47361)) Broadcasting model to 3 clients. (size: 548864 bytes)\n",
      "INFO:root:(('127.0.0.1', 32905)) Broadcasting Number of Samples...\n",
      "INFO:root:(('127.0.0.1', 53951)) Broadcasting Number of Samples...\n",
      "INFO:root:(('127.0.0.1', 40193)) Broadcasting Number of Samples...\n",
      "INFO:root:(('127.0.0.1', 32905)) Initialicing Model Weights\n",
      "INFO:root:(('127.0.0.1', 53951)) Initialicing Model Weights\n",
      "INFO:root:(('127.0.0.1', 40193)) Initialicing Model Weights\n",
      "INFO:root:(('127.0.0.1', 32905)) Model initialized\n",
      "INFO:root:(('127.0.0.1', 53951)) Model initialized\n",
      "INFO:root:(('127.0.0.1', 40193)) Model initialized\n",
      "INFO:root:(('127.0.0.1', 32905)) Stopping learning\n",
      "INFO:root:Bajando el nodo, dejando de escuchar en 127.0.0.1 32905 y desconectándose de 3 nodos\n",
      "INFO:root:(('127.0.0.1', 47361)) Broadcasting Number of Samples...\n",
      "DEBUG:root:Closed connection: ('127.0.0.1', 32905)\n",
      "DEBUG:root:Closed connection: ('127.0.0.1', 32905)\n",
      "[('127.0.0.1', 53951), ('127.0.0.1', 53951), ('127.0.0.1', 40193)]\n",
      "aun no implementao\n",
      "DEBUG:root:Closed connection: ('127.0.0.1', 32905)\n",
      "DEBUG:root:Closed connection: ('127.0.0.1', 47361)\n",
      "aun no implementao\n",
      "DEBUG:root:Closed connection: ('127.0.0.1', 53951)\n",
      "INFO:root:(('127.0.0.1', 47361)) Evaluating...\n"
     ]
    },
    {
     "name": "stderr",
     "output_type": "stream",
     "text": [
      "GPU available: False, used: False\n"
     ]
    },
    {
     "name": "stdout",
     "output_type": "stream",
     "text": [
      "DEBUG:root:Closed connection: ('127.0.0.1', 40193)\n"
     ]
    },
    {
     "name": "stderr",
     "output_type": "stream",
     "text": [
      "TPU available: False, using: 0 TPU cores\n",
      "IPU available: False, using: 0 IPUs\n",
      "HPU available: False, using: 0 HPUs\n"
     ]
    },
    {
     "data": {
      "application/vnd.jupyter.widget-view+json": {
       "model_id": "c133ab34b770415c870a1e539449a8df",
       "version_major": 2,
       "version_minor": 0
      },
      "text/plain": [
       "Testing: 0it [00:00, ?it/s]"
      ]
     },
     "metadata": {},
     "output_type": "display_data"
    },
    {
     "name": "stdout",
     "output_type": "stream",
     "text": [
      "[('127.0.0.1', 40193), ('127.0.0.1', 47361), ('127.0.0.1', 47361)]\n",
      "INFO:root:(('127.0.0.1', 53951)) Evaluating...\n",
      "aun no implementao\n",
      "[('127.0.0.1', 47361), ('127.0.0.1', 47361), ('127.0.0.1', 47361)]\n",
      "aun no implementao\n",
      "aun no implementao\n"
     ]
    },
    {
     "name": "stderr",
     "output_type": "stream",
     "text": [
      "GPU available: False, used: False\n"
     ]
    },
    {
     "name": "stdout",
     "output_type": "stream",
     "text": [
      "aun no implementao\n",
      "INFO:root:(('127.0.0.1', 40193)) Evaluating...\n"
     ]
    },
    {
     "name": "stderr",
     "output_type": "stream",
     "text": [
      "GPU available: False, used: False\n",
      "TPU available: False, using: 0 TPU cores\n",
      "TPU available: False, using: 0 TPU cores\n",
      "IPU available: False, using: 0 IPUs\n",
      "IPU available: False, using: 0 IPUs\n",
      "HPU available: False, using: 0 HPUs\n",
      "HPU available: False, using: 0 HPUs\n"
     ]
    },
    {
     "data": {
      "application/vnd.jupyter.widget-view+json": {
       "model_id": "ecccc7d0ef5346fd8869829fa466ff6c",
       "version_major": 2,
       "version_minor": 0
      },
      "text/plain": [
       "Testing: 0it [00:00, ?it/s]"
      ]
     },
     "metadata": {},
     "output_type": "display_data"
    },
    {
     "data": {
      "application/vnd.jupyter.widget-view+json": {
       "model_id": "b03a0c71a3b04a57953aef7fd3749968",
       "version_major": 2,
       "version_minor": 0
      },
      "text/plain": [
       "Testing: 0it [00:00, ?it/s]"
      ]
     },
     "metadata": {},
     "output_type": "display_data"
    },
    {
     "name": "stdout",
     "output_type": "stream",
     "text": [
      "INFO:root:(('127.0.0.1', 47361)) Evaluated. Losss: 2.301456928253174, Metric: 0.12743273377418518. (Check tensorboard for more info)\n",
      "INFO:root:(('127.0.0.1', 47361)) Broadcasting metrics to 2 clients.\n",
      "METRICS RECEIVED ('127.0.0.1:47361', 0, 2.301456928253174, 0.12743273377418518)\n",
      "INFO:root:(('127.0.0.1', 47361)) Training...\n",
      "METRICS RECEIVED ('127.0.0.1:47361', 0, 2.301456928253174, 0.12743273377418518)\n",
      "INFO:root:(127.0.0.1:47361) Model added (1/3) from ('127.0.0.1', 47361)\n",
      "INFO:root:(('127.0.0.1', 47361)) Broadcasting model to 2 clients. (size: 548864 bytes)\n",
      "INFO:root:(('127.0.0.1', 53951)) Evaluated. Losss: 2.301456928253174, Metric: 0.14265146851539612. (Check tensorboard for more info)\n",
      "INFO:root:(('127.0.0.1', 53951)) Broadcasting metrics to 2 clients.\n",
      "METRICS RECEIVED ('127.0.0.1:53951', 0, 2.301456928253174, 0.14265146851539612)\n",
      "METRICS RECEIVED ('127.0.0.1:53951', 0, 2.301456928253174, 0.14265146851539612)\n",
      "INFO:root:(('127.0.0.1', 53951)) Training...\n",
      "INFO:root:(127.0.0.1:53951) Model added (1/3) from ('127.0.0.1', 53951)\n",
      "INFO:root:(('127.0.0.1', 53951)) Broadcasting model to 2 clients. (size: 548864 bytes)\n",
      "INFO:root:(('127.0.0.1', 40193)) Evaluated. Losss: 2.301456928253174, Metric: 0.13719160854816437. (Check tensorboard for more info)\n",
      "INFO:root:(('127.0.0.1', 40193)) Broadcasting metrics to 2 clients.\n",
      "METRICS RECEIVED ('127.0.0.1:40193', 0, 2.301456928253174, 0.13719160854816437)INFO:root:(('127.0.0.1', 40193)) Training...\n",
      "METRICS RECEIVED ('127.0.0.1:40193', 0, 2.301456928253174, 0.13719160854816437)\n",
      "\n",
      "INFO:root:(127.0.0.1:40193) Model added (1/3) from ('127.0.0.1', 40193)\n",
      "INFO:root:(('127.0.0.1', 40193)) Broadcasting model to 2 clients. (size: 548864 bytes)\n",
      "INFO:root:(127.0.0.1:53951) Model added (2/3) from ('127.0.0.1', 47361)\n",
      "INFO:root:(127.0.0.1:40193) Model added (2/3) from ('127.0.0.1', 47361)\n",
      "INFO:root:(127.0.0.1:40193) Model added (3/3) from ('127.0.0.1', 53951)\n",
      "INFO:root:(127.0.0.1:40193) Agregating models.\n",
      "INFO:root:(127.0.0.1:47361) Model added (2/3) from ('127.0.0.1', 53951)\n",
      "INFO:root:(127.0.0.1:53951) Model added (3/3) from ('127.0.0.1', 40193)\n",
      "INFO:root:(127.0.0.1:53951) Agregating models.\n",
      "INFO:root:(127.0.0.1:47361) Model added (3/3) from ('127.0.0.1', 40193)\n",
      "INFO:root:(127.0.0.1:47361) Agregating models.\n",
      "INFO:root:(('127.0.0.1', 40193)) Waiting other nodes.\n",
      "INFO:root:(('127.0.0.1', 53951)) Waiting other nodes.\n",
      "INFO:root:(('127.0.0.1', 47361)) Waiting other nodes.\n",
      "INFO:root:(('127.0.0.1', 53951)) Round 1 of 2 finished.\n",
      "[('127.0.0.1', 47361), ('127.0.0.1', 47361), ('127.0.0.1', 40193)]\n",
      "INFO:root:(('127.0.0.1', 47361)) Round 1 of 2 finished.\n",
      "aun no implementao\n",
      "[('127.0.0.1', 40193), ('127.0.0.1', 53951), ('127.0.0.1', 53951)]INFO:root:(('127.0.0.1', 40193)) Round 1 of 2 finished.\n",
      "\n",
      "aun no implementao[('127.0.0.1', 47361), ('127.0.0.1', 47361), ('127.0.0.1', 47361)]\n",
      "aun no implementao\n",
      "\n",
      "INFO:root:(('127.0.0.1', 53951)) Evaluating...\n",
      "aun no implementaoaun no implementao\n",
      "aun no implementao\n",
      "\n",
      "INFO:root:(('127.0.0.1', 47361)) Evaluating...\n"
     ]
    },
    {
     "name": "stderr",
     "output_type": "stream",
     "text": [
      "GPU available: False, used: False\n",
      "TPU available: False, using: 0 TPU cores\n"
     ]
    },
    {
     "name": "stdout",
     "output_type": "stream",
     "text": [
      "INFO:root:(('127.0.0.1', 40193)) Evaluating...\n"
     ]
    },
    {
     "name": "stderr",
     "output_type": "stream",
     "text": [
      "GPU available: False, used: False\n",
      "IPU available: False, using: 0 IPUs\n",
      "HPU available: False, using: 0 HPUs\n",
      "TPU available: False, using: 0 TPU cores\n",
      "GPU available: False, used: False\n",
      "IPU available: False, using: 0 IPUs\n"
     ]
    },
    {
     "data": {
      "application/vnd.jupyter.widget-view+json": {
       "model_id": "9004df34094e49b0a3807c955cb1386f",
       "version_major": 2,
       "version_minor": 0
      },
      "text/plain": [
       "Testing: 0it [00:00, ?it/s]"
      ]
     },
     "metadata": {},
     "output_type": "display_data"
    },
    {
     "name": "stderr",
     "output_type": "stream",
     "text": [
      "TPU available: False, using: 0 TPU cores\n",
      "HPU available: False, using: 0 HPUs\n",
      "IPU available: False, using: 0 IPUs\n",
      "HPU available: False, using: 0 HPUs\n"
     ]
    },
    {
     "data": {
      "application/vnd.jupyter.widget-view+json": {
       "model_id": "339e701f14fd4900840d9637e4029839",
       "version_major": 2,
       "version_minor": 0
      },
      "text/plain": [
       "Testing: 0it [00:00, ?it/s]"
      ]
     },
     "metadata": {},
     "output_type": "display_data"
    },
    {
     "data": {
      "application/vnd.jupyter.widget-view+json": {
       "model_id": "a5af47d04a48439991c1c71771ee9aa9",
       "version_major": 2,
       "version_minor": 0
      },
      "text/plain": [
       "Testing: 0it [00:00, ?it/s]"
      ]
     },
     "metadata": {},
     "output_type": "display_data"
    },
    {
     "name": "stdout",
     "output_type": "stream",
     "text": [
      "INFO:root:(('127.0.0.1', 53951)) Evaluated. Losss: 2.301456928253174, Metric: 0.1598132699728012. (Check tensorboard for more info)\n",
      "INFO:root:(('127.0.0.1', 53951)) Broadcasting metrics to 2 clients.\n",
      "INFO:root:(('127.0.0.1', 53951)) Training...\n",
      "METRICS RECEIVED ('127.0.0.1:53951', 1, 2.301456928253174, 0.1598132699728012)\n",
      "METRICS RECEIVED ('127.0.0.1:53951', 1, 2.301456928253174, 0.1598132699728012)\n",
      "INFO:root:(127.0.0.1:53951) Model added (1/3) from ('127.0.0.1', 53951)\n",
      "INFO:root:(('127.0.0.1', 53951)) Broadcasting model to 2 clients. (size: 548864 bytes)\n",
      "INFO:root:(127.0.0.1:47361) Model added (1/3) from ('127.0.0.1', 53951)\n",
      "INFO:root:(127.0.0.1:40193) Model added (1/3) from ('127.0.0.1', 53951)\n",
      "INFO:root:(('127.0.0.1', 40193)) Evaluated. Losss: 2.301456928253174, Metric: 0.14817288517951965. (Check tensorboard for more info)\n",
      "INFO:root:(('127.0.0.1', 40193)) Broadcasting metrics to 2 clients.\n",
      "METRICS RECEIVED ('127.0.0.1:40193', 1, 2.301456928253174, 0.14817288517951965)INFO:root:(('127.0.0.1', 47361)) Evaluated. Losss: 2.301456928253174, Metric: 0.1347530484199524. (Check tensorboard for more info)\n",
      "METRICS RECEIVED ('127.0.0.1:40193', 1, 2.301456928253174, 0.14817288517951965)\n",
      "\n",
      "INFO:root:(('127.0.0.1', 40193)) Training...\n",
      "INFO:root:(('127.0.0.1', 47361)) Broadcasting metrics to 2 clients.\n",
      "METRICS RECEIVED ('127.0.0.1:47361', 1, 2.301456928253174, 0.1347530484199524)INFO:root:(127.0.0.1:40193) Model added (2/3) from ('127.0.0.1', 40193)\n",
      "\n",
      "METRICS RECEIVED ('127.0.0.1:47361', 1, 2.301456928253174, 0.1347530484199524)\n",
      "INFO:root:(('127.0.0.1', 47361)) Training...\n",
      "INFO:root:(('127.0.0.1', 40193)) Broadcasting model to 2 clients. (size: 548864 bytes)\n",
      "INFO:root:(127.0.0.1:47361) Model added (2/3) from ('127.0.0.1', 47361)\n",
      "INFO:root:(('127.0.0.1', 47361)) Broadcasting model to 2 clients. (size: 548864 bytes)\n",
      "INFO:root:(127.0.0.1:47361) Model added (3/3) from ('127.0.0.1', 40193)\n",
      "INFO:root:(127.0.0.1:47361) Agregating models.\n",
      "INFO:root:(127.0.0.1:53951) Model added (2/3) from ('127.0.0.1', 40193)\n",
      "INFO:root:(127.0.0.1:40193) Model added (3/3) from ('127.0.0.1', 47361)\n",
      "INFO:root:(127.0.0.1:40193) Agregating models.\n",
      "INFO:root:(127.0.0.1:53951) Model added (3/3) from ('127.0.0.1', 47361)\n",
      "INFO:root:(127.0.0.1:53951) Agregating models.\n",
      "INFO:root:(('127.0.0.1', 47361)) Waiting other nodes.\n",
      "INFO:root:(('127.0.0.1', 40193)) Waiting other nodes.\n",
      "INFO:root:(('127.0.0.1', 53951)) Waiting other nodes.\n",
      "INFO:root:(('127.0.0.1', 47361)) Round 2 of 2 finished.\n",
      "INFO:root:(('127.0.0.1', 47361)) Evaluating...\n"
     ]
    },
    {
     "name": "stderr",
     "output_type": "stream",
     "text": [
      "GPU available: False, used: False\n"
     ]
    },
    {
     "name": "stdout",
     "output_type": "stream",
     "text": [
      "INFO:root:(('127.0.0.1', 53951)) Round 2 of 2 finished.\n"
     ]
    },
    {
     "name": "stderr",
     "output_type": "stream",
     "text": [
      "TPU available: False, using: 0 TPU cores\n"
     ]
    },
    {
     "name": "stdout",
     "output_type": "stream",
     "text": [
      "INFO:root:(('127.0.0.1', 40193)) Round 2 of 2 finished.\n"
     ]
    },
    {
     "name": "stderr",
     "output_type": "stream",
     "text": [
      "IPU available: False, using: 0 IPUs\n"
     ]
    },
    {
     "name": "stdout",
     "output_type": "stream",
     "text": [
      "INFO:root:(('127.0.0.1', 53951)) Evaluating...\n"
     ]
    },
    {
     "name": "stderr",
     "output_type": "stream",
     "text": [
      "HPU available: False, using: 0 HPUs\n"
     ]
    },
    {
     "name": "stdout",
     "output_type": "stream",
     "text": [
      "INFO:root:(('127.0.0.1', 40193)) Evaluating...\n"
     ]
    },
    {
     "name": "stderr",
     "output_type": "stream",
     "text": [
      "GPU available: False, used: False\n",
      "GPU available: False, used: False\n",
      "TPU available: False, using: 0 TPU cores\n",
      "TPU available: False, using: 0 TPU cores\n",
      "IPU available: False, using: 0 IPUs\n"
     ]
    },
    {
     "data": {
      "application/vnd.jupyter.widget-view+json": {
       "model_id": "e1e6969da34d41a685f27b7ae57a7529",
       "version_major": 2,
       "version_minor": 0
      },
      "text/plain": [
       "Testing: 0it [00:00, ?it/s]"
      ]
     },
     "metadata": {},
     "output_type": "display_data"
    },
    {
     "name": "stderr",
     "output_type": "stream",
     "text": [
      "IPU available: False, using: 0 IPUs\n",
      "HPU available: False, using: 0 HPUs\n",
      "HPU available: False, using: 0 HPUs\n"
     ]
    },
    {
     "data": {
      "application/vnd.jupyter.widget-view+json": {
       "model_id": "3a211f095463421d8dfbb9e2b6362229",
       "version_major": 2,
       "version_minor": 0
      },
      "text/plain": [
       "Testing: 0it [00:00, ?it/s]"
      ]
     },
     "metadata": {},
     "output_type": "display_data"
    },
    {
     "data": {
      "application/vnd.jupyter.widget-view+json": {
       "model_id": "9be3e128a3c34ca4ac0a3020fd0815a3",
       "version_major": 2,
       "version_minor": 0
      },
      "text/plain": [
       "Testing: 0it [00:00, ?it/s]"
      ]
     },
     "metadata": {},
     "output_type": "display_data"
    },
    {
     "name": "stdout",
     "output_type": "stream",
     "text": [
      "INFO:root:(('127.0.0.1', 40193)) Evaluated. Losss: 2.301456928253174, Metric: 0.15130013227462769. (Check tensorboard for more info)\n",
      "INFO:root:(('127.0.0.1', 53951)) Evaluated. Losss: 2.301456928253174, Metric: 0.13625633716583252. (Check tensorboard for more info)\n",
      "INFO:root:(('127.0.0.1', 40193)) Broadcasting metrics to 2 clients.\n",
      "INFO:root:(('127.0.0.1', 53951)) Broadcasting metrics to 2 clients.\n",
      "METRICS RECEIVED ('127.0.0.1:40193', 2, 2.301456928253174, 0.15130013227462769)\n",
      "METRICS RECEIVED ('127.0.0.1:40193', 2, 2.301456928253174, 0.15130013227462769)\n",
      "INFO:root:(('127.0.0.1', 40193)) Finish!!.\n",
      "METRICS RECEIVED ('127.0.0.1:53951', 2, 2.301456928253174, 0.13625633716583252)\n",
      "INFO:root:(('127.0.0.1', 53951)) Finish!!.\n",
      "METRICS RECEIVED ('127.0.0.1:53951', 2, 2.301456928253174, 0.13625633716583252)\n",
      "INFO:root:(('127.0.0.1', 47361)) Evaluated. Losss: 2.301456928253174, Metric: 0.13593517243862152. (Check tensorboard for more info)\n",
      "INFO:root:(('127.0.0.1', 47361)) Broadcasting metrics to 2 clients.\n",
      "METRICS RECEIVED ('127.0.0.1:47361', 2, 2.301456928253174, 0.13593517243862152)INFO:root:(('127.0.0.1', 47361)) Finish!!.\n",
      "\n",
      "METRICS RECEIVED ('127.0.0.1:47361', 2, 2.301456928253174, 0.13593517243862152)\n",
      "INFO:root:Bajando el nodo, dejando de escuchar en 127.0.0.1 47361 y desconectándose de 2 nodos\n",
      "DEBUG:root:Closed connection: ('127.0.0.1', 47361)\n",
      "DEBUG:root:Closed connection: ('127.0.0.1', 47361)\n",
      "DEBUG:root:Closed connection: ('127.0.0.1', 53951)\n",
      "DEBUG:root:Closed connection: ('127.0.0.1', 40193)\n",
      "INFO:root:Bajando el nodo, dejando de escuchar en 127.0.0.1 53951 y desconectándose de 1 nodos\n",
      "INFO:root:Bajando el nodo, dejando de escuchar en 127.0.0.1 40193 y desconectándose de 1 nodos\n",
      "DEBUG:root:Closed connection: ('127.0.0.1', 53951)\n",
      "DEBUG:root:Closed connection: ('127.0.0.1', 40193)\n",
      "Train: 54000 Val:6000 Test:10000\n",
      "INFO:root:Nodo a la escucha en 127.0.0.1 39023\n",
      "Train: 54000 Val:6000 Test:10000\n",
      "INFO:root:Nodo a la escucha en 127.0.0.1 57011\n",
      "Train: 54000 Val:6000 Test:10000\n",
      "INFO:root:Nodo a la escucha en 127.0.0.1 41229\n",
      "Train: 54000 Val:6000 Test:10000\n",
      "INFO:root:Nodo a la escucha en 127.0.0.1 37305\n",
      "INFO:root:(('127.0.0.1', 39023)) Conexión aceptada con ('127.0.0.1', 57011)\n",
      "INFO:root:(('127.0.0.1', 57011)) Conexión aceptada con ('127.0.0.1', 41229)\n",
      "INFO:root:(('127.0.0.1', 41229)) Conexión aceptada con ('127.0.0.1', 39023)\n",
      "INFO:root:(('127.0.0.1', 41229)) Conexión aceptada con ('127.0.0.1', 37305)\n",
      "INFO:root:(('127.0.0.1', 37305)) Conexión aceptada con ('127.0.0.1', 57011)\n",
      "INFO:root:(('127.0.0.1', 37305)) Conexión aceptada con ('127.0.0.1', 39023)\n",
      "INFO:root:(('127.0.0.1', 39023)) Broadcasting start learning...\n",
      "INFO:root:(('127.0.0.1', 39023)) Sending Initial Model Weights\n",
      "INFO:root:(('127.0.0.1', 57011)) Broadcasting Number of Samples...\n",
      "INFO:root:(('127.0.0.1', 39023)) Broadcasting model to 3 clients. (size: 548864 bytes)\n",
      "INFO:root:(('127.0.0.1', 41229)) Broadcasting Number of Samples...\n",
      "INFO:root:(('127.0.0.1', 37305)) Broadcasting Number of Samples...\n",
      "INFO:root:(('127.0.0.1', 57011)) Initialicing Model Weights\n",
      "INFO:root:(('127.0.0.1', 37305)) Initialicing Model Weights\n",
      "INFO:root:(('127.0.0.1', 41229)) Initialicing Model Weights\n",
      "INFO:root:(('127.0.0.1', 57011)) Model initialized\n",
      "INFO:root:(('127.0.0.1', 41229)) Model initialized\n",
      "INFO:root:(('127.0.0.1', 37305)) Model initialized\n",
      "INFO:root:(('127.0.0.1', 57011)) Stopping learning\n",
      "INFO:root:(('127.0.0.1', 39023)) Broadcasting Number of Samples...\n",
      "INFO:root:Bajando el nodo, dejando de escuchar en 127.0.0.1 57011 y desconectándose de 3 nodos\n",
      "[('127.0.0.1', 41229), ('127.0.0.1', 41229), ('127.0.0.1', 37305)]\n",
      "DEBUG:root:Closed connection: ('127.0.0.1', 57011)\n",
      "aun no implementao\n",
      "aun no implementao\n",
      "aun no implementao\n",
      "DEBUG:root:Closed connection: ('127.0.0.1', 57011)\n",
      "DEBUG:root:Closed connection: ('127.0.0.1', 57011)\n",
      "DEBUG:root:Closed connection: ('127.0.0.1', 39023)\n",
      "INFO:root:(('127.0.0.1', 39023)) Evaluating...\n",
      "DEBUG:root:Closed connection: ('127.0.0.1', 37305)\n"
     ]
    },
    {
     "name": "stderr",
     "output_type": "stream",
     "text": [
      "GPU available: False, used: False\n",
      "TPU available: False, using: 0 TPU cores\n"
     ]
    },
    {
     "name": "stdout",
     "output_type": "stream",
     "text": [
      "DEBUG:root:Closed connection: ('127.0.0.1', 41229)\n"
     ]
    },
    {
     "name": "stderr",
     "output_type": "stream",
     "text": [
      "IPU available: False, using: 0 IPUs\n",
      "HPU available: False, using: 0 HPUs\n"
     ]
    },
    {
     "data": {
      "application/vnd.jupyter.widget-view+json": {
       "model_id": "6a8ec15e70df4e7b85e0df00fcd180be",
       "version_major": 2,
       "version_minor": 0
      },
      "text/plain": [
       "Testing: 0it [00:00, ?it/s]"
      ]
     },
     "metadata": {},
     "output_type": "display_data"
    },
    {
     "name": "stdout",
     "output_type": "stream",
     "text": [
      "[('127.0.0.1', 41229), ('127.0.0.1', 41229), ('127.0.0.1', 41229)]\n",
      "[('127.0.0.1', 37305), ('127.0.0.1', 37305), ('127.0.0.1', 39023)]\n",
      "INFO:root:(('127.0.0.1', 37305)) Evaluating...\n",
      "aun no implementao\n",
      "aun no implementao\n",
      "aun no implementao\n",
      "aun no implementao\n"
     ]
    },
    {
     "name": "stderr",
     "output_type": "stream",
     "text": [
      "GPU available: False, used: False\n",
      "TPU available: False, using: 0 TPU cores\n"
     ]
    },
    {
     "name": "stdout",
     "output_type": "stream",
     "text": [
      "INFO:root:(('127.0.0.1', 41229)) Evaluating...\n"
     ]
    },
    {
     "name": "stderr",
     "output_type": "stream",
     "text": [
      "IPU available: False, using: 0 IPUs\n",
      "GPU available: False, used: False\n",
      "HPU available: False, using: 0 HPUs\n",
      "TPU available: False, using: 0 TPU cores\n",
      "IPU available: False, using: 0 IPUs\n",
      "HPU available: False, using: 0 HPUs\n"
     ]
    },
    {
     "data": {
      "application/vnd.jupyter.widget-view+json": {
       "model_id": "37875cb6f5104622b7eebcaace5d6c0b",
       "version_major": 2,
       "version_minor": 0
      },
      "text/plain": [
       "Testing: 0it [00:00, ?it/s]"
      ]
     },
     "metadata": {},
     "output_type": "display_data"
    },
    {
     "data": {
      "application/vnd.jupyter.widget-view+json": {
       "model_id": "7598bb740e1e40698375c85192b5c38a",
       "version_major": 2,
       "version_minor": 0
      },
      "text/plain": [
       "Testing: 0it [00:00, ?it/s]"
      ]
     },
     "metadata": {},
     "output_type": "display_data"
    },
    {
     "name": "stdout",
     "output_type": "stream",
     "text": [
      "INFO:root:(('127.0.0.1', 41229)) Evaluated. Losss: 2.301456928253174, Metric: 0.1370297074317932. (Check tensorboard for more info)\n",
      "INFO:root:(('127.0.0.1', 41229)) Broadcasting metrics to 2 clients.\n",
      "INFO:root:(('127.0.0.1', 37305)) Evaluated. Losss: 2.301456928253174, Metric: 0.15240012109279633. (Check tensorboard for more info)\n",
      "METRICS RECEIVED ('127.0.0.1:41229', 0, 2.301456928253174, 0.1370297074317932)\n",
      "METRICS RECEIVED ('127.0.0.1:41229', 0, 2.301456928253174, 0.1370297074317932)\n",
      "INFO:root:(('127.0.0.1', 41229)) Training...\n",
      "INFO:root:(('127.0.0.1', 37305)) Broadcasting metrics to 2 clients.\n",
      "INFO:root:(127.0.0.1:41229) Model added (1/3) from ('127.0.0.1', 41229)\n",
      "METRICS RECEIVED ('127.0.0.1:37305', 0, 2.301456928253174, 0.15240012109279633)\n",
      "METRICS RECEIVED ('127.0.0.1:37305', 0, 2.301456928253174, 0.15240012109279633)\n",
      "INFO:root:(('127.0.0.1', 37305)) Training...\n",
      "INFO:root:(('127.0.0.1', 39023)) Evaluated. Losss: 2.301456928253174, Metric: 0.14036355912685394. (Check tensorboard for more info)\n",
      "INFO:root:(('127.0.0.1', 39023)) Broadcasting metrics to 2 clients.\n",
      "INFO:root:(127.0.0.1:37305) Model added (1/3) from ('127.0.0.1', 37305)\n",
      "METRICS RECEIVED ('127.0.0.1:39023', 0, 2.301456928253174, 0.14036355912685394)\n",
      "METRICS RECEIVED ('127.0.0.1:39023', 0, 2.301456928253174, 0.14036355912685394)\n",
      "INFO:root:(('127.0.0.1', 39023)) Training...\n",
      "INFO:root:(('127.0.0.1', 41229)) Broadcasting model to 2 clients. (size: 548864 bytes)\n",
      "INFO:root:(127.0.0.1:39023) Model added (1/3) from ('127.0.0.1', 39023)\n",
      "INFO:root:(('127.0.0.1', 37305)) Broadcasting model to 2 clients. (size: 548864 bytes)\n",
      "INFO:root:(('127.0.0.1', 39023)) Broadcasting model to 2 clients. (size: 548864 bytes)\n",
      "INFO:root:(127.0.0.1:41229) Model added (2/3) from ('127.0.0.1', 37305)\n",
      "INFO:root:(127.0.0.1:39023) Model added (2/3) from ('127.0.0.1', 41229)\n",
      "INFO:root:(127.0.0.1:37305) Model added (2/3) from ('127.0.0.1', 39023)\n",
      "INFO:root:(127.0.0.1:41229) Model added (3/3) from ('127.0.0.1', 39023)\n",
      "INFO:root:(127.0.0.1:39023) Model added (3/3) from ('127.0.0.1', 37305)\n",
      "INFO:root:(127.0.0.1:37305) Model added (3/3) from ('127.0.0.1', 41229)\n",
      "INFO:root:(127.0.0.1:41229) Agregating models.\n",
      "INFO:root:(127.0.0.1:39023) Agregating models.\n",
      "INFO:root:(127.0.0.1:37305) Agregating models.\n",
      "INFO:root:(('127.0.0.1', 41229)) Waiting other nodes.\n",
      "INFO:root:(('127.0.0.1', 39023)) Waiting other nodes.\n",
      "INFO:root:(('127.0.0.1', 37305)) Waiting other nodes.\n",
      "INFO:root:(('127.0.0.1', 41229)) Round 1 of 2 finished.\n",
      "[('127.0.0.1', 37305), ('127.0.0.1', 37305), ('127.0.0.1', 39023)]\n",
      "INFO:root:(('127.0.0.1', 39023)) Round 1 of 2 finished.\n",
      "aun no implementao\n",
      "[('127.0.0.1', 37305), ('127.0.0.1', 41229), ('127.0.0.1', 37305)]\n",
      "INFO:root:(('127.0.0.1', 37305)) Round 1 of 2 finished.\n",
      "aun no implementaoaun no implementao\n",
      "[('127.0.0.1', 41229), ('127.0.0.1', 41229), ('127.0.0.1', 39023)]\n",
      "\n",
      "INFO:root:(('127.0.0.1', 41229)) Evaluating...\n",
      "aun no implementaoaun no implementao\n",
      "aun no implementao\n",
      "\n",
      "INFO:root:(('127.0.0.1', 39023)) Evaluating...\n"
     ]
    },
    {
     "name": "stderr",
     "output_type": "stream",
     "text": [
      "GPU available: False, used: False\n"
     ]
    },
    {
     "name": "stdout",
     "output_type": "stream",
     "text": [
      "INFO:root:(('127.0.0.1', 37305)) Evaluating...\n"
     ]
    },
    {
     "name": "stderr",
     "output_type": "stream",
     "text": [
      "GPU available: False, used: False\n",
      "TPU available: False, using: 0 TPU cores\n",
      "GPU available: False, used: False\n",
      "TPU available: False, using: 0 TPU cores\n",
      "IPU available: False, using: 0 IPUs\n",
      "TPU available: False, using: 0 TPU cores\n",
      "IPU available: False, using: 0 IPUs\n",
      "HPU available: False, using: 0 HPUs\n",
      "IPU available: False, using: 0 IPUs\n",
      "HPU available: False, using: 0 HPUs\n",
      "HPU available: False, using: 0 HPUs\n"
     ]
    },
    {
     "data": {
      "application/vnd.jupyter.widget-view+json": {
       "model_id": "9b40db1a8def455cbe931c509075bd57",
       "version_major": 2,
       "version_minor": 0
      },
      "text/plain": [
       "Testing: 0it [00:00, ?it/s]"
      ]
     },
     "metadata": {},
     "output_type": "display_data"
    },
    {
     "data": {
      "application/vnd.jupyter.widget-view+json": {
       "model_id": "8c010e1f381641f8bdeac987551d8d31",
       "version_major": 2,
       "version_minor": 0
      },
      "text/plain": [
       "Testing: 0it [00:00, ?it/s]"
      ]
     },
     "metadata": {},
     "output_type": "display_data"
    },
    {
     "data": {
      "application/vnd.jupyter.widget-view+json": {
       "model_id": "31e4f3dd7511477183701263826ddee6",
       "version_major": 2,
       "version_minor": 0
      },
      "text/plain": [
       "Testing: 0it [00:00, ?it/s]"
      ]
     },
     "metadata": {},
     "output_type": "display_data"
    },
    {
     "name": "stdout",
     "output_type": "stream",
     "text": [
      "INFO:root:(('127.0.0.1', 39023)) Evaluated. Losss: 2.301456928253174, Metric: 0.15845277905464172. (Check tensorboard for more info)\n",
      "INFO:root:(('127.0.0.1', 39023)) Broadcasting metrics to 2 clients.\n",
      "INFO:root:(('127.0.0.1', 41229)) Evaluated. Losss: 2.301456928253174, Metric: 0.1275114268064499. (Check tensorboard for more info)\n",
      "METRICS RECEIVED ('127.0.0.1:39023', 1, 2.301456928253174, 0.15845277905464172)\n",
      "METRICS RECEIVED ('127.0.0.1:39023', 1, 2.301456928253174, 0.15845277905464172)\n",
      "INFO:root:(('127.0.0.1', 37305)) Evaluated. Losss: 2.301456928253174, Metric: 0.13493773341178894. (Check tensorboard for more info)\n",
      "INFO:root:(('127.0.0.1', 39023)) Training...\n",
      "INFO:root:(('127.0.0.1', 41229)) Broadcasting metrics to 2 clients.\n",
      "INFO:root:(('127.0.0.1', 37305)) Broadcasting metrics to 2 clients.\n",
      "METRICS RECEIVED ('127.0.0.1:41229', 1, 2.301456928253174, 0.1275114268064499)INFO:root:(127.0.0.1:39023) Model added (1/3) from ('127.0.0.1', 39023)\n",
      "METRICS RECEIVED ('127.0.0.1:37305', 1, 2.301456928253174, 0.13493773341178894)\n",
      "METRICS RECEIVED ('127.0.0.1:41229', 1, 2.301456928253174, 0.1275114268064499)\n",
      "\n",
      "METRICS RECEIVED ('127.0.0.1:37305', 1, 2.301456928253174, 0.13493773341178894)INFO:root:(('127.0.0.1', 41229)) Training...\n",
      "\n",
      "INFO:root:(('127.0.0.1', 37305)) Training...\n",
      "INFO:root:(127.0.0.1:41229) Model added (1/3) from ('127.0.0.1', 41229)\n",
      "INFO:root:(('127.0.0.1', 39023)) Broadcasting model to 2 clients. (size: 548864 bytes)\n",
      "INFO:root:(127.0.0.1:37305) Model added (1/3) from ('127.0.0.1', 37305)\n",
      "INFO:root:(('127.0.0.1', 41229)) Broadcasting model to 2 clients. (size: 548864 bytes)\n",
      "INFO:root:(('127.0.0.1', 37305)) Broadcasting model to 2 clients. (size: 548864 bytes)\n",
      "INFO:root:(127.0.0.1:37305) Model added (2/3) from ('127.0.0.1', 39023)\n",
      "INFO:root:(127.0.0.1:41229) Model added (2/3) from ('127.0.0.1', 39023)\n",
      "INFO:root:(127.0.0.1:41229) Model added (3/3) from ('127.0.0.1', 37305)\n",
      "INFO:root:(127.0.0.1:41229) Agregating models.\n",
      "INFO:root:(127.0.0.1:39023) Model added (2/3) from ('127.0.0.1', 41229)\n",
      "INFO:root:(127.0.0.1:39023) Model added (3/3) from ('127.0.0.1', 37305)\n",
      "INFO:root:(127.0.0.1:39023) Agregating models.\n",
      "INFO:root:(127.0.0.1:37305) Model added (3/3) from ('127.0.0.1', 41229)\n",
      "INFO:root:(127.0.0.1:37305) Agregating models.\n",
      "INFO:root:(('127.0.0.1', 41229)) Waiting other nodes.\n",
      "INFO:root:(('127.0.0.1', 39023)) Waiting other nodes.\n",
      "INFO:root:(('127.0.0.1', 37305)) Waiting other nodes.\n",
      "INFO:root:(('127.0.0.1', 39023)) Round 2 of 2 finished.\n",
      "INFO:root:(('127.0.0.1', 41229)) Round 2 of 2 finished.\n",
      "INFO:root:(('127.0.0.1', 37305)) Round 2 of 2 finished.\n",
      "INFO:root:(('127.0.0.1', 39023)) Evaluating...\n",
      "INFO:root:(('127.0.0.1', 41229)) Evaluating...\n"
     ]
    },
    {
     "name": "stderr",
     "output_type": "stream",
     "text": [
      "GPU available: False, used: False\n"
     ]
    },
    {
     "name": "stdout",
     "output_type": "stream",
     "text": [
      "INFO:root:(('127.0.0.1', 37305)) Evaluating...\n"
     ]
    },
    {
     "name": "stderr",
     "output_type": "stream",
     "text": [
      "GPU available: False, used: False\n",
      "TPU available: False, using: 0 TPU cores\n",
      "GPU available: False, used: False\n",
      "TPU available: False, using: 0 TPU cores\n",
      "IPU available: False, using: 0 IPUs\n",
      "TPU available: False, using: 0 TPU cores\n",
      "IPU available: False, using: 0 IPUs\n",
      "HPU available: False, using: 0 HPUs\n",
      "IPU available: False, using: 0 IPUs\n",
      "HPU available: False, using: 0 HPUs\n",
      "HPU available: False, using: 0 HPUs\n"
     ]
    },
    {
     "data": {
      "application/vnd.jupyter.widget-view+json": {
       "model_id": "8bcca9e4a4d14465bf7ec2cf0e25662b",
       "version_major": 2,
       "version_minor": 0
      },
      "text/plain": [
       "Testing: 0it [00:00, ?it/s]"
      ]
     },
     "metadata": {},
     "output_type": "display_data"
    },
    {
     "data": {
      "application/vnd.jupyter.widget-view+json": {
       "model_id": "4c36dea4bd2846b1b41e1f877805e81a",
       "version_major": 2,
       "version_minor": 0
      },
      "text/plain": [
       "Testing: 0it [00:00, ?it/s]"
      ]
     },
     "metadata": {},
     "output_type": "display_data"
    },
    {
     "data": {
      "application/vnd.jupyter.widget-view+json": {
       "model_id": "7c99cb237b1446d2aeef41e701072976",
       "version_major": 2,
       "version_minor": 0
      },
      "text/plain": [
       "Testing: 0it [00:00, ?it/s]"
      ]
     },
     "metadata": {},
     "output_type": "display_data"
    },
    {
     "name": "stdout",
     "output_type": "stream",
     "text": [
      "INFO:root:(('127.0.0.1', 39023)) Evaluated. Losss: 2.301456928253174, Metric: 0.15053437650203705. (Check tensorboard for more info)\n",
      "INFO:root:(('127.0.0.1', 37305)) Evaluated. Losss: 2.301456928253174, Metric: 0.138490691781044. (Check tensorboard for more info)\n",
      "INFO:root:(('127.0.0.1', 39023)) Broadcasting metrics to 2 clients.\n",
      "INFO:root:(('127.0.0.1', 41229)) Evaluated. Losss: 2.301456928253174, Metric: 0.14942456781864166. (Check tensorboard for more info)\n",
      "METRICS RECEIVED ('127.0.0.1:39023', 2, 2.301456928253174, 0.15053437650203705)\n",
      "METRICS RECEIVED ('127.0.0.1:39023', 2, 2.301456928253174, 0.15053437650203705)\n",
      "INFO:root:(('127.0.0.1', 37305)) Broadcasting metrics to 2 clients.\n",
      "INFO:root:(('127.0.0.1', 39023)) Finish!!.\n",
      "METRICS RECEIVED ('127.0.0.1:37305', 2, 2.301456928253174, 0.138490691781044)\n",
      "METRICS RECEIVED ('127.0.0.1:37305', 2, 2.301456928253174, 0.138490691781044)\n",
      "INFO:root:(('127.0.0.1', 41229)) Broadcasting metrics to 2 clients.\n",
      "INFO:root:(('127.0.0.1', 37305)) Finish!!.\n",
      "METRICS RECEIVED ('127.0.0.1:41229', 2, 2.301456928253174, 0.14942456781864166)INFO:root:(('127.0.0.1', 41229)) Finish!!.\n",
      "\n",
      "METRICS RECEIVED ('127.0.0.1:41229', 2, 2.301456928253174, 0.14942456781864166)\n",
      "INFO:root:Bajando el nodo, dejando de escuchar en 127.0.0.1 39023 y desconectándose de 2 nodos\n",
      "DEBUG:root:Closed connection: ('127.0.0.1', 39023)\n",
      "DEBUG:root:Closed connection: ('127.0.0.1', 39023)\n",
      "DEBUG:root:Closed connection: ('127.0.0.1', 37305)\n",
      "DEBUG:root:Closed connection: ('127.0.0.1', 41229)\n",
      "INFO:root:Bajando el nodo, dejando de escuchar en 127.0.0.1 41229 y desconectándose de 1 nodos\n",
      "INFO:root:Bajando el nodo, dejando de escuchar en 127.0.0.1 37305 y desconectándose de 1 nodos\n",
      "DEBUG:root:Closed connection: ('127.0.0.1', 41229)\n",
      "DEBUG:root:Closed connection: ('127.0.0.1', 37305)\n"
     ]
    }
   ],
   "source": [
    "from p2pfl.learning.pytorch.mnist_examples.mnistfederated_dm import MnistFederatedDM\n",
    "from p2pfl.learning.pytorch.mnist_examples.models.cnn import CNN\n",
    "from p2pfl.learning.pytorch.mnist_examples.models.mlp import MLP\n",
    "from p2pfl.node import Node\n",
    "import pytest\n",
    "import time\n",
    "import threading\n",
    "\n",
    "nodes = []\n",
    "        \n",
    "def test_node_down_on_learning(n):\n",
    "\n",
    "    # Node Creation\n",
    "    nodes = []\n",
    "    for i in range(n):\n",
    "        node = Node(MLP(),MnistFederatedDM())\n",
    "        node.start()\n",
    "        nodes.append(node)\n",
    "\n",
    "    # Node Connection\n",
    "    for i in range(len(nodes)-1):\n",
    "        nodes[i+1].connect_to(nodes[i].host,nodes[i].port)\n",
    "        time.sleep(1)\n",
    "\n",
    "    # Check if they are connected\n",
    "    for node in nodes:\n",
    "        assert len(node.neightboors) == n-1\n",
    "\n",
    "    # Start Learning\n",
    "    nodes[0].set_start_learning(rounds=2,epochs=0)\n",
    "\n",
    "    # Stopping node\n",
    "    nodes[1].stop()\n",
    "    # Wait 4 results\n",
    "    while True:\n",
    "        time.sleep(1)\n",
    "        finish = True\n",
    "        for f in [node.round is None for node in nodes]:\n",
    "            finish = finish and f\n",
    "\n",
    "        if finish:\n",
    "            break\n",
    "\n",
    "    for node in nodes:\n",
    "        node.stop()\n",
    "\n",
    "\n",
    "nodes = []\n",
    "for _ in range(6):\n",
    "    test_node_down_on_learning(4)\n"
   ]
  },
  {
   "cell_type": "code",
   "execution_count": 2,
   "id": "86d86781",
   "metadata": {
    "scrolled": true
   },
   "outputs": [
    {
     "name": "stdout",
     "output_type": "stream",
     "text": [
      "MainThread\n",
      "IOPub\n",
      "Heartbeat\n",
      "Thread-3\n",
      "Thread-4\n",
      "Control\n",
      "IPythonHistorySavingThread\n",
      "Thread-2\n"
     ]
    }
   ],
   "source": [
    "#import threading\n",
    "for thread in threading.enumerate(): \n",
    "    print(thread.name)"
   ]
  },
  {
   "cell_type": "code",
   "execution_count": 6,
   "id": "445e009c",
   "metadata": {},
   "outputs": [
    {
     "data": {
      "text/plain": [
       "('/Users/pedro/Documents/UDC/4/TFG/federated_learning_p2p/p2pfl/node.py',\n",
       " '__on_round_finished',\n",
       " 260)"
      ]
     },
     "execution_count": 6,
     "metadata": {},
     "output_type": "execute_result"
    }
   ],
   "source": [
    "import sys\n",
    "\n",
    "def get_thread_position(thread):\n",
    "    frame = sys._current_frames().get(thread.ident, None)\n",
    "    if frame:\n",
    "        return frame.f_code.co_filename, frame.f_code.co_name, frame.f_code.co_firstlineno\n",
    "\n",
    "get_thread_position(threading.enumerate()[-1])"
   ]
  },
  {
   "cell_type": "code",
   "execution_count": 1,
   "id": "4471063f",
   "metadata": {
    "scrolled": true
   },
   "outputs": [
    {
     "ename": "ModuleNotFoundError",
     "evalue": "No module named 'p2pfl.const'",
     "output_type": "error",
     "traceback": [
      "\u001b[0;31m---------------------------------------------------------------------------\u001b[0m",
      "\u001b[0;31mModuleNotFoundError\u001b[0m                       Traceback (most recent call last)",
      "Input \u001b[0;32mIn [1]\u001b[0m, in \u001b[0;36m<cell line: 1>\u001b[0;34m()\u001b[0m\n\u001b[0;32m----> 1\u001b[0m \u001b[38;5;28;01mfrom\u001b[39;00m \u001b[38;5;21;01mp2pfl\u001b[39;00m\u001b[38;5;21;01m.\u001b[39;00m\u001b[38;5;21;01mconst\u001b[39;00m \u001b[38;5;28;01mimport\u001b[39;00m HEARTBEAT_FREC, SOCKET_TIEMOUT\n\u001b[1;32m      2\u001b[0m \u001b[38;5;28;01mfrom\u001b[39;00m \u001b[38;5;21;01mp2pfl\u001b[39;00m\u001b[38;5;21;01m.\u001b[39;00m\u001b[38;5;21;01mlearning\u001b[39;00m\u001b[38;5;21;01m.\u001b[39;00m\u001b[38;5;21;01mpytorch\u001b[39;00m\u001b[38;5;21;01m.\u001b[39;00m\u001b[38;5;21;01mmnist_examples\u001b[39;00m\u001b[38;5;21;01m.\u001b[39;00m\u001b[38;5;21;01mmnistfederated_dm\u001b[39;00m \u001b[38;5;28;01mimport\u001b[39;00m MnistFederatedDM\n\u001b[1;32m      3\u001b[0m \u001b[38;5;28;01mfrom\u001b[39;00m \u001b[38;5;21;01mp2pfl\u001b[39;00m\u001b[38;5;21;01m.\u001b[39;00m\u001b[38;5;21;01mlearning\u001b[39;00m\u001b[38;5;21;01m.\u001b[39;00m\u001b[38;5;21;01mpytorch\u001b[39;00m\u001b[38;5;21;01m.\u001b[39;00m\u001b[38;5;21;01mmnist_examples\u001b[39;00m\u001b[38;5;21;01m.\u001b[39;00m\u001b[38;5;21;01mmodels\u001b[39;00m\u001b[38;5;21;01m.\u001b[39;00m\u001b[38;5;21;01mcnn\u001b[39;00m \u001b[38;5;28;01mimport\u001b[39;00m CNN\n",
      "\u001b[0;31mModuleNotFoundError\u001b[0m: No module named 'p2pfl.const'"
     ]
    }
   ],
   "source": [
    "from p2pfl.const import HEARTBEAT_FREC, SOCKET_TIEMOUT\n",
    "from p2pfl.learning.pytorch.mnist_examples.mnistfederated_dm import MnistFederatedDM\n",
    "from p2pfl.learning.pytorch.mnist_examples.models.cnn import CNN\n",
    "from p2pfl.learning.pytorch.mnist_examples.models.mlp import MLP\n",
    "from p2pfl.node import Node\n",
    "import pytest\n",
    "import time\n",
    "from test.fixtures import two_nodes, four_nodes\n",
    "\n",
    "\n",
    "import threading\n",
    "for thread in threading.enumerate(): \n",
    "    print(thread.name)\n",
    "    \n",
    "n1 = Node(MLP(),MnistFederatedDM())\n",
    "n2 = Node(MLP(),MnistFederatedDM())\n",
    "print(\"\\n\")\n",
    "def test_bad_binary_model():\n",
    "\n",
    "    n1.start()\n",
    "    n2.start()\n",
    "\n",
    "    n1.connect_to(n2.host,n2.port)\n",
    "    time.sleep(0.1) \n",
    "\n",
    "    # Start Learning\n",
    "    n1.set_start_learning(rounds=2,epochs=0)\n",
    " \n",
    "    # Adding noise to the buffer\n",
    "    for _ in range(200):self.neightboors\n",
    "        n1.neightboors[0].param_bufffer += \"noise\".encode(\"utf-8\")\n",
    "    \n",
    "    while not n1.round is None and not n2.round is None:\n",
    "        time.sleep(0.1)\n",
    "        \n",
    "    n1.stop()\n",
    "    n2.stop()\n",
    "    \n",
    "test_bad_binary_model()\n",
    "\n",
    "time.sleep(10)\n",
    "\n",
    "for thread in threading.enumerate(): \n",
    "    print(thread.name)\n",
    "    \n",
    "print(\"\\n\")\n",
    "\n"
   ]
  },
  {
   "cell_type": "code",
   "execution_count": 4,
   "id": "b7fe91dc",
   "metadata": {},
   "outputs": [
    {
     "name": "stdout",
     "output_type": "stream",
     "text": [
      "MainThread\n",
      "IOPub\n",
      "Heartbeat\n",
      "Thread-3\n",
      "Thread-4\n",
      "Control\n",
      "IPythonHistorySavingThread\n",
      "Thread-2\n"
     ]
    }
   ],
   "source": [
    "\n",
    "for thread in threading.enumerate(): \n",
    "    print(thread.name)\n",
    "    "
   ]
  },
  {
   "cell_type": "code",
   "execution_count": 6,
   "id": "aec30564",
   "metadata": {},
   "outputs": [
    {
     "name": "stdout",
     "output_type": "stream",
     "text": [
      "None\n"
     ]
    }
   ],
   "source": [
    "print(n1.round)"
   ]
  },
  {
   "cell_type": "code",
   "execution_count": 4,
   "id": "3bc69eb3",
   "metadata": {},
   "outputs": [],
   "source": [
    "from p2pfl.settings import Settings\n",
    "\n",
    "Settings.AGREGATION_TIEMOUT = 1"
   ]
  },
  {
   "cell_type": "code",
   "execution_count": 5,
   "id": "ccd4109a",
   "metadata": {},
   "outputs": [
    {
     "data": {
      "text/plain": [
       "False"
      ]
     },
     "execution_count": 5,
     "metadata": {},
     "output_type": "execute_result"
    }
   ],
   "source": [
    "\"0.1545318067073822\".isdecimal()"
   ]
  },
  {
   "cell_type": "code",
   "execution_count": 4,
   "id": "6cfda0c3",
   "metadata": {},
   "outputs": [
    {
     "name": "stdout",
     "output_type": "stream",
     "text": [
      "0 2.301456928253174 0.13700607419013977\n"
     ]
    }
   ],
   "source": [
    "message = ['METRICS', '0', '2.301456928253174', '0.13700607419013977']\n",
    "print(int(message[1]), float(message[2]), float(message[3]))"
   ]
  },
  {
   "cell_type": "code",
   "execution_count": 11,
   "id": "98edc3c4",
   "metadata": {},
   "outputs": [
    {
     "data": {
      "text/plain": [
       "[5, 8, 2]"
      ]
     },
     "execution_count": 11,
     "metadata": {},
     "output_type": "execute_result"
    }
   ],
   "source": [
    "import random\n",
    "import math\n",
    "a = [1,2,3,4,5,6,7,8,9,10]\n",
    "\n",
    "random.choices(a, k=3)"
   ]
  },
  {
   "cell_type": "code",
   "execution_count": 13,
   "id": "c840caba",
   "metadata": {},
   "outputs": [
    {
     "data": {
      "text/plain": [
       "[300, 298, 15]"
      ]
     },
     "execution_count": 13,
     "metadata": {},
     "output_type": "execute_result"
    }
   ],
   "source": [
    "[random.randint(0,1000),math.floor(random.randint(0,1000)/2),math.floor(random.randint(0,1000)/4)]"
   ]
  },
  {
   "cell_type": "code",
   "execution_count": 15,
   "id": "3f54ae0e",
   "metadata": {},
   "outputs": [
    {
     "data": {
      "text/plain": [
       "'12'"
      ]
     },
     "execution_count": 15,
     "metadata": {},
     "output_type": "execute_result"
    }
   ],
   "source": [
    "\"\".join((\"1\",\"2\"))"
   ]
  },
  {
   "cell_type": "code",
   "execution_count": 20,
   "id": "77d5a203",
   "metadata": {},
   "outputs": [
    {
     "data": {
      "text/plain": [
       "b'CommunicationProtocol.VOTE_TRAIN_SET host port 443 host port 194 host port 245\\n'"
      ]
     },
     "execution_count": 20,
     "metadata": {},
     "output_type": "execute_result"
    }
   ],
   "source": [
    "def build_vote_train_set_msg(candidates, weights):\n",
    "    aux = \"\"\n",
    "    for i in range(len(candidates)):\n",
    "        aux = aux + \" \" + \" \".join(candidates[i]) + \" \" + str(weights[i])\n",
    "    return (\"CommunicationProtocol.VOTE_TRAIN_SET\" + aux + \"\\n\").encode(\"utf-8\")\n",
    "\n",
    "candidates = [(\"host\",\"port\"),(\"host\",\"port\"),(\"host\",\"port\")]\n",
    "weights = [random.randint(0,1000),math.floor(random.randint(0,1000)/2),math.floor(random.randint(0,1000)/4)]\n",
    "\n",
    "build_vote_train_set_msg(candidates,weights)"
   ]
  },
  {
   "cell_type": "code",
   "execution_count": 2,
   "id": "0fe998c1",
   "metadata": {},
   "outputs": [
    {
     "data": {
      "text/plain": [
       "['1', '2']"
      ]
     },
     "execution_count": 2,
     "metadata": {},
     "output_type": "execute_result"
    }
   ],
   "source": [
    "[str(x) for x in (\"1\",2)]"
   ]
  },
  {
   "cell_type": "code",
   "execution_count": 1,
   "id": "2fdb4422",
   "metadata": {},
   "outputs": [
    {
     "ename": "IndexError",
     "evalue": "list index out of range",
     "output_type": "error",
     "traceback": [
      "\u001b[0;31m---------------------------------------------------------------------------\u001b[0m",
      "\u001b[0;31mIndexError\u001b[0m                                Traceback (most recent call last)",
      "Input \u001b[0;32mIn [1]\u001b[0m, in \u001b[0;36m<cell line: 2>\u001b[0;34m()\u001b[0m\n\u001b[1;32m      1\u001b[0m \u001b[38;5;28;01mimport\u001b[39;00m \u001b[38;5;21;01mrandom\u001b[39;00m\n\u001b[0;32m----> 2\u001b[0m \u001b[43mrandom\u001b[49m\u001b[38;5;241;43m.\u001b[39;49m\u001b[43mchoices\u001b[49m\u001b[43m(\u001b[49m\u001b[43m[\u001b[49m\u001b[43m]\u001b[49m\u001b[43m,\u001b[49m\u001b[43m \u001b[49m\u001b[43mk\u001b[49m\u001b[38;5;241;43m=\u001b[39;49m\u001b[38;5;241;43m3\u001b[39;49m\u001b[43m)\u001b[49m\n",
      "File \u001b[0;32m/usr/lib/python3.9/random.py:487\u001b[0m, in \u001b[0;36mRandom.choices\u001b[0;34m(self, population, weights, cum_weights, k)\u001b[0m\n\u001b[1;32m    485\u001b[0m         floor \u001b[38;5;241m=\u001b[39m _floor\n\u001b[1;32m    486\u001b[0m         n \u001b[38;5;241m+\u001b[39m\u001b[38;5;241m=\u001b[39m \u001b[38;5;241m0.0\u001b[39m    \u001b[38;5;66;03m# convert to float for a small speed improvement\u001b[39;00m\n\u001b[0;32m--> 487\u001b[0m         \u001b[38;5;28;01mreturn\u001b[39;00m [population[floor(random() \u001b[38;5;241m*\u001b[39m n)] \u001b[38;5;28;01mfor\u001b[39;00m i \u001b[38;5;129;01min\u001b[39;00m _repeat(\u001b[38;5;28;01mNone\u001b[39;00m, k)]\n\u001b[1;32m    488\u001b[0m     cum_weights \u001b[38;5;241m=\u001b[39m \u001b[38;5;28mlist\u001b[39m(_accumulate(weights))\n\u001b[1;32m    489\u001b[0m \u001b[38;5;28;01melif\u001b[39;00m weights \u001b[38;5;129;01mis\u001b[39;00m \u001b[38;5;129;01mnot\u001b[39;00m \u001b[38;5;28;01mNone\u001b[39;00m:\n",
      "File \u001b[0;32m/usr/lib/python3.9/random.py:487\u001b[0m, in \u001b[0;36m<listcomp>\u001b[0;34m(.0)\u001b[0m\n\u001b[1;32m    485\u001b[0m         floor \u001b[38;5;241m=\u001b[39m _floor\n\u001b[1;32m    486\u001b[0m         n \u001b[38;5;241m+\u001b[39m\u001b[38;5;241m=\u001b[39m \u001b[38;5;241m0.0\u001b[39m    \u001b[38;5;66;03m# convert to float for a small speed improvement\u001b[39;00m\n\u001b[0;32m--> 487\u001b[0m         \u001b[38;5;28;01mreturn\u001b[39;00m [\u001b[43mpopulation\u001b[49m\u001b[43m[\u001b[49m\u001b[43mfloor\u001b[49m\u001b[43m(\u001b[49m\u001b[43mrandom\u001b[49m\u001b[43m(\u001b[49m\u001b[43m)\u001b[49m\u001b[43m \u001b[49m\u001b[38;5;241;43m*\u001b[39;49m\u001b[43m \u001b[49m\u001b[43mn\u001b[49m\u001b[43m)\u001b[49m\u001b[43m]\u001b[49m \u001b[38;5;28;01mfor\u001b[39;00m i \u001b[38;5;129;01min\u001b[39;00m _repeat(\u001b[38;5;28;01mNone\u001b[39;00m, k)]\n\u001b[1;32m    488\u001b[0m     cum_weights \u001b[38;5;241m=\u001b[39m \u001b[38;5;28mlist\u001b[39m(_accumulate(weights))\n\u001b[1;32m    489\u001b[0m \u001b[38;5;28;01melif\u001b[39;00m weights \u001b[38;5;129;01mis\u001b[39;00m \u001b[38;5;129;01mnot\u001b[39;00m \u001b[38;5;28;01mNone\u001b[39;00m:\n",
      "\u001b[0;31mIndexError\u001b[0m: list index out of range"
     ]
    }
   ],
   "source": [
    "import random\n",
    "random.choices([], k=3)"
   ]
  },
  {
   "cell_type": "code",
   "execution_count": null,
   "id": "4d3c757d",
   "metadata": {},
   "outputs": [],
   "source": []
  }
 ],
 "metadata": {
  "kernelspec": {
   "display_name": "Python 3 (ipykernel)",
   "language": "python",
   "name": "python3"
  },
  "language_info": {
   "codemirror_mode": {
    "name": "ipython",
    "version": 3
   },
   "file_extension": ".py",
   "mimetype": "text/x-python",
   "name": "python",
   "nbconvert_exporter": "python",
   "pygments_lexer": "ipython3",
   "version": "3.9.2"
  }
 },
 "nbformat": 4,
 "nbformat_minor": 5
}

{
 "cells": [
  {
   "cell_type": "code",
   "execution_count": 1,
   "id": "de3333e5",
   "metadata": {
    "scrolled": true
   },
   "outputs": [
    {
     "name": "stdout",
     "output_type": "stream",
     "text": [
      "INFO:torch.distributed.nn.jit.instantiator:Created a temporary directory at /var/folders/vm/p9lv42ms7ml71cjvsj4bnbnm0000gn/T/tmp3zph9zaw\n",
      "INFO:torch.distributed.nn.jit.instantiator:Writing /var/folders/vm/p9lv42ms7ml71cjvsj4bnbnm0000gn/T/tmp3zph9zaw/_remote_module_non_sriptable.py\n",
      "INFO:root:Nodo a la escucha en localhost 50140\n",
      "INFO:root:Nodo a la escucha en localhost 50141\n",
      "INFO:root:Conexión aceptada con ('localhost', 50141)\n",
      "INFO:root:Broadcasting start learning...\n",
      "INFO:root:Training...\n"
     ]
    },
    {
     "name": "stderr",
     "output_type": "stream",
     "text": [
      "GPU available: False, used: False\n"
     ]
    },
    {
     "name": "stdout",
     "output_type": "stream",
     "text": [
      "INFO:root:Training...\n"
     ]
    },
    {
     "name": "stderr",
     "output_type": "stream",
     "text": [
      "TPU available: False, using: 0 TPU cores\n",
      "GPU available: False, used: False\n",
      "TPU available: False, using: 0 TPU cores\n",
      "IPU available: False, using: 0 IPUs\n",
      "HPU available: False, using: 0 HPUs\n",
      "IPU available: False, using: 0 IPUs\n",
      "HPU available: False, using: 0 HPUs\n",
      "\n",
      "  | Name     | Type     | Params\n",
      "--------------------------------------\n",
      "0 | accuracy | Accuracy | 0     \n",
      "1 | l1       | Linear   | 100 K \n",
      "2 | l2       | Linear   | 33.0 K\n",
      "3 | l3       | Linear   | 2.6 K \n",
      "--------------------------------------\n",
      "136 K     Trainable params\n",
      "0         Non-trainable params\n",
      "136 K     Total params\n",
      "0.544     Total estimated model params size (MB)\n",
      "\n",
      "  | Name     | Type     | Params\n",
      "--------------------------------------\n",
      "0 | accuracy | Accuracy | 0     \n",
      "1 | l1       | Linear   | 100 K \n",
      "2 | l2       | Linear   | 33.0 K\n",
      "3 | l3       | Linear   | 2.6 K \n",
      "--------------------------------------\n",
      "136 K     Trainable params\n",
      "0         Non-trainable params\n",
      "136 K     Total params\n",
      "0.544     Total estimated model params size (MB)\n"
     ]
    },
    {
     "name": "stdout",
     "output_type": "stream",
     "text": [
      "Train: 54000 Val:6000 Test:10000Train: 54000 Val:6000 Test:10000\n",
      "\n"
     ]
    },
    {
     "data": {
      "application/vnd.jupyter.widget-view+json": {
       "model_id": "",
       "version_major": 2,
       "version_minor": 0
      },
      "text/plain": [
       "Sanity Checking: 0it [00:00, ?it/s]"
      ]
     },
     "metadata": {},
     "output_type": "display_data"
    },
    {
     "data": {
      "application/vnd.jupyter.widget-view+json": {
       "model_id": "",
       "version_major": 2,
       "version_minor": 0
      },
      "text/plain": [
       "Sanity Checking: 0it [00:00, ?it/s]"
      ]
     },
     "metadata": {},
     "output_type": "display_data"
    },
    {
     "name": "stdout",
     "output_type": "stream",
     "text": [
      "INFO:root:Model added (1/2)\n",
      "INFO:root:Broadcasting model to all clients...\n",
      "INFO:root:Model added (1/2)\n",
      "INFO:root:Broadcasting model to all clients...\n",
      "INFO:root:Model added (2/2)\n",
      "INFO:root:Agregating models.\n",
      "INFO:root:Model added (2/2)\n",
      "INFO:root:Round 1 of 2 finished. (('localhost', 50141))\n",
      "Waiting for local model sharing processes to finish\n",
      "INFO:root:Agregating models.\n",
      "INFO:root:Training...\n"
     ]
    },
    {
     "name": "stderr",
     "output_type": "stream",
     "text": [
      "GPU available: False, used: False\n",
      "TPU available: False, using: 0 TPU cores\n",
      "IPU available: False, using: 0 IPUs\n"
     ]
    },
    {
     "name": "stdout",
     "output_type": "stream",
     "text": [
      "INFO:root:Round 1 of 2 finished. (('localhost', 50140))\n"
     ]
    },
    {
     "name": "stderr",
     "output_type": "stream",
     "text": [
      "HPU available: False, using: 0 HPUs\n"
     ]
    },
    {
     "name": "stdout",
     "output_type": "stream",
     "text": [
      "Waiting for local model sharing processes to finish\n",
      "INFO:root:Training...\n"
     ]
    },
    {
     "name": "stderr",
     "output_type": "stream",
     "text": [
      "GPU available: False, used: False\n",
      "TPU available: False, using: 0 TPU cores\n",
      "IPU available: False, using: 0 IPUs\n",
      "HPU available: False, using: 0 HPUs\n",
      "\n",
      "  | Name     | Type     | Params\n",
      "--------------------------------------\n",
      "0 | accuracy | Accuracy | 0     \n",
      "1 | l1       | Linear   | 100 K \n",
      "2 | l2       | Linear   | 33.0 K\n",
      "3 | l3       | Linear   | 2.6 K \n",
      "--------------------------------------\n",
      "136 K     Trainable params\n",
      "0         Non-trainable params\n",
      "136 K     Total params\n",
      "0.544     Total estimated model params size (MB)\n",
      "\n",
      "  | Name     | Type     | Params\n",
      "--------------------------------------\n",
      "0 | accuracy | Accuracy | 0     \n",
      "1 | l1       | Linear   | 100 K \n",
      "2 | l2       | Linear   | 33.0 K\n",
      "3 | l3       | Linear   | 2.6 K \n",
      "--------------------------------------\n",
      "136 K     Trainable params\n",
      "0         Non-trainable params\n",
      "136 K     Total params\n",
      "0.544     Total estimated model params size (MB)\n"
     ]
    },
    {
     "name": "stdout",
     "output_type": "stream",
     "text": [
      "Train: 54000 Val:6000 Test:10000\n",
      "Train: 54000 Val:6000 Test:10000\n"
     ]
    },
    {
     "data": {
      "application/vnd.jupyter.widget-view+json": {
       "model_id": "",
       "version_major": 2,
       "version_minor": 0
      },
      "text/plain": [
       "Sanity Checking: 0it [00:00, ?it/s]"
      ]
     },
     "metadata": {},
     "output_type": "display_data"
    },
    {
     "data": {
      "application/vnd.jupyter.widget-view+json": {
       "model_id": "",
       "version_major": 2,
       "version_minor": 0
      },
      "text/plain": [
       "Sanity Checking: 0it [00:00, ?it/s]"
      ]
     },
     "metadata": {},
     "output_type": "display_data"
    },
    {
     "name": "stdout",
     "output_type": "stream",
     "text": [
      "INFO:root:Model added (1/2)\n",
      "INFO:root:Broadcasting model to all clients...\n",
      "INFO:root:Model added (1/2)\n",
      "INFO:root:Broadcasting model to all clients...\n",
      "INFO:root:Model added (2/2)\n",
      "INFO:root:Agregating models.\n",
      "INFO:root:Round 2 of 2 finished. (('localhost', 50140))\n",
      "INFO:root:Finish!!.\n",
      "INFO:root:Model added (2/2)\n",
      "INFO:root:Agregating models.\n",
      "INFO:root:Round 2 of 2 finished. (('localhost', 50141))\n",
      "INFO:root:Finish!!.\n",
      "INFO:root:Bajando el nodo, dejando de escuchar en localhost 50140\n",
      "DEBUG:root:Closed connection: ('localhost', 50140)\n",
      "DEBUG:root:Closed connection: ('localhost', 50141)\n",
      "INFO:root:Bajando el nodo, dejando de escuchar en localhost 50141\n"
     ]
    }
   ],
   "source": [
    "from p2pfl.node import Node\n",
    "from p2pfl.learning.learner import MyNodeLearning\n",
    "from p2pfl.agregator import FedAvg    \n",
    "from collections import OrderedDict\n",
    "import torch\n",
    "import time\n",
    "\n",
    "\n",
    "def test_convergence(x):\n",
    "    n,r = x\n",
    "\n",
    "    # Node Creation\n",
    "    nodes = []\n",
    "    for i in range(n):\n",
    "        node = Node(host=\"localhost\")\n",
    "        node.start()\n",
    "        nodes.append(node)\n",
    "\n",
    "    # Node Connection\n",
    "    for i in range(len(nodes)-1):\n",
    "        nodes[i+1].connect_to(nodes[i].host,nodes[i].port)\n",
    "        time.sleep(0.1)\n",
    "\n",
    "    # Check if they are connected\n",
    "    for node in nodes:\n",
    "        assert len(node.neightboors) == n-1\n",
    "\n",
    "    # Start Learning\n",
    "    nodes[0].set_start_learning(rounds=r,epochs=0)\n",
    "\n",
    "    # Wait 4 results\n",
    "    while True:\n",
    "        time.sleep(1)\n",
    "        finish = True\n",
    "        for f in [node.round is None for node in nodes]:\n",
    "            finish = finish and f\n",
    "\n",
    "        if finish:\n",
    "            break\n",
    "\n",
    "\n",
    "    # Validamos Modelos obtenidos sean iguales\n",
    "    model = None\n",
    "    first = True\n",
    "    for node in nodes:\n",
    "        if first:\n",
    "            model = node.learner.get_parameters()\n",
    "            first = False\n",
    "        else:\n",
    "            for layer in model:\n",
    "                a = torch.round(model[layer], decimals=2)\n",
    "                b = torch.round(node.learner.get_parameters()[layer], decimals=2)\n",
    "                assert torch.eq(a, b).all()\n",
    "\n",
    "    # Cerrar\n",
    "    for node in nodes:\n",
    "        node.stop()\n",
    "        time.sleep(.1) #Esperar por la asincronía\n",
    "\n",
    "        \n",
    "test_convergence((2,2))"
   ]
  },
  {
   "cell_type": "code",
   "execution_count": 3,
   "id": "23e00247",
   "metadata": {
    "scrolled": true
   },
   "outputs": [
    {
     "name": "stdout",
     "output_type": "stream",
     "text": [
      "INFO:root:Nodo a la escucha en localhost 65058\n",
      "INFO:root:Nodo a la escucha en localhost 65059\n",
      "INFO:root:Conexión aceptada con ('localhost', 65058)\n",
      "INFO:root:Broadcasting start learning...\n",
      "INFO:root:Training...\n"
     ]
    },
    {
     "name": "stderr",
     "output_type": "stream",
     "text": [
      "GPU available: False, used: False\n"
     ]
    },
    {
     "name": "stdout",
     "output_type": "stream",
     "text": [
      "INFO:root:Training...\n"
     ]
    },
    {
     "name": "stderr",
     "output_type": "stream",
     "text": [
      "TPU available: False, using: 0 TPU cores\n",
      "GPU available: False, used: False\n",
      "TPU available: False, using: 0 TPU cores\n",
      "IPU available: False, using: 0 IPUs\n",
      "IPU available: False, using: 0 IPUs\n",
      "HPU available: False, using: 0 HPUs\n",
      "HPU available: False, using: 0 HPUs\n",
      "\n",
      "  | Name     | Type     | Params\n",
      "--------------------------------------\n",
      "0 | accuracy | Accuracy | 0     \n",
      "1 | l1       | Linear   | 100 K \n",
      "2 | l2       | Linear   | 33.0 K\n",
      "3 | l3       | Linear   | 2.6 K \n",
      "--------------------------------------\n",
      "136 K     Trainable params\n",
      "0         Non-trainable params\n",
      "136 K     Total params\n",
      "0.544     Total estimated model params size (MB)\n",
      "\n",
      "  | Name     | Type     | Params\n",
      "--------------------------------------\n",
      "0 | accuracy | Accuracy | 0     \n",
      "1 | l1       | Linear   | 100 K \n",
      "2 | l2       | Linear   | 33.0 K\n",
      "3 | l3       | Linear   | 2.6 K \n",
      "--------------------------------------\n",
      "136 K     Trainable params\n",
      "0         Non-trainable params\n",
      "136 K     Total params\n",
      "0.544     Total estimated model params size (MB)\n"
     ]
    },
    {
     "name": "stdout",
     "output_type": "stream",
     "text": [
      "Train: 54000 Val:6000 Test:10000Train: 54000 Val:6000 Test:10000\n",
      "\n"
     ]
    },
    {
     "data": {
      "application/vnd.jupyter.widget-view+json": {
       "model_id": "",
       "version_major": 2,
       "version_minor": 0
      },
      "text/plain": [
       "Sanity Checking: 0it [00:00, ?it/s]"
      ]
     },
     "metadata": {},
     "output_type": "display_data"
    },
    {
     "data": {
      "application/vnd.jupyter.widget-view+json": {
       "model_id": "",
       "version_major": 2,
       "version_minor": 0
      },
      "text/plain": [
       "Sanity Checking: 0it [00:00, ?it/s]"
      ]
     },
     "metadata": {},
     "output_type": "display_data"
    },
    {
     "name": "stdout",
     "output_type": "stream",
     "text": [
      "INFO:root:Stopping learning\n",
      "INFO:root:Stopping learning\n",
      "None\n",
      "None\n"
     ]
    }
   ],
   "source": [
    "from p2pfl.const import HEARTBEAT_FREC, TIEMOUT\n",
    "from p2pfl.node import Node\n",
    "import time\n",
    "\n",
    "n1 = Node(\"localhost\")\n",
    "n2 = Node(\"localhost\")\n",
    "n1.start()\n",
    "n2.start()\n",
    "\n",
    "def test_interrupt_train2(two_nodes):\n",
    "    n1, n2 = two_nodes\n",
    "    n1.connect_to(n2.host,n2.port)\n",
    "\n",
    "    time.sleep(1) #Esperar por la asincronía\n",
    "\n",
    "    n1.set_start_learning(99999,99999)\n",
    "\n",
    "    time.sleep(1) #Esperar por la asincronía\n",
    "\n",
    "    n2.set_stop_learning()\n",
    "    \n",
    "    time.sleep(1) #Esperar por la asincronía\n",
    "    \n",
    "    print(n1.round)\n",
    "    print(n2.round)\n",
    "    \n",
    "    assert n1.round is None\n",
    "    \n",
    "test_interrupt_train2((n1,n2))"
   ]
  },
  {
   "cell_type": "code",
   "execution_count": 1,
   "id": "8d7ffdf5",
   "metadata": {},
   "outputs": [
    {
     "ename": "NameError",
     "evalue": "name 'n1' is not defined",
     "output_type": "error",
     "traceback": [
      "\u001b[0;31m---------------------------------------------------------------------------\u001b[0m",
      "\u001b[0;31mNameError\u001b[0m                                 Traceback (most recent call last)",
      "Input \u001b[0;32mIn [1]\u001b[0m, in \u001b[0;36m<cell line: 1>\u001b[0;34m()\u001b[0m\n\u001b[0;32m----> 1\u001b[0m \u001b[38;5;28mlen\u001b[39m(\u001b[43mn1\u001b[49m\u001b[38;5;241m.\u001b[39mneightboors)\n",
      "\u001b[0;31mNameError\u001b[0m: name 'n1' is not defined"
     ]
    }
   ],
   "source": [
    "len(n1.neightboors)"
   ]
  },
  {
   "cell_type": "code",
   "execution_count": null,
   "id": "f35e9842",
   "metadata": {},
   "outputs": [],
   "source": []
  }
 ],
 "metadata": {
  "kernelspec": {
   "display_name": "Python 3 (ipykernel)",
   "language": "python",
   "name": "python3"
  },
  "language_info": {
   "codemirror_mode": {
    "name": "ipython",
    "version": 3
   },
   "file_extension": ".py",
   "mimetype": "text/x-python",
   "name": "python",
   "nbconvert_exporter": "python",
   "pygments_lexer": "ipython3",
   "version": "3.9.12"
  }
 },
 "nbformat": 4,
 "nbformat_minor": 5
}

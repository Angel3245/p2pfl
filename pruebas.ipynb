{
 "cells": [
  {
   "cell_type": "code",
   "execution_count": 1,
   "id": "de3333e5",
   "metadata": {
    "scrolled": true
   },
   "outputs": [
    {
     "name": "stdout",
     "output_type": "stream",
     "text": [
      "Train: 54000 Val:6000 Test:10000\n",
      "INFO:root:Nodo a la escucha en 127.0.0.1 51998\n",
      "Train: 54000 Val:6000 Test:10000\n",
      "INFO:root:Nodo a la escucha en 127.0.0.1 51999\n",
      "INFO:root:(('127.0.0.1', 51998)) Conexión aceptada con ('127.0.0.1', 51999)\n",
      "INFO:root:(('127.0.0.1', 51998)) Broadcasting start learning...\n",
      "INFO:root:(('127.0.0.1', 51998)) Sending Initial Model Weights\n",
      "INFO:root:(('127.0.0.1', 51998)) Broadcasting model to 1 clients. (size: 548864 bytes)\n",
      "INFO:root:(('127.0.0.1', 51999)) Broadcasting Number of Samples...\n",
      "INFO:root:(('127.0.0.1', 51998)) Broadcasting Number of Samples...\n",
      "INFO:root:(('127.0.0.1', 51999)) Initialicing Model Weights\n",
      "INFO:root:(('127.0.0.1', 51998)) Waiting other node votes.\n",
      "INFO:root:(('127.0.0.1', 51999)) Model initialized\n",
      "INFO:root:(('127.0.0.1', 51999)) Waiting other node votes.\n",
      "INFO:root:('127.0.0.1', 51998) Train set of 2 nodes.\n",
      "INFO:root:('127.0.0.1', 51999) Train set of 2 nodes.\n",
      "INFO:root:(('127.0.0.1', 51998)) Evaluating...\n",
      "INFO:root:(('127.0.0.1', 51999)) Evaluating...\n"
     ]
    },
    {
     "name": "stderr",
     "output_type": "stream",
     "text": [
      "GPU available: False, used: False\n",
      "GPU available: False, used: False\n",
      "TPU available: False, using: 0 TPU cores\n",
      "TPU available: False, using: 0 TPU cores\n",
      "IPU available: False, using: 0 IPUs\n",
      "HPU available: False, using: 0 HPUs\n",
      "IPU available: False, using: 0 IPUs\n",
      "HPU available: False, using: 0 HPUs\n"
     ]
    },
    {
     "data": {
      "application/vnd.jupyter.widget-view+json": {
       "model_id": "b403a56c7a5e48fba7770459401c6f3e",
       "version_major": 2,
       "version_minor": 0
      },
      "text/plain": [
       "Testing: 0it [00:00, ?it/s]"
      ]
     },
     "metadata": {},
     "output_type": "display_data"
    },
    {
     "data": {
      "application/vnd.jupyter.widget-view+json": {
       "model_id": "91613d5f6c5140db826a4f8305e03323",
       "version_major": 2,
       "version_minor": 0
      },
      "text/plain": [
       "Testing: 0it [00:00, ?it/s]"
      ]
     },
     "metadata": {},
     "output_type": "display_data"
    },
    {
     "name": "stdout",
     "output_type": "stream",
     "text": [
      "INFO:root:(('127.0.0.1', 51998)) Evaluated. Losss: 2.301456928253174, Metric: 0.11810000240802765. (Check tensorboard for more info)\n",
      "INFO:root:(('127.0.0.1', 51998)) Broadcasting metrics to 1 clients.\n",
      "INFO:root:(('127.0.0.1', 51998)) Training...\n"
     ]
    },
    {
     "name": "stderr",
     "output_type": "stream",
     "text": [
      "GPU available: False, used: False\n",
      "TPU available: False, using: 0 TPU cores\n",
      "IPU available: False, using: 0 IPUs\n",
      "HPU available: False, using: 0 HPUs\n"
     ]
    },
    {
     "data": {
      "application/vnd.jupyter.widget-view+json": {
       "model_id": "",
       "version_major": 2,
       "version_minor": 0
      },
      "text/plain": [
       "Sanity Checking: 0it [00:00, ?it/s]"
      ]
     },
     "metadata": {},
     "output_type": "display_data"
    },
    {
     "name": "stdout",
     "output_type": "stream",
     "text": [
      "INFO:root:(('127.0.0.1', 51999)) Evaluated. Losss: 2.301456928253174, Metric: 0.11810000240802765. (Check tensorboard for more info)\n",
      "INFO:root:(('127.0.0.1', 51999)) Broadcasting metrics to 1 clients.\n",
      "INFO:root:(('127.0.0.1', 51999)) Training...\n"
     ]
    },
    {
     "name": "stderr",
     "output_type": "stream",
     "text": [
      "GPU available: False, used: False\n",
      "TPU available: False, using: 0 TPU cores\n",
      "IPU available: False, using: 0 IPUs\n",
      "HPU available: False, using: 0 HPUs\n"
     ]
    },
    {
     "data": {
      "application/vnd.jupyter.widget-view+json": {
       "model_id": "",
       "version_major": 2,
       "version_minor": 0
      },
      "text/plain": [
       "Sanity Checking: 0it [00:00, ?it/s]"
      ]
     },
     "metadata": {},
     "output_type": "display_data"
    },
    {
     "data": {
      "application/vnd.jupyter.widget-view+json": {
       "model_id": "111db5f160ad473881d926f980501367",
       "version_major": 2,
       "version_minor": 0
      },
      "text/plain": [
       "Training: 0it [00:00, ?it/s]"
      ]
     },
     "metadata": {},
     "output_type": "display_data"
    },
    {
     "data": {
      "application/vnd.jupyter.widget-view+json": {
       "model_id": "0a9c3c0eb5794884a2541895374e5c1d",
       "version_major": 2,
       "version_minor": 0
      },
      "text/plain": [
       "Training: 0it [00:00, ?it/s]"
      ]
     },
     "metadata": {},
     "output_type": "display_data"
    },
    {
     "data": {
      "application/vnd.jupyter.widget-view+json": {
       "model_id": "",
       "version_major": 2,
       "version_minor": 0
      },
      "text/plain": [
       "Validation: 0it [00:00, ?it/s]"
      ]
     },
     "metadata": {},
     "output_type": "display_data"
    },
    {
     "data": {
      "application/vnd.jupyter.widget-view+json": {
       "model_id": "",
       "version_major": 2,
       "version_minor": 0
      },
      "text/plain": [
       "Validation: 0it [00:00, ?it/s]"
      ]
     },
     "metadata": {},
     "output_type": "display_data"
    },
    {
     "name": "stdout",
     "output_type": "stream",
     "text": [
      "INFO:root:(127.0.0.1:51998) Model added (1/2) from ('127.0.0.1', 51998)\n",
      "INFO:root:(('127.0.0.1', 51998)) Broadcasting model to 1 clients. (size: 548864 bytes)\n",
      "INFO:root:(127.0.0.1:51999) Model added (1/2) from ('127.0.0.1', 51998)\n",
      "INFO:root:(127.0.0.1:51999) Model added (2/2) from ('127.0.0.1', 51999)\n",
      "INFO:root:(127.0.0.1:51999) Agregating models.\n",
      "INFO:root:(('127.0.0.1', 51999)) Broadcasting model to 1 clients. (size: 548864 bytes)\n",
      "INFO:root:(('127.0.0.1', 51999)) Waiting other nodes.\n",
      "INFO:root:(127.0.0.1:51998) Model added (2/2) from ('127.0.0.1', 51999)\n",
      "INFO:root:(127.0.0.1:51998) Agregating models.\n",
      "INFO:root:(('127.0.0.1', 51998)) Waiting other nodes.\n",
      "INFO:root:(('127.0.0.1', 51999)) Round 1 of 2 finished.\n",
      "INFO:root:(('127.0.0.1', 51998)) Round 1 of 2 finished.\n",
      "INFO:root:(('127.0.0.1', 51999)) Waiting other node votes.\n",
      "INFO:root:(('127.0.0.1', 51998)) Waiting other node votes.\n",
      "INFO:root:('127.0.0.1', 51999) Train set of 2 nodes.\n",
      "INFO:root:('127.0.0.1', 51998) Train set of 2 nodes.\n",
      "INFO:root:(('127.0.0.1', 51999)) Evaluating...\n",
      "INFO:root:(('127.0.0.1', 51998)) Evaluating...\n"
     ]
    },
    {
     "name": "stderr",
     "output_type": "stream",
     "text": [
      "GPU available: False, used: False\n",
      "TPU available: False, using: 0 TPU cores\n",
      "GPU available: False, used: False\n",
      "IPU available: False, using: 0 IPUs\n",
      "HPU available: False, using: 0 HPUs\n",
      "TPU available: False, using: 0 TPU cores\n",
      "IPU available: False, using: 0 IPUs\n",
      "HPU available: False, using: 0 HPUs\n"
     ]
    },
    {
     "data": {
      "application/vnd.jupyter.widget-view+json": {
       "model_id": "52677e15cb7042f78dc9675d95e88f68",
       "version_major": 2,
       "version_minor": 0
      },
      "text/plain": [
       "Testing: 0it [00:00, ?it/s]"
      ]
     },
     "metadata": {},
     "output_type": "display_data"
    },
    {
     "data": {
      "application/vnd.jupyter.widget-view+json": {
       "model_id": "659812856a86495e9cca0c817375fc3d",
       "version_major": 2,
       "version_minor": 0
      },
      "text/plain": [
       "Testing: 0it [00:00, ?it/s]"
      ]
     },
     "metadata": {},
     "output_type": "display_data"
    },
    {
     "name": "stdout",
     "output_type": "stream",
     "text": [
      "INFO:root:(('127.0.0.1', 51998)) Evaluated. Losss: 0.16000086069107056, Metric: 0.9517999887466431. (Check tensorboard for more info)\n",
      "INFO:root:(('127.0.0.1', 51998)) Broadcasting metrics to 1 clients.\n",
      "INFO:root:(('127.0.0.1', 51998)) Training...\n"
     ]
    },
    {
     "name": "stderr",
     "output_type": "stream",
     "text": [
      "GPU available: False, used: False\n",
      "TPU available: False, using: 0 TPU cores\n",
      "IPU available: False, using: 0 IPUs\n",
      "HPU available: False, using: 0 HPUs\n"
     ]
    },
    {
     "data": {
      "application/vnd.jupyter.widget-view+json": {
       "model_id": "",
       "version_major": 2,
       "version_minor": 0
      },
      "text/plain": [
       "Sanity Checking: 0it [00:00, ?it/s]"
      ]
     },
     "metadata": {},
     "output_type": "display_data"
    },
    {
     "name": "stdout",
     "output_type": "stream",
     "text": [
      "INFO:root:(('127.0.0.1', 51999)) Evaluated. Losss: 0.16000086069107056, Metric: 0.9517999887466431. (Check tensorboard for more info)\n",
      "INFO:root:(('127.0.0.1', 51999)) Broadcasting metrics to 1 clients.\n",
      "INFO:root:(('127.0.0.1', 51999)) Training...\n"
     ]
    },
    {
     "name": "stderr",
     "output_type": "stream",
     "text": [
      "GPU available: False, used: False\n",
      "TPU available: False, using: 0 TPU cores\n",
      "IPU available: False, using: 0 IPUs\n",
      "HPU available: False, using: 0 HPUs\n"
     ]
    },
    {
     "data": {
      "application/vnd.jupyter.widget-view+json": {
       "model_id": "",
       "version_major": 2,
       "version_minor": 0
      },
      "text/plain": [
       "Sanity Checking: 0it [00:00, ?it/s]"
      ]
     },
     "metadata": {},
     "output_type": "display_data"
    },
    {
     "data": {
      "application/vnd.jupyter.widget-view+json": {
       "model_id": "72cbf68e081948dd868f5797983c53d4",
       "version_major": 2,
       "version_minor": 0
      },
      "text/plain": [
       "Training: 0it [00:00, ?it/s]"
      ]
     },
     "metadata": {},
     "output_type": "display_data"
    },
    {
     "data": {
      "application/vnd.jupyter.widget-view+json": {
       "model_id": "c84a18f05b054e33af0fd92a503e9ee6",
       "version_major": 2,
       "version_minor": 0
      },
      "text/plain": [
       "Training: 0it [00:00, ?it/s]"
      ]
     },
     "metadata": {},
     "output_type": "display_data"
    },
    {
     "data": {
      "application/vnd.jupyter.widget-view+json": {
       "model_id": "",
       "version_major": 2,
       "version_minor": 0
      },
      "text/plain": [
       "Validation: 0it [00:00, ?it/s]"
      ]
     },
     "metadata": {},
     "output_type": "display_data"
    },
    {
     "data": {
      "application/vnd.jupyter.widget-view+json": {
       "model_id": "",
       "version_major": 2,
       "version_minor": 0
      },
      "text/plain": [
       "Validation: 0it [00:00, ?it/s]"
      ]
     },
     "metadata": {},
     "output_type": "display_data"
    },
    {
     "name": "stdout",
     "output_type": "stream",
     "text": [
      "INFO:root:(127.0.0.1:51998) Model added (1/2) from ('127.0.0.1', 51998)\n",
      "INFO:root:(('127.0.0.1', 51998)) Broadcasting model to 1 clients. (size: 548864 bytes)\n",
      "INFO:root:(127.0.0.1:51999) Model added (1/2) from ('127.0.0.1', 51998)\n",
      "INFO:root:(127.0.0.1:51999) Model added (2/2) from ('127.0.0.1', 51999)\n",
      "INFO:root:(127.0.0.1:51999) Agregating models.\n",
      "INFO:root:(('127.0.0.1', 51999)) Broadcasting model to 1 clients. (size: 548864 bytes)\n",
      "INFO:root:(('127.0.0.1', 51999)) Waiting other nodes.\n",
      "INFO:root:(127.0.0.1:51998) Model added (2/2) from ('127.0.0.1', 51999)\n",
      "INFO:root:(127.0.0.1:51998) Agregating models.\n",
      "INFO:root:(('127.0.0.1', 51998)) Waiting other nodes.\n",
      "INFO:root:(('127.0.0.1', 51999)) Round 2 of 2 finished.\n",
      "INFO:root:(('127.0.0.1', 51998)) Round 2 of 2 finished.\n",
      "INFO:root:(('127.0.0.1', 51999)) Evaluating...\n"
     ]
    },
    {
     "name": "stderr",
     "output_type": "stream",
     "text": [
      "GPU available: False, used: False\n"
     ]
    },
    {
     "name": "stdout",
     "output_type": "stream",
     "text": [
      "INFO:root:(('127.0.0.1', 51998)) Evaluating...\n"
     ]
    },
    {
     "name": "stderr",
     "output_type": "stream",
     "text": [
      "TPU available: False, using: 0 TPU cores\n",
      "GPU available: False, used: False\n",
      "IPU available: False, using: 0 IPUs\n",
      "HPU available: False, using: 0 HPUs\n",
      "TPU available: False, using: 0 TPU cores\n",
      "IPU available: False, using: 0 IPUs\n",
      "HPU available: False, using: 0 HPUs\n"
     ]
    },
    {
     "data": {
      "application/vnd.jupyter.widget-view+json": {
       "model_id": "2ae5b92184004692b8b61fdb0ea1264e",
       "version_major": 2,
       "version_minor": 0
      },
      "text/plain": [
       "Testing: 0it [00:00, ?it/s]"
      ]
     },
     "metadata": {},
     "output_type": "display_data"
    },
    {
     "data": {
      "application/vnd.jupyter.widget-view+json": {
       "model_id": "6a4ab80b62984bf8a66dd6c1df6c84b0",
       "version_major": 2,
       "version_minor": 0
      },
      "text/plain": [
       "Testing: 0it [00:00, ?it/s]"
      ]
     },
     "metadata": {},
     "output_type": "display_data"
    },
    {
     "name": "stdout",
     "output_type": "stream",
     "text": [
      "INFO:root:(('127.0.0.1', 51999)) Evaluated. Losss: 0.08607355505228043, Metric: 0.9714999794960022. (Check tensorboard for more info)\n",
      "INFO:root:(('127.0.0.1', 51999)) Broadcasting metrics to 1 clients.\n",
      "INFO:root:(('127.0.0.1', 51999)) Finish!!.\n",
      "INFO:root:(('127.0.0.1', 51998)) Evaluated. Losss: 0.08607355505228043, Metric: 0.9714999794960022. (Check tensorboard for more info)\n",
      "INFO:root:(('127.0.0.1', 51998)) Broadcasting metrics to 1 clients.\n",
      "INFO:root:(('127.0.0.1', 51998)) Finish!!.\n",
      "INFO:root:Bajando el nodo, dejando de escuchar en 127.0.0.1 51998 y desconectándose de 1 nodos\n",
      "DEBUG:root:Closed connection: ('127.0.0.1', 51998)\n",
      "DEBUG:root:Closed connection: ('127.0.0.1', 51999)\n",
      "INFO:root:Bajando el nodo, dejando de escuchar en 127.0.0.1 51999 y desconectándose de 0 nodos\n"
     ]
    }
   ],
   "source": [
    "from p2pfl.node import Node\n",
    "from p2pfl.learning.pytorch.mnist_examples.mnistfederated_dm import MnistFederatedDM\n",
    "from p2pfl.learning.pytorch.mnist_examples.models.mlp import MLP\n",
    "from collections import OrderedDict\n",
    "import torch\n",
    "import time\n",
    "\n",
    "\n",
    "def test_convergence(x):\n",
    "    n,r = x\n",
    "\n",
    "    nodes = []\n",
    "    \n",
    "    for i in range(n):\n",
    "        node = Node(MLP(),MnistFederatedDM())\n",
    "        node.start()\n",
    "        nodes.append(node)\n",
    "\n",
    "    # Node Connection\n",
    "    for i in range(len(nodes)-1):\n",
    "        nodes[i+1].connect_to(nodes[i].host,nodes[i].port)\n",
    "        time.sleep(0.1)\n",
    "\n",
    "    # Check if they are connected\n",
    "    for node in nodes:\n",
    "        assert len(node.neightboors) == n-1\n",
    "\n",
    "    # Start Learning\n",
    "    nodes[0].set_start_learning(rounds=r,epochs=1)\n",
    "\n",
    "    # Wait 4 results\n",
    "    while True:\n",
    "        time.sleep(1)\n",
    "        finish = True\n",
    "        for f in [node.round is None for node in nodes]:\n",
    "            finish = finish and f\n",
    "\n",
    "        if finish:\n",
    "            break\n",
    "\n",
    "\n",
    "    # Validamos Modelos obtenidos sean iguales\n",
    "    model = None\n",
    "    first = True\n",
    "    for node in nodes:\n",
    "        if first:\n",
    "            model = node.learner.get_parameters()\n",
    "            first = False\n",
    "        else:\n",
    "            for layer in model:\n",
    "                a = torch.round(model[layer], decimals=2)\n",
    "                b = torch.round(node.learner.get_parameters()[layer], decimals=2)\n",
    "                assert torch.eq(a, b).all()\n",
    "\n",
    "    # Cerrar\n",
    "    for node in nodes:\n",
    "        node.stop()\n",
    "        time.sleep(.1) #Esperar por la asincronía\n",
    "    \n",
    "    return nodes\n",
    "        \n",
    "nodes = test_convergence((2,2))"
   ]
  },
  {
   "cell_type": "code",
   "execution_count": null,
   "id": "034fde84",
   "metadata": {
    "scrolled": true
   },
   "outputs": [
    {
     "name": "stdout",
     "output_type": "stream",
     "text": [
      "Train: 54000 Val:6000 Test:10000\n",
      "INFO:root:Nodo a la escucha en 127.0.0.1 53052\n",
      "Train: 54000 Val:6000 Test:10000\n",
      "INFO:root:Nodo a la escucha en 127.0.0.1 53053\n",
      "Train: 54000 Val:6000 Test:10000\n",
      "INFO:root:Nodo a la escucha en 127.0.0.1 53054\n",
      "Train: 54000 Val:6000 Test:10000\n",
      "INFO:root:Nodo a la escucha en 127.0.0.1 53055\n",
      "INFO:root:(('127.0.0.1', 53052)) Conexión aceptada con ('127.0.0.1', 53053)\n",
      "INFO:root:(('127.0.0.1', 53053)) Conexión aceptada con ('127.0.0.1', 53054)\n",
      "INFO:root:(('127.0.0.1', 53054)) Conexión aceptada con ('127.0.0.1', 53052)\n",
      "INFO:root:(('127.0.0.1', 53054)) Conexión aceptada con ('127.0.0.1', 53055)\n",
      "INFO:root:(('127.0.0.1', 53055)) Conexión aceptada con ('127.0.0.1', 53052)\n",
      "INFO:root:(('127.0.0.1', 53055)) Conexión aceptada con ('127.0.0.1', 53053)\n",
      "INFO:root:(('127.0.0.1', 53052)) Broadcasting start learning...\n",
      "INFO:root:(('127.0.0.1', 53052)) Sending Initial Model Weights\n",
      "INFO:root:(('127.0.0.1', 53052)) Broadcasting model to 3 clients. (size: 548864 bytes)\n",
      "INFO:root:(('127.0.0.1', 53054)) Broadcasting Number of Samples...\n",
      "INFO:root:(('127.0.0.1', 53053)) Broadcasting Number of Samples...\n",
      "INFO:root:(('127.0.0.1', 53055)) Broadcasting Number of Samples...\n",
      "INFO:root:(('127.0.0.1', 53054)) Initialicing Model Weights\n",
      "INFO:root:(('127.0.0.1', 53053)) Stopping learning\n",
      "INFO:root:(('127.0.0.1', 53053)) Initialicing Model Weights\n",
      "INFO:root:(('127.0.0.1', 53052)) Broadcasting Number of Samples...\n",
      "INFO:root:(('127.0.0.1', 53055)) Initialicing Model Weights\n",
      "ERROR:root:(('127.0.0.1', 53053)) Tried to add a model while learning is not running\n",
      "INFO:root:(('127.0.0.1', 53055)) Model initialized\n",
      "INFO:root:Bajando el nodo, dejando de escuchar en 127.0.0.1 53053 y desconectándose de 3 nodos\n",
      "INFO:root:(('127.0.0.1', 53052)) Waiting other node votes.\n",
      "INFO:root:(('127.0.0.1', 53054)) Model initialized\n",
      "INFO:root:(('127.0.0.1', 53055)) Waiting other node votes.\n",
      "DEBUG:root:Closed connection: ('127.0.0.1', 53053)\n",
      "DEBUG:root:Closed connection: ('127.0.0.1', 53053)\n",
      "DEBUG:root:Closed connection: ('127.0.0.1', 53053)\n",
      "DEBUG:root:Closed connection: ('127.0.0.1', 53055)\n",
      "DEBUG:root:Closed connection: ('127.0.0.1', 53052)\n",
      "DEBUG:root:Closed connection: ('127.0.0.1', 53054)\n",
      "INFO:root:(('127.0.0.1', 53054)) Waiting other node votes.\n",
      "INFO:root:('127.0.0.1', 53052) Train set of 4 nodes.\n",
      "====== ('127.0.0.1', 53052) in [('127.0.0.1', 53054), ('127.0.0.1', 53055), ('127.0.0.1', 53052), ('127.0.0.1', 53053)]\n",
      "INFO:root:('127.0.0.1', 53055) Train set of 4 nodes.\n",
      "====== ('127.0.0.1', 53055) in [('127.0.0.1', 53054), ('127.0.0.1', 53055), ('127.0.0.1', 53052), ('127.0.0.1', 53053)]\n",
      "INFO:root:('127.0.0.1', 53054) Train set of 4 nodes.\n",
      "====== ('127.0.0.1', 53054) in [('127.0.0.1', 53054), ('127.0.0.1', 53055), ('127.0.0.1', 53052), ('127.0.0.1', 53053)]INFO:root:(('127.0.0.1', 53052)) Evaluating...\n",
      "\n",
      "INFO:root:(('127.0.0.1', 53055)) Evaluating...\n"
     ]
    },
    {
     "name": "stderr",
     "output_type": "stream",
     "text": [
      "GPU available: False, used: False\n"
     ]
    },
    {
     "name": "stdout",
     "output_type": "stream",
     "text": [
      "INFO:root:(('127.0.0.1', 53054)) Evaluating...\n"
     ]
    },
    {
     "name": "stderr",
     "output_type": "stream",
     "text": [
      "TPU available: False, using: 0 TPU cores\n",
      "GPU available: False, used: False\n",
      "GPU available: False, used: False\n",
      "IPU available: False, using: 0 IPUs\n",
      "TPU available: False, using: 0 TPU cores\n",
      "TPU available: False, using: 0 TPU cores\n",
      "HPU available: False, using: 0 HPUs\n",
      "IPU available: False, using: 0 IPUs\n",
      "HPU available: False, using: 0 HPUs\n",
      "IPU available: False, using: 0 IPUs\n",
      "HPU available: False, using: 0 HPUs\n"
     ]
    },
    {
     "data": {
      "application/vnd.jupyter.widget-view+json": {
       "model_id": "d23eff95ceeb45b6b9037c7bf1c9e4ef",
       "version_major": 2,
       "version_minor": 0
      },
      "text/plain": [
       "Testing: 0it [00:00, ?it/s]"
      ]
     },
     "metadata": {},
     "output_type": "display_data"
    },
    {
     "data": {
      "application/vnd.jupyter.widget-view+json": {
       "model_id": "27ceb9d1c31641b5979238335cc4d25e",
       "version_major": 2,
       "version_minor": 0
      },
      "text/plain": [
       "Testing: 0it [00:00, ?it/s]"
      ]
     },
     "metadata": {},
     "output_type": "display_data"
    },
    {
     "data": {
      "application/vnd.jupyter.widget-view+json": {
       "model_id": "5c269da44ebb40b99820011e946cf27b",
       "version_major": 2,
       "version_minor": 0
      },
      "text/plain": [
       "Testing: 0it [00:00, ?it/s]"
      ]
     },
     "metadata": {},
     "output_type": "display_data"
    },
    {
     "name": "stdout",
     "output_type": "stream",
     "text": [
      "INFO:root:(('127.0.0.1', 53055)) Evaluated. Losss: 2.301456928253174, Metric: 0.11810000240802765. (Check tensorboard for more info)\n",
      "INFO:root:(('127.0.0.1', 53055)) Broadcasting metrics to 2 clients.\n",
      "INFO:root:(('127.0.0.1', 53055)) Training...\n",
      "INFO:root:(127.0.0.1:53055) Model added (1/4) from ('127.0.0.1', 53055)\n",
      "INFO:root:(('127.0.0.1', 53055)) Broadcasting model to 2 clients. (size: 548864 bytes)\n",
      "INFO:root:(127.0.0.1:53054) Model added (1/4) from ('127.0.0.1', 53055)\n",
      "INFO:root:(127.0.0.1:53052) Model added (1/4) from ('127.0.0.1', 53055)\n",
      "INFO:root:(('127.0.0.1', 53052)) Evaluated. Losss: 2.301456928253174, Metric: 0.11810000240802765. (Check tensorboard for more info)\n",
      "INFO:root:(('127.0.0.1', 53052)) Broadcasting metrics to 2 clients.\n",
      "INFO:root:(('127.0.0.1', 53052)) Training...\n",
      "INFO:root:(127.0.0.1:53052) Model added (2/4) from ('127.0.0.1', 53052)\n",
      "INFO:root:(('127.0.0.1', 53052)) Broadcasting model to 2 clients. (size: 548864 bytes)\n",
      "INFO:root:(('127.0.0.1', 53054)) Evaluated. Losss: 2.301456928253174, Metric: 0.11810000240802765. (Check tensorboard for more info)\n",
      "INFO:root:(('127.0.0.1', 53054)) Broadcasting metrics to 2 clients.\n",
      "INFO:root:(127.0.0.1:53054) Model added (2/4) from ('127.0.0.1', 53052)\n",
      "INFO:root:(('127.0.0.1', 53054)) Training...\n",
      "INFO:root:(127.0.0.1:53055) Model added (2/4) from ('127.0.0.1', 53052)\n",
      "INFO:root:(127.0.0.1:53054) Model added (3/4) from ('127.0.0.1', 53054)\n",
      "INFO:root:(('127.0.0.1', 53054)) Broadcasting model to 2 clients. (size: 548864 bytes)\n",
      "INFO:root:(127.0.0.1:53052) Model added (3/4) from ('127.0.0.1', 53054)\n",
      "INFO:root:(127.0.0.1:53055) Model added (3/4) from ('127.0.0.1', 53054)\n",
      "INFO:root:(127.0.0.1:53055) Agregating models. Timeout reached\n",
      "INFO:root:(('127.0.0.1', 53055)) Waiting other nodes.\n",
      "INFO:root:(127.0.0.1:53052) Agregating models. Timeout reached\n",
      "INFO:root:(127.0.0.1:53054) Agregating models. Timeout reached\n",
      "INFO:root:(('127.0.0.1', 53052)) Waiting other nodes.\n",
      "INFO:root:(('127.0.0.1', 53054)) Waiting other nodes.\n",
      "INFO:root:(('127.0.0.1', 53055)) Round 1 of 2 finished.\n",
      "INFO:root:(('127.0.0.1', 53052)) Round 1 of 2 finished.\n",
      "INFO:root:(('127.0.0.1', 53054)) Round 1 of 2 finished.\n",
      "INFO:root:(('127.0.0.1', 53055)) Waiting other node votes.\n",
      "INFO:root:(('127.0.0.1', 53052)) Waiting other node votes.\n",
      "INFO:root:(('127.0.0.1', 53054)) Waiting other node votes.\n",
      "INFO:root:('127.0.0.1', 53055) Train set of 3 nodes.\n",
      "====== ('127.0.0.1', 53055) in [('127.0.0.1', 53052), ('127.0.0.1', 53055), ('127.0.0.1', 53054)]\n",
      "INFO:root:('127.0.0.1', 53052) Train set of 3 nodes.\n",
      "====== ('127.0.0.1', 53052) in [('127.0.0.1', 53052), ('127.0.0.1', 53055), ('127.0.0.1', 53054)]\n",
      "INFO:root:('127.0.0.1', 53054) Train set of 3 nodes.\n",
      "====== ('127.0.0.1', 53054) in [('127.0.0.1', 53052), ('127.0.0.1', 53055), ('127.0.0.1', 53054)]\n",
      "INFO:root:(('127.0.0.1', 53054)) Evaluating...\n",
      "INFO:root:(('127.0.0.1', 53052)) Evaluating...\n"
     ]
    },
    {
     "name": "stderr",
     "output_type": "stream",
     "text": [
      "GPU available: False, used: False\n",
      "TPU available: False, using: 0 TPU cores\n"
     ]
    },
    {
     "name": "stdout",
     "output_type": "stream",
     "text": [
      "INFO:root:(('127.0.0.1', 53055)) Evaluating...\n"
     ]
    },
    {
     "name": "stderr",
     "output_type": "stream",
     "text": [
      "GPU available: False, used: False\n",
      "IPU available: False, using: 0 IPUs\n",
      "GPU available: False, used: False\n",
      "TPU available: False, using: 0 TPU cores\n",
      "IPU available: False, using: 0 IPUs\n",
      "HPU available: False, using: 0 HPUs\n",
      "HPU available: False, using: 0 HPUs\n",
      "TPU available: False, using: 0 TPU cores\n",
      "IPU available: False, using: 0 IPUs\n"
     ]
    },
    {
     "data": {
      "application/vnd.jupyter.widget-view+json": {
       "model_id": "d518e236a8934973a3d679f0d971c7c4",
       "version_major": 2,
       "version_minor": 0
      },
      "text/plain": [
       "Testing: 0it [00:00, ?it/s]"
      ]
     },
     "metadata": {},
     "output_type": "display_data"
    },
    {
     "name": "stderr",
     "output_type": "stream",
     "text": [
      "HPU available: False, using: 0 HPUs\n"
     ]
    },
    {
     "data": {
      "application/vnd.jupyter.widget-view+json": {
       "model_id": "c1d7c11262884ee4baa2e0f306090b96",
       "version_major": 2,
       "version_minor": 0
      },
      "text/plain": [
       "Testing: 0it [00:00, ?it/s]"
      ]
     },
     "metadata": {},
     "output_type": "display_data"
    },
    {
     "data": {
      "application/vnd.jupyter.widget-view+json": {
       "model_id": "51651ebeebac4650bf22599b38bd2554",
       "version_major": 2,
       "version_minor": 0
      },
      "text/plain": [
       "Testing: 0it [00:00, ?it/s]"
      ]
     },
     "metadata": {},
     "output_type": "display_data"
    },
    {
     "name": "stdout",
     "output_type": "stream",
     "text": [
      "INFO:root:(('127.0.0.1', 53055)) Evaluated. Losss: 2.301456928253174, Metric: 0.11810000240802765. (Check tensorboard for more info)\n",
      "INFO:root:(('127.0.0.1', 53055)) Broadcasting metrics to 2 clients.\n",
      "INFO:root:(('127.0.0.1', 53055)) Training...\n",
      "INFO:root:(127.0.0.1:53055) Model added (1/3) from ('127.0.0.1', 53055)\n",
      "INFO:root:(('127.0.0.1', 53055)) Broadcasting model to 2 clients. (size: 548864 bytes)\n",
      "INFO:root:(127.0.0.1:53052) Model added (1/3) from ('127.0.0.1', 53055)\n",
      "INFO:root:(127.0.0.1:53054) Model added (1/3) from ('127.0.0.1', 53055)\n",
      "INFO:root:(('127.0.0.1', 53052)) Evaluated. Losss: 2.301456928253174, Metric: 0.11810000240802765. (Check tensorboard for more info)\n",
      "INFO:root:(('127.0.0.1', 53052)) Broadcasting metrics to 2 clients.\n",
      "INFO:root:(('127.0.0.1', 53052)) Training...\n",
      "INFO:root:(127.0.0.1:53052) Model added (2/3) from ('127.0.0.1', 53052)\n",
      "INFO:root:(('127.0.0.1', 53054)) Evaluated. Losss: 2.301456928253174, Metric: 0.11810000240802765. (Check tensorboard for more info)\n",
      "INFO:root:(('127.0.0.1', 53054)) Broadcasting metrics to 2 clients.\n",
      "INFO:root:(('127.0.0.1', 53052)) Broadcasting model to 2 clients. (size: 548864 bytes)\n",
      "INFO:root:(('127.0.0.1', 53054)) Training...\n",
      "INFO:root:(127.0.0.1:53054) Model added (2/3) from ('127.0.0.1', 53054)\n",
      "INFO:root:(('127.0.0.1', 53054)) Broadcasting model to 2 clients. (size: 548864 bytes)\n",
      "INFO:root:(127.0.0.1:53054) Model added (3/3) from ('127.0.0.1', 53052)\n",
      "INFO:root:(127.0.0.1:53055) Model added (2/3) from ('127.0.0.1', 53052)\n",
      "INFO:root:(127.0.0.1:53054) Agregating models.\n",
      "INFO:root:(127.0.0.1:53055) Model added (3/3) from ('127.0.0.1', 53054)\n",
      "INFO:root:(('127.0.0.1', 53054)) Waiting other nodes.\n",
      "INFO:root:(127.0.0.1:53052) Model added (3/3) from ('127.0.0.1', 53054)\n",
      "INFO:root:(127.0.0.1:53055) Agregating models.\n",
      "INFO:root:(127.0.0.1:53052) Agregating models.\n",
      "INFO:root:(('127.0.0.1', 53055)) Waiting other nodes.\n",
      "INFO:root:(('127.0.0.1', 53052)) Waiting other nodes.\n",
      "INFO:root:(('127.0.0.1', 53052)) Round 2 of 2 finished.\n",
      "INFO:root:(('127.0.0.1', 53055)) Round 2 of 2 finished.\n",
      "INFO:root:(('127.0.0.1', 53055)) Evaluating...\n"
     ]
    },
    {
     "name": "stderr",
     "output_type": "stream",
     "text": [
      "GPU available: False, used: False\n"
     ]
    },
    {
     "name": "stdout",
     "output_type": "stream",
     "text": [
      "INFO:root:(('127.0.0.1', 53052)) Evaluating...\n"
     ]
    },
    {
     "name": "stderr",
     "output_type": "stream",
     "text": [
      "TPU available: False, using: 0 TPU cores\n"
     ]
    },
    {
     "name": "stdout",
     "output_type": "stream",
     "text": [
      "INFO:root:(('127.0.0.1', 53054)) Round 2 of 2 finished.\n"
     ]
    },
    {
     "name": "stderr",
     "output_type": "stream",
     "text": [
      "GPU available: False, used: False\n"
     ]
    },
    {
     "name": "stdout",
     "output_type": "stream",
     "text": [
      "INFO:root:(('127.0.0.1', 53054)) Evaluating...\n"
     ]
    },
    {
     "name": "stderr",
     "output_type": "stream",
     "text": [
      "IPU available: False, using: 0 IPUs\n",
      "TPU available: False, using: 0 TPU cores\n",
      "IPU available: False, using: 0 IPUs\n",
      "HPU available: False, using: 0 HPUs\n",
      "GPU available: False, used: False\n",
      "TPU available: False, using: 0 TPU cores\n",
      "IPU available: False, using: 0 IPUs\n"
     ]
    },
    {
     "data": {
      "application/vnd.jupyter.widget-view+json": {
       "model_id": "db77ce8571294ae783ee8a7061b83730",
       "version_major": 2,
       "version_minor": 0
      },
      "text/plain": [
       "Testing: 0it [00:00, ?it/s]"
      ]
     },
     "metadata": {},
     "output_type": "display_data"
    },
    {
     "name": "stderr",
     "output_type": "stream",
     "text": [
      "HPU available: False, using: 0 HPUs\n",
      "HPU available: False, using: 0 HPUs\n"
     ]
    },
    {
     "data": {
      "application/vnd.jupyter.widget-view+json": {
       "model_id": "7e88e4c8f87c487dab92d4c8dd8db44c",
       "version_major": 2,
       "version_minor": 0
      },
      "text/plain": [
       "Testing: 0it [00:00, ?it/s]"
      ]
     },
     "metadata": {},
     "output_type": "display_data"
    },
    {
     "data": {
      "application/vnd.jupyter.widget-view+json": {
       "model_id": "593096d5b6d74f0d8c7e41d4498507c4",
       "version_major": 2,
       "version_minor": 0
      },
      "text/plain": [
       "Testing: 0it [00:00, ?it/s]"
      ]
     },
     "metadata": {},
     "output_type": "display_data"
    }
   ],
   "source": [
    "from p2pfl.learning.pytorch.mnist_examples.mnistfederated_dm import MnistFederatedDM\n",
    "from p2pfl.learning.pytorch.mnist_examples.models.cnn import CNN\n",
    "from p2pfl.learning.pytorch.mnist_examples.models.mlp import MLP\n",
    "from p2pfl.node import Node\n",
    "import pytest\n",
    "import time\n",
    "import threading\n",
    "\n",
    "nodes = []\n",
    "        \n",
    "def test_node_down_on_learning(n):\n",
    "\n",
    "    # Node Creation\n",
    "    nodes = []\n",
    "    for i in range(n):\n",
    "        node = Node(MLP(),MnistFederatedDM())\n",
    "        node.start()\n",
    "        nodes.append(node)\n",
    "\n",
    "    # Node Connection\n",
    "    for i in range(len(nodes)-1):\n",
    "        nodes[i+1].connect_to(nodes[i].host,nodes[i].port)\n",
    "        time.sleep(1)\n",
    "\n",
    "    # Check if they are connected\n",
    "    for node in nodes:\n",
    "        assert len(node.neightboors) == n-1\n",
    "\n",
    "    # Start Learning\n",
    "    nodes[0].set_start_learning(rounds=2,epochs=0)\n",
    "\n",
    "    # Stopping node\n",
    "    nodes[1].stop()\n",
    "    # Wait 4 results\n",
    "    while True:\n",
    "        time.sleep(1)\n",
    "        finish = True\n",
    "        for f in [node.round is None for node in nodes]:\n",
    "            finish = finish and f\n",
    "\n",
    "        if finish:\n",
    "            break\n",
    "\n",
    "    for node in nodes:\n",
    "        node.stop()\n",
    "\n",
    "\n",
    "nodes = []\n",
    "for _ in range(6):\n",
    "    test_node_down_on_learning(4)\n"
   ]
  },
  {
   "cell_type": "code",
   "execution_count": 2,
   "id": "86d86781",
   "metadata": {
    "scrolled": true
   },
   "outputs": [
    {
     "name": "stdout",
     "output_type": "stream",
     "text": [
      "MainThread\n",
      "IOPub\n",
      "Heartbeat\n",
      "Thread-3\n",
      "Thread-4\n",
      "Control\n",
      "IPythonHistorySavingThread\n",
      "Thread-2\n"
     ]
    }
   ],
   "source": [
    "#import threading\n",
    "for thread in threading.enumerate(): \n",
    "    print(thread.name)"
   ]
  },
  {
   "cell_type": "code",
   "execution_count": 6,
   "id": "445e009c",
   "metadata": {},
   "outputs": [
    {
     "data": {
      "text/plain": [
       "('/Users/pedro/Documents/UDC/4/TFG/federated_learning_p2p/p2pfl/node.py',\n",
       " '__on_round_finished',\n",
       " 260)"
      ]
     },
     "execution_count": 6,
     "metadata": {},
     "output_type": "execute_result"
    }
   ],
   "source": [
    "import sys\n",
    "\n",
    "def get_thread_position(thread):\n",
    "    frame = sys._current_frames().get(thread.ident, None)\n",
    "    if frame:\n",
    "        return frame.f_code.co_filename, frame.f_code.co_name, frame.f_code.co_firstlineno\n",
    "\n",
    "get_thread_position(threading.enumerate()[-1])"
   ]
  },
  {
   "cell_type": "code",
   "execution_count": 1,
   "id": "4471063f",
   "metadata": {
    "scrolled": true
   },
   "outputs": [
    {
     "ename": "ModuleNotFoundError",
     "evalue": "No module named 'p2pfl.const'",
     "output_type": "error",
     "traceback": [
      "\u001b[0;31m---------------------------------------------------------------------------\u001b[0m",
      "\u001b[0;31mModuleNotFoundError\u001b[0m                       Traceback (most recent call last)",
      "Input \u001b[0;32mIn [1]\u001b[0m, in \u001b[0;36m<cell line: 1>\u001b[0;34m()\u001b[0m\n\u001b[0;32m----> 1\u001b[0m \u001b[38;5;28;01mfrom\u001b[39;00m \u001b[38;5;21;01mp2pfl\u001b[39;00m\u001b[38;5;21;01m.\u001b[39;00m\u001b[38;5;21;01mconst\u001b[39;00m \u001b[38;5;28;01mimport\u001b[39;00m HEARTBEAT_FREC, SOCKET_TIEMOUT\n\u001b[1;32m      2\u001b[0m \u001b[38;5;28;01mfrom\u001b[39;00m \u001b[38;5;21;01mp2pfl\u001b[39;00m\u001b[38;5;21;01m.\u001b[39;00m\u001b[38;5;21;01mlearning\u001b[39;00m\u001b[38;5;21;01m.\u001b[39;00m\u001b[38;5;21;01mpytorch\u001b[39;00m\u001b[38;5;21;01m.\u001b[39;00m\u001b[38;5;21;01mmnist_examples\u001b[39;00m\u001b[38;5;21;01m.\u001b[39;00m\u001b[38;5;21;01mmnistfederated_dm\u001b[39;00m \u001b[38;5;28;01mimport\u001b[39;00m MnistFederatedDM\n\u001b[1;32m      3\u001b[0m \u001b[38;5;28;01mfrom\u001b[39;00m \u001b[38;5;21;01mp2pfl\u001b[39;00m\u001b[38;5;21;01m.\u001b[39;00m\u001b[38;5;21;01mlearning\u001b[39;00m\u001b[38;5;21;01m.\u001b[39;00m\u001b[38;5;21;01mpytorch\u001b[39;00m\u001b[38;5;21;01m.\u001b[39;00m\u001b[38;5;21;01mmnist_examples\u001b[39;00m\u001b[38;5;21;01m.\u001b[39;00m\u001b[38;5;21;01mmodels\u001b[39;00m\u001b[38;5;21;01m.\u001b[39;00m\u001b[38;5;21;01mcnn\u001b[39;00m \u001b[38;5;28;01mimport\u001b[39;00m CNN\n",
      "\u001b[0;31mModuleNotFoundError\u001b[0m: No module named 'p2pfl.const'"
     ]
    }
   ],
   "source": [
    "TAIN_SET_NUM_NODESfrom p2pfl.const import HEARTBEAT_FREC, SOCKET_TIEMOUT\n",
    "from p2pfl.learning.pytorch.mnist_examples.mnistfederated_dm import MnistFederatedDM\n",
    "from p2pfl.learning.pytorch.mnist_examples.models.cnn import CNN\n",
    "from p2pfl.learning.pytorch.mnist_examples.models.mlp import MLP\n",
    "from p2pfl.node import Node\n",
    "import pytest\n",
    "import time\n",
    "from test.fixtures import two_nodes, four_nodes\n",
    "\n",
    "\n",
    "import threading\n",
    "for thread in threading.enumerate(): \n",
    "    print(thread.name)\n",
    "    \n",
    "n1 = Node(MLP(),MnistFederatedDM())\n",
    "n2 = Node(MLP(),MnistFederatedDM())\n",
    "print(\"\\n\")\n",
    "def test_bad_binary_model():\n",
    "\n",
    "    n1.start()\n",
    "    n2.start()\n",
    "\n",
    "    n1.connect_to(n2.host,n2.port)\n",
    "    time.sleep(0.1) \n",
    "\n",
    "    # Start Learning\n",
    "    n1.set_start_learning(rounds=2,epochs=0)\n",
    " \n",
    "    # Adding noise to the buffer\n",
    "    for _ in range(200):self.neightboors\n",
    "        n1.neightboors[0].param_bufffer += \"noise\".encode(\"utf-8\")\n",
    "    \n",
    "    while not n1.round is None and not n2.round is None:\n",
    "        time.sleep(0.1)\n",
    "        \n",
    "    n1.stop()\n",
    "    n2.stop()\n",
    "    \n",
    "test_bad_binary_model()\n",
    "\n",
    "time.sleep(10)\n",
    "\n",
    "for thread in threading.enumerate(): \n",
    "    print(thread.name)\n",
    "    \n",
    "print(\"\\n\")\n",
    "\n"
   ]
  },
  {
   "cell_type": "code",
   "execution_count": 4,
   "id": "b7fe91dc",
   "metadata": {},
   "outputs": [
    {
     "name": "stdout",
     "output_type": "stream",
     "text": [
      "MainThread\n",
      "IOPub\n",
      "Heartbeat\n",
      "Thread-3\n",
      "Thread-4\n",
      "Control\n",
      "IPythonHistorySavingThread\n",
      "Thread-2\n"
     ]
    }
   ],
   "source": [
    "\n",
    "for thread in threading.enumerate(): \n",
    "    print(thread.name)\n",
    "    "
   ]
  },
  {
   "cell_type": "code",
   "execution_count": 6,
   "id": "aec30564",
   "metadata": {},
   "outputs": [
    {
     "name": "stdout",
     "output_type": "stream",
     "text": [
      "None\n"
     ]
    }
   ],
   "source": [
    "print(n1.round)"
   ]
  },
  {
   "cell_type": "code",
   "execution_count": 4,
   "id": "3bc69eb3",
   "metadata": {},
   "outputs": [],
   "source": [
    "from p2pfl.settings import Settings\n",
    "\n",
    "Settings.AGREGATION_TIEMOUT = 1"
   ]
  },
  {
   "cell_type": "code",
   "execution_count": 5,
   "id": "ccd4109a",
   "metadata": {},
   "outputs": [
    {
     "data": {
      "text/plain": [
       "False"
      ]
     },
     "execution_count": 5,
     "metadata": {},
     "output_type": "execute_result"
    }
   ],
   "source": [
    "\"0.1545318067073822\".isdecimal()"
   ]
  },
  {
   "cell_type": "code",
   "execution_count": 4,
   "id": "6cfda0c3",
   "metadata": {},
   "outputs": [
    {
     "name": "stdout",
     "output_type": "stream",
     "text": [
      "0 2.301456928253174 0.13700607419013977\n"
     ]
    }
   ],
   "source": [
    "message = ['METRICS', '0', '2.301456928253174', '0.13700607419013977']\n",
    "print(int(message[1]), float(message[2]), float(message[3]))"
   ]
  },
  {
   "cell_type": "code",
   "execution_count": 11,
   "id": "98edc3c4",
   "metadata": {},
   "outputs": [
    {
     "data": {
      "text/plain": [
       "[5, 8, 2]"
      ]
     },
     "execution_count": 11,
     "metadata": {},
     "output_type": "execute_result"
    }
   ],
   "source": [
    "import random\n",
    "import math\n",
    "a = [1,2,3,4,5,6,7,8,9,10]\n",
    "\n",
    "random.choices(a, k=3)"
   ]
  },
  {
   "cell_type": "code",
   "execution_count": 13,
   "id": "c840caba",
   "metadata": {},
   "outputs": [
    {
     "data": {
      "text/plain": [
       "[300, 298, 15]"
      ]
     },
     "execution_count": 13,
     "metadata": {},
     "output_type": "execute_result"
    }
   ],
   "source": [
    "[random.randint(0,1000),math.floor(random.randint(0,1000)/2),math.floor(random.randint(0,1000)/4)]"
   ]
  },
  {
   "cell_type": "code",
   "execution_count": 15,
   "id": "3f54ae0e",
   "metadata": {},
   "outputs": [
    {
     "data": {
      "text/plain": [
       "'12'"
      ]
     },
     "execution_count": 15,
     "metadata": {},
     "output_type": "execute_result"
    }
   ],
   "source": [
    "\"\".join((\"1\",\"2\"))"
   ]
  },
  {
   "cell_type": "code",
   "execution_count": 20,
   "id": "77d5a203",
   "metadata": {},
   "outputs": [
    {
     "data": {
      "text/plain": [
       "b'CommunicationProtocol.VOTE_TRAIN_SET host port 443 host port 194 host port 245\\n'"
      ]
     },
     "execution_count": 20,
     "metadata": {},
     "output_type": "execute_result"
    }
   ],
   "source": [
    "def build_vote_train_set_msg(candidates, weights):\n",
    "    aux = \"\"\n",
    "    for i in range(len(candidates)):\n",
    "        aux = aux + \" \" + \" \".join(candidates[i]) + \" \" + str(weights[i])\n",
    "    return (\"CommunicationProtocol.VOTE_TRAIN_SET\" + aux + \"\\n\").encode(\"utf-8\")\n",
    "\n",
    "candidates = [(\"host\",\"port\"),(\"host\",\"port\"),(\"host\",\"port\")]\n",
    "weights = [random.randint(0,1000),math.floor(random.randint(0,1000)/2),math.floor(random.randint(0,1000)/4)]\n",
    "\n",
    "build_vote_train_set_msg(candidates,weights)"
   ]
  },
  {
   "cell_type": "code",
   "execution_count": 2,
   "id": "0fe998c1",
   "metadata": {},
   "outputs": [
    {
     "data": {
      "text/plain": [
       "['1', '2']"
      ]
     },
     "execution_count": 2,
     "metadata": {},
     "output_type": "execute_result"
    }
   ],
   "source": [
    "[str(x) for x in (\"1\",2)]"
   ]
  },
  {
   "cell_type": "code",
   "execution_count": 4,
   "id": "2fdb4422",
   "metadata": {},
   "outputs": [
    {
     "name": "stdout",
     "output_type": "stream",
     "text": [
      "[((1, 2), 1), ((1, 2), 2)]\n"
     ]
    }
   ],
   "source": [
    "a=[(1,2),(1,2)]\n",
    "b=[1,2]\n",
    "print(list(zip(a,b)))"
   ]
  },
  {
   "cell_type": "code",
   "execution_count": 2,
   "id": "4d3c757d",
   "metadata": {},
   "outputs": [
    {
     "data": {
      "text/plain": [
       "['[', ']']"
      ]
     },
     "execution_count": 2,
     "metadata": {},
     "output_type": "execute_result"
    }
   ],
   "source": [
    "list(\"[]\")"
   ]
  },
  {
   "cell_type": "code",
   "execution_count": 4,
   "id": "5249376f",
   "metadata": {},
   "outputs": [
    {
     "ename": "ValueError",
     "evalue": "9 is not in list",
     "output_type": "error",
     "traceback": [
      "\u001b[0;31m---------------------------------------------------------------------------\u001b[0m",
      "\u001b[0;31mValueError\u001b[0m                                Traceback (most recent call last)",
      "Input \u001b[0;32mIn [4]\u001b[0m, in \u001b[0;36m<cell line: 1>\u001b[0;34m()\u001b[0m\n\u001b[0;32m----> 1\u001b[0m \u001b[43m[\u001b[49m\u001b[38;5;241;43m1\u001b[39;49m\u001b[43m,\u001b[49m\u001b[38;5;241;43m2\u001b[39;49m\u001b[43m,\u001b[49m\u001b[38;5;241;43m3\u001b[39;49m\u001b[43m,\u001b[49m\u001b[38;5;241;43m4\u001b[39;49m\u001b[43m]\u001b[49m\u001b[38;5;241;43m.\u001b[39;49m\u001b[43mindex\u001b[49m\u001b[43m(\u001b[49m\u001b[38;5;241;43m9\u001b[39;49m\u001b[43m)\u001b[49m\n",
      "\u001b[0;31mValueError\u001b[0m: 9 is not in list"
     ]
    }
   ],
   "source": [
    "[1,2,3,4].index(9)"
   ]
  },
  {
   "cell_type": "code",
   "execution_count": 5,
   "id": "2ef4f394",
   "metadata": {},
   "outputs": [
    {
     "data": {
      "text/plain": [
       "[3, 4, 5, 6]"
      ]
     },
     "execution_count": 5,
     "metadata": {},
     "output_type": "execute_result"
    }
   ],
   "source": [
    "[1,2,3,4,5,6][2:]"
   ]
  },
  {
   "cell_type": "code",
   "execution_count": 7,
   "id": "cbb77b14",
   "metadata": {},
   "outputs": [
    {
     "data": {
      "text/plain": [
       "1"
      ]
     },
     "execution_count": 7,
     "metadata": {},
     "output_type": "execute_result"
    }
   ],
   "source": [
    "5%2"
   ]
  },
  {
   "cell_type": "code",
   "execution_count": 9,
   "id": "46c8ce8f",
   "metadata": {},
   "outputs": [
    {
     "data": {
      "text/plain": [
       "True"
      ]
     },
     "execution_count": 9,
     "metadata": {},
     "output_type": "execute_result"
    }
   ],
   "source": [
    "all([True,[False]])"
   ]
  },
  {
   "cell_type": "code",
   "execution_count": 1,
   "id": "0084f8ec",
   "metadata": {},
   "outputs": [
    {
     "data": {
      "text/plain": [
       "{(1, 2): 3}"
      ]
     },
     "execution_count": 1,
     "metadata": {},
     "output_type": "execute_result"
    }
   ],
   "source": [
    "{\n",
    "    (1,2):3\n",
    "}"
   ]
  },
  {
   "cell_type": "code",
   "execution_count": 15,
   "id": "7b8eaafb",
   "metadata": {},
   "outputs": [
    {
     "name": "stdout",
     "output_type": "stream",
     "text": [
      "('127.0.0.1', 47605)\n"
     ]
    }
   ],
   "source": [
    "dicta = {('127.0.0.1', 47605): 165}\n",
    "\n",
    "for i in range(len(dicta)):\n",
    "    print(list(dicta.keys())[i])\n"
   ]
  },
  {
   "cell_type": "code",
   "execution_count": 14,
   "id": "eaa5f463",
   "metadata": {},
   "outputs": [
    {
     "data": {
      "text/plain": [
       "[('127.0.0.1', 47605)]"
      ]
     },
     "execution_count": 14,
     "metadata": {},
     "output_type": "execute_result"
    }
   ],
   "source": [
    "list(dicta.keys())"
   ]
  },
  {
   "cell_type": "code",
   "execution_count": 4,
   "id": "d1d25f4e",
   "metadata": {},
   "outputs": [
    {
     "name": "stdout",
     "output_type": "stream",
     "text": [
      "{('127.0.0.1', 34535): 186}\n",
      "[]\n"
     ]
    }
   ],
   "source": [
    "for n in nodes:\n",
    "    for nc in n.neightboors:\n",
    "        \n",
    "        print(nc.get_train_set_votes())"
   ]
  },
  {
   "cell_type": "code",
   "execution_count": 2,
   "id": "4e092334",
   "metadata": {},
   "outputs": [
    {
     "data": {
      "text/plain": [
       "1"
      ]
     },
     "execution_count": 2,
     "metadata": {},
     "output_type": "execute_result"
    }
   ],
   "source": [
    "len({('127.0.0.1', 51977): 149})"
   ]
  },
  {
   "cell_type": "code",
   "execution_count": 1,
   "id": "bf3b36b5",
   "metadata": {},
   "outputs": [
    {
     "data": {
      "text/plain": [
       "True"
      ]
     },
     "execution_count": 1,
     "metadata": {},
     "output_type": "execute_result"
    }
   ],
   "source": [
    "all([])"
   ]
  },
  {
   "cell_type": "code",
   "execution_count": 3,
   "id": "bc03d0c9",
   "metadata": {},
   "outputs": [
    {
     "data": {
      "text/plain": [
       "'127.0.0.1'"
      ]
     },
     "execution_count": 3,
     "metadata": {},
     "output_type": "execute_result"
    }
   ],
   "source": [
    "import socket\n",
    "socket.gethostbyname(\"127.0.0.1\")"
   ]
  },
  {
   "cell_type": "code",
   "execution_count": null,
   "id": "055499d3",
   "metadata": {},
   "outputs": [],
   "source": []
  }
 ],
 "metadata": {
  "kernelspec": {
   "display_name": "Python 3 (ipykernel)",
   "language": "python",
   "name": "python3"
  },
  "language_info": {
   "codemirror_mode": {
    "name": "ipython",
    "version": 3
   },
   "file_extension": ".py",
   "mimetype": "text/x-python",
   "name": "python",
   "nbconvert_exporter": "python",
   "pygments_lexer": "ipython3",
   "version": "3.9.12"
  }
 },
 "nbformat": 4,
 "nbformat_minor": 5
}

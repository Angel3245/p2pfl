{
 "cells": [
  {
   "cell_type": "code",
   "execution_count": 1,
   "id": "de3333e5",
   "metadata": {
    "scrolled": true
   },
   "outputs": [
    {
     "name": "stdout",
     "output_type": "stream",
     "text": [
      "Train: 54000 Val:6000 Test:10000\n",
      "INFO:root:Nodo listening at 127.0.0.1:56621\n",
      "Train: 54000 Val:6000 Test:10000\n",
      "INFO:root:Nodo listening at 127.0.0.1:38745\n",
      "INFO:root:('127.0.0.1', 38745) Connected to 127.0.0.1:56621\n",
      "INFO:root:('127.0.0.1', 56621) Conexión aceptada con 127.0.0.1:38745\n",
      "INFO:root:(('127.0.0.1', 56621)) Broadcasting start learning...\n",
      "INFO:root:(('127.0.0.1', 56621)) Sending Initial Model Weights\n",
      "Processed 1 messages ({'-5098766184519082756': b'START_LEARNING 2 1 -5098766184519082756\\n'})\n",
      "INFO:root:(('127.0.0.1', 56621)) Broadcasting model to 1 clients. (size: 548864 bytes)\n",
      "INFO:root:(('127.0.0.1', 38745)) Broadcasting Number of Samples...\n",
      "INFO:root:(('127.0.0.1', 38745)) Initialicing Model Weights\n",
      "INFO:root:(('127.0.0.1', 38745)) Model initialized\n",
      "INFO:root:(('127.0.0.1', 56621)) Broadcasting Number of Samples...\n",
      "INFO:root:(('127.0.0.1', 56621)) Sending train set vote.\n",
      "INFO:root:(('127.0.0.1', 56621)) Waiting other node votes.\n",
      "INFO:root:(('127.0.0.1', 38745)) Sending train set vote.\n",
      "INFO:root:(('127.0.0.1', 38745)) Waiting other node votes.\n",
      "INFO:root:('127.0.0.1', 56621) Train set of 2 nodes. [('127.0.0.1', 56621), ('127.0.0.1', 38745)]\n",
      "INFO:root:('127.0.0.1', 38745) Train set of 2 nodes. [('127.0.0.1', 56621), ('127.0.0.1', 38745)]\n",
      "INFO:root:(('127.0.0.1', 56621)) Evaluating...\n",
      "INFO:root:(('127.0.0.1', 38745)) Evaluating...\n"
     ]
    },
    {
     "data": {
      "application/vnd.jupyter.widget-view+json": {
       "model_id": "f96b9a2e61a44243817fadffff281069",
       "version_major": 2,
       "version_minor": 0
      },
      "text/plain": [
       "Testing: 0it [00:00, ?it/s]"
      ]
     },
     "metadata": {},
     "output_type": "display_data"
    },
    {
     "data": {
      "application/vnd.jupyter.widget-view+json": {
       "model_id": "935962af1d6946cd8e1f8b4bd950c079",
       "version_major": 2,
       "version_minor": 0
      },
      "text/plain": [
       "Testing: 0it [00:00, ?it/s]"
      ]
     },
     "metadata": {},
     "output_type": "display_data"
    },
    {
     "name": "stdout",
     "output_type": "stream",
     "text": [
      "ERROR:root:Something went wrong with pytorch lightning. cannot import name 'Popen' from partially initialized module 'multiprocessing.popen_fork' (most likely due to a circular import) (/usr/lib/python3.9/multiprocessing/popen_fork.py)\n",
      "INFO:root:(('127.0.0.1', 56621)) Training...\n"
     ]
    },
    {
     "data": {
      "application/vnd.jupyter.widget-view+json": {
       "model_id": "",
       "version_major": 2,
       "version_minor": 0
      },
      "text/plain": [
       "Sanity Checking: 0it [00:00, ?it/s]"
      ]
     },
     "metadata": {},
     "output_type": "display_data"
    },
    {
     "data": {
      "application/vnd.jupyter.widget-view+json": {
       "model_id": "5de92681df504acc9a077cd9668e52e6",
       "version_major": 2,
       "version_minor": 0
      },
      "text/plain": [
       "Training: 0it [00:00, ?it/s]"
      ]
     },
     "metadata": {},
     "output_type": "display_data"
    },
    {
     "name": "stdout",
     "output_type": "stream",
     "text": [
      "INFO:root:(('127.0.0.1', 56621)) Training...\n",
      "INFO:root:(('127.0.0.1', 38745)) Evaluated. Losss: 2.301456928253174, Metric: 0.11810000240802765. (Check tensorboard for more info)\n",
      "INFO:root:(('127.0.0.1', 38745)) Training...\n"
     ]
    },
    {
     "data": {
      "application/vnd.jupyter.widget-view+json": {
       "model_id": "",
       "version_major": 2,
       "version_minor": 0
      },
      "text/plain": [
       "Sanity Checking: 0it [00:00, ?it/s]"
      ]
     },
     "metadata": {},
     "output_type": "display_data"
    },
    {
     "data": {
      "application/vnd.jupyter.widget-view+json": {
       "model_id": "a857eedf0daf49809a58ae3eeb8bf71b",
       "version_major": 2,
       "version_minor": 0
      },
      "text/plain": [
       "Training: 0it [00:00, ?it/s]"
      ]
     },
     "metadata": {},
     "output_type": "display_data"
    },
    {
     "name": "stdout",
     "output_type": "stream",
     "text": [
      "Processed 1 messages ({'934390099526282793': b'BEAT 934390099526282793\\n'})\n",
      "Processed 1 messages ({'3850145745883456570': b'BEAT 3850145745883456570\\n'})\n",
      "Processed 1 messages ({'5861637622909596373': b'BEAT 5861637622909596373\\n'})\n",
      "Processed 1 messages ({'-5718249754245651054': b'BEAT -5718249754245651054\\n'})\n",
      "Processed 1 messages ({'3856981910421341338': b'BEAT 3856981910421341338\\n'})\n",
      "Processed 1 messages ({'-1973297548915935896': b'BEAT -1973297548915935896\\n'})\n"
     ]
    },
    {
     "data": {
      "application/vnd.jupyter.widget-view+json": {
       "model_id": "",
       "version_major": 2,
       "version_minor": 0
      },
      "text/plain": [
       "Validation: 0it [00:00, ?it/s]"
      ]
     },
     "metadata": {},
     "output_type": "display_data"
    },
    {
     "name": "stdout",
     "output_type": "stream",
     "text": [
      "INFO:root:(127.0.0.1:56621) Model added (1/2) from ('127.0.0.1', 56621)\n",
      "INFO:root:(('127.0.0.1', 56621)) Broadcasting model to 1 clients. (size: 548864 bytes)\n",
      "INFO:root:(127.0.0.1:38745) Model added (1/2) from ('127.0.0.1', 56621)\n"
     ]
    },
    {
     "data": {
      "application/vnd.jupyter.widget-view+json": {
       "model_id": "",
       "version_major": 2,
       "version_minor": 0
      },
      "text/plain": [
       "Validation: 0it [00:00, ?it/s]"
      ]
     },
     "metadata": {},
     "output_type": "display_data"
    },
    {
     "name": "stdout",
     "output_type": "stream",
     "text": [
      "INFO:root:(127.0.0.1:38745) Model added (2/2) from ('127.0.0.1', 38745)\n",
      "INFO:root:(127.0.0.1:38745) Agregating models.\n",
      "INFO:root:(('127.0.0.1', 38745)) Broadcasting model to 1 clients. (size: 548864 bytes)\n",
      "INFO:root:(('127.0.0.1', 38745)) Waiting other nodes.\n",
      "INFO:root:(127.0.0.1:56621) Model added (2/2) from ('127.0.0.1', 38745)\n",
      "INFO:root:(127.0.0.1:56621) Agregating models.\n",
      "INFO:root:(('127.0.0.1', 56621)) Waiting other nodes.\n",
      "INFO:root:(('127.0.0.1', 56621)) Broadcasting model to 1 clients. (size: 548864 bytes)\n",
      "INFO:root:(('127.0.0.1', 38745)) Broadcasting model to 1 clients. (size: 548864 bytes)\n",
      "INFO:root:(('127.0.0.1', 56621)) Waiting other nodes.\n",
      "INFO:root:(('127.0.0.1', 38745)) Waiting other nodes.\n",
      "INFO:root:(('127.0.0.1', 56621)) Round 1 of 2 finished.\n",
      "INFO:root:(('127.0.0.1', 38745)) Round 1 of 2 finished.\n",
      "INFO:root:(('127.0.0.1', 56621)) Sending train set vote.\n",
      "INFO:root:(('127.0.0.1', 38745)) Sending train set vote.\n",
      "INFO:root:(('127.0.0.1', 56621)) Waiting other node votes.\n",
      "INFO:root:(('127.0.0.1', 38745)) Waiting other node votes.\n",
      "INFO:root:('127.0.0.1', 56621) Train set of 2 nodes. [('127.0.0.1', 56621), ('127.0.0.1', 38745)]\n",
      "INFO:root:('127.0.0.1', 38745) Train set of 2 nodes. [('127.0.0.1', 56621), ('127.0.0.1', 38745)]\n",
      "INFO:root:(('127.0.0.1', 56621)) Evaluating...\n",
      "INFO:root:(('127.0.0.1', 38745)) Evaluating...\n"
     ]
    },
    {
     "data": {
      "application/vnd.jupyter.widget-view+json": {
       "model_id": "92730389e99143fb82d19dd746085451",
       "version_major": 2,
       "version_minor": 0
      },
      "text/plain": [
       "Testing: 0it [00:00, ?it/s]"
      ]
     },
     "metadata": {},
     "output_type": "display_data"
    },
    {
     "data": {
      "application/vnd.jupyter.widget-view+json": {
       "model_id": "abe298e99cf9422bafa62aac6d09f311",
       "version_major": 2,
       "version_minor": 0
      },
      "text/plain": [
       "Testing: 0it [00:00, ?it/s]"
      ]
     },
     "metadata": {},
     "output_type": "display_data"
    },
    {
     "name": "stdout",
     "output_type": "stream",
     "text": [
      "Processed 1 messages ({'3597559459727463745': b'BEAT 3597559459727463745\\n'})\n",
      "Processed 1 messages ({'-4579005812133977539': b'BEAT -4579005812133977539\\n'})\n",
      "INFO:root:(('127.0.0.1', 38745)) Evaluated. Losss: 0.14684411883354187, Metric: 0.9560999870300293. (Check tensorboard for more info)\n",
      "INFO:root:(('127.0.0.1', 56621)) Evaluated. Losss: 0.14684411883354187, Metric: 0.9560999870300293. (Check tensorboard for more info)\n",
      "INFO:root:(('127.0.0.1', 56621)) Training...\n",
      "INFO:root:(('127.0.0.1', 38745)) Training...\n"
     ]
    },
    {
     "data": {
      "application/vnd.jupyter.widget-view+json": {
       "model_id": "",
       "version_major": 2,
       "version_minor": 0
      },
      "text/plain": [
       "Sanity Checking: 0it [00:00, ?it/s]"
      ]
     },
     "metadata": {},
     "output_type": "display_data"
    },
    {
     "data": {
      "application/vnd.jupyter.widget-view+json": {
       "model_id": "",
       "version_major": 2,
       "version_minor": 0
      },
      "text/plain": [
       "Sanity Checking: 0it [00:00, ?it/s]"
      ]
     },
     "metadata": {},
     "output_type": "display_data"
    },
    {
     "data": {
      "application/vnd.jupyter.widget-view+json": {
       "model_id": "c7dab95058284c379ff45cdc896b8ed1",
       "version_major": 2,
       "version_minor": 0
      },
      "text/plain": [
       "Training: 0it [00:00, ?it/s]"
      ]
     },
     "metadata": {},
     "output_type": "display_data"
    },
    {
     "data": {
      "application/vnd.jupyter.widget-view+json": {
       "model_id": "6798c781eaed4fe2b7e1b0771ed4e791",
       "version_major": 2,
       "version_minor": 0
      },
      "text/plain": [
       "Training: 0it [00:00, ?it/s]"
      ]
     },
     "metadata": {},
     "output_type": "display_data"
    },
    {
     "name": "stdout",
     "output_type": "stream",
     "text": [
      "Processed 1 messages ({'-1275676739472112389': b'BEAT -1275676739472112389\\n'})\n",
      "Processed 1 messages ({'-5270429252057709433': b'BEAT -5270429252057709433\\n'})\n",
      "Processed 1 messages ({'-6495882399271358817': b'BEAT -6495882399271358817\\n'})\n",
      "Processed 1 messages ({'3863760050814223324': b'BEAT 3863760050814223324\\n'})\n",
      "Processed 1 messages ({'-8602674774564562307': b'BEAT -8602674774564562307\\n'})\n",
      "Processed 1 messages ({'8851695092307725025': b'BEAT 8851695092307725025\\n'})\n"
     ]
    },
    {
     "data": {
      "application/vnd.jupyter.widget-view+json": {
       "model_id": "",
       "version_major": 2,
       "version_minor": 0
      },
      "text/plain": [
       "Validation: 0it [00:00, ?it/s]"
      ]
     },
     "metadata": {},
     "output_type": "display_data"
    },
    {
     "data": {
      "application/vnd.jupyter.widget-view+json": {
       "model_id": "",
       "version_major": 2,
       "version_minor": 0
      },
      "text/plain": [
       "Validation: 0it [00:00, ?it/s]"
      ]
     },
     "metadata": {},
     "output_type": "display_data"
    },
    {
     "name": "stdout",
     "output_type": "stream",
     "text": [
      "INFO:root:(127.0.0.1:56621) Model added (1/2) from ('127.0.0.1', 56621)\n",
      "INFO:root:(('127.0.0.1', 56621)) Broadcasting model to 1 clients. (size: 548864 bytes)\n",
      "INFO:root:(127.0.0.1:38745) Model added (1/2) from ('127.0.0.1', 38745)\n",
      "INFO:root:(('127.0.0.1', 38745)) Broadcasting model to 1 clients. (size: 548864 bytes)\n",
      "INFO:root:(127.0.0.1:38745) Model added (2/2) from ('127.0.0.1', 56621)\n",
      "INFO:root:(127.0.0.1:38745) Agregating models.\n",
      "INFO:root:(('127.0.0.1', 38745)) Waiting other nodes.\n",
      "INFO:root:(127.0.0.1:56621) Model added (2/2) from ('127.0.0.1', 38745)\n",
      "INFO:root:(127.0.0.1:56621) Agregating models.\n",
      "INFO:root:(('127.0.0.1', 56621)) Waiting other nodes.\n",
      "INFO:root:(('127.0.0.1', 38745)) Broadcasting model to 1 clients. (size: 548864 bytes)\n",
      "INFO:root:(('127.0.0.1', 56621)) Broadcasting model to 1 clients. (size: 548864 bytes)\n",
      "INFO:root:(('127.0.0.1', 38745)) Waiting other nodes.\n",
      "INFO:root:(('127.0.0.1', 56621)) Waiting other nodes.\n",
      "INFO:root:(('127.0.0.1', 38745)) Round 2 of 2 finished.\n",
      "INFO:root:(('127.0.0.1', 56621)) Round 2 of 2 finished.\n",
      "INFO:root:(('127.0.0.1', 38745)) Evaluating...\n",
      "INFO:root:(('127.0.0.1', 56621)) Evaluating...\n"
     ]
    },
    {
     "data": {
      "application/vnd.jupyter.widget-view+json": {
       "model_id": "b2beac29119c4ea291a4cea74478b0cf",
       "version_major": 2,
       "version_minor": 0
      },
      "text/plain": [
       "Testing: 0it [00:00, ?it/s]"
      ]
     },
     "metadata": {},
     "output_type": "display_data"
    },
    {
     "data": {
      "application/vnd.jupyter.widget-view+json": {
       "model_id": "de4c78280df640ef9f784ed56d75c2d0",
       "version_major": 2,
       "version_minor": 0
      },
      "text/plain": [
       "Testing: 0it [00:00, ?it/s]"
      ]
     },
     "metadata": {},
     "output_type": "display_data"
    },
    {
     "name": "stdout",
     "output_type": "stream",
     "text": [
      "INFO:root:(('127.0.0.1', 56621)) Evaluated. Losss: 0.07988487929105759, Metric: 0.9746000170707703. (Check tensorboard for more info)\n",
      "INFO:root:(('127.0.0.1', 56621)) Finish!!.\n",
      "INFO:root:(('127.0.0.1', 38745)) Evaluated. Losss: 0.07988487929105759, Metric: 0.9746000170707703. (Check tensorboard for more info)\n",
      "Processed 1 messages ({'6660593291076897639': b'BEAT 6660593291076897639\\n'})\n",
      "INFO:root:(('127.0.0.1', 38745)) Finish!!.\n",
      "Processed 1 messages ({'8852037174385301973': b'BEAT 8852037174385301973\\n'})\n",
      "INFO:root:Bajando el nodo, dejando de escuchar en 127.0.0.1 56621 y desconectándose de 1 nodos\n",
      "DEBUG:root:Closed connection: ('127.0.0.1', 56621)\n",
      "DEBUG:root:Closed connection: ('127.0.0.1', 38745)\n",
      "INFO:root:Bajando el nodo, dejando de escuchar en 127.0.0.1 38745 y desconectándose de 0 nodos\n"
     ]
    }
   ],
   "source": [
    "from p2pfl.node import Node\n",
    "from p2pfl.learning.pytorch.mnist_examples.mnistfederated_dm import MnistFederatedDM\n",
    "from p2pfl.learning.pytorch.mnist_examples.models.mlp import MLP\n",
    "from collections import OrderedDict\n",
    "import torch\n",
    "import time\n",
    "\n",
    "\n",
    "def test_convergence(x):\n",
    "    n,r = x\n",
    "\n",
    "    nodes = []\n",
    "    \n",
    "    for i in range(n):\n",
    "        node = Node(MLP(),MnistFederatedDM())\n",
    "        node.start()\n",
    "        nodes.append(node)\n",
    "\n",
    "    # Node Connection\n",
    "    for i in range(len(nodes)-1):\n",
    "        nodes[i+1].connect_to(nodes[i].host,nodes[i].port)\n",
    "        time.sleep(0.1)\n",
    "\n",
    "    # Check if they are connected\n",
    "    for node in nodes:\n",
    "        assert len(node.neightboors) == n-1\n",
    "\n",
    "    # Start Learning\n",
    "    nodes[0].set_start_learning(rounds=r,epochs=1)\n",
    "\n",
    "    # Wait 4 results\n",
    "    while True:\n",
    "        time.sleep(1)\n",
    "        finish = True\n",
    "        for f in [node.round is None for node in nodes]:\n",
    "            finish = finish and f\n",
    "\n",
    "        if finish:\n",
    "            break\n",
    "\n",
    "\n",
    "    # Validamos Modelos obtenidos sean iguales\n",
    "    model = None\n",
    "    first = True\n",
    "    for node in nodes:\n",
    "        if first:\n",
    "            model = node.learner.get_parameters()\n",
    "            first = False\n",
    "        else:\n",
    "            for layer in model:\n",
    "                a = torch.round(model[layer], decimals=2)\n",
    "                b = torch.round(node.learner.get_parameters()[layer], decimals=2)\n",
    "                assert torch.eq(a, b).all()\n",
    "\n",
    "    # Cerrar\n",
    "    for node in nodes:\n",
    "        node.stop()\n",
    "        time.sleep(.1) #Esperar por la asincronía\n",
    "    \n",
    "    return nodes\n",
    "        \n",
    "nodes = test_convergence((2,2))"
   ]
  },
  {
   "cell_type": "code",
   "execution_count": 1,
   "id": "034fde84",
   "metadata": {
    "scrolled": true
   },
   "outputs": [
    {
     "name": "stdout",
     "output_type": "stream",
     "text": [
      "Train: 54000 Val:6000 Test:10000\n",
      "INFO:root:Nodo listening at 127.0.0.1:47321\n",
      "Train: 54000 Val:6000 Test:10000\n",
      "INFO:root:Nodo listening at 127.0.0.1:55595\n",
      "Train: 54000 Val:6000 Test:10000\n",
      "INFO:root:Nodo listening at 127.0.0.1:41825\n",
      "Train: 54000 Val:6000 Test:10000\n",
      "INFO:root:Nodo listening at 127.0.0.1:49075\n",
      "INFO:root:('127.0.0.1', 55595) Connected to 127.0.0.1:47321\n",
      "INFO:root:('127.0.0.1', 47321) Conexión aceptada con 127.0.0.1:55595\n",
      "INFO:root:('127.0.0.1', 41825) Connected to 127.0.0.1:55595\n",
      "INFO:root:('127.0.0.1', 55595) Conexión aceptada con 127.0.0.1:41825\n",
      "INFO:root:('127.0.0.1', 47321) Connected to 127.0.0.1:41825\n",
      "INFO:root:('127.0.0.1', 41825) Conexión aceptada con 127.0.0.1:47321\n",
      "Processed 1 messages ({'-5252767455553518924': b'CONNECT_TO 127.0.0.1 41825 -5252767455553518924\\n'})\n",
      "INFO:root:('127.0.0.1', 41825) Connected to 127.0.0.1:41825\n",
      "Processed 1 messages ({'-5252767455553518924': b'CONNECT_TO 127.0.0.1 41825 -5252767455553518924\\n'})\n",
      "DEBUG:root:('127.0.0.1', 41825) (NodeConnection Loop) Exception: [Errno 104] Connection reset by peer\n",
      "DEBUG:root:Closed connection: ('127.0.0.1', 41825)\n",
      "INFO:root:('127.0.0.1', 55595) Already connected to 127.0.0.1:41825\n",
      "Processed 1 messages ({'-5252767455553518924': b'CONNECT_TO 127.0.0.1 41825 -5252767455553518924\\n'})\n",
      "INFO:root:('127.0.0.1', 49075) Connected to 127.0.0.1:41825\n",
      "INFO:root:('127.0.0.1', 41825) Conexión aceptada con 127.0.0.1:49075\n",
      "INFO:root:('127.0.0.1', 55595) Connected to 127.0.0.1:49075\n",
      "INFO:root:('127.0.0.1', 47321) Connected to 127.0.0.1:49075\n",
      "Processed 1 messages ({'-5355482641711765934': b'CONNECT_TO 127.0.0.1 49075 -5355482641711765934\\n'})\n",
      "INFO:root:('127.0.0.1', 49075) Conexión aceptada con 127.0.0.1:55595\n",
      "Processed 1 messages ({'-5355482641711765934': b'CONNECT_TO 127.0.0.1 49075 -5355482641711765934\\n'})\n",
      "INFO:root:('127.0.0.1', 49075) Conexión aceptada con 127.0.0.1:47321\n",
      "INFO:root:('127.0.0.1', 49075) Connected to 127.0.0.1:49075\n",
      "Processed 1 messages ({'-5355482641711765934': b'CONNECT_TO 127.0.0.1 49075 -5355482641711765934\\n'})\n",
      "DEBUG:root:('127.0.0.1', 49075) (NodeConnection Loop) Exception: [Errno 104] Connection reset by peer\n",
      "DEBUG:root:Closed connection: ('127.0.0.1', 49075)\n",
      "INFO:root:('127.0.0.1', 49075) Already connected to 127.0.0.1:41825\n",
      "Processed 1 messages ({'-5252767455553518924': b'CONNECT_TO 127.0.0.1 41825 -5252767455553518924\\n'})\n",
      "INFO:root:('127.0.0.1', 47321) Already connected to 127.0.0.1:41825\n",
      "Processed 1 messages ({'-5252767455553518924': b'CONNECT_TO 127.0.0.1 41825 -5252767455553518924\\n'})\n",
      "INFO:root:('127.0.0.1', 41825) Already connected to 127.0.0.1:49075\n",
      "INFO:root:('127.0.0.1', 41825) Connected to 127.0.0.1:41825\n",
      "Processed 2 messages ({'-5355482641711765934': b'CONNECT_TO 127.0.0.1 49075 -5355482641711765934\\n', '-5252767455553518924': b'CONNECT_TO 127.0.0.1 41825 -5252767455553518924\\n'})\n",
      "DEBUG:root:('127.0.0.1', 41825) (NodeConnection Loop) Exception: [Errno 104] Connection reset by peer\n",
      "DEBUG:root:Closed connection: ('127.0.0.1', 41825)\n",
      "3\n",
      "3\n",
      "3\n",
      "3\n",
      "INFO:root:(('127.0.0.1', 47321)) Broadcasting start learning...\n",
      "INFO:root:(('127.0.0.1', 47321)) Sending Initial Model Weights\n",
      "Processed 1 messages ({'-1709088548933605602': b'START_LEARNING 2 0 -1709088548933605602\\n'})\n",
      "Processed 1 messages ({'-1709088548933605602': b'START_LEARNING 2 0 -1709088548933605602\\n'})\n",
      "Processed 1 messages ({'-1709088548933605602': b'START_LEARNING 2 0 -1709088548933605602\\n'})\n",
      "INFO:root:(('127.0.0.1', 47321)) Broadcasting model to 3 clients. (size: 548864 bytes)\n",
      "INFO:root:(('127.0.0.1', 49075)) Broadcasting Number of Samples...\n",
      "INFO:root:(('127.0.0.1', 49075)) Initialicing Model Weights\n",
      "INFO:root:(('127.0.0.1', 55595)) Broadcasting Number of Samples...\n",
      "INFO:root:(('127.0.0.1', 41825)) Broadcasting Number of Samples...\n",
      "INFO:root:(('127.0.0.1', 55595)) Initialicing Model Weights\n",
      "INFO:root:(('127.0.0.1', 41825)) Initialicing Model Weights\n",
      "INFO:root:(('127.0.0.1', 55595)) Model initialized\n",
      "INFO:root:(('127.0.0.1', 41825)) Model initialized\n",
      "INFO:root:(('127.0.0.1', 49075)) Model initialized\n",
      "INFO:root:(('127.0.0.1', 47321)) Broadcasting Number of Samples...\n",
      "INFO:root:(('127.0.0.1', 47321)) Sending train set vote.\n",
      "INFO:root:(('127.0.0.1', 47321)) Waiting other node votes.\n",
      "INFO:root:(('127.0.0.1', 49075)) Sending train set vote.\n",
      "INFO:root:(('127.0.0.1', 49075)) Waiting other node votes.\n",
      "INFO:root:(('127.0.0.1', 55595)) Sending train set vote.\n",
      "INFO:root:(('127.0.0.1', 55595)) Waiting other node votes.\n",
      "INFO:root:(('127.0.0.1', 41825)) Sending train set vote.\n",
      "INFO:root:('127.0.0.1', 55595) Train set of 4 nodes. [('127.0.0.1', 49075), ('127.0.0.1', 47321), ('127.0.0.1', 41825), ('127.0.0.1', 55595)]\n",
      "INFO:root:(('127.0.0.1', 41825)) Waiting other node votes.\n",
      "INFO:root:('127.0.0.1', 49075) Train set of 4 nodes. [('127.0.0.1', 49075), ('127.0.0.1', 47321), ('127.0.0.1', 41825), ('127.0.0.1', 55595)]\n",
      "INFO:root:('127.0.0.1', 47321) Train set of 4 nodes. [('127.0.0.1', 49075), ('127.0.0.1', 47321), ('127.0.0.1', 41825), ('127.0.0.1', 55595)]\n",
      "INFO:root:(('127.0.0.1', 55595)) Evaluating...\n",
      "INFO:root:('127.0.0.1', 41825) Train set of 4 nodes. [('127.0.0.1', 49075), ('127.0.0.1', 47321), ('127.0.0.1', 41825), ('127.0.0.1', 55595)]\n",
      "INFO:root:(('127.0.0.1', 49075)) Evaluating...\n",
      "INFO:root:(('127.0.0.1', 47321)) Evaluating...\n",
      "INFO:root:(('127.0.0.1', 55595)) Training...\n",
      "INFO:root:(('127.0.0.1', 41825)) Evaluating...\n",
      "INFO:root:(('127.0.0.1', 49075)) Training...\n",
      "INFO:root:(('127.0.0.1', 47321)) Training...\n",
      "INFO:root:(('127.0.0.1', 41825)) Training...\n",
      "INFO:root:(127.0.0.1:55595) Model added (1/4) from ('127.0.0.1', 55595)\n",
      "INFO:root:(127.0.0.1:49075) Model added (1/4) from ('127.0.0.1', 49075)\n",
      "INFO:root:(127.0.0.1:47321) Model added (1/4) from ('127.0.0.1', 47321)\n",
      "INFO:root:(127.0.0.1:41825) Model added (1/4) from ('127.0.0.1', 41825)\n",
      "INFO:root:(('127.0.0.1', 55595)) Broadcasting model to 3 clients. (size: 548864 bytes)\n",
      "INFO:root:(('127.0.0.1', 49075)) Broadcasting model to 3 clients. (size: 548864 bytes)\n",
      "INFO:root:(('127.0.0.1', 47321)) Broadcasting model to 3 clients. (size: 548864 bytes)\n",
      "INFO:root:(('127.0.0.1', 41825)) Broadcasting model to 3 clients. (size: 548864 bytes)\n",
      "INFO:root:(127.0.0.1:47321) Model added (2/4) from ('127.0.0.1', 55595)\n",
      "INFO:root:(127.0.0.1:49075) Model added (2/4) from ('127.0.0.1', 55595)\n",
      "INFO:root:(127.0.0.1:41825) Model added (2/4) from ('127.0.0.1', 47321)\n",
      "INFO:root:(127.0.0.1:55595) Model added (2/4) from ('127.0.0.1', 41825)\n",
      "INFO:root:(127.0.0.1:47321) Model added (3/4) from ('127.0.0.1', 49075)\n",
      "INFO:root:(127.0.0.1:49075) Model added (3/4) from ('127.0.0.1', 41825)\n",
      "INFO:root:(127.0.0.1:41825) Model added (3/4) from ('127.0.0.1', 55595)\n",
      "INFO:root:(127.0.0.1:55595) Model added (3/4) from ('127.0.0.1', 47321)\n",
      "INFO:root:(127.0.0.1:47321) Model added (4/4) from ('127.0.0.1', 41825)\n",
      "INFO:root:(127.0.0.1:49075) Model added (4/4) from ('127.0.0.1', 47321)\n",
      "INFO:root:(127.0.0.1:41825) Model added (4/4) from ('127.0.0.1', 49075)\n",
      "INFO:root:(127.0.0.1:55595) Model added (4/4) from ('127.0.0.1', 49075)\n",
      "INFO:root:(127.0.0.1:47321) Agregating models.\n",
      "INFO:root:(127.0.0.1:49075) Agregating models.\n",
      "INFO:root:(127.0.0.1:41825) Agregating models.\n",
      "INFO:root:(127.0.0.1:55595) Agregating models.\n",
      "INFO:root:(('127.0.0.1', 47321)) Waiting other nodes.\n",
      "INFO:root:(('127.0.0.1', 49075)) Waiting other nodes.\n",
      "INFO:root:(('127.0.0.1', 41825)) Waiting other nodes.\n",
      "INFO:root:(('127.0.0.1', 55595)) Waiting other nodes.\n",
      "INFO:root:(('127.0.0.1', 47321)) Broadcasting model to 3 clients. (size: 548864 bytes)\n",
      "INFO:root:(('127.0.0.1', 41825)) Broadcasting model to 3 clients. (size: 548864 bytes)\n",
      "INFO:root:(('127.0.0.1', 49075)) Broadcasting model to 3 clients. (size: 548864 bytes)\n",
      "INFO:root:(('127.0.0.1', 47321)) Waiting other nodes.\n",
      "INFO:root:(('127.0.0.1', 55595)) Broadcasting model to 3 clients. (size: 548864 bytes)\n",
      "INFO:root:(('127.0.0.1', 41825)) Waiting other nodes.\n",
      "INFO:root:(('127.0.0.1', 49075)) Waiting other nodes.\n",
      "INFO:root:(('127.0.0.1', 47321)) Round 1 of 2 finished.\n",
      "INFO:root:(('127.0.0.1', 55595)) Waiting other nodes.\n",
      "INFO:root:(('127.0.0.1', 41825)) Round 1 of 2 finished.\n",
      "INFO:root:(('127.0.0.1', 49075)) Round 1 of 2 finished.\n",
      "INFO:root:(('127.0.0.1', 47321)) Sending train set vote.\n",
      "INFO:root:(('127.0.0.1', 55595)) Round 1 of 2 finished.\n"
     ]
    },
    {
     "name": "stdout",
     "output_type": "stream",
     "text": [
      "INFO:root:(('127.0.0.1', 41825)) Sending train set vote.\n",
      "INFO:root:(('127.0.0.1', 49075)) Sending train set vote.\n",
      "INFO:root:(('127.0.0.1', 55595)) Sending train set vote.\n",
      "INFO:root:(('127.0.0.1', 47321)) Waiting other node votes.\n",
      "INFO:root:(('127.0.0.1', 41825)) Waiting other node votes.\n",
      "INFO:root:(('127.0.0.1', 49075)) Waiting other node votes.\n",
      "INFO:root:('127.0.0.1', 47321) Train set of 4 nodes. [('127.0.0.1', 55595), ('127.0.0.1', 41825), ('127.0.0.1', 49075), ('127.0.0.1', 47321)]\n",
      "INFO:root:(('127.0.0.1', 55595)) Waiting other node votes.\n",
      "INFO:root:('127.0.0.1', 41825) Train set of 4 nodes. [('127.0.0.1', 55595), ('127.0.0.1', 41825), ('127.0.0.1', 49075), ('127.0.0.1', 47321)]\n",
      "INFO:root:('127.0.0.1', 49075) Train set of 4 nodes. [('127.0.0.1', 55595), ('127.0.0.1', 41825), ('127.0.0.1', 49075), ('127.0.0.1', 47321)]\n",
      "INFO:root:(('127.0.0.1', 47321)) Evaluating...\n",
      "INFO:root:('127.0.0.1', 55595) Train set of 4 nodes. [('127.0.0.1', 55595), ('127.0.0.1', 41825), ('127.0.0.1', 49075), ('127.0.0.1', 47321)]\n",
      "INFO:root:(('127.0.0.1', 41825)) Evaluating...\n",
      "INFO:root:(('127.0.0.1', 49075)) Evaluating...\n",
      "INFO:root:(('127.0.0.1', 47321)) Training...\n",
      "INFO:root:(('127.0.0.1', 55595)) Evaluating...\n",
      "INFO:root:(('127.0.0.1', 41825)) Training...\n",
      "INFO:root:(('127.0.0.1', 49075)) Training...\n",
      "INFO:root:(('127.0.0.1', 55595)) Training...\n",
      "INFO:root:(127.0.0.1:47321) Model added (1/4) from ('127.0.0.1', 47321)\n",
      "INFO:root:(127.0.0.1:41825) Model added (1/4) from ('127.0.0.1', 41825)\n",
      "INFO:root:(127.0.0.1:49075) Model added (1/4) from ('127.0.0.1', 49075)\n",
      "INFO:root:(127.0.0.1:55595) Model added (1/4) from ('127.0.0.1', 55595)\n",
      "INFO:root:(('127.0.0.1', 47321)) Broadcasting model to 3 clients. (size: 548864 bytes)\n",
      "INFO:root:(('127.0.0.1', 41825)) Broadcasting model to 3 clients. (size: 548864 bytes)\n",
      "INFO:root:(('127.0.0.1', 55595)) Broadcasting model to 3 clients. (size: 548864 bytes)\n",
      "INFO:root:(('127.0.0.1', 49075)) Broadcasting model to 3 clients. (size: 548864 bytes)\n",
      "INFO:root:(127.0.0.1:55595) Model added (2/4) from ('127.0.0.1', 47321)\n",
      "INFO:root:(127.0.0.1:49075) Model added (2/4) from ('127.0.0.1', 55595)\n",
      "INFO:root:(127.0.0.1:41825) Model added (2/4) from ('127.0.0.1', 49075)\n",
      "INFO:root:(127.0.0.1:47321) Model added (2/4) from ('127.0.0.1', 49075)\n",
      "INFO:root:(127.0.0.1:55595) Model added (3/4) from ('127.0.0.1', 49075)\n",
      "INFO:root:(127.0.0.1:49075) Model added (3/4) from ('127.0.0.1', 47321)\n",
      "INFO:root:(127.0.0.1:41825) Model added (3/4) from ('127.0.0.1', 47321)\n",
      "INFO:root:(127.0.0.1:47321) Model added (3/4) from ('127.0.0.1', 41825)\n",
      "INFO:root:(127.0.0.1:55595) Model added (4/4) from ('127.0.0.1', 41825)\n",
      "INFO:root:(127.0.0.1:49075) Model added (4/4) from ('127.0.0.1', 41825)\n",
      "INFO:root:(127.0.0.1:41825) Model added (4/4) from ('127.0.0.1', 55595)\n",
      "INFO:root:(127.0.0.1:47321) Model added (4/4) from ('127.0.0.1', 55595)\n",
      "INFO:root:(127.0.0.1:55595) Agregating models.\n",
      "INFO:root:(127.0.0.1:49075) Agregating models.\n",
      "INFO:root:(127.0.0.1:41825) Agregating models.\n",
      "INFO:root:(127.0.0.1:47321) Agregating models.\n",
      "INFO:root:(('127.0.0.1', 55595)) Waiting other nodes.\n",
      "INFO:root:(('127.0.0.1', 49075)) Waiting other nodes.\n",
      "INFO:root:(('127.0.0.1', 47321)) Waiting other nodes.\n",
      "INFO:root:(('127.0.0.1', 41825)) Waiting other nodes.\n",
      "INFO:root:(('127.0.0.1', 55595)) Broadcasting model to 3 clients. (size: 548864 bytes)\n",
      "INFO:root:(('127.0.0.1', 49075)) Broadcasting model to 3 clients. (size: 548864 bytes)\n",
      "INFO:root:(('127.0.0.1', 47321)) Broadcasting model to 3 clients. (size: 548864 bytes)\n",
      "INFO:root:(('127.0.0.1', 55595)) Waiting other nodes.\n",
      "INFO:root:(('127.0.0.1', 41825)) Broadcasting model to 3 clients. (size: 548864 bytes)\n",
      "INFO:root:(('127.0.0.1', 41825)) Waiting other nodes.\n",
      "INFO:root:(('127.0.0.1', 47321)) Waiting other nodes.\n",
      "INFO:root:(('127.0.0.1', 55595)) Round 2 of 2 finished.\n",
      "INFO:root:(('127.0.0.1', 49075)) Waiting other nodes.\n",
      "INFO:root:(('127.0.0.1', 41825)) Round 2 of 2 finished.\n",
      "INFO:root:(('127.0.0.1', 47321)) Round 2 of 2 finished.\n",
      "INFO:root:(('127.0.0.1', 55595)) Evaluating...\n",
      "INFO:root:(('127.0.0.1', 49075)) Round 2 of 2 finished.\n",
      "INFO:root:(('127.0.0.1', 41825)) Evaluating...\n",
      "INFO:root:(('127.0.0.1', 41825)) Finish!!.\n",
      "INFO:root:(('127.0.0.1', 55595)) Finish!!.\n",
      "INFO:root:(('127.0.0.1', 49075)) Evaluating...\n",
      "INFO:root:(('127.0.0.1', 47321)) Evaluating...\n",
      "INFO:root:(('127.0.0.1', 49075)) Finish!!.\n",
      "INFO:root:(('127.0.0.1', 47321)) Finish!!.\n",
      "INFO:root:Bajando el nodo, dejando de escuchar en 127.0.0.1 55595 y desconectándose de 3 nodos\n",
      "DEBUG:root:Closed connection: ('127.0.0.1', 55595)\n",
      "DEBUG:root:Closed connection: ('127.0.0.1', 55595)\n",
      "DEBUG:root:Closed connection: ('127.0.0.1', 55595)\n",
      "DEBUG:root:Closed connection: ('127.0.0.1', 49075)\n",
      "DEBUG:root:Closed connection: ('127.0.0.1', 47321)\n",
      "DEBUG:root:Closed connection: ('127.0.0.1', 41825)\n",
      "INFO:root:Bajando el nodo, dejando de escuchar en 127.0.0.1 47321 y desconectándose de 2 nodos\n",
      "DEBUG:root:Closed connection: ('127.0.0.1', 47321)\n",
      "INFO:root:Bajando el nodo, dejando de escuchar en 127.0.0.1 41825 y desconectándose de 2 nodos\n",
      "DEBUG:root:Closed connection: ('127.0.0.1', 47321)\n",
      "DEBUG:root:Closed connection: ('127.0.0.1', 41825)\n",
      "INFO:root:Bajando el nodo, dejando de escuchar en 127.0.0.1 49075 y desconectándose de 2 nodos\n",
      "DEBUG:root:Closed connection: ('127.0.0.1', 41825)\n"
     ]
    }
   ],
   "source": [
    "from p2pfl.learning.pytorch.mnist_examples.mnistfederated_dm import MnistFederatedDM\n",
    "from p2pfl.learning.pytorch.mnist_examples.models.cnn import CNN\n",
    "from p2pfl.learning.pytorch.mnist_examples.models.mlp import MLP\n",
    "from p2pfl.node import Node\n",
    "import pytest\n",
    "import time\n",
    "import threading\n",
    "\n",
    "nodes = []\n",
    "        \n",
    "def test_node_down_on_learning(n):\n",
    "\n",
    "    # Node Creation\n",
    "    nodes = []\n",
    "    for i in range(n):\n",
    "        node = Node(MLP(),MnistFederatedDM())\n",
    "        node.start()\n",
    "        nodes.append(node)\n",
    "\n",
    "    # Node Connection\n",
    "    for i in range(len(nodes)-1):\n",
    "        nodes[i+1].connect_to(nodes[i].host,nodes[i].port)\n",
    "        time.sleep(1)\n",
    "\n",
    "    # Check if they are connected\n",
    "    for node in nodes:\n",
    "        print(len(node.neightboors))\n",
    "        assert len(node.neightboors) == n-1\n",
    "\n",
    "    # Start Learning\n",
    "    nodes[0].set_start_learning(rounds=2,epochs=0)\n",
    "\n",
    "    # Stopping node\n",
    "    time.sleep(0.3)\n",
    "    nodes[1].stop()\n",
    "    # Wait 4 results\n",
    "    while True:\n",
    "        time.sleep(1)\n",
    "        finish = True\n",
    "        for f in [node.round is None for node in nodes]:\n",
    "            finish = finish and f\n",
    "\n",
    "        if finish:\n",
    "            break\n",
    "\n",
    "    for node in nodes:\n",
    "        node.stop()\n",
    "\n",
    "\n",
    "nodes = []\n",
    "for _ in range(6):\n",
    "    test_node_down_on_learning(4)\n",
    "    break\n"
   ]
  },
  {
   "cell_type": "code",
   "execution_count": 1,
   "id": "06543d66",
   "metadata": {},
   "outputs": [
    {
     "data": {
      "text/plain": [
       "dict_items([(('127.0.0.1', 35159), 185), (('127.0.0.1', 54181), 62)])"
      ]
     },
     "execution_count": 1,
     "metadata": {},
     "output_type": "execute_result"
    }
   ],
   "source": [
    "a = {('127.0.0.1', 35159): 185, ('127.0.0.1', 54181): 62}\n",
    "a.items()"
   ]
  },
  {
   "cell_type": "code",
   "execution_count": 1,
   "id": "e1589282",
   "metadata": {},
   "outputs": [
    {
     "name": "stdout",
     "output_type": "stream",
     "text": [
      "Train: 54000 Val:6000 Test:10000\n",
      "INFO:root:Nodo listening at 127.0.0.1:38537\n",
      "Train: 54000 Val:6000 Test:10000\n",
      "INFO:root:Nodo listening at 127.0.0.1:42513\n",
      "Train: 54000 Val:6000 Test:10000\n",
      "INFO:root:Nodo listening at 127.0.0.1:41845\n",
      "Train: 54000 Val:6000 Test:10000\n",
      "INFO:root:Nodo listening at 127.0.0.1:60271\n",
      "INFO:root:('127.0.0.1', 38537) Connected to 127.0.0.1:42513\n",
      "INFO:root:('127.0.0.1', 42513) Conexión aceptada con 127.0.0.1:38537\n",
      "INFO:root:('127.0.0.1', 41845) Connected to 127.0.0.1:38537\n",
      "INFO:root:('127.0.0.1', 38537) Conexión aceptada con 127.0.0.1:41845\n",
      "INFO:root:('127.0.0.1', 42513) Connected to 127.0.0.1:41845\n",
      "INFO:root:('127.0.0.1', 41845) Conexión aceptada con 127.0.0.1:42513\n",
      "INFO:root:(('127.0.0.1', 38537)) Broadcasting start learning...\n",
      "INFO:root:(('127.0.0.1', 38537)) Sending Initial Model Weights\n",
      "INFO:root:(('127.0.0.1', 38537)) Broadcasting model to 2 clients. (size: 548864 bytes)\n",
      "INFO:root:(('127.0.0.1', 42513)) Broadcasting Number of Samples...\n",
      "INFO:root:(('127.0.0.1', 41845)) Broadcasting Number of Samples...\n",
      "INFO:root:(('127.0.0.1', 42513)) Initialicing Model Weights\n",
      "INFO:root:(('127.0.0.1', 41845)) Initialicing Model Weights\n",
      "INFO:root:(('127.0.0.1', 42513)) Model initialized\n",
      "INFO:root:(('127.0.0.1', 41845)) Model initialized\n",
      "INFO:root:(('127.0.0.1', 38537)) Broadcasting Number of Samples...\n",
      "INFO:root:(('127.0.0.1', 38537)) Sending train set vote.\n",
      "INFO:root:(('127.0.0.1', 38537)) Waiting other node votes.\n",
      "INFO:root:(('127.0.0.1', 42513)) Sending train set vote.\n",
      "INFO:root:(('127.0.0.1', 42513)) Waiting other node votes.\n",
      "INFO:root:(('127.0.0.1', 41845)) Sending train set vote.\n",
      "INFO:root:(('127.0.0.1', 41845)) Waiting other node votes.\n",
      "INFO:root:('127.0.0.1', 41845) Train set of 3 nodes. [('127.0.0.1', 41845), ('127.0.0.1', 42513), ('127.0.0.1', 38537)]\n",
      "INFO:root:('127.0.0.1', 38537) Train set of 3 nodes. [('127.0.0.1', 41845), ('127.0.0.1', 42513), ('127.0.0.1', 38537)]\n",
      "INFO:root:(('127.0.0.1', 41845)) Evaluating...\n",
      "INFO:root:('127.0.0.1', 42513) Train set of 3 nodes. [('127.0.0.1', 41845), ('127.0.0.1', 42513), ('127.0.0.1', 38537)]\n",
      "INFO:root:(('127.0.0.1', 38537)) Evaluating...\n",
      "INFO:root:(('127.0.0.1', 42513)) Evaluating...\n"
     ]
    },
    {
     "data": {
      "application/vnd.jupyter.widget-view+json": {
       "model_id": "41b26a87bfdb453998c97633d2a3de72",
       "version_major": 2,
       "version_minor": 0
      },
      "text/plain": [
       "Testing: 0it [00:00, ?it/s]"
      ]
     },
     "metadata": {},
     "output_type": "display_data"
    },
    {
     "data": {
      "application/vnd.jupyter.widget-view+json": {
       "model_id": "12df7b2935e64689aa975f6d8e346066",
       "version_major": 2,
       "version_minor": 0
      },
      "text/plain": [
       "Testing: 0it [00:00, ?it/s]"
      ]
     },
     "metadata": {},
     "output_type": "display_data"
    },
    {
     "data": {
      "application/vnd.jupyter.widget-view+json": {
       "model_id": "960678ae3e1942788022480e8447c712",
       "version_major": 2,
       "version_minor": 0
      },
      "text/plain": [
       "Testing: 0it [00:00, ?it/s]"
      ]
     },
     "metadata": {},
     "output_type": "display_data"
    },
    {
     "name": "stdout",
     "output_type": "stream",
     "text": [
      "INFO:root:('127.0.0.1', 38537) Conexión aceptada con 127.0.0.1:60271\n",
      "INFO:root:('127.0.0.1', 60271) Connected to 127.0.0.1:38537\n",
      "TO IMPLEMET WHEN THE TOPOLOGY WAS NOT FULLY CONNECTED\n",
      "DEBUG:root:Closed connection: ('127.0.0.1', 60271)\n",
      "DEBUG:root:Closed connection: ('127.0.0.1', 38537)\n",
      "INFO:root:(('127.0.0.1', 38537)) Evaluated. Losss: 2.301456928253174, Metric: 0.11810000240802765. (Check tensorboard for more info)\n",
      "INFO:root:(('127.0.0.1', 38537)) Training...\n",
      "INFO:root:(('127.0.0.1', 42513)) Evaluated. Losss: 2.301456928253174, Metric: 0.11810000240802765. (Check tensorboard for more info)\n",
      "INFO:root:(('127.0.0.1', 42513)) Training...\n"
     ]
    },
    {
     "data": {
      "application/vnd.jupyter.widget-view+json": {
       "model_id": "",
       "version_major": 2,
       "version_minor": 0
      },
      "text/plain": [
       "Sanity Checking: 0it [00:00, ?it/s]"
      ]
     },
     "metadata": {},
     "output_type": "display_data"
    },
    {
     "data": {
      "application/vnd.jupyter.widget-view+json": {
       "model_id": "",
       "version_major": 2,
       "version_minor": 0
      },
      "text/plain": [
       "Sanity Checking: 0it [00:00, ?it/s]"
      ]
     },
     "metadata": {},
     "output_type": "display_data"
    },
    {
     "data": {
      "application/vnd.jupyter.widget-view+json": {
       "model_id": "e959431ef0df4fee8c8f084ce213d561",
       "version_major": 2,
       "version_minor": 0
      },
      "text/plain": [
       "Training: 0it [00:00, ?it/s]"
      ]
     },
     "metadata": {},
     "output_type": "display_data"
    },
    {
     "data": {
      "application/vnd.jupyter.widget-view+json": {
       "model_id": "d566be11dba44045a940c2122400538b",
       "version_major": 2,
       "version_minor": 0
      },
      "text/plain": [
       "Training: 0it [00:00, ?it/s]"
      ]
     },
     "metadata": {},
     "output_type": "display_data"
    },
    {
     "name": "stdout",
     "output_type": "stream",
     "text": [
      "INFO:root:(('127.0.0.1', 41845)) Evaluated. Losss: 2.301456928253174, Metric: 0.11810000240802765. (Check tensorboard for more info)\n",
      "INFO:root:(('127.0.0.1', 41845)) Training...\n"
     ]
    },
    {
     "data": {
      "application/vnd.jupyter.widget-view+json": {
       "model_id": "",
       "version_major": 2,
       "version_minor": 0
      },
      "text/plain": [
       "Sanity Checking: 0it [00:00, ?it/s]"
      ]
     },
     "metadata": {},
     "output_type": "display_data"
    },
    {
     "data": {
      "application/vnd.jupyter.widget-view+json": {
       "model_id": "77aec8ddbc6a4c08b0070bc720399b06",
       "version_major": 2,
       "version_minor": 0
      },
      "text/plain": [
       "Training: 0it [00:00, ?it/s]"
      ]
     },
     "metadata": {},
     "output_type": "display_data"
    },
    {
     "data": {
      "application/vnd.jupyter.widget-view+json": {
       "model_id": "",
       "version_major": 2,
       "version_minor": 0
      },
      "text/plain": [
       "Validation: 0it [00:00, ?it/s]"
      ]
     },
     "metadata": {},
     "output_type": "display_data"
    },
    {
     "data": {
      "application/vnd.jupyter.widget-view+json": {
       "model_id": "",
       "version_major": 2,
       "version_minor": 0
      },
      "text/plain": [
       "Validation: 0it [00:00, ?it/s]"
      ]
     },
     "metadata": {},
     "output_type": "display_data"
    },
    {
     "data": {
      "application/vnd.jupyter.widget-view+json": {
       "model_id": "",
       "version_major": 2,
       "version_minor": 0
      },
      "text/plain": [
       "Validation: 0it [00:00, ?it/s]"
      ]
     },
     "metadata": {},
     "output_type": "display_data"
    },
    {
     "name": "stdout",
     "output_type": "stream",
     "text": [
      "INFO:root:(127.0.0.1:41845) Model added (1/3) from ('127.0.0.1', 41845)\n",
      "INFO:root:(('127.0.0.1', 41845)) Broadcasting model to 2 clients. (size: 548864 bytes)\n",
      "INFO:root:(127.0.0.1:38537) Model added (1/3) from ('127.0.0.1', 41845)\n",
      "INFO:root:(127.0.0.1:42513) Model added (1/3) from ('127.0.0.1', 41845)\n",
      "INFO:root:(127.0.0.1:42513) Model added (2/3) from ('127.0.0.1', 42513)\n",
      "INFO:root:(('127.0.0.1', 42513)) Broadcasting model to 2 clients. (size: 548864 bytes)\n",
      "INFO:root:(127.0.0.1:41845) Model added (2/3) from ('127.0.0.1', 42513)\n",
      "INFO:root:(127.0.0.1:38537) Model added (2/3) from ('127.0.0.1', 42513)\n",
      "INFO:root:(127.0.0.1:38537) Model added (3/3) from ('127.0.0.1', 38537)\n",
      "INFO:root:(('127.0.0.1', 38537)) Broadcasting model to 2 clients. (size: 548864 bytes)\n",
      "INFO:root:(127.0.0.1:38537) Agregating models.\n",
      "INFO:root:(('127.0.0.1', 38537)) Waiting other nodes.\n",
      "INFO:root:(127.0.0.1:42513) Model added (3/3) from ('127.0.0.1', 38537)\n",
      "INFO:root:(127.0.0.1:42513) Agregating models.\n",
      "INFO:root:(127.0.0.1:41845) Model added (3/3) from ('127.0.0.1', 38537)\n",
      "INFO:root:(127.0.0.1:41845) Agregating models.\n",
      "INFO:root:(('127.0.0.1', 42513)) Waiting other nodes.\n",
      "INFO:root:(('127.0.0.1', 41845)) Waiting other nodes.\n",
      "INFO:root:(('127.0.0.1', 41845)) Broadcasting model to 2 clients. (size: 548864 bytes)\n",
      "INFO:root:(('127.0.0.1', 38537)) Broadcasting model to 2 clients. (size: 548864 bytes)\n",
      "INFO:root:(('127.0.0.1', 42513)) Broadcasting model to 2 clients. (size: 548864 bytes)\n",
      "INFO:root:(('127.0.0.1', 41845)) Waiting other nodes.\n",
      "INFO:root:(('127.0.0.1', 38537)) Waiting other nodes.\n",
      "INFO:root:(('127.0.0.1', 42513)) Waiting other nodes.\n",
      "INFO:root:(('127.0.0.1', 42513)) Round 1 of 2 finished.\n",
      "INFO:root:(('127.0.0.1', 38537)) Round 1 of 2 finished.\n",
      "INFO:root:(('127.0.0.1', 38537)) Sending train set vote.\n",
      "INFO:root:(('127.0.0.1', 42513)) Sending train set vote.\n",
      "INFO:root:(('127.0.0.1', 41845)) Round 1 of 2 finished.\n",
      "INFO:root:(('127.0.0.1', 38537)) Waiting other node votes.\n",
      "INFO:root:(('127.0.0.1', 42513)) Waiting other node votes.\n",
      "INFO:root:(('127.0.0.1', 41845)) Sending train set vote.\n",
      "INFO:root:('127.0.0.1', 38537) Train set of 3 nodes. [('127.0.0.1', 41845), ('127.0.0.1', 38537), ('127.0.0.1', 42513)]\n",
      "INFO:root:(('127.0.0.1', 41845)) Waiting other node votes.\n",
      "INFO:root:(('127.0.0.1', 38537)) Evaluating...\n",
      "INFO:root:('127.0.0.1', 42513) Train set of 3 nodes. [('127.0.0.1', 41845), ('127.0.0.1', 38537), ('127.0.0.1', 42513)]\n",
      "INFO:root:('127.0.0.1', 41845) Train set of 3 nodes. [('127.0.0.1', 41845), ('127.0.0.1', 38537), ('127.0.0.1', 42513)]\n",
      "INFO:root:(('127.0.0.1', 42513)) Evaluating...\n",
      "INFO:root:(('127.0.0.1', 41845)) Evaluating...\n"
     ]
    },
    {
     "data": {
      "application/vnd.jupyter.widget-view+json": {
       "model_id": "9faebded645f47dc8fe10d93e01124a6",
       "version_major": 2,
       "version_minor": 0
      },
      "text/plain": [
       "Testing: 0it [00:00, ?it/s]"
      ]
     },
     "metadata": {},
     "output_type": "display_data"
    },
    {
     "data": {
      "application/vnd.jupyter.widget-view+json": {
       "model_id": "4cbc9bf759774c4ca8918b675bc2036b",
       "version_major": 2,
       "version_minor": 0
      },
      "text/plain": [
       "Testing: 0it [00:00, ?it/s]"
      ]
     },
     "metadata": {},
     "output_type": "display_data"
    },
    {
     "data": {
      "application/vnd.jupyter.widget-view+json": {
       "model_id": "5852a16907c74cdf9af5bd544bfd2961",
       "version_major": 2,
       "version_minor": 0
      },
      "text/plain": [
       "Testing: 0it [00:00, ?it/s]"
      ]
     },
     "metadata": {},
     "output_type": "display_data"
    },
    {
     "name": "stdout",
     "output_type": "stream",
     "text": [
      "INFO:root:(('127.0.0.1', 42513)) Evaluated. Losss: 0.14803001284599304, Metric: 0.9588000178337097. (Check tensorboard for more info)\n",
      "INFO:root:(('127.0.0.1', 41845)) Evaluated. Losss: 0.14803001284599304, Metric: 0.9588000178337097. (Check tensorboard for more info)\n",
      "INFO:root:(('127.0.0.1', 38537)) Evaluated. Losss: 0.14803001284599304, Metric: 0.9588000178337097. (Check tensorboard for more info)\n",
      "INFO:root:(('127.0.0.1', 42513)) Training...\n",
      "INFO:root:(('127.0.0.1', 41845)) Training...\n",
      "INFO:root:(('127.0.0.1', 38537)) Training...\n"
     ]
    },
    {
     "data": {
      "application/vnd.jupyter.widget-view+json": {
       "model_id": "",
       "version_major": 2,
       "version_minor": 0
      },
      "text/plain": [
       "Sanity Checking: 0it [00:00, ?it/s]"
      ]
     },
     "metadata": {},
     "output_type": "display_data"
    },
    {
     "data": {
      "application/vnd.jupyter.widget-view+json": {
       "model_id": "",
       "version_major": 2,
       "version_minor": 0
      },
      "text/plain": [
       "Sanity Checking: 0it [00:00, ?it/s]"
      ]
     },
     "metadata": {},
     "output_type": "display_data"
    },
    {
     "data": {
      "application/vnd.jupyter.widget-view+json": {
       "model_id": "",
       "version_major": 2,
       "version_minor": 0
      },
      "text/plain": [
       "Sanity Checking: 0it [00:00, ?it/s]"
      ]
     },
     "metadata": {},
     "output_type": "display_data"
    },
    {
     "data": {
      "application/vnd.jupyter.widget-view+json": {
       "model_id": "f46f8239da6349f390d93f5effc1cd92",
       "version_major": 2,
       "version_minor": 0
      },
      "text/plain": [
       "Training: 0it [00:00, ?it/s]"
      ]
     },
     "metadata": {},
     "output_type": "display_data"
    },
    {
     "data": {
      "application/vnd.jupyter.widget-view+json": {
       "model_id": "1d836c0580f046038dc36cef93540123",
       "version_major": 2,
       "version_minor": 0
      },
      "text/plain": [
       "Training: 0it [00:00, ?it/s]"
      ]
     },
     "metadata": {},
     "output_type": "display_data"
    },
    {
     "data": {
      "application/vnd.jupyter.widget-view+json": {
       "model_id": "fa6e5fd3c2bc4b58b67627af97bb2422",
       "version_major": 2,
       "version_minor": 0
      },
      "text/plain": [
       "Training: 0it [00:00, ?it/s]"
      ]
     },
     "metadata": {},
     "output_type": "display_data"
    },
    {
     "data": {
      "application/vnd.jupyter.widget-view+json": {
       "model_id": "",
       "version_major": 2,
       "version_minor": 0
      },
      "text/plain": [
       "Validation: 0it [00:00, ?it/s]"
      ]
     },
     "metadata": {},
     "output_type": "display_data"
    },
    {
     "data": {
      "application/vnd.jupyter.widget-view+json": {
       "model_id": "",
       "version_major": 2,
       "version_minor": 0
      },
      "text/plain": [
       "Validation: 0it [00:00, ?it/s]"
      ]
     },
     "metadata": {},
     "output_type": "display_data"
    },
    {
     "data": {
      "application/vnd.jupyter.widget-view+json": {
       "model_id": "",
       "version_major": 2,
       "version_minor": 0
      },
      "text/plain": [
       "Validation: 0it [00:00, ?it/s]"
      ]
     },
     "metadata": {},
     "output_type": "display_data"
    },
    {
     "name": "stdout",
     "output_type": "stream",
     "text": [
      "INFO:root:(127.0.0.1:38537) Model added (1/3) from ('127.0.0.1', 38537)\n",
      "INFO:root:(127.0.0.1:42513) Model added (1/3) from ('127.0.0.1', 42513)\n",
      "INFO:root:(('127.0.0.1', 38537)) Broadcasting model to 2 clients. (size: 548864 bytes)\n",
      "INFO:root:(('127.0.0.1', 42513)) Broadcasting model to 2 clients. (size: 548864 bytes)\n",
      "INFO:root:(127.0.0.1:41845) Model added (1/3) from ('127.0.0.1', 42513)\n",
      "INFO:root:(127.0.0.1:38537) Model added (2/3) from ('127.0.0.1', 42513)\n",
      "INFO:root:(127.0.0.1:41845) Model added (2/3) from ('127.0.0.1', 38537)\n",
      "INFO:root:(127.0.0.1:42513) Model added (2/3) from ('127.0.0.1', 38537)\n",
      "INFO:root:(127.0.0.1:41845) Model added (3/3) from ('127.0.0.1', 41845)\n",
      "INFO:root:(127.0.0.1:41845) Agregating models.\n",
      "INFO:root:(('127.0.0.1', 41845)) Broadcasting model to 2 clients. (size: 548864 bytes)\n",
      "INFO:root:(('127.0.0.1', 41845)) Waiting other nodes.\n",
      "INFO:root:(127.0.0.1:38537) Model added (3/3) from ('127.0.0.1', 41845)\n",
      "INFO:root:(127.0.0.1:42513) Model added (3/3) from ('127.0.0.1', 41845)\n",
      "INFO:root:(127.0.0.1:38537) Agregating models.\n",
      "INFO:root:(127.0.0.1:42513) Agregating models.\n",
      "INFO:root:(('127.0.0.1', 38537)) Waiting other nodes.\n",
      "INFO:root:(('127.0.0.1', 42513)) Waiting other nodes.\n",
      "INFO:root:(('127.0.0.1', 38537)) Broadcasting model to 2 clients. (size: 548864 bytes)\n",
      "INFO:root:(('127.0.0.1', 41845)) Broadcasting model to 2 clients. (size: 548864 bytes)\n",
      "INFO:root:(('127.0.0.1', 42513)) Broadcasting model to 2 clients. (size: 548864 bytes)\n",
      "INFO:root:(('127.0.0.1', 38537)) Waiting other nodes.\n",
      "INFO:root:(('127.0.0.1', 41845)) Waiting other nodes.\n",
      "INFO:root:(('127.0.0.1', 42513)) Waiting other nodes.\n",
      "INFO:root:(('127.0.0.1', 38537)) Round 2 of 2 finished.\n",
      "INFO:root:(('127.0.0.1', 41845)) Round 2 of 2 finished.\n",
      "INFO:root:(('127.0.0.1', 42513)) Round 2 of 2 finished.\n",
      "INFO:root:(('127.0.0.1', 38537)) Evaluating...\n",
      "INFO:root:(('127.0.0.1', 41845)) Evaluating...\n",
      "INFO:root:(('127.0.0.1', 42513)) Evaluating...\n"
     ]
    },
    {
     "data": {
      "application/vnd.jupyter.widget-view+json": {
       "model_id": "e64f790e98864eeb9e1a03f375418463",
       "version_major": 2,
       "version_minor": 0
      },
      "text/plain": [
       "Testing: 0it [00:00, ?it/s]"
      ]
     },
     "metadata": {},
     "output_type": "display_data"
    },
    {
     "data": {
      "application/vnd.jupyter.widget-view+json": {
       "model_id": "a8cf0a21ad9c4d56bf86e12a24427a05",
       "version_major": 2,
       "version_minor": 0
      },
      "text/plain": [
       "Testing: 0it [00:00, ?it/s]"
      ]
     },
     "metadata": {},
     "output_type": "display_data"
    },
    {
     "data": {
      "application/vnd.jupyter.widget-view+json": {
       "model_id": "2d34ee15c09f49f4abac703417c7f910",
       "version_major": 2,
       "version_minor": 0
      },
      "text/plain": [
       "Testing: 0it [00:00, ?it/s]"
      ]
     },
     "metadata": {},
     "output_type": "display_data"
    },
    {
     "name": "stdout",
     "output_type": "stream",
     "text": [
      "INFO:root:(('127.0.0.1', 42513)) Evaluated. Losss: 0.07695037126541138, Metric: 0.9758999943733215. (Check tensorboard for more info)\n",
      "INFO:root:(('127.0.0.1', 42513)) Finish!!.\n",
      "INFO:root:(('127.0.0.1', 41845)) Evaluated. Losss: 0.07695037126541138, Metric: 0.9758999943733215. (Check tensorboard for more info)\n",
      "INFO:root:(('127.0.0.1', 38537)) Evaluated. Losss: 0.07695037126541138, Metric: 0.9758999943733215. (Check tensorboard for more info)\n",
      "INFO:root:(('127.0.0.1', 41845)) Finish!!.\n",
      "INFO:root:(('127.0.0.1', 38537)) Finish!!.\n",
      "INFO:root:Bajando el nodo, dejando de escuchar en 127.0.0.1 38537 y desconectándose de 2 nodos\n",
      "DEBUG:root:Closed connection: ('127.0.0.1', 38537)\n",
      "DEBUG:root:Closed connection: ('127.0.0.1', 38537)\n",
      "DEBUG:root:Closed connection: ('127.0.0.1', 42513)\n",
      "DEBUG:root:Closed connection: ('127.0.0.1', 41845)\n",
      "INFO:root:Bajando el nodo, dejando de escuchar en 127.0.0.1 42513 y desconectándose de 1 nodos\n",
      "DEBUG:root:Closed connection: ('127.0.0.1', 42513)\n",
      "DEBUG:root:Closed connection: ('127.0.0.1', 41845)\n",
      "INFO:root:Bajando el nodo, dejando de escuchar en 127.0.0.1 41845 y desconectándose de 0 nodos\n",
      "INFO:root:Bajando el nodo, dejando de escuchar en 127.0.0.1 60271 y desconectándose de 0 nodos\n"
     ]
    }
   ],
   "source": [
    "from p2pfl.node import Node\n",
    "from p2pfl.learning.pytorch.mnist_examples.mnistfederated_dm import MnistFederatedDM\n",
    "from p2pfl.learning.pytorch.mnist_examples.models.mlp import MLP\n",
    "from collections import OrderedDict\n",
    "import torch\n",
    "import time\n",
    "\n",
    "def test_connect_to_train_running(four_nodes):\n",
    "    n1,n2,n3,n4 = four_nodes\n",
    "\n",
    "    # Connect Nodes (unless the n4)\n",
    "    n1.connect_to(n2.host,n2.port)\n",
    "    n3.connect_to(n1.host,n1.port)\n",
    "    time.sleep(0.1) #Esperar por la asincronía\n",
    "\n",
    "    n1.set_start_learning(2,1)\n",
    "\n",
    "    time.sleep(2)\n",
    "    \n",
    "    n4.connect_to(n1.host,n1.port,full=False)\n",
    "\n",
    "    time.sleep(2)\n",
    "\n",
    "    #assert n4.round is not None\n",
    "\n",
    "    # If the new node doesent know that learning is running, it will cause inanition in the other nodes (that are waiting for him to finish)\n",
    "\n",
    "    while all([n1.round is not None for n in [n1,n2,n3,n4]]):\n",
    "        time.sleep(0.1)\n",
    "\n",
    "    for n in [n1,n2,n3,n4]:\n",
    "        n.stop()\n",
    "        time.sleep(0.1)\n",
    "        \n",
    "        \n",
    "nodes = []\n",
    "    \n",
    "for i in range(4):\n",
    "    node = Node(MLP(),MnistFederatedDM())\n",
    "    node.start()\n",
    "    nodes.append(node)\n",
    "    \n",
    "test_connect_to_train_running(nodes)\n"
   ]
  },
  {
   "cell_type": "code",
   "execution_count": 4,
   "id": "8fee9167",
   "metadata": {},
   "outputs": [
    {
     "data": {
      "text/plain": [
       "3116227613539867172"
      ]
     },
     "execution_count": 4,
     "metadata": {},
     "output_type": "execute_result"
    }
   ],
   "source": [
    "hash(\"msg\" + str(datetime.now()))"
   ]
  },
  {
   "cell_type": "code",
   "execution_count": 3,
   "id": "a0e41183",
   "metadata": {},
   "outputs": [
    {
     "data": {
      "text/plain": [
       "'2022-06-27 17:13:54.992782'"
      ]
     },
     "execution_count": 3,
     "metadata": {},
     "output_type": "execute_result"
    }
   ],
   "source": [
    "from datetime import datetime\n",
    "\n",
    "now = datetime.now()\n",
    "str(now)"
   ]
  },
  {
   "cell_type": "code",
   "execution_count": 6,
   "id": "8faa3093",
   "metadata": {},
   "outputs": [
    {
     "data": {
      "text/plain": [
       "5682035749826620771"
      ]
     },
     "execution_count": 6,
     "metadata": {},
     "output_type": "execute_result"
    }
   ],
   "source": [
    "hash(\"caca\".encode(\"utf-8\"))"
   ]
  },
  {
   "cell_type": "code",
   "execution_count": 8,
   "id": "33838a79",
   "metadata": {},
   "outputs": [
    {
     "data": {
      "text/plain": [
       "'1656343107.3914704'"
      ]
     },
     "execution_count": 8,
     "metadata": {},
     "output_type": "execute_result"
    }
   ],
   "source": [
    "str(time.time())"
   ]
  },
  {
   "cell_type": "code",
   "execution_count": 3,
   "id": "e44b6c2c",
   "metadata": {},
   "outputs": [
    {
     "data": {
      "text/plain": [
       "False"
      ]
     },
     "execution_count": 3,
     "metadata": {},
     "output_type": "execute_result"
    }
   ],
   "source": [
    "\"-1\".isdecimal()"
   ]
  },
  {
   "cell_type": "code",
   "execution_count": 4,
   "id": "81d11015",
   "metadata": {},
   "outputs": [
    {
     "name": "stdout",
     "output_type": "stream",
     "text": [
      "[(1, 1), 1]\n"
     ]
    }
   ],
   "source": [
    "a = [(1,1)]\n",
    "b = {1:1}\n",
    "\n",
    "a = a + list(b)\n",
    "print(a)"
   ]
  },
  {
   "cell_type": "code",
   "execution_count": 1,
   "id": "c31113eb",
   "metadata": {},
   "outputs": [
    {
     "data": {
      "text/plain": [
       "False"
      ]
     },
     "execution_count": 1,
     "metadata": {},
     "output_type": "execute_result"
    }
   ],
   "source": [
    "None in []"
   ]
  },
  {
   "cell_type": "code",
   "execution_count": 9,
   "id": "ebaa1124",
   "metadata": {},
   "outputs": [
    {
     "name": "stdout",
     "output_type": "stream",
     "text": [
      "{1: 1}\n",
      "Processed {'-8414875811797426002': b'BEAT -8414875811797426002\\n'} messages from <NodeConnection(node_connection-127.0.0.1:35411-127.0.0.1:47939, started 140116999796480)>\n",
      "Processed {'7452549549026162342': b'BEAT 7452549549026162342\\n'} messages from <NodeConnection(node_connection-127.0.0.1:47939-127.0.0.1:35411, started 140117347022592)>\n",
      "Processed {'8384566461848987428': b'BEAT 8384566461848987428\\n'} messages from <NodeConnection(node_connection-127.0.0.1:35411-127.0.0.1:47939, started 140116999796480)>\n",
      "Processed {'-1284154675020740598': b'BEAT -1284154675020740598\\n'} messages from <NodeConnection(node_connection-127.0.0.1:47939-127.0.0.1:35411, started 140117347022592)>\n",
      "Processed {'9016479497930719462': b'BEAT 9016479497930719462\\n'} messages from <NodeConnection(node_connection-127.0.0.1:35411-127.0.0.1:47939, started 140116999796480)>\n",
      "Processed {'5086953804389111734': b'BEAT 5086953804389111734\\n'} messages from <NodeConnection(node_connection-127.0.0.1:47939-127.0.0.1:35411, started 140117347022592)>\n",
      "Processed {'-792821734141639382': b'BEAT -792821734141639382\\n'} messages from <NodeConnection(node_connection-127.0.0.1:35411-127.0.0.1:47939, started 140116999796480)>\n",
      "Processed {'-1845664963254644474': b'BEAT -1845664963254644474\\n'} messages from <NodeConnection(node_connection-127.0.0.1:47939-127.0.0.1:35411, started 140117347022592)>\n",
      "Processed {'-5524498534580275323': b'BEAT -5524498534580275323\\n'} messages from <NodeConnection(node_connection-127.0.0.1:35411-127.0.0.1:47939, started 140116999796480)>\n",
      "Processed {'-1399150252137504283': b'BEAT -1399150252137504283\\n'} messages from <NodeConnection(node_connection-127.0.0.1:47939-127.0.0.1:35411, started 140117347022592)>\n",
      "Processed {'6178943189749201941': b'BEAT 6178943189749201941\\n'} messages from <NodeConnection(node_connection-127.0.0.1:35411-127.0.0.1:47939, started 140116999796480)>\n",
      "Processed {'-892753775651542057': b'BEAT -892753775651542057\\n'} messages from <NodeConnection(node_connection-127.0.0.1:47939-127.0.0.1:35411, started 140117347022592)>\n",
      "Processed {'2908868137255474791': b'BEAT 2908868137255474791\\n'} messages from <NodeConnection(node_connection-127.0.0.1:35411-127.0.0.1:47939, started 140116999796480)>\n",
      "Processed {'-7400422820478851108': b'BEAT -7400422820478851108\\n'} messages from <NodeConnection(node_connection-127.0.0.1:47939-127.0.0.1:35411, started 140117347022592)>\n",
      "Processed {'6227760539554257420': b'BEAT 6227760539554257420\\n'} messages from <NodeConnection(node_connection-127.0.0.1:35411-127.0.0.1:47939, started 140116999796480)>\n",
      "Processed {'9089931901857463649': b'BEAT 9089931901857463649\\n'} messages from <NodeConnection(node_connection-127.0.0.1:47939-127.0.0.1:35411, started 140117347022592)>\n",
      "Processed {'-5865869582334176664': b'BEAT -5865869582334176664\\n'} messages from <NodeConnection(node_connection-127.0.0.1:35411-127.0.0.1:47939, started 140116999796480)>\n",
      "Processed {'3957217871835786023': b'BEAT 3957217871835786023\\n'} messages from <NodeConnection(node_connection-127.0.0.1:47939-127.0.0.1:35411, started 140117347022592)>\n",
      "Processed {'-1563025610718330838': b'BEAT -1563025610718330838\\n'} messages from <NodeConnection(node_connection-127.0.0.1:47939-127.0.0.1:35411, started 140117347022592)>Processed {'-8747160664978278336': b'BEAT -8747160664978278336\\n'} messages from <NodeConnection(node_connection-127.0.0.1:35411-127.0.0.1:47939, started 140116999796480)>\n",
      "\n",
      "Processed {'2290198509957382856': b'BEAT 2290198509957382856\\n'} messages from <NodeConnection(node_connection-127.0.0.1:35411-127.0.0.1:47939, started 140116999796480)>Processed {'-8581927043508499684': b'BEAT -8581927043508499684\\n'} messages from <NodeConnection(node_connection-127.0.0.1:47939-127.0.0.1:35411, started 140117347022592)>\n",
      "\n",
      "Processed {'3987010126505585015': b'BEAT 3987010126505585015\\n'} messages from <NodeConnection(node_connection-127.0.0.1:35411-127.0.0.1:47939, started 140116999796480)>\n",
      "Processed {'539700375552547012': b'BEAT 539700375552547012\\n'} messages from <NodeConnection(node_connection-127.0.0.1:47939-127.0.0.1:35411, started 140117347022592)>\n",
      "Processed {'6675765108913943075': b'BEAT 6675765108913943075\\n'} messages from <NodeConnection(node_connection-127.0.0.1:35411-127.0.0.1:47939, started 140116999796480)>Processed {'-570990168859686857': b'BEAT -570990168859686857\\n'} messages from <NodeConnection(node_connection-127.0.0.1:47939-127.0.0.1:35411, started 140117347022592)>\n",
      "\n",
      "Processed {'5972824268930203126': b'BEAT 5972824268930203126\\n'} messages from <NodeConnection(node_connection-127.0.0.1:47939-127.0.0.1:35411, started 140117347022592)>Processed {'3934928309724411592': b'BEAT 3934928309724411592\\n'} messages from <NodeConnection(node_connection-127.0.0.1:35411-127.0.0.1:47939, started 140116999796480)>\n",
      "\n",
      "Processed {'-7444367250522008710': b'BEAT -7444367250522008710\\n'} messages from <NodeConnection(node_connection-127.0.0.1:47939-127.0.0.1:35411, started 140117347022592)>\n",
      "Processed {'-6656446200577001960': b'BEAT -6656446200577001960\\n'} messages from <NodeConnection(node_connection-127.0.0.1:35411-127.0.0.1:47939, started 140116999796480)>\n",
      "Processed {'-3376469328011228015': b'BEAT -3376469328011228015\\n'} messages from <NodeConnection(node_connection-127.0.0.1:35411-127.0.0.1:47939, started 140116999796480)>Processed {'5748428777920672708': b'BEAT 5748428777920672708\\n'} messages from <NodeConnection(node_connection-127.0.0.1:47939-127.0.0.1:35411, started 140117347022592)>\n",
      "\n",
      "Processed {'-3926669803582364599': b'BEAT -3926669803582364599\\n'} messages from <NodeConnection(node_connection-127.0.0.1:47939-127.0.0.1:35411, started 140117347022592)>Processed {'-8118863092281487275': b'BEAT -8118863092281487275\\n'} messages from <NodeConnection(node_connection-127.0.0.1:35411-127.0.0.1:47939, started 140116999796480)>\n",
      "\n"
     ]
    }
   ],
   "source": [
    "a = {1:2} | {1:1}\n",
    "print(a)"
   ]
  },
  {
   "cell_type": "code",
   "execution_count": 3,
   "id": "65c6db85",
   "metadata": {},
   "outputs": [
    {
     "data": {
      "text/plain": [
       "{'-6292952804535679250': b'NUM_SAMPLES 54000 10000 -6292952804535679250\\n',\n",
       " '8763277242718051430': b'NUM_SAMPLES 54000 10000 8763277242718051430\\n'}"
      ]
     },
     "execution_count": 3,
     "metadata": {},
     "output_type": "execute_result"
    }
   ],
   "source": [
    "a = {'-6292952804535679250': b'NUM_SAMPLES 54000 10000 -6292952804535679250\\n', '8763277242718051430': b'NUM_SAMPLES 54000 10000 8763277242718051430\\n'}\n",
    "a"
   ]
  },
  {
   "cell_type": "code",
   "execution_count": 4,
   "id": "86018e04",
   "metadata": {},
   "outputs": [
    {
     "ename": "ValueError",
     "evalue": "too many values to unpack (expected 2)",
     "output_type": "error",
     "traceback": [
      "\u001b[0;31m---------------------------------------------------------------------------\u001b[0m",
      "\u001b[0;31mValueError\u001b[0m                                Traceback (most recent call last)",
      "Input \u001b[0;32mIn [4]\u001b[0m, in \u001b[0;36m<cell line: 1>\u001b[0;34m()\u001b[0m\n\u001b[0;32m----> 1\u001b[0m [k \u001b[38;5;28;01mfor\u001b[39;00m k,v \u001b[38;5;129;01min\u001b[39;00m a]\n",
      "Input \u001b[0;32mIn [4]\u001b[0m, in \u001b[0;36m<listcomp>\u001b[0;34m(.0)\u001b[0m\n\u001b[0;32m----> 1\u001b[0m [k \u001b[38;5;28;01mfor\u001b[39;00m k,v \u001b[38;5;129;01min\u001b[39;00m a]\n",
      "\u001b[0;31mValueError\u001b[0m: too many values to unpack (expected 2)"
     ]
    }
   ],
   "source": [
    "[k for k,v in a]"
   ]
  },
  {
   "cell_type": "code",
   "execution_count": 6,
   "id": "465da2d9",
   "metadata": {},
   "outputs": [
    {
     "data": {
      "text/plain": [
       "[b'NUM_SAMPLES 54000 10000 -6292952804535679250\\n',\n",
       " b'NUM_SAMPLES 54000 10000 8763277242718051430\\n']"
      ]
     },
     "execution_count": 6,
     "metadata": {},
     "output_type": "execute_result"
    }
   ],
   "source": [
    "list(a.values())"
   ]
  },
  {
   "cell_type": "code",
   "execution_count": 2,
   "id": "de322279",
   "metadata": {},
   "outputs": [
    {
     "data": {
      "text/plain": [
       "['NUM_SAMPLES',\n",
       " '54000',\n",
       " '10000',\n",
       " '7567134918904634235',\n",
       " 'VOTE_TRAIN_SET',\n",
       " '127.0.0.1',\n",
       " '35157',\n",
       " '776',\n",
       " '127.0.0.1',\n",
       " '35157',\n",
       " '384',\n",
       " '127.0.0.1',\n",
       " '35157',\n",
       " '249',\n",
       " '\\\\VOTE_TRAIN_SET',\n",
       " '4066132568365956543']"
      ]
     },
     "execution_count": 2,
     "metadata": {},
     "output_type": "execute_result"
    }
   ],
   "source": [
    "a = \"NUM_SAMPLES 54000 10000 7567134918904634235\\nVOTE_TRAIN_SET  127.0.0.1 35157 776 127.0.0.1 35157 384 127.0.0.1 35157 249 \\\\VOTE_TRAIN_SET 4066132568365956543\\n\"\n",
    "\n",
    "a.split()"
   ]
  },
  {
   "cell_type": "code",
   "execution_count": 4,
   "id": "5ba62084",
   "metadata": {},
   "outputs": [
    {
     "name": "stdout",
     "output_type": "stream",
     "text": [
      "(1, 5)\n"
     ]
    }
   ],
   "source": [
    "a = {1:5}\n",
    "\n",
    "for x in a.items():\n",
    "    print(x)"
   ]
  },
  {
   "cell_type": "code",
   "execution_count": 1,
   "id": "f46dcfaa",
   "metadata": {
    "scrolled": true
   },
   "outputs": [
    {
     "name": "stdout",
     "output_type": "stream",
     "text": [
      "INFO:root:Nodo listening at 127.0.0.1:50711\n",
      "INFO:root:Nodo listening at 127.0.0.1:46033\n",
      "INFO:root:('127.0.0.1', 50711) Connected to 127.0.0.1:46033\n",
      "INFO:root:('127.0.0.1', 46033) Conexión aceptada con 127.0.0.1:50711\n",
      "DEBUG:root:Closed connection: ('127.0.0.1', 46033)\n",
      "DEBUG:root:Closed connection: ('127.0.0.1', 50711)\n",
      "INFO:root:Bajando el nodo, dejando de escuchar en 127.0.0.1 46033 y desconectándose de 0 nodos\n",
      "INFO:root:Bajando el nodo, dejando de escuchar en 127.0.0.1 50711 y desconectándose de 0 nodos\n"
     ]
    }
   ],
   "source": [
    "from p2pfl.base_node import BaseNode\n",
    "import time\n",
    "\n",
    "def test_node_paring():\n",
    "    n1 = BaseNode()\n",
    "    n2 = BaseNode()\n",
    "    n1.start()\n",
    "    n2.start()\n",
    "    # Conexión\n",
    "    n1.connect_to(n2.host,n2.port)\n",
    "    time.sleep(0.1) #Esperar por la asincronía\n",
    "    assert len(n1.neightboors) == len(n2.neightboors)==1\n",
    "\n",
    "    # Desconexión\n",
    "    n2.neightboors[0].stop()\n",
    "    time.sleep(0.1) #Esperar por la asincronía\n",
    "    assert len(n1.neightboors) == len(n2.neightboors)== 0\n",
    "    \n",
    "    n1.stop()\n",
    "    n2.stop()\n",
    "\n",
    "test_node_paring()"
   ]
  },
  {
   "cell_type": "code",
   "execution_count": null,
   "id": "58481d0d",
   "metadata": {},
   "outputs": [],
   "source": []
  }
 ],
 "metadata": {
  "kernelspec": {
   "display_name": "Python 3 (ipykernel)",
   "language": "python",
   "name": "python3"
  },
  "language_info": {
   "codemirror_mode": {
    "name": "ipython",
    "version": 3
   },
   "file_extension": ".py",
   "mimetype": "text/x-python",
   "name": "python",
   "nbconvert_exporter": "python",
   "pygments_lexer": "ipython3",
   "version": "3.9.2"
  }
 },
 "nbformat": 4,
 "nbformat_minor": 5
}

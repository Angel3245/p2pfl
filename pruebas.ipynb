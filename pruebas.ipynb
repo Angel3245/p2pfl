{
 "cells": [
  {
   "cell_type": "code",
   "execution_count": 1,
   "id": "de3333e5",
   "metadata": {
    "scrolled": true
   },
   "outputs": [
    {
     "name": "stdout",
     "output_type": "stream",
     "text": [
      "Train: 54000 Val:6000 Test:10000\n",
      "INFO:root:Nodo a la escucha en 127.0.0.1 54127\n",
      "Train: 54000 Val:6000 Test:10000\n",
      "INFO:root:Nodo a la escucha en 127.0.0.1 33301\n",
      "INFO:root:(('127.0.0.1', 54127)) Conexión aceptada con ('127.0.0.1', 33301)\n",
      "INFO:root:(('127.0.0.1', 54127)) Broadcasting start learning...\n",
      "INFO:root:(('127.0.0.1', 54127)) Sending Initial Model Weights\n",
      "INFO:root:(('127.0.0.1', 54127)) Broadcasting model to 1 clients. (size: 548864 bytes)\n",
      "INFO:root:(('127.0.0.1', 33301)) Broadcasting Number of Samples...\n",
      "INFO:root:(('127.0.0.1', 33301)) Initialicing Model Weights\n",
      "INFO:root:(('127.0.0.1', 33301)) Model initialized\n",
      "INFO:root:(('127.0.0.1', 54127)) Broadcasting Number of Samples...\n",
      "INFO:root:(('127.0.0.1', 54127)) Sending train set vote.\n",
      "INFO:root:(('127.0.0.1', 54127)) Waiting other node votes.\n",
      "INFO:root:(('127.0.0.1', 33301)) Sending train set vote.\n",
      "INFO:root:(('127.0.0.1', 33301)) Waiting other node votes.\n",
      "INFO:root:('127.0.0.1', 33301) Train set of 2 nodes. [('127.0.0.1', 33301), ('127.0.0.1', 54127)]\n",
      "INFO:root:(('127.0.0.1', 33301)) Evaluating...\n"
     ]
    },
    {
     "name": "stderr",
     "output_type": "stream",
     "text": [
      "GPU available: False, used: False\n"
     ]
    },
    {
     "name": "stdout",
     "output_type": "stream",
     "text": [
      "INFO:root:('127.0.0.1', 54127) Train set of 2 nodes. [('127.0.0.1', 33301), ('127.0.0.1', 54127)]\n"
     ]
    },
    {
     "name": "stderr",
     "output_type": "stream",
     "text": [
      "TPU available: False, using: 0 TPU cores\n",
      "IPU available: False, using: 0 IPUs\n"
     ]
    },
    {
     "name": "stdout",
     "output_type": "stream",
     "text": [
      "INFO:root:(('127.0.0.1', 54127)) Evaluating...\n"
     ]
    },
    {
     "name": "stderr",
     "output_type": "stream",
     "text": [
      "GPU available: False, used: False\n",
      "HPU available: False, using: 0 HPUs\n",
      "TPU available: False, using: 0 TPU cores\n",
      "IPU available: False, using: 0 IPUs\n",
      "HPU available: False, using: 0 HPUs\n"
     ]
    },
    {
     "data": {
      "application/vnd.jupyter.widget-view+json": {
       "model_id": "5acc7b9ae2994484855622d058de1663",
       "version_major": 2,
       "version_minor": 0
      },
      "text/plain": [
       "Testing: 0it [00:00, ?it/s]"
      ]
     },
     "metadata": {},
     "output_type": "display_data"
    },
    {
     "data": {
      "application/vnd.jupyter.widget-view+json": {
       "model_id": "043cee114c6b49ffbf0c5b3529af45d7",
       "version_major": 2,
       "version_minor": 0
      },
      "text/plain": [
       "Testing: 0it [00:00, ?it/s]"
      ]
     },
     "metadata": {},
     "output_type": "display_data"
    },
    {
     "name": "stdout",
     "output_type": "stream",
     "text": [
      "INFO:root:(('127.0.0.1', 54127)) Evaluated. Losss: 2.301456928253174, Metric: 0.11810000240802765. (Check tensorboard for more info)\n",
      "INFO:root:(('127.0.0.1', 54127)) Broadcasting metrics to 1 clients.\n",
      "INFO:root:(('127.0.0.1', 54127)) Training...\n"
     ]
    },
    {
     "name": "stderr",
     "output_type": "stream",
     "text": [
      "GPU available: False, used: False\n",
      "TPU available: False, using: 0 TPU cores\n",
      "IPU available: False, using: 0 IPUs\n",
      "HPU available: False, using: 0 HPUs\n"
     ]
    },
    {
     "data": {
      "application/vnd.jupyter.widget-view+json": {
       "model_id": "",
       "version_major": 2,
       "version_minor": 0
      },
      "text/plain": [
       "Sanity Checking: 0it [00:00, ?it/s]"
      ]
     },
     "metadata": {},
     "output_type": "display_data"
    },
    {
     "name": "stdout",
     "output_type": "stream",
     "text": [
      "INFO:root:(('127.0.0.1', 33301)) Evaluated. Losss: 2.301456928253174, Metric: 0.11810000240802765. (Check tensorboard for more info)\n",
      "INFO:root:(('127.0.0.1', 33301)) Broadcasting metrics to 1 clients.\n",
      "INFO:root:(('127.0.0.1', 33301)) Training...\n"
     ]
    },
    {
     "name": "stderr",
     "output_type": "stream",
     "text": [
      "GPU available: False, used: False\n",
      "TPU available: False, using: 0 TPU cores\n",
      "IPU available: False, using: 0 IPUs\n",
      "HPU available: False, using: 0 HPUs\n"
     ]
    },
    {
     "data": {
      "application/vnd.jupyter.widget-view+json": {
       "model_id": "",
       "version_major": 2,
       "version_minor": 0
      },
      "text/plain": [
       "Sanity Checking: 0it [00:00, ?it/s]"
      ]
     },
     "metadata": {},
     "output_type": "display_data"
    },
    {
     "data": {
      "application/vnd.jupyter.widget-view+json": {
       "model_id": "24d22ca268894da185e2370410a3f87c",
       "version_major": 2,
       "version_minor": 0
      },
      "text/plain": [
       "Training: 0it [00:00, ?it/s]"
      ]
     },
     "metadata": {},
     "output_type": "display_data"
    },
    {
     "data": {
      "application/vnd.jupyter.widget-view+json": {
       "model_id": "98c947a49cd847f89e9001fcab5bb33f",
       "version_major": 2,
       "version_minor": 0
      },
      "text/plain": [
       "Training: 0it [00:00, ?it/s]"
      ]
     },
     "metadata": {},
     "output_type": "display_data"
    },
    {
     "data": {
      "application/vnd.jupyter.widget-view+json": {
       "model_id": "",
       "version_major": 2,
       "version_minor": 0
      },
      "text/plain": [
       "Validation: 0it [00:00, ?it/s]"
      ]
     },
     "metadata": {},
     "output_type": "display_data"
    },
    {
     "data": {
      "application/vnd.jupyter.widget-view+json": {
       "model_id": "",
       "version_major": 2,
       "version_minor": 0
      },
      "text/plain": [
       "Validation: 0it [00:00, ?it/s]"
      ]
     },
     "metadata": {},
     "output_type": "display_data"
    },
    {
     "name": "stdout",
     "output_type": "stream",
     "text": [
      "INFO:root:(127.0.0.1:33301) Model added (1/2) from ('127.0.0.1', 33301)\n",
      "INFO:root:(('127.0.0.1', 33301)) Broadcasting model to 1 clients. (size: 548864 bytes)\n",
      "waiting self agregation\n",
      "INFO:root:(127.0.0.1:54127) Model added (1/2) from ('127.0.0.1', 33301)\n",
      "INFO:root:(127.0.0.1:54127) Model added (2/2) from ('127.0.0.1', 54127)\n",
      "INFO:root:(127.0.0.1:54127) Agregating models.\n",
      "INFO:root:(('127.0.0.1', 54127)) Broadcasting model to 1 clients. (size: 548864 bytes)\n",
      "waiting self agregation\n",
      "waited self agregation\n",
      "INFO:root:(('127.0.0.1', 54127)) Waiting other nodes.\n",
      "INFO:root:(127.0.0.1:33301) Model added (2/2) from ('127.0.0.1', 54127)\n",
      "INFO:root:(127.0.0.1:33301) Agregating models.\n",
      "waited self agregation\n",
      "INFO:root:(('127.0.0.1', 33301)) Waiting other nodes.\n",
      "INFO:root:(('127.0.0.1', 33301)) Round 1 of 2 finished.\n",
      "INFO:root:(('127.0.0.1', 54127)) Round 1 of 2 finished.\n",
      "INFO:root:(('127.0.0.1', 33301)) Sending train set vote.\n",
      "INFO:root:(('127.0.0.1', 54127)) Sending train set vote.\n",
      "INFO:root:(('127.0.0.1', 33301)) Waiting other node votes.\n",
      "INFO:root:(('127.0.0.1', 54127)) Waiting other node votes.\n",
      "INFO:root:('127.0.0.1', 33301) Train set of 2 nodes. [('127.0.0.1', 54127), ('127.0.0.1', 33301)]\n",
      "INFO:root:('127.0.0.1', 54127) Train set of 2 nodes. [('127.0.0.1', 54127), ('127.0.0.1', 33301)]\n",
      "INFO:root:(('127.0.0.1', 33301)) Evaluating...\n",
      "INFO:root:(('127.0.0.1', 54127)) Evaluating...\n"
     ]
    },
    {
     "name": "stderr",
     "output_type": "stream",
     "text": [
      "GPU available: False, used: False\n",
      "TPU available: False, using: 0 TPU cores\n",
      "GPU available: False, used: False\n",
      "IPU available: False, using: 0 IPUs\n",
      "HPU available: False, using: 0 HPUs\n",
      "TPU available: False, using: 0 TPU cores\n",
      "IPU available: False, using: 0 IPUs\n",
      "HPU available: False, using: 0 HPUs\n"
     ]
    },
    {
     "data": {
      "application/vnd.jupyter.widget-view+json": {
       "model_id": "1e8b788fd80045b0bb24214aa4092746",
       "version_major": 2,
       "version_minor": 0
      },
      "text/plain": [
       "Testing: 0it [00:00, ?it/s]"
      ]
     },
     "metadata": {},
     "output_type": "display_data"
    },
    {
     "data": {
      "application/vnd.jupyter.widget-view+json": {
       "model_id": "67633b710ba549819c3d09cdaffb086f",
       "version_major": 2,
       "version_minor": 0
      },
      "text/plain": [
       "Testing: 0it [00:00, ?it/s]"
      ]
     },
     "metadata": {},
     "output_type": "display_data"
    },
    {
     "name": "stdout",
     "output_type": "stream",
     "text": [
      "INFO:root:(('127.0.0.1', 33301)) Evaluated. Losss: 0.14573808014392853, Metric: 0.9589999914169312. (Check tensorboard for more info)\n",
      "INFO:root:(('127.0.0.1', 33301)) Broadcasting metrics to 1 clients.\n",
      "INFO:root:(('127.0.0.1', 33301)) Training...\n"
     ]
    },
    {
     "name": "stderr",
     "output_type": "stream",
     "text": [
      "GPU available: False, used: False\n",
      "TPU available: False, using: 0 TPU cores\n",
      "IPU available: False, using: 0 IPUs\n",
      "HPU available: False, using: 0 HPUs\n"
     ]
    },
    {
     "data": {
      "application/vnd.jupyter.widget-view+json": {
       "model_id": "",
       "version_major": 2,
       "version_minor": 0
      },
      "text/plain": [
       "Sanity Checking: 0it [00:00, ?it/s]"
      ]
     },
     "metadata": {},
     "output_type": "display_data"
    },
    {
     "data": {
      "application/vnd.jupyter.widget-view+json": {
       "model_id": "8ff2e1df3ac44aaebef881f32b9d46a0",
       "version_major": 2,
       "version_minor": 0
      },
      "text/plain": [
       "Training: 0it [00:00, ?it/s]"
      ]
     },
     "metadata": {},
     "output_type": "display_data"
    },
    {
     "name": "stdout",
     "output_type": "stream",
     "text": [
      "INFO:root:(('127.0.0.1', 54127)) Evaluated. Losss: 0.14573808014392853, Metric: 0.9589999914169312. (Check tensorboard for more info)\n",
      "INFO:root:(('127.0.0.1', 54127)) Broadcasting metrics to 1 clients.\n",
      "INFO:root:(('127.0.0.1', 54127)) Training...\n"
     ]
    },
    {
     "name": "stderr",
     "output_type": "stream",
     "text": [
      "GPU available: False, used: False\n",
      "TPU available: False, using: 0 TPU cores\n",
      "IPU available: False, using: 0 IPUs\n",
      "HPU available: False, using: 0 HPUs\n"
     ]
    },
    {
     "data": {
      "application/vnd.jupyter.widget-view+json": {
       "model_id": "",
       "version_major": 2,
       "version_minor": 0
      },
      "text/plain": [
       "Sanity Checking: 0it [00:00, ?it/s]"
      ]
     },
     "metadata": {},
     "output_type": "display_data"
    },
    {
     "data": {
      "application/vnd.jupyter.widget-view+json": {
       "model_id": "51b745e672d443799862e54c1a471c46",
       "version_major": 2,
       "version_minor": 0
      },
      "text/plain": [
       "Training: 0it [00:00, ?it/s]"
      ]
     },
     "metadata": {},
     "output_type": "display_data"
    },
    {
     "data": {
      "application/vnd.jupyter.widget-view+json": {
       "model_id": "",
       "version_major": 2,
       "version_minor": 0
      },
      "text/plain": [
       "Validation: 0it [00:00, ?it/s]"
      ]
     },
     "metadata": {},
     "output_type": "display_data"
    },
    {
     "data": {
      "application/vnd.jupyter.widget-view+json": {
       "model_id": "",
       "version_major": 2,
       "version_minor": 0
      },
      "text/plain": [
       "Validation: 0it [00:00, ?it/s]"
      ]
     },
     "metadata": {},
     "output_type": "display_data"
    },
    {
     "name": "stderr",
     "output_type": "stream",
     "text": [
      "TPU available: False, using: 0 TPU cores\n"
     ]
    },
    {
     "name": "stdout",
     "output_type": "stream",
     "text": [
      "INFO:root:(127.0.0.1:33301) Model added (1/2) from ('127.0.0.1', 33301)\n",
      "INFO:root:(('127.0.0.1', 33301)) Broadcasting model to 1 clients. (size: 548864 bytes)\n",
      "waiting self agregation\n",
      "INFO:root:(127.0.0.1:54127) Model added (1/2) from ('127.0.0.1', 33301)\n",
      "INFO:root:(127.0.0.1:54127) Model added (2/2) from ('127.0.0.1', 54127)\n",
      "INFO:root:(127.0.0.1:54127) Agregating models.\n",
      "INFO:root:(('127.0.0.1', 54127)) Broadcasting model to 1 clients. (size: 548864 bytes)\n",
      "waiting self agregation\n",
      "waited self agregation\n",
      "INFO:root:(('127.0.0.1', 54127)) Waiting other nodes.\n",
      "INFO:root:(127.0.0.1:33301) Model added (2/2) from ('127.0.0.1', 54127)\n",
      "INFO:root:(127.0.0.1:33301) Agregating models.\n",
      "waited self agregation\n",
      "INFO:root:(('127.0.0.1', 33301)) Waiting other nodes.\n",
      "INFO:root:(('127.0.0.1', 54127)) Round 2 of 2 finished.\n",
      "INFO:root:(('127.0.0.1', 33301)) Round 2 of 2 finished.\n",
      "INFO:root:(('127.0.0.1', 54127)) Evaluating...\n"
     ]
    },
    {
     "name": "stderr",
     "output_type": "stream",
     "text": [
      "GPU available: False, used: False\n"
     ]
    },
    {
     "name": "stdout",
     "output_type": "stream",
     "text": [
      "INFO:root:(('127.0.0.1', 33301)) Evaluating...\n"
     ]
    },
    {
     "name": "stderr",
     "output_type": "stream",
     "text": [
      "TPU available: False, using: 0 TPU cores\n",
      "GPU available: False, used: False\n",
      "IPU available: False, using: 0 IPUs\n",
      "TPU available: False, using: 0 TPU cores\n",
      "HPU available: False, using: 0 HPUs\n",
      "IPU available: False, using: 0 IPUs\n",
      "HPU available: False, using: 0 HPUs\n"
     ]
    },
    {
     "data": {
      "application/vnd.jupyter.widget-view+json": {
       "model_id": "ba7ae1a576c04c0d972ecee3db509da2",
       "version_major": 2,
       "version_minor": 0
      },
      "text/plain": [
       "Testing: 0it [00:00, ?it/s]"
      ]
     },
     "metadata": {},
     "output_type": "display_data"
    },
    {
     "data": {
      "application/vnd.jupyter.widget-view+json": {
       "model_id": "9b910a618dcf462aa0a82f91c8d9f272",
       "version_major": 2,
       "version_minor": 0
      },
      "text/plain": [
       "Testing: 0it [00:00, ?it/s]"
      ]
     },
     "metadata": {},
     "output_type": "display_data"
    },
    {
     "name": "stdout",
     "output_type": "stream",
     "text": [
      "INFO:root:(('127.0.0.1', 33301)) Evaluated. Losss: 0.08564489334821701, Metric: 0.9740999937057495. (Check tensorboard for more info)\n",
      "INFO:root:(('127.0.0.1', 33301)) Broadcasting metrics to 1 clients.\n",
      "INFO:root:(('127.0.0.1', 33301)) Finish!!.\n",
      "INFO:root:(('127.0.0.1', 54127)) Evaluated. Losss: 0.08564489334821701, Metric: 0.9740999937057495. (Check tensorboard for more info)\n",
      "INFO:root:(('127.0.0.1', 54127)) Broadcasting metrics to 1 clients.\n",
      "INFO:root:(('127.0.0.1', 54127)) Finish!!.\n",
      "INFO:root:Bajando el nodo, dejando de escuchar en 127.0.0.1 54127 y desconectándose de 1 nodos\n",
      "DEBUG:root:Closed connection: ('127.0.0.1', 54127)\n",
      "DEBUG:root:Closed connection: ('127.0.0.1', 33301)\n",
      "INFO:root:Bajando el nodo, dejando de escuchar en 127.0.0.1 33301 y desconectándose de 0 nodos\n"
     ]
    }
   ],
   "source": [
    "from p2pfl.node import Node\n",
    "from p2pfl.learning.pytorch.mnist_examples.mnistfederated_dm import MnistFederatedDM\n",
    "from p2pfl.learning.pytorch.mnist_examples.models.mlp import MLP\n",
    "from collections import OrderedDict\n",
    "import torch\n",
    "import time\n",
    "\n",
    "\n",
    "def test_convergence(x):\n",
    "    n,r = x\n",
    "\n",
    "    nodes = []\n",
    "    \n",
    "    for i in range(n):\n",
    "        node = Node(MLP(),MnistFederatedDM())\n",
    "        node.start()\n",
    "        nodes.append(node)\n",
    "\n",
    "    # Node Connection\n",
    "    for i in range(len(nodes)-1):\n",
    "        nodes[i+1].connect_to(nodes[i].host,nodes[i].port)\n",
    "        time.sleep(0.1)\n",
    "\n",
    "    # Check if they are connected\n",
    "    for node in nodes:\n",
    "        assert len(node.neightboors) == n-1\n",
    "\n",
    "    # Start Learning\n",
    "    nodes[0].set_start_learning(rounds=r,epochs=1)\n",
    "\n",
    "    # Wait 4 results\n",
    "    while True:\n",
    "        time.sleep(1)\n",
    "        finish = True\n",
    "        for f in [node.round is None for node in nodes]:\n",
    "            finish = finish and f\n",
    "\n",
    "        if finish:\n",
    "            break\n",
    "\n",
    "\n",
    "    # Validamos Modelos obtenidos sean iguales\n",
    "    model = None\n",
    "    first = True\n",
    "    for node in nodes:\n",
    "        if first:\n",
    "            model = node.learner.get_parameters()\n",
    "            first = False\n",
    "        else:\n",
    "            for layer in model:\n",
    "                a = torch.round(model[layer], decimals=2)\n",
    "                b = torch.round(node.learner.get_parameters()[layer], decimals=2)\n",
    "                assert torch.eq(a, b).all()\n",
    "\n",
    "    # Cerrar\n",
    "    for node in nodes:\n",
    "        node.stop()\n",
    "        time.sleep(.1) #Esperar por la asincronía\n",
    "    \n",
    "    return nodes\n",
    "        \n",
    "nodes = test_convergence((2,2))"
   ]
  },
  {
   "cell_type": "code",
   "execution_count": null,
   "id": "034fde84",
   "metadata": {
    "scrolled": true
   },
   "outputs": [
    {
     "name": "stdout",
     "output_type": "stream",
     "text": [
      "Train: 54000 Val:6000 Test:10000\n",
      "INFO:root:Nodo a la escucha en 127.0.0.1 56968\n",
      "Train: 54000 Val:6000 Test:10000\n",
      "INFO:root:Nodo a la escucha en 127.0.0.1 56969\n",
      "Train: 54000 Val:6000 Test:10000\n",
      "INFO:root:Nodo a la escucha en 127.0.0.1 56970\n",
      "Train: 54000 Val:6000 Test:10000\n",
      "INFO:root:Nodo a la escucha en 127.0.0.1 56971\n",
      "INFO:root:(('127.0.0.1', 56968)) Conexión aceptada con ('127.0.0.1', 56969)\n",
      "INFO:root:(('127.0.0.1', 56969)) Conexión aceptada con ('127.0.0.1', 56970)\n",
      "INFO:root:(('127.0.0.1', 56970)) Conexión aceptada con ('127.0.0.1', 56968)\n",
      "INFO:root:(('127.0.0.1', 56970)) Conexión aceptada con ('127.0.0.1', 56971)\n",
      "INFO:root:(('127.0.0.1', 56971)) Conexión aceptada con ('127.0.0.1', 56969)\n",
      "INFO:root:(('127.0.0.1', 56971)) Conexión aceptada con ('127.0.0.1', 56968)\n",
      "INFO:root:(('127.0.0.1', 56968)) Broadcasting start learning...\n",
      "INFO:root:(('127.0.0.1', 56968)) Sending Initial Model Weights\n",
      "INFO:root:(('127.0.0.1', 56968)) Broadcasting model to 3 clients. (size: 578304 bytes)\n",
      "INFO:root:(('127.0.0.1', 56969)) Broadcasting Number of Samples...\n",
      "INFO:root:(('127.0.0.1', 56971)) Broadcasting Number of Samples...\n",
      "INFO:root:(('127.0.0.1', 56970)) Broadcasting Number of Samples...\n",
      "INFO:root:(('127.0.0.1', 56969)) Initialicing Model Weights\n",
      "INFO:root:(('127.0.0.1', 56969)) Model initialized\n",
      "INFO:root:(('127.0.0.1', 56971)) Initialicing Model Weights\n",
      "INFO:root:(('127.0.0.1', 56970)) Model initialized\n",
      "INFO:root:(('127.0.0.1', 56971)) Model initialized\n",
      "INFO:root:(('127.0.0.1', 56970)) Waiting other node votes.\n",
      "INFO:root:(('127.0.0.1', 56968)) Broadcasting Number of Samples...\n",
      "INFO:root:(('127.0.0.1', 56969)) Waiting other node votes.\n",
      "INFO:root:(('127.0.0.1', 56971)) Waiting other node votes.\n",
      "INFO:root:('127.0.0.1', 56971) Train set of 4 nodes.\n",
      "INFO:root:('127.0.0.1', 56970) Train set of 4 nodes.\n",
      "INFO:root:('127.0.0.1', 56969) Train set of 4 nodes.\n",
      "INFO:root:(('127.0.0.1', 56968)) Waiting other node votes.\n",
      "INFO:root:(('127.0.0.1', 56971)) Evaluating...\n",
      "INFO:root:(('127.0.0.1', 56971)) Evaluated. Losss: 0, Metric: 0. (Check tensorboard for more info)\n",
      "INFO:root:(('127.0.0.1', 56971)) Broadcasting metrics to 3 clients.\n",
      "INFO:root:('127.0.0.1', 56968) Train set of 4 nodes.\n",
      "INFO:root:(('127.0.0.1', 56968)) Evaluating...\n",
      "INFO:root:(('127.0.0.1', 56968)) Evaluated. Losss: 0, Metric: 0. (Check tensorboard for more info)\n",
      "INFO:root:(('127.0.0.1', 56968)) Broadcasting metrics to 3 clients.\n",
      "INFO:root:(('127.0.0.1', 56970)) Evaluating...\n",
      "INFO:root:(('127.0.0.1', 56969)) Evaluating...\n",
      "INFO:root:(('127.0.0.1', 56971)) Training...\n",
      "INFO:root:(('127.0.0.1', 56968)) Training...\n",
      "INFO:root:(('127.0.0.1', 56970)) Evaluated. Losss: 0, Metric: 0. (Check tensorboard for more info)\n",
      "INFO:root:(('127.0.0.1', 56970)) Broadcasting metrics to 3 clients.\n",
      "INFO:root:(127.0.0.1:56971) Model added (1/4) from ('127.0.0.1', 56971)\n",
      "INFO:root:(127.0.0.1:56968) Model added (1/4) from ('127.0.0.1', 56968)\n",
      "INFO:root:(('127.0.0.1', 56969)) Evaluated. Losss: 0, Metric: 0. (Check tensorboard for more info)\n",
      "INFO:root:(('127.0.0.1', 56970)) Training...\n",
      "INFO:root:(('127.0.0.1', 56971)) Broadcasting model to 3 clients. (size: 578304 bytes)\n",
      "INFO:root:(('127.0.0.1', 56968)) Broadcasting model to 3 clients. (size: 578304 bytes)\n",
      "INFO:root:(('127.0.0.1', 56969)) Broadcasting metrics to 3 clients.\n",
      "INFO:root:(127.0.0.1:56970) Model added (1/4) from ('127.0.0.1', 56970)\n",
      "INFO:root:(('127.0.0.1', 56969)) Training...\n",
      "INFO:root:(('127.0.0.1', 56970)) Broadcasting model to 3 clients. (size: 578304 bytes)\n",
      "INFO:root:(127.0.0.1:56970) Model added (2/4) from ('127.0.0.1', 56971)\n",
      "INFO:root:(127.0.0.1:56969) Model added (1/4) from ('127.0.0.1', 56969)\n",
      "INFO:root:(127.0.0.1:56968) Model added (2/4) from ('127.0.0.1', 56971)\n",
      "INFO:root:(127.0.0.1:56969) Model added (2/4) from ('127.0.0.1', 56971)\n",
      "INFO:root:(('127.0.0.1', 56969)) Broadcasting model to 3 clients. (size: 578304 bytes)\n",
      "INFO:root:(127.0.0.1:56971) Model added (2/4) from ('127.0.0.1', 56968)\n",
      "INFO:root:(127.0.0.1:56969) Model added (3/4) from ('127.0.0.1', 56968)\n",
      "INFO:root:(127.0.0.1:56970) Model added (3/4) from ('127.0.0.1', 56968)\n",
      "INFO:root:(127.0.0.1:56968) Model added (3/4) from ('127.0.0.1', 56970)\n",
      "INFO:root:(127.0.0.1:56971) Model added (3/4) from ('127.0.0.1', 56970)\n",
      "INFO:root:(127.0.0.1:56969) Model added (4/4) from ('127.0.0.1', 56970)\n",
      "INFO:root:(127.0.0.1:56968) Model added (4/4) from ('127.0.0.1', 56969)\n",
      "INFO:root:(127.0.0.1:56970) Model added (4/4) from ('127.0.0.1', 56969)\n",
      "INFO:root:(127.0.0.1:56971) Model added (4/4) from ('127.0.0.1', 56969)\n",
      "INFO:root:(127.0.0.1:56969) Agregating models.\n",
      "INFO:root:(127.0.0.1:56968) Agregating models.\n",
      "INFO:root:(127.0.0.1:56970) Agregating models.\n",
      "INFO:root:(127.0.0.1:56971) Agregating models.\n",
      "INFO:root:(('127.0.0.1', 56969)) Waiting other nodes.\n",
      "INFO:root:(('127.0.0.1', 56968)) Waiting other nodes.\n",
      "INFO:root:(('127.0.0.1', 56969)) Stopping learning\n",
      "INFO:root:(('127.0.0.1', 56969)) Stopping on_round_finished process.\n",
      "INFO:root:(('127.0.0.1', 56970)) Waiting other nodes.\n",
      "INFO:root:Bajando el nodo, dejando de escuchar en 127.0.0.1 56969 y desconectándose de 3 nodos\n",
      "INFO:root:(('127.0.0.1', 56971)) Waiting other nodes.\n",
      "INFO:root:(('127.0.0.1', 56970)) Round 1 of 2 finished.\n",
      "INFO:root:(('127.0.0.1', 56970)) Waiting other node votes.\n",
      "DEBUG:root:Closed connection: ('127.0.0.1', 56969)\n",
      "INFO:root:(('127.0.0.1', 56971)) Round 1 of 2 finished.\n",
      "DEBUG:root:Closed connection: ('127.0.0.1', 56969)\n",
      "INFO:root:(('127.0.0.1', 56968)) Round 1 of 2 finished.\n",
      "DEBUG:root:Closed connection: ('127.0.0.1', 56969)\n",
      "INFO:root:(127.0.0.1:56968) Node Removed (0/3)\n",
      "INFO:root:(('127.0.0.1', 56971)) Waiting other node votes.\n",
      "INFO:root:(127.0.0.1:56970) Node Removed (0/3)\n",
      "INFO:root:(127.0.0.1:56971) Node Removed (0/3)\n",
      "INFO:root:(('127.0.0.1', 56968)) Waiting other node votes.\n",
      "INFO:root:('127.0.0.1', 56970) Train set of 3 nodes.\n",
      "DEBUG:root:Closed connection: ('127.0.0.1', 56968)\n",
      "DEBUG:root:Closed connection: ('127.0.0.1', 56970)\n",
      "DEBUG:root:Closed connection: ('127.0.0.1', 56971)\n",
      "INFO:root:(('127.0.0.1', 56970)) Evaluating...\n",
      "INFO:root:(('127.0.0.1', 56970)) Evaluated. Losss: 0, Metric: 0. (Check tensorboard for more info)\n",
      "INFO:root:(('127.0.0.1', 56970)) Broadcasting metrics to 2 clients.\n",
      "INFO:root:(('127.0.0.1', 56970)) Training...\n",
      "INFO:root:(127.0.0.1:56970) Model added (1/3) from ('127.0.0.1', 56970)\n",
      "INFO:root:(('127.0.0.1', 56970)) Broadcasting model to 2 clients. (size: 578304 bytes)\n",
      "INFO:root:(127.0.0.1:56968) Model added (1/3) from ('127.0.0.1', 56970)\n",
      "INFO:root:(127.0.0.1:56971) Model added (1/3) from ('127.0.0.1', 56970)\n",
      "INFO:root:(127.0.0.1:56970) Agregating models. Timeout reached\n",
      "INFO:root:(('127.0.0.1', 56970)) Waiting other nodes.\n",
      "INFO:root:(127.0.0.1:56968) Agregating models. Timeout reached\n",
      "INFO:root:(127.0.0.1:56971) Agregating models. Timeout reached\n"
     ]
    }
   ],
   "source": [
    "from p2pfl.learning.pytorch.mnist_examples.mnistfederated_dm import MnistFederatedDM\n",
    "from p2pfl.learning.pytorch.mnist_examples.models.cnn import CNN\n",
    "from p2pfl.learning.pytorch.mnist_examples.models.mlp import MLP\n",
    "from p2pfl.node import Node\n",
    "import pytest\n",
    "import time\n",
    "import threading\n",
    "\n",
    "nodes = []\n",
    "        \n",
    "def test_node_down_on_learning(n):\n",
    "\n",
    "    # Node Creation\n",
    "    nodes = []\n",
    "    for i in range(n):\n",
    "        node = Node(MLP(),MnistFederatedDM())\n",
    "        node.start()\n",
    "        nodes.append(node)\n",
    "\n",
    "    # Node Connection\n",
    "    for i in range(len(nodes)-1):\n",
    "        nodes[i+1].connect_to(nodes[i].host,nodes[i].port)\n",
    "        time.sleep(1)\n",
    "\n",
    "    # Check if they are connected\n",
    "    for node in nodes:\n",
    "        assert len(node.neightboors) == n-1\n",
    "\n",
    "    # Start Learning\n",
    "    nodes[0].set_start_learning(rounds=2,epochs=0)\n",
    "\n",
    "    # Stopping node\n",
    "    time.sleep(0.3)\n",
    "    nodes[1].stop()\n",
    "    # Wait 4 results\n",
    "    while True:\n",
    "        time.sleep(1)\n",
    "        finish = True\n",
    "        for f in [node.round is None for node in nodes]:\n",
    "            finish = finish and f\n",
    "\n",
    "        if finish:\n",
    "            break\n",
    "\n",
    "    for node in nodes:\n",
    "        node.stop()\n",
    "\n",
    "\n",
    "nodes = []\n",
    "for _ in range(6):\n",
    "    test_node_down_on_learning(4)\n",
    "    break\n"
   ]
  },
  {
   "cell_type": "code",
   "execution_count": 1,
   "id": "06543d66",
   "metadata": {},
   "outputs": [
    {
     "data": {
      "text/plain": [
       "dict_items([(('127.0.0.1', 35159), 185), (('127.0.0.1', 54181), 62)])"
      ]
     },
     "execution_count": 1,
     "metadata": {},
     "output_type": "execute_result"
    }
   ],
   "source": [
    "a = {('127.0.0.1', 35159): 185, ('127.0.0.1', 54181): 62}\n",
    "a.items()"
   ]
  },
  {
   "cell_type": "code",
   "execution_count": 1,
   "id": "e1589282",
   "metadata": {},
   "outputs": [
    {
     "name": "stdout",
     "output_type": "stream",
     "text": [
      "Train: 54000 Val:6000 Test:10000\n",
      "INFO:root:Nodo listening at 127.0.0.1:38537\n",
      "Train: 54000 Val:6000 Test:10000\n",
      "INFO:root:Nodo listening at 127.0.0.1:42513\n",
      "Train: 54000 Val:6000 Test:10000\n",
      "INFO:root:Nodo listening at 127.0.0.1:41845\n",
      "Train: 54000 Val:6000 Test:10000\n",
      "INFO:root:Nodo listening at 127.0.0.1:60271\n",
      "INFO:root:('127.0.0.1', 38537) Connected to 127.0.0.1:42513\n",
      "INFO:root:('127.0.0.1', 42513) Conexión aceptada con 127.0.0.1:38537\n",
      "INFO:root:('127.0.0.1', 41845) Connected to 127.0.0.1:38537\n",
      "INFO:root:('127.0.0.1', 38537) Conexión aceptada con 127.0.0.1:41845\n",
      "INFO:root:('127.0.0.1', 42513) Connected to 127.0.0.1:41845\n",
      "INFO:root:('127.0.0.1', 41845) Conexión aceptada con 127.0.0.1:42513\n",
      "INFO:root:(('127.0.0.1', 38537)) Broadcasting start learning...\n",
      "INFO:root:(('127.0.0.1', 38537)) Sending Initial Model Weights\n",
      "INFO:root:(('127.0.0.1', 38537)) Broadcasting model to 2 clients. (size: 548864 bytes)\n",
      "INFO:root:(('127.0.0.1', 42513)) Broadcasting Number of Samples...\n",
      "INFO:root:(('127.0.0.1', 41845)) Broadcasting Number of Samples...\n",
      "INFO:root:(('127.0.0.1', 42513)) Initialicing Model Weights\n",
      "INFO:root:(('127.0.0.1', 41845)) Initialicing Model Weights\n",
      "INFO:root:(('127.0.0.1', 42513)) Model initialized\n",
      "INFO:root:(('127.0.0.1', 41845)) Model initialized\n",
      "INFO:root:(('127.0.0.1', 38537)) Broadcasting Number of Samples...\n",
      "INFO:root:(('127.0.0.1', 38537)) Sending train set vote.\n",
      "INFO:root:(('127.0.0.1', 38537)) Waiting other node votes.\n",
      "INFO:root:(('127.0.0.1', 42513)) Sending train set vote.\n",
      "INFO:root:(('127.0.0.1', 42513)) Waiting other node votes.\n",
      "INFO:root:(('127.0.0.1', 41845)) Sending train set vote.\n",
      "INFO:root:(('127.0.0.1', 41845)) Waiting other node votes.\n",
      "INFO:root:('127.0.0.1', 41845) Train set of 3 nodes. [('127.0.0.1', 41845), ('127.0.0.1', 42513), ('127.0.0.1', 38537)]\n",
      "INFO:root:('127.0.0.1', 38537) Train set of 3 nodes. [('127.0.0.1', 41845), ('127.0.0.1', 42513), ('127.0.0.1', 38537)]\n",
      "INFO:root:(('127.0.0.1', 41845)) Evaluating...\n",
      "INFO:root:('127.0.0.1', 42513) Train set of 3 nodes. [('127.0.0.1', 41845), ('127.0.0.1', 42513), ('127.0.0.1', 38537)]\n",
      "INFO:root:(('127.0.0.1', 38537)) Evaluating...\n",
      "INFO:root:(('127.0.0.1', 42513)) Evaluating...\n"
     ]
    },
    {
     "data": {
      "application/vnd.jupyter.widget-view+json": {
       "model_id": "41b26a87bfdb453998c97633d2a3de72",
       "version_major": 2,
       "version_minor": 0
      },
      "text/plain": [
       "Testing: 0it [00:00, ?it/s]"
      ]
     },
     "metadata": {},
     "output_type": "display_data"
    },
    {
     "data": {
      "application/vnd.jupyter.widget-view+json": {
       "model_id": "12df7b2935e64689aa975f6d8e346066",
       "version_major": 2,
       "version_minor": 0
      },
      "text/plain": [
       "Testing: 0it [00:00, ?it/s]"
      ]
     },
     "metadata": {},
     "output_type": "display_data"
    },
    {
     "data": {
      "application/vnd.jupyter.widget-view+json": {
       "model_id": "960678ae3e1942788022480e8447c712",
       "version_major": 2,
       "version_minor": 0
      },
      "text/plain": [
       "Testing: 0it [00:00, ?it/s]"
      ]
     },
     "metadata": {},
     "output_type": "display_data"
    },
    {
     "name": "stdout",
     "output_type": "stream",
     "text": [
      "INFO:root:('127.0.0.1', 38537) Conexión aceptada con 127.0.0.1:60271\n",
      "INFO:root:('127.0.0.1', 60271) Connected to 127.0.0.1:38537\n",
      "TO IMPLEMET WHEN THE TOPOLOGY WAS NOT FULLY CONNECTED\n",
      "DEBUG:root:Closed connection: ('127.0.0.1', 60271)\n",
      "DEBUG:root:Closed connection: ('127.0.0.1', 38537)\n",
      "INFO:root:(('127.0.0.1', 38537)) Evaluated. Losss: 2.301456928253174, Metric: 0.11810000240802765. (Check tensorboard for more info)\n",
      "INFO:root:(('127.0.0.1', 38537)) Training...\n",
      "INFO:root:(('127.0.0.1', 42513)) Evaluated. Losss: 2.301456928253174, Metric: 0.11810000240802765. (Check tensorboard for more info)\n",
      "INFO:root:(('127.0.0.1', 42513)) Training...\n"
     ]
    },
    {
     "data": {
      "application/vnd.jupyter.widget-view+json": {
       "model_id": "",
       "version_major": 2,
       "version_minor": 0
      },
      "text/plain": [
       "Sanity Checking: 0it [00:00, ?it/s]"
      ]
     },
     "metadata": {},
     "output_type": "display_data"
    },
    {
     "data": {
      "application/vnd.jupyter.widget-view+json": {
       "model_id": "",
       "version_major": 2,
       "version_minor": 0
      },
      "text/plain": [
       "Sanity Checking: 0it [00:00, ?it/s]"
      ]
     },
     "metadata": {},
     "output_type": "display_data"
    },
    {
     "data": {
      "application/vnd.jupyter.widget-view+json": {
       "model_id": "e959431ef0df4fee8c8f084ce213d561",
       "version_major": 2,
       "version_minor": 0
      },
      "text/plain": [
       "Training: 0it [00:00, ?it/s]"
      ]
     },
     "metadata": {},
     "output_type": "display_data"
    },
    {
     "data": {
      "application/vnd.jupyter.widget-view+json": {
       "model_id": "d566be11dba44045a940c2122400538b",
       "version_major": 2,
       "version_minor": 0
      },
      "text/plain": [
       "Training: 0it [00:00, ?it/s]"
      ]
     },
     "metadata": {},
     "output_type": "display_data"
    },
    {
     "name": "stdout",
     "output_type": "stream",
     "text": [
      "INFO:root:(('127.0.0.1', 41845)) Evaluated. Losss: 2.301456928253174, Metric: 0.11810000240802765. (Check tensorboard for more info)\n",
      "INFO:root:(('127.0.0.1', 41845)) Training...\n"
     ]
    },
    {
     "data": {
      "application/vnd.jupyter.widget-view+json": {
       "model_id": "",
       "version_major": 2,
       "version_minor": 0
      },
      "text/plain": [
       "Sanity Checking: 0it [00:00, ?it/s]"
      ]
     },
     "metadata": {},
     "output_type": "display_data"
    },
    {
     "data": {
      "application/vnd.jupyter.widget-view+json": {
       "model_id": "77aec8ddbc6a4c08b0070bc720399b06",
       "version_major": 2,
       "version_minor": 0
      },
      "text/plain": [
       "Training: 0it [00:00, ?it/s]"
      ]
     },
     "metadata": {},
     "output_type": "display_data"
    },
    {
     "data": {
      "application/vnd.jupyter.widget-view+json": {
       "model_id": "",
       "version_major": 2,
       "version_minor": 0
      },
      "text/plain": [
       "Validation: 0it [00:00, ?it/s]"
      ]
     },
     "metadata": {},
     "output_type": "display_data"
    },
    {
     "data": {
      "application/vnd.jupyter.widget-view+json": {
       "model_id": "",
       "version_major": 2,
       "version_minor": 0
      },
      "text/plain": [
       "Validation: 0it [00:00, ?it/s]"
      ]
     },
     "metadata": {},
     "output_type": "display_data"
    },
    {
     "data": {
      "application/vnd.jupyter.widget-view+json": {
       "model_id": "",
       "version_major": 2,
       "version_minor": 0
      },
      "text/plain": [
       "Validation: 0it [00:00, ?it/s]"
      ]
     },
     "metadata": {},
     "output_type": "display_data"
    },
    {
     "name": "stdout",
     "output_type": "stream",
     "text": [
      "INFO:root:(127.0.0.1:41845) Model added (1/3) from ('127.0.0.1', 41845)\n",
      "INFO:root:(('127.0.0.1', 41845)) Broadcasting model to 2 clients. (size: 548864 bytes)\n",
      "INFO:root:(127.0.0.1:38537) Model added (1/3) from ('127.0.0.1', 41845)\n",
      "INFO:root:(127.0.0.1:42513) Model added (1/3) from ('127.0.0.1', 41845)\n",
      "INFO:root:(127.0.0.1:42513) Model added (2/3) from ('127.0.0.1', 42513)\n",
      "INFO:root:(('127.0.0.1', 42513)) Broadcasting model to 2 clients. (size: 548864 bytes)\n",
      "INFO:root:(127.0.0.1:41845) Model added (2/3) from ('127.0.0.1', 42513)\n",
      "INFO:root:(127.0.0.1:38537) Model added (2/3) from ('127.0.0.1', 42513)\n",
      "INFO:root:(127.0.0.1:38537) Model added (3/3) from ('127.0.0.1', 38537)\n",
      "INFO:root:(('127.0.0.1', 38537)) Broadcasting model to 2 clients. (size: 548864 bytes)\n",
      "INFO:root:(127.0.0.1:38537) Agregating models.\n",
      "INFO:root:(('127.0.0.1', 38537)) Waiting other nodes.\n",
      "INFO:root:(127.0.0.1:42513) Model added (3/3) from ('127.0.0.1', 38537)\n",
      "INFO:root:(127.0.0.1:42513) Agregating models.\n",
      "INFO:root:(127.0.0.1:41845) Model added (3/3) from ('127.0.0.1', 38537)\n",
      "INFO:root:(127.0.0.1:41845) Agregating models.\n",
      "INFO:root:(('127.0.0.1', 42513)) Waiting other nodes.\n",
      "INFO:root:(('127.0.0.1', 41845)) Waiting other nodes.\n",
      "INFO:root:(('127.0.0.1', 41845)) Broadcasting model to 2 clients. (size: 548864 bytes)\n",
      "INFO:root:(('127.0.0.1', 38537)) Broadcasting model to 2 clients. (size: 548864 bytes)\n",
      "INFO:root:(('127.0.0.1', 42513)) Broadcasting model to 2 clients. (size: 548864 bytes)\n",
      "INFO:root:(('127.0.0.1', 41845)) Waiting other nodes.\n",
      "INFO:root:(('127.0.0.1', 38537)) Waiting other nodes.\n",
      "INFO:root:(('127.0.0.1', 42513)) Waiting other nodes.\n",
      "INFO:root:(('127.0.0.1', 42513)) Round 1 of 2 finished.\n",
      "INFO:root:(('127.0.0.1', 38537)) Round 1 of 2 finished.\n",
      "INFO:root:(('127.0.0.1', 38537)) Sending train set vote.\n",
      "INFO:root:(('127.0.0.1', 42513)) Sending train set vote.\n",
      "INFO:root:(('127.0.0.1', 41845)) Round 1 of 2 finished.\n",
      "INFO:root:(('127.0.0.1', 38537)) Waiting other node votes.\n",
      "INFO:root:(('127.0.0.1', 42513)) Waiting other node votes.\n",
      "INFO:root:(('127.0.0.1', 41845)) Sending train set vote.\n",
      "INFO:root:('127.0.0.1', 38537) Train set of 3 nodes. [('127.0.0.1', 41845), ('127.0.0.1', 38537), ('127.0.0.1', 42513)]\n",
      "INFO:root:(('127.0.0.1', 41845)) Waiting other node votes.\n",
      "INFO:root:(('127.0.0.1', 38537)) Evaluating...\n",
      "INFO:root:('127.0.0.1', 42513) Train set of 3 nodes. [('127.0.0.1', 41845), ('127.0.0.1', 38537), ('127.0.0.1', 42513)]\n",
      "INFO:root:('127.0.0.1', 41845) Train set of 3 nodes. [('127.0.0.1', 41845), ('127.0.0.1', 38537), ('127.0.0.1', 42513)]\n",
      "INFO:root:(('127.0.0.1', 42513)) Evaluating...\n",
      "INFO:root:(('127.0.0.1', 41845)) Evaluating...\n"
     ]
    },
    {
     "data": {
      "application/vnd.jupyter.widget-view+json": {
       "model_id": "9faebded645f47dc8fe10d93e01124a6",
       "version_major": 2,
       "version_minor": 0
      },
      "text/plain": [
       "Testing: 0it [00:00, ?it/s]"
      ]
     },
     "metadata": {},
     "output_type": "display_data"
    },
    {
     "data": {
      "application/vnd.jupyter.widget-view+json": {
       "model_id": "4cbc9bf759774c4ca8918b675bc2036b",
       "version_major": 2,
       "version_minor": 0
      },
      "text/plain": [
       "Testing: 0it [00:00, ?it/s]"
      ]
     },
     "metadata": {},
     "output_type": "display_data"
    },
    {
     "data": {
      "application/vnd.jupyter.widget-view+json": {
       "model_id": "5852a16907c74cdf9af5bd544bfd2961",
       "version_major": 2,
       "version_minor": 0
      },
      "text/plain": [
       "Testing: 0it [00:00, ?it/s]"
      ]
     },
     "metadata": {},
     "output_type": "display_data"
    },
    {
     "name": "stdout",
     "output_type": "stream",
     "text": [
      "INFO:root:(('127.0.0.1', 42513)) Evaluated. Losss: 0.14803001284599304, Metric: 0.9588000178337097. (Check tensorboard for more info)\n",
      "INFO:root:(('127.0.0.1', 41845)) Evaluated. Losss: 0.14803001284599304, Metric: 0.9588000178337097. (Check tensorboard for more info)\n",
      "INFO:root:(('127.0.0.1', 38537)) Evaluated. Losss: 0.14803001284599304, Metric: 0.9588000178337097. (Check tensorboard for more info)\n",
      "INFO:root:(('127.0.0.1', 42513)) Training...\n",
      "INFO:root:(('127.0.0.1', 41845)) Training...\n",
      "INFO:root:(('127.0.0.1', 38537)) Training...\n"
     ]
    },
    {
     "data": {
      "application/vnd.jupyter.widget-view+json": {
       "model_id": "",
       "version_major": 2,
       "version_minor": 0
      },
      "text/plain": [
       "Sanity Checking: 0it [00:00, ?it/s]"
      ]
     },
     "metadata": {},
     "output_type": "display_data"
    },
    {
     "data": {
      "application/vnd.jupyter.widget-view+json": {
       "model_id": "",
       "version_major": 2,
       "version_minor": 0
      },
      "text/plain": [
       "Sanity Checking: 0it [00:00, ?it/s]"
      ]
     },
     "metadata": {},
     "output_type": "display_data"
    },
    {
     "data": {
      "application/vnd.jupyter.widget-view+json": {
       "model_id": "",
       "version_major": 2,
       "version_minor": 0
      },
      "text/plain": [
       "Sanity Checking: 0it [00:00, ?it/s]"
      ]
     },
     "metadata": {},
     "output_type": "display_data"
    },
    {
     "data": {
      "application/vnd.jupyter.widget-view+json": {
       "model_id": "f46f8239da6349f390d93f5effc1cd92",
       "version_major": 2,
       "version_minor": 0
      },
      "text/plain": [
       "Training: 0it [00:00, ?it/s]"
      ]
     },
     "metadata": {},
     "output_type": "display_data"
    },
    {
     "data": {
      "application/vnd.jupyter.widget-view+json": {
       "model_id": "1d836c0580f046038dc36cef93540123",
       "version_major": 2,
       "version_minor": 0
      },
      "text/plain": [
       "Training: 0it [00:00, ?it/s]"
      ]
     },
     "metadata": {},
     "output_type": "display_data"
    },
    {
     "data": {
      "application/vnd.jupyter.widget-view+json": {
       "model_id": "fa6e5fd3c2bc4b58b67627af97bb2422",
       "version_major": 2,
       "version_minor": 0
      },
      "text/plain": [
       "Training: 0it [00:00, ?it/s]"
      ]
     },
     "metadata": {},
     "output_type": "display_data"
    },
    {
     "data": {
      "application/vnd.jupyter.widget-view+json": {
       "model_id": "",
       "version_major": 2,
       "version_minor": 0
      },
      "text/plain": [
       "Validation: 0it [00:00, ?it/s]"
      ]
     },
     "metadata": {},
     "output_type": "display_data"
    },
    {
     "data": {
      "application/vnd.jupyter.widget-view+json": {
       "model_id": "",
       "version_major": 2,
       "version_minor": 0
      },
      "text/plain": [
       "Validation: 0it [00:00, ?it/s]"
      ]
     },
     "metadata": {},
     "output_type": "display_data"
    },
    {
     "data": {
      "application/vnd.jupyter.widget-view+json": {
       "model_id": "",
       "version_major": 2,
       "version_minor": 0
      },
      "text/plain": [
       "Validation: 0it [00:00, ?it/s]"
      ]
     },
     "metadata": {},
     "output_type": "display_data"
    },
    {
     "name": "stdout",
     "output_type": "stream",
     "text": [
      "INFO:root:(127.0.0.1:38537) Model added (1/3) from ('127.0.0.1', 38537)\n",
      "INFO:root:(127.0.0.1:42513) Model added (1/3) from ('127.0.0.1', 42513)\n",
      "INFO:root:(('127.0.0.1', 38537)) Broadcasting model to 2 clients. (size: 548864 bytes)\n",
      "INFO:root:(('127.0.0.1', 42513)) Broadcasting model to 2 clients. (size: 548864 bytes)\n",
      "INFO:root:(127.0.0.1:41845) Model added (1/3) from ('127.0.0.1', 42513)\n",
      "INFO:root:(127.0.0.1:38537) Model added (2/3) from ('127.0.0.1', 42513)\n",
      "INFO:root:(127.0.0.1:41845) Model added (2/3) from ('127.0.0.1', 38537)\n",
      "INFO:root:(127.0.0.1:42513) Model added (2/3) from ('127.0.0.1', 38537)\n",
      "INFO:root:(127.0.0.1:41845) Model added (3/3) from ('127.0.0.1', 41845)\n",
      "INFO:root:(127.0.0.1:41845) Agregating models.\n",
      "INFO:root:(('127.0.0.1', 41845)) Broadcasting model to 2 clients. (size: 548864 bytes)\n",
      "INFO:root:(('127.0.0.1', 41845)) Waiting other nodes.\n",
      "INFO:root:(127.0.0.1:38537) Model added (3/3) from ('127.0.0.1', 41845)\n",
      "INFO:root:(127.0.0.1:42513) Model added (3/3) from ('127.0.0.1', 41845)\n",
      "INFO:root:(127.0.0.1:38537) Agregating models.\n",
      "INFO:root:(127.0.0.1:42513) Agregating models.\n",
      "INFO:root:(('127.0.0.1', 38537)) Waiting other nodes.\n",
      "INFO:root:(('127.0.0.1', 42513)) Waiting other nodes.\n",
      "INFO:root:(('127.0.0.1', 38537)) Broadcasting model to 2 clients. (size: 548864 bytes)\n",
      "INFO:root:(('127.0.0.1', 41845)) Broadcasting model to 2 clients. (size: 548864 bytes)\n",
      "INFO:root:(('127.0.0.1', 42513)) Broadcasting model to 2 clients. (size: 548864 bytes)\n",
      "INFO:root:(('127.0.0.1', 38537)) Waiting other nodes.\n",
      "INFO:root:(('127.0.0.1', 41845)) Waiting other nodes.\n",
      "INFO:root:(('127.0.0.1', 42513)) Waiting other nodes.\n",
      "INFO:root:(('127.0.0.1', 38537)) Round 2 of 2 finished.\n",
      "INFO:root:(('127.0.0.1', 41845)) Round 2 of 2 finished.\n",
      "INFO:root:(('127.0.0.1', 42513)) Round 2 of 2 finished.\n",
      "INFO:root:(('127.0.0.1', 38537)) Evaluating...\n",
      "INFO:root:(('127.0.0.1', 41845)) Evaluating...\n",
      "INFO:root:(('127.0.0.1', 42513)) Evaluating...\n"
     ]
    },
    {
     "data": {
      "application/vnd.jupyter.widget-view+json": {
       "model_id": "e64f790e98864eeb9e1a03f375418463",
       "version_major": 2,
       "version_minor": 0
      },
      "text/plain": [
       "Testing: 0it [00:00, ?it/s]"
      ]
     },
     "metadata": {},
     "output_type": "display_data"
    },
    {
     "data": {
      "application/vnd.jupyter.widget-view+json": {
       "model_id": "a8cf0a21ad9c4d56bf86e12a24427a05",
       "version_major": 2,
       "version_minor": 0
      },
      "text/plain": [
       "Testing: 0it [00:00, ?it/s]"
      ]
     },
     "metadata": {},
     "output_type": "display_data"
    },
    {
     "data": {
      "application/vnd.jupyter.widget-view+json": {
       "model_id": "2d34ee15c09f49f4abac703417c7f910",
       "version_major": 2,
       "version_minor": 0
      },
      "text/plain": [
       "Testing: 0it [00:00, ?it/s]"
      ]
     },
     "metadata": {},
     "output_type": "display_data"
    },
    {
     "name": "stdout",
     "output_type": "stream",
     "text": [
      "INFO:root:(('127.0.0.1', 42513)) Evaluated. Losss: 0.07695037126541138, Metric: 0.9758999943733215. (Check tensorboard for more info)\n",
      "INFO:root:(('127.0.0.1', 42513)) Finish!!.\n",
      "INFO:root:(('127.0.0.1', 41845)) Evaluated. Losss: 0.07695037126541138, Metric: 0.9758999943733215. (Check tensorboard for more info)\n",
      "INFO:root:(('127.0.0.1', 38537)) Evaluated. Losss: 0.07695037126541138, Metric: 0.9758999943733215. (Check tensorboard for more info)\n",
      "INFO:root:(('127.0.0.1', 41845)) Finish!!.\n",
      "INFO:root:(('127.0.0.1', 38537)) Finish!!.\n",
      "INFO:root:Bajando el nodo, dejando de escuchar en 127.0.0.1 38537 y desconectándose de 2 nodos\n",
      "DEBUG:root:Closed connection: ('127.0.0.1', 38537)\n",
      "DEBUG:root:Closed connection: ('127.0.0.1', 38537)\n",
      "DEBUG:root:Closed connection: ('127.0.0.1', 42513)\n",
      "DEBUG:root:Closed connection: ('127.0.0.1', 41845)\n",
      "INFO:root:Bajando el nodo, dejando de escuchar en 127.0.0.1 42513 y desconectándose de 1 nodos\n",
      "DEBUG:root:Closed connection: ('127.0.0.1', 42513)\n",
      "DEBUG:root:Closed connection: ('127.0.0.1', 41845)\n",
      "INFO:root:Bajando el nodo, dejando de escuchar en 127.0.0.1 41845 y desconectándose de 0 nodos\n",
      "INFO:root:Bajando el nodo, dejando de escuchar en 127.0.0.1 60271 y desconectándose de 0 nodos\n"
     ]
    }
   ],
   "source": [
    "from p2pfl.node import Node\n",
    "from p2pfl.learning.pytorch.mnist_examples.mnistfederated_dm import MnistFederatedDM\n",
    "from p2pfl.learning.pytorch.mnist_examples.models.mlp import MLP\n",
    "from collections import OrderedDict\n",
    "import torch\n",
    "import time\n",
    "\n",
    "def test_connect_to_train_running(four_nodes):\n",
    "    n1,n2,n3,n4 = four_nodes\n",
    "\n",
    "    # Connect Nodes (unless the n4)\n",
    "    n1.connect_to(n2.host,n2.port)\n",
    "    n3.connect_to(n1.host,n1.port)\n",
    "    time.sleep(0.1) #Esperar por la asincronía\n",
    "\n",
    "    n1.set_start_learning(2,1)\n",
    "\n",
    "    time.sleep(2)\n",
    "    \n",
    "    n4.connect_to(n1.host,n1.port,full=False)\n",
    "\n",
    "    time.sleep(2)\n",
    "\n",
    "    #assert n4.round is not None\n",
    "\n",
    "    # If the new node doesent know that learning is running, it will cause inanition in the other nodes (that are waiting for him to finish)\n",
    "\n",
    "    while all([n1.round is not None for n in [n1,n2,n3,n4]]):\n",
    "        time.sleep(0.1)\n",
    "\n",
    "    for n in [n1,n2,n3,n4]:\n",
    "        n.stop()\n",
    "        time.sleep(0.1)\n",
    "        \n",
    "        \n",
    "nodes = []\n",
    "    \n",
    "for i in range(4):\n",
    "    node = Node(MLP(),MnistFederatedDM())\n",
    "    node.start()\n",
    "    nodes.append(node)\n",
    "    \n",
    "test_connect_to_train_running(nodes)\n"
   ]
  },
  {
   "cell_type": "code",
   "execution_count": null,
   "id": "4c725be7",
   "metadata": {},
   "outputs": [],
   "source": []
  }
 ],
 "metadata": {
  "kernelspec": {
   "display_name": "Python 3 (ipykernel)",
   "language": "python",
   "name": "python3"
  },
  "language_info": {
   "codemirror_mode": {
    "name": "ipython",
    "version": 3
   },
   "file_extension": ".py",
   "mimetype": "text/x-python",
   "name": "python",
   "nbconvert_exporter": "python",
   "pygments_lexer": "ipython3",
   "version": "3.9.2"
  }
 },
 "nbformat": 4,
 "nbformat_minor": 5
}

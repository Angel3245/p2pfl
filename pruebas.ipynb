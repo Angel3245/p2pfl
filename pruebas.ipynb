{
 "cells": [
  {
   "cell_type": "code",
   "execution_count": 2,
   "id": "de3333e5",
   "metadata": {
    "scrolled": true
   },
   "outputs": [
    {
     "name": "stdout",
     "output_type": "stream",
     "text": [
      "Train: 54000 Val:6000 Test:10000\n",
      "INFO:root:Nodo listening at 127.0.0.1:59607\n",
      "Train: 54000 Val:6000 Test:10000\n",
      "INFO:root:Nodo listening at 127.0.0.1:45535\n",
      "Train: 54000 Val:6000 Test:10000\n",
      "INFO:root:Nodo listening at 127.0.0.1:36419\n",
      "Train: 54000 Val:6000 Test:10000\n",
      "INFO:root:Nodo listening at 127.0.0.1:39029\n",
      "INFO:root:('127.0.0.1', 45535) Connected to 127.0.0.1:59607\n",
      "INFO:root:('127.0.0.1', 59607) Conexión aceptada con 127.0.0.1:45535\n",
      "INFO:root:('127.0.0.1', 36419) Connected to 127.0.0.1:45535\n",
      "INFO:root:('127.0.0.1', 45535) Conexión aceptada con 127.0.0.1:36419\n",
      "INFO:root:('127.0.0.1', 59607) Connected to 127.0.0.1:36419\n",
      "INFO:root:('127.0.0.1', 36419) Conexión aceptada con 127.0.0.1:59607\n",
      "INFO:root:('127.0.0.1', 39029) Connected to 127.0.0.1:36419\n",
      "INFO:root:('127.0.0.1', 36419) Conexión aceptada con 127.0.0.1:39029\n",
      "INFO:root:('127.0.0.1', 45535) Connected to 127.0.0.1:39029\n",
      "INFO:root:('127.0.0.1', 59607) Connected to 127.0.0.1:39029\n",
      "INFO:root:('127.0.0.1', 39029) Conexión aceptada con 127.0.0.1:45535\n",
      "INFO:root:('127.0.0.1', 39029) Conexión aceptada con 127.0.0.1:59607\n",
      "INFO:root:(('127.0.0.1', 59607)) Broadcasting start learning...\n",
      "INFO:root:(('127.0.0.1', 59607)) Sending Initial Model Weights\n",
      "INFO:root:(('127.0.0.1', 59607)) Broadcasting model to 3 clients. (size: 548864 bytes)\n",
      "INFO:root:(('127.0.0.1', 36419)) Broadcasting Number of Samples...\n",
      "INFO:root:(('127.0.0.1', 45535)) Broadcasting Number of Samples...\n",
      "INFO:root:(('127.0.0.1', 39029)) Broadcasting Number of Samples...\n",
      "INFO:root:(('127.0.0.1', 36419)) Initialicing Model Weights\n",
      "INFO:root:(('127.0.0.1', 39029)) Initialicing Model Weights\n",
      "INFO:root:(('127.0.0.1', 45535)) Initialicing Model Weights\n",
      "INFO:root:(('127.0.0.1', 45535)) Model initialized\n",
      "INFO:root:(('127.0.0.1', 36419)) Model initialized\n",
      "INFO:root:(('127.0.0.1', 39029)) Model initialized\n",
      "INFO:root:(('127.0.0.1', 59607)) Broadcasting Number of Samples...\n",
      "INFO:root:(('127.0.0.1', 59607)) Sending train set vote.\n",
      "INFO:root:(('127.0.0.1', 59607)) Waiting other node votes.\n",
      "INFO:root:(('127.0.0.1', 36419)) Sending train set vote.\n",
      "INFO:root:(('127.0.0.1', 36419)) Waiting other node votes.\n",
      "INFO:root:(('127.0.0.1', 39029)) Sending train set vote.\n",
      "INFO:root:(('127.0.0.1', 39029)) Waiting other node votes.\n",
      "INFO:root:(('127.0.0.1', 45535)) Sending train set vote.\n",
      "INFO:root:(('127.0.0.1', 59607)) Computed 4 votes.\n",
      "INFO:root:(('127.0.0.1', 45535)) Waiting other node votes.\n",
      "INFO:root:(('127.0.0.1', 39029)) Computed 4 votes.\n",
      "INFO:root:(('127.0.0.1', 36419)) Computed 4 votes.\n",
      "INFO:root:('127.0.0.1', 59607) Train set of 2 nodes. [\"('127.0.0.1', 36419)\", \"('127.0.0.1', 45535)\"]\n",
      "INFO:root:(('127.0.0.1', 45535)) Computed 4 votes.\n",
      "INFO:root:('127.0.0.1', 39029) Train set of 2 nodes. [\"('127.0.0.1', 36419)\", \"('127.0.0.1', 45535)\"]\n",
      "INFO:root:('127.0.0.1', 36419) Train set of 2 nodes. [\"('127.0.0.1', 36419)\", \"('127.0.0.1', 45535)\"]\n",
      "INFO:root:('127.0.0.1', 45535) Train set of 2 nodes. [\"('127.0.0.1', 36419)\", \"('127.0.0.1', 45535)\"]\n",
      "INFO:root:(('127.0.0.1', 45535)) Evaluating...\n",
      "INFO:root:(('127.0.0.1', 36419)) Evaluating...\n"
     ]
    },
    {
     "data": {
      "application/vnd.jupyter.widget-view+json": {
       "model_id": "a12768512e994dfcab0886e06f124b4f",
       "version_major": 2,
       "version_minor": 0
      },
      "text/plain": [
       "Testing: 0it [00:00, ?it/s]"
      ]
     },
     "metadata": {},
     "output_type": "display_data"
    },
    {
     "data": {
      "application/vnd.jupyter.widget-view+json": {
       "model_id": "6ab01fcd2f5b4103ab8855534ff823f9",
       "version_major": 2,
       "version_minor": 0
      },
      "text/plain": [
       "Testing: 0it [00:00, ?it/s]"
      ]
     },
     "metadata": {},
     "output_type": "display_data"
    },
    {
     "name": "stdout",
     "output_type": "stream",
     "text": [
      "ERROR:root:Something went wrong with pytorch lightning. cannot import name 'Popen' from partially initialized module 'multiprocessing.popen_fork' (most likely due to a circular import) (/usr/lib/python3.9/multiprocessing/popen_fork.py)\n",
      "INFO:root:(('127.0.0.1', 36419)) Training...\n"
     ]
    },
    {
     "data": {
      "application/vnd.jupyter.widget-view+json": {
       "model_id": "",
       "version_major": 2,
       "version_minor": 0
      },
      "text/plain": [
       "Sanity Checking: 0it [00:00, ?it/s]"
      ]
     },
     "metadata": {},
     "output_type": "display_data"
    },
    {
     "data": {
      "application/vnd.jupyter.widget-view+json": {
       "model_id": "cf331fffa17f491caef70bf99f5f1f72",
       "version_major": 2,
       "version_minor": 0
      },
      "text/plain": [
       "Training: 0it [00:00, ?it/s]"
      ]
     },
     "metadata": {},
     "output_type": "display_data"
    },
    {
     "name": "stdout",
     "output_type": "stream",
     "text": [
      "INFO:root:(('127.0.0.1', 45535)) Evaluated. Losss: 2.301456928253174, Metric: 0.11810000240802765. (Check tensorboard for more info)\n",
      "INFO:root:(('127.0.0.1', 45535)) Training...\n"
     ]
    },
    {
     "data": {
      "application/vnd.jupyter.widget-view+json": {
       "model_id": "",
       "version_major": 2,
       "version_minor": 0
      },
      "text/plain": [
       "Sanity Checking: 0it [00:00, ?it/s]"
      ]
     },
     "metadata": {},
     "output_type": "display_data"
    },
    {
     "data": {
      "application/vnd.jupyter.widget-view+json": {
       "model_id": "6984cd6c115a430ca8d2ab002ec51f5d",
       "version_major": 2,
       "version_minor": 0
      },
      "text/plain": [
       "Training: 0it [00:00, ?it/s]"
      ]
     },
     "metadata": {},
     "output_type": "display_data"
    },
    {
     "data": {
      "application/vnd.jupyter.widget-view+json": {
       "model_id": "",
       "version_major": 2,
       "version_minor": 0
      },
      "text/plain": [
       "Validation: 0it [00:00, ?it/s]"
      ]
     },
     "metadata": {},
     "output_type": "display_data"
    },
    {
     "name": "stdout",
     "output_type": "stream",
     "text": [
      "INFO:root:(127.0.0.1:36419) Model added (1/2) from ('127.0.0.1', 36419)\n",
      "INFO:root:(('127.0.0.1', 36419)) Broadcasting model to 3 clients. (size: 548864 bytes)\n",
      "INFO:root:(127.0.0.1:45535) Model added (1/2) from ('127.0.0.1', 36419)\n"
     ]
    },
    {
     "data": {
      "application/vnd.jupyter.widget-view+json": {
       "model_id": "",
       "version_major": 2,
       "version_minor": 0
      },
      "text/plain": [
       "Validation: 0it [00:00, ?it/s]"
      ]
     },
     "metadata": {},
     "output_type": "display_data"
    },
    {
     "name": "stdout",
     "output_type": "stream",
     "text": [
      "INFO:root:(127.0.0.1:45535) Model added (2/2) from ('127.0.0.1', 45535)\n",
      "INFO:root:(127.0.0.1:45535) Agregating models.\n",
      "INFO:root:(('127.0.0.1', 45535)) Broadcasting model to 3 clients. (size: 548864 bytes)\n",
      "INFO:root:(('127.0.0.1', 45535)) Waiting other nodes.\n",
      "INFO:root:(127.0.0.1:36419) Model added (2/2) from ('127.0.0.1', 45535)\n",
      "INFO:root:(('127.0.0.1', 45535)) Broadcasting model to 3 clients. (size: 548864 bytes)\n",
      "INFO:root:(127.0.0.1:36419) Agregating models.\n",
      "INFO:root:(('127.0.0.1', 36419)) Waiting other nodes.\n",
      "INFO:root:(('127.0.0.1', 36419)) Broadcasting model to 3 clients. (size: 548864 bytes)\n",
      "INFO:root:(('127.0.0.1', 45535)) Waiting other nodes.\n",
      "INFO:root:(('127.0.0.1', 45535)) Round 1 of 2 finished.\n",
      "INFO:root:(('127.0.0.1', 45535)) Sending train set vote.\n",
      "INFO:root:(('127.0.0.1', 45535)) Waiting other node votes.\n",
      "INFO:root:(127.0.0.1:39029) Recived a model from ('127.0.0.1', 45535)\n",
      "INFO:root:(127.0.0.1:59607) Recived a model from ('127.0.0.1', 45535)\n",
      "INFO:root:(('127.0.0.1', 39029)) Waiting other nodes.\n",
      "INFO:root:(('127.0.0.1', 39029)) Round 1 of 2 finished.\n",
      "INFO:root:(('127.0.0.1', 59607)) Waiting other nodes.\n",
      "INFO:root:(('127.0.0.1', 39029)) Sending train set vote.\n",
      "INFO:root:(('127.0.0.1', 59607)) Round 1 of 2 finished.\n",
      "INFO:root:(('127.0.0.1', 36419)) Waiting other nodes.\n",
      "INFO:root:(('127.0.0.1', 59607)) Sending train set vote.\n",
      "INFO:root:(('127.0.0.1', 39029)) Waiting other node votes.\n",
      "INFO:root:(('127.0.0.1', 36419)) Round 1 of 2 finished.\n",
      "INFO:root:(('127.0.0.1', 36419)) Sending train set vote.\n",
      "INFO:root:(('127.0.0.1', 59607)) Waiting other node votes.\n",
      "INFO:root:(('127.0.0.1', 45535)) Computed 4 votes.\n",
      "INFO:root:(('127.0.0.1', 36419)) Waiting other node votes.\n",
      "INFO:root:('127.0.0.1', 45535) Train set of 2 nodes. [\"('127.0.0.1', 59607)\", \"('127.0.0.1', 39029)\"]\n",
      "INFO:root:(('127.0.0.1', 39029)) Computed 4 votes.\n",
      "INFO:root:(('127.0.0.1', 59607)) Computed 4 votes.\n",
      "INFO:root:(('127.0.0.1', 36419)) Computed 4 votes.\n",
      "INFO:root:('127.0.0.1', 39029) Train set of 2 nodes. [\"('127.0.0.1', 59607)\", \"('127.0.0.1', 39029)\"]\n",
      "INFO:root:('127.0.0.1', 59607) Train set of 2 nodes. [\"('127.0.0.1', 59607)\", \"('127.0.0.1', 39029)\"]\n",
      "INFO:root:('127.0.0.1', 36419) Train set of 2 nodes. [\"('127.0.0.1', 59607)\", \"('127.0.0.1', 39029)\"]\n",
      "INFO:root:(('127.0.0.1', 39029)) Evaluating...\n",
      "INFO:root:(('127.0.0.1', 59607)) Evaluating...\n"
     ]
    },
    {
     "data": {
      "application/vnd.jupyter.widget-view+json": {
       "model_id": "2434917e400b431288803ddc4672093e",
       "version_major": 2,
       "version_minor": 0
      },
      "text/plain": [
       "Testing: 0it [00:00, ?it/s]"
      ]
     },
     "metadata": {},
     "output_type": "display_data"
    },
    {
     "data": {
      "application/vnd.jupyter.widget-view+json": {
       "model_id": "f5914e8506b94b04b5994e08931ae8a2",
       "version_major": 2,
       "version_minor": 0
      },
      "text/plain": [
       "Testing: 0it [00:00, ?it/s]"
      ]
     },
     "metadata": {},
     "output_type": "display_data"
    },
    {
     "name": "stdout",
     "output_type": "stream",
     "text": [
      "INFO:root:(('127.0.0.1', 39029)) Evaluated. Losss: 0.14684411883354187, Metric: 0.9560999870300293. (Check tensorboard for more info)\n",
      "INFO:root:(('127.0.0.1', 59607)) Evaluated. Losss: 0.14684411883354187, Metric: 0.9560999870300293. (Check tensorboard for more info)\n",
      "INFO:root:(('127.0.0.1', 39029)) Training...\n",
      "INFO:root:(('127.0.0.1', 59607)) Training...\n"
     ]
    },
    {
     "data": {
      "application/vnd.jupyter.widget-view+json": {
       "model_id": "",
       "version_major": 2,
       "version_minor": 0
      },
      "text/plain": [
       "Sanity Checking: 0it [00:00, ?it/s]"
      ]
     },
     "metadata": {},
     "output_type": "display_data"
    },
    {
     "data": {
      "application/vnd.jupyter.widget-view+json": {
       "model_id": "",
       "version_major": 2,
       "version_minor": 0
      },
      "text/plain": [
       "Sanity Checking: 0it [00:00, ?it/s]"
      ]
     },
     "metadata": {},
     "output_type": "display_data"
    },
    {
     "data": {
      "application/vnd.jupyter.widget-view+json": {
       "model_id": "2c48e218523a40a4b85c8df21d2eafcd",
       "version_major": 2,
       "version_minor": 0
      },
      "text/plain": [
       "Training: 0it [00:00, ?it/s]"
      ]
     },
     "metadata": {},
     "output_type": "display_data"
    },
    {
     "data": {
      "application/vnd.jupyter.widget-view+json": {
       "model_id": "b4c508727d4944fc8623afa53289c378",
       "version_major": 2,
       "version_minor": 0
      },
      "text/plain": [
       "Training: 0it [00:00, ?it/s]"
      ]
     },
     "metadata": {},
     "output_type": "display_data"
    },
    {
     "data": {
      "application/vnd.jupyter.widget-view+json": {
       "model_id": "",
       "version_major": 2,
       "version_minor": 0
      },
      "text/plain": [
       "Validation: 0it [00:00, ?it/s]"
      ]
     },
     "metadata": {},
     "output_type": "display_data"
    },
    {
     "data": {
      "application/vnd.jupyter.widget-view+json": {
       "model_id": "",
       "version_major": 2,
       "version_minor": 0
      },
      "text/plain": [
       "Validation: 0it [00:00, ?it/s]"
      ]
     },
     "metadata": {},
     "output_type": "display_data"
    },
    {
     "name": "stdout",
     "output_type": "stream",
     "text": [
      "INFO:root:(127.0.0.1:39029) Model added (1/2) from ('127.0.0.1', 39029)\n",
      "INFO:root:(('127.0.0.1', 39029)) Broadcasting model to 3 clients. (size: 548864 bytes)\n",
      "INFO:root:(127.0.0.1:59607) Model added (1/2) from ('127.0.0.1', 39029)\n",
      "INFO:root:(127.0.0.1:59607) Model added (2/2) from ('127.0.0.1', 59607)\n",
      "INFO:root:(127.0.0.1:59607) Agregating models.\n",
      "INFO:root:(('127.0.0.1', 59607)) Broadcasting model to 3 clients. (size: 548864 bytes)\n",
      "INFO:root:(('127.0.0.1', 59607)) Waiting other nodes.\n",
      "INFO:root:(('127.0.0.1', 59607)) Broadcasting model to 3 clients. (size: 548864 bytes)\n",
      "INFO:root:(127.0.0.1:39029) Model added (2/2) from ('127.0.0.1', 59607)\n",
      "INFO:root:(127.0.0.1:39029) Agregating models.\n",
      "INFO:root:(('127.0.0.1', 39029)) Waiting other nodes.\n",
      "INFO:root:(('127.0.0.1', 39029)) Broadcasting model to 3 clients. (size: 548864 bytes)\n",
      "INFO:root:(('127.0.0.1', 59607)) Waiting other nodes.\n",
      "INFO:root:(('127.0.0.1', 59607)) Round 2 of 2 finished.\n",
      "INFO:root:(('127.0.0.1', 59607)) Evaluating...\n",
      "INFO:root:(127.0.0.1:36419) Recived a model from ('127.0.0.1', 59607)\n",
      "INFO:root:(127.0.0.1:45535) Recived a model from ('127.0.0.1', 59607)\n",
      "INFO:root:(('127.0.0.1', 36419)) Waiting other nodes.\n"
     ]
    },
    {
     "data": {
      "application/vnd.jupyter.widget-view+json": {
       "model_id": "a195d25e09fd41aca07385e5f1c5ccf1",
       "version_major": 2,
       "version_minor": 0
      },
      "text/plain": [
       "Testing: 0it [00:00, ?it/s]"
      ]
     },
     "metadata": {},
     "output_type": "display_data"
    },
    {
     "name": "stdout",
     "output_type": "stream",
     "text": [
      "INFO:root:(('127.0.0.1', 45535)) Waiting other nodes.\n",
      "INFO:root:(('127.0.0.1', 36419)) Round 2 of 2 finished.\n",
      "INFO:root:(('127.0.0.1', 45535)) Round 2 of 2 finished.\n",
      "INFO:root:(('127.0.0.1', 36419)) Evaluating...\n",
      "INFO:root:(('127.0.0.1', 45535)) Evaluating...\n",
      "INFO:root:(('127.0.0.1', 39029)) Waiting other nodes.\n",
      "INFO:root:(('127.0.0.1', 39029)) Round 2 of 2 finished.\n",
      "INFO:root:(('127.0.0.1', 39029)) Evaluating...\n"
     ]
    },
    {
     "data": {
      "application/vnd.jupyter.widget-view+json": {
       "model_id": "74358efb548148329da3524a903e0c3b",
       "version_major": 2,
       "version_minor": 0
      },
      "text/plain": [
       "Testing: 0it [00:00, ?it/s]"
      ]
     },
     "metadata": {},
     "output_type": "display_data"
    },
    {
     "data": {
      "application/vnd.jupyter.widget-view+json": {
       "model_id": "f2ab8369bd084a428b32524a43306651",
       "version_major": 2,
       "version_minor": 0
      },
      "text/plain": [
       "Testing: 0it [00:00, ?it/s]"
      ]
     },
     "metadata": {},
     "output_type": "display_data"
    },
    {
     "data": {
      "application/vnd.jupyter.widget-view+json": {
       "model_id": "257105de8b7745698bbc9eca65b947e8",
       "version_major": 2,
       "version_minor": 0
      },
      "text/plain": [
       "Testing: 0it [00:00, ?it/s]"
      ]
     },
     "metadata": {},
     "output_type": "display_data"
    },
    {
     "name": "stdout",
     "output_type": "stream",
     "text": [
      "INFO:root:(('127.0.0.1', 36419)) Evaluating...\n",
      "INFO:root:(('127.0.0.1', 59607)) Evaluated. Losss: 0.08113337308168411, Metric: 0.9749000072479248. (Check tensorboard for more info)\n",
      "INFO:root:(('127.0.0.1', 59607)) Finish!!.\n",
      "INFO:root:(('127.0.0.1', 36419)) Evaluated. Losss: 0.08113337308168411, Metric: 0.9749000072479248. (Check tensorboard for more info)\n",
      "INFO:root:(('127.0.0.1', 36419)) Finish!!.\n",
      "INFO:root:(('127.0.0.1', 45535)) Evaluated. Losss: 0.08113337308168411, Metric: 0.9749000072479248. (Check tensorboard for more info)\n",
      "INFO:root:(('127.0.0.1', 45535)) Finish!!.\n",
      "INFO:root:(('127.0.0.1', 39029)) Evaluated. Losss: 0.08113337308168411, Metric: 0.9749000072479248. (Check tensorboard for more info)\n",
      "INFO:root:(('127.0.0.1', 39029)) Finish!!.\n",
      "INFO:root:Bajando el nodo, dejando de escuchar en 127.0.0.1 59607 y desconectándose de 3 nodos\n",
      "DEBUG:root:Closed connection: ('127.0.0.1', 59607)\n",
      "DEBUG:root:Closed connection: ('127.0.0.1', 59607)\n",
      "DEBUG:root:Closed connection: ('127.0.0.1', 59607)\n",
      "DEBUG:root:Closed connection: ('127.0.0.1', 45535)\n",
      "DEBUG:root:Closed connection: ('127.0.0.1', 39029)\n",
      "DEBUG:root:Closed connection: ('127.0.0.1', 36419)\n",
      "INFO:root:Bajando el nodo, dejando de escuchar en 127.0.0.1 45535 y desconectándose de 2 nodos\n",
      "DEBUG:root:Closed connection: ('127.0.0.1', 45535)\n",
      "DEBUG:root:Closed connection: ('127.0.0.1', 45535)\n",
      "DEBUG:root:Closed connection: ('127.0.0.1', 39029)\n",
      "DEBUG:root:Closed connection: ('127.0.0.1', 36419)\n",
      "INFO:root:Bajando el nodo, dejando de escuchar en 127.0.0.1 36419 y desconectándose de 1 nodos\n",
      "DEBUG:root:Closed connection: ('127.0.0.1', 36419)\n",
      "DEBUG:root:Closed connection: ('127.0.0.1', 39029)\n",
      "INFO:root:Bajando el nodo, dejando de escuchar en 127.0.0.1 39029 y desconectándose de 0 nodos\n"
     ]
    }
   ],
   "source": [
    "from p2pfl.node import Node\n",
    "from p2pfl.learning.pytorch.mnist_examples.mnistfederated_dm import MnistFederatedDM\n",
    "from p2pfl.learning.pytorch.mnist_examples.models.mlp import MLP\n",
    "from collections import OrderedDict\n",
    "import torch\n",
    "import time\n",
    "\n",
    "\n",
    "def test_convergence(x):\n",
    "    n,r = x\n",
    "\n",
    "    nodes = []\n",
    "    \n",
    "    for i in range(n):\n",
    "        node = Node(MLP(),MnistFederatedDM(), simulation=True)\n",
    "        node.start()\n",
    "        nodes.append(node)\n",
    "\n",
    "    # Node Connection\n",
    "    for i in range(len(nodes)-1):\n",
    "        nodes[i+1].connect_to(nodes[i].host,nodes[i].port)\n",
    "        time.sleep(.1)\n",
    "\n",
    "    time.sleep(3)     \n",
    "        \n",
    "    # Check if they are connected\n",
    "    for node in nodes:\n",
    "        assert len(node.neightboors) == n-1\n",
    "\n",
    "    # Start Learning\n",
    "    nodes[0].set_start_learning(rounds=r,epochs=1)\n",
    "\n",
    "    # Wait 4 results\n",
    "    while True:\n",
    "        time.sleep(1)\n",
    "        finish = True\n",
    "        for f in [node.round is None for node in nodes]:\n",
    "            finish = finish and f\n",
    "\n",
    "        if finish:\n",
    "            break\n",
    "\n",
    "\n",
    "    # Validamos Modelos obtenidos sean iguales\n",
    "    model = None\n",
    "    first = True\n",
    "    for node in nodes:\n",
    "        if first:\n",
    "            model = node.learner.get_parameters()\n",
    "            first = False\n",
    "        else:\n",
    "            for layer in model:\n",
    "                a = torch.round(model[layer], decimals=2)\n",
    "                b = torch.round(node.learner.get_parameters()[layer], decimals=2)\n",
    "                assert torch.eq(a, b).all()\n",
    "\n",
    "    # Cerrar\n",
    "    for node in nodes:\n",
    "        node.stop()\n",
    "        time.sleep(.1) #Esperar por la asincronía\n",
    "    \n",
    "    return nodes\n",
    "        \n",
    "nodes = test_convergence((4,2))"
   ]
  },
  {
   "cell_type": "code",
   "execution_count": 1,
   "id": "034fde84",
   "metadata": {
    "scrolled": true
   },
   "outputs": [
    {
     "name": "stdout",
     "output_type": "stream",
     "text": [
      "Train: 54000 Val:6000 Test:10000\n",
      "INFO:root:Nodo listening at 127.0.0.1:55927\n",
      "Train: 54000 Val:6000 Test:10000\n",
      "INFO:root:Nodo listening at 127.0.0.1:51551\n",
      "Train: 54000 Val:6000 Test:10000\n",
      "INFO:root:Nodo listening at 127.0.0.1:48497\n",
      "Train: 54000 Val:6000 Test:10000\n",
      "INFO:root:Nodo listening at 127.0.0.1:52265\n",
      "INFO:root:('127.0.0.1', 51551) Connected to 127.0.0.1:55927\n",
      "INFO:root:('127.0.0.1', 55927) Conexión aceptada con 127.0.0.1:51551\n",
      "INFO:root:('127.0.0.1', 48497) Connected to 127.0.0.1:51551\n",
      "INFO:root:('127.0.0.1', 51551) Conexión aceptada con 127.0.0.1:48497\n",
      "INFO:root:('127.0.0.1', 55927) Connected to 127.0.0.1:48497\n",
      "INFO:root:('127.0.0.1', 48497) Conexión aceptada con 127.0.0.1:55927\n",
      "INFO:root:('127.0.0.1', 52265) Connected to 127.0.0.1:48497\n",
      "INFO:root:('127.0.0.1', 48497) Conexión aceptada con 127.0.0.1:52265\n",
      "INFO:root:('127.0.0.1', 55927) Connected to 127.0.0.1:52265\n",
      "INFO:root:('127.0.0.1', 51551) Connected to 127.0.0.1:52265\n",
      "INFO:root:('127.0.0.1', 52265) Conexión aceptada con 127.0.0.1:55927\n",
      "INFO:root:('127.0.0.1', 52265) Conexión aceptada con 127.0.0.1:51551\n",
      "INFO:root:(('127.0.0.1', 55927)) Broadcasting start learning...\n",
      "INFO:root:(('127.0.0.1', 55927)) Sending Initial Model Weights\n",
      "INFO:root:(('127.0.0.1', 55927)) Broadcasting model to 3 clients. (size: 548864 bytes)\n",
      "INFO:root:(('127.0.0.1', 52265)) Broadcasting Number of Samples...\n",
      "INFO:root:(('127.0.0.1', 51551)) Broadcasting Number of Samples...\n",
      "INFO:root:(('127.0.0.1', 48497)) Broadcasting Number of Samples...\n",
      "INFO:root:(('127.0.0.1', 52265)) Initialicing Model Weights\n",
      "INFO:root:(('127.0.0.1', 51551)) Initialicing Model Weights\n",
      "INFO:root:(('127.0.0.1', 48497)) Initialicing Model Weights\n",
      "INFO:root:(('127.0.0.1', 51551)) Model initialized\n",
      "INFO:root:(('127.0.0.1', 48497)) Model initialized\n",
      "INFO:root:(('127.0.0.1', 52265)) Model initialized\n",
      "INFO:root:(('127.0.0.1', 55927)) Broadcasting Number of Samples...\n",
      "INFO:root:(('127.0.0.1', 55927)) Sending train set vote.\n",
      "INFO:root:(('127.0.0.1', 55927)) Waiting other node votes.\n",
      "INFO:root:(('127.0.0.1', 52265)) Sending train set vote.\n",
      "INFO:root:(('127.0.0.1', 51551)) Sending train set vote.\n",
      "INFO:root:(('127.0.0.1', 52265)) Waiting other node votes.\n",
      "INFO:root:(('127.0.0.1', 51551)) Waiting other node votes.\n",
      "INFO:root:(('127.0.0.1', 48497)) Sending train set vote.\n",
      "INFO:root:(('127.0.0.1', 51551)) Recived 3 votes. [('127.0.0.1', 55927), ('127.0.0.1', 52265), ('127.0.0.1', 48497), ('127.0.0.1', 51551)]\n",
      "votes [('127.0.0.1', 55927), ('127.0.0.1', 52265), ('127.0.0.1', 48497), ('127.0.0.1', 51551)] to [\"('127.0.0.1', 55927)\", \"('127.0.0.1', 52265)\", \"('127.0.0.1', 48497)\", \"('127.0.0.1', 51551)\"]\n",
      "INFO:root:(('127.0.0.1', 48497)) Waiting other node votes.\n",
      "INFO:root:(('127.0.0.1', 55927)) Recived 3 votes. [('127.0.0.1', 55927), ('127.0.0.1', 52265), ('127.0.0.1', 48497), ('127.0.0.1', 51551)]\n",
      "votes [('127.0.0.1', 55927), ('127.0.0.1', 52265), ('127.0.0.1', 48497), ('127.0.0.1', 51551)] to [\"('127.0.0.1', 55927)\", \"('127.0.0.1', 52265)\", \"('127.0.0.1', 48497)\", \"('127.0.0.1', 51551)\"]\n",
      "INFO:root:(('127.0.0.1', 52265)) Recived 3 votes. [('127.0.0.1', 55927), ('127.0.0.1', 52265), ('127.0.0.1', 48497), ('127.0.0.1', 51551)]\n",
      "votes [('127.0.0.1', 55927), ('127.0.0.1', 52265), ('127.0.0.1', 48497), ('127.0.0.1', 51551)] to [\"('127.0.0.1', 55927)\", \"('127.0.0.1', 52265)\", \"('127.0.0.1', 48497)\", \"('127.0.0.1', 51551)\"]\n",
      "INFO:root:('127.0.0.1', 51551) Train set of 2 nodes. [\"('127.0.0.1', 52265)\", \"('127.0.0.1', 51551)\"]\n",
      "INFO:root:(('127.0.0.1', 48497)) Recived 3 votes. [('127.0.0.1', 55927), ('127.0.0.1', 52265), ('127.0.0.1', 48497), ('127.0.0.1', 51551)]\n",
      "votes [('127.0.0.1', 55927), ('127.0.0.1', 52265), ('127.0.0.1', 48497), ('127.0.0.1', 51551)] to [\"('127.0.0.1', 55927)\", \"('127.0.0.1', 52265)\", \"('127.0.0.1', 48497)\", \"('127.0.0.1', 51551)\"]\n",
      "INFO:root:('127.0.0.1', 55927) Train set of 2 nodes. [\"('127.0.0.1', 52265)\", \"('127.0.0.1', 51551)\"]\n",
      "INFO:root:('127.0.0.1', 52265) Train set of 2 nodes. [\"('127.0.0.1', 52265)\", \"('127.0.0.1', 51551)\"]\n",
      "INFO:root:(('127.0.0.1', 51551)) Evaluating...\n",
      "INFO:root:('127.0.0.1', 48497) Train set of 2 nodes. [\"('127.0.0.1', 52265)\", \"('127.0.0.1', 51551)\"]\n",
      "INFO:root:(('127.0.0.1', 55927)) Waiting other nodes.\n",
      "INFO:root:(('127.0.0.1', 52265)) Evaluating...\n",
      "INFO:root:(('127.0.0.1', 51551)) Training...\n",
      "INFO:root:(('127.0.0.1', 48497)) Waiting other nodes.\n",
      "INFO:root:(('127.0.0.1', 55927)) Round 1 of 2 finished.\n",
      "INFO:root:(('127.0.0.1', 52265)) Training...\n",
      "INFO:root:(('127.0.0.1', 48497)) Round 1 of 2 finished.\n",
      "INFO:root:(127.0.0.1:51551) Model added (1/2) from ('127.0.0.1', 51551)\n",
      "INFO:root:(('127.0.0.1', 55927)) Sending train set vote.\n",
      "INFO:root:(('127.0.0.1', 48497)) Sending train set vote.\n",
      "INFO:root:(127.0.0.1:52265) Model added (1/2) from ('127.0.0.1', 52265)\n",
      "INFO:root:(('127.0.0.1', 55927)) Waiting other node votes.\n",
      "INFO:root:(('127.0.0.1', 48497)) Waiting other node votes.\n",
      "INFO:root:(('127.0.0.1', 51551)) Broadcasting model to 3 clients. (size: 548864 bytes)\n",
      "INFO:root:(('127.0.0.1', 52265)) Broadcasting model to 3 clients. (size: 548864 bytes)\n",
      "STPIIIIIIIIIIIIIIIIIIIIIIIIIIIIIIIIIIIIIIIIIING\n",
      "INFO:root:(127.0.0.1:51551) Agregating models. Timeout reached\n",
      "INFO:root:(127.0.0.1:52265) Agregating models. Timeout reached\n",
      "INFO:root:(('127.0.0.1', 51551)) Waiting other nodes.\n",
      "INFO:root:(('127.0.0.1', 52265)) Waiting other nodes.\n",
      "INFO:root:(('127.0.0.1', 51551)) Broadcasting model to 3 clients. (size: 548864 bytes)\n",
      "INFO:root:(('127.0.0.1', 52265)) Broadcasting model to 3 clients. (size: 548864 bytes)\n",
      "INFO:root:(('127.0.0.1', 52265)) Waiting other nodes.\n",
      "INFO:root:(('127.0.0.1', 52265)) Round 1 of 2 finished.\n",
      "INFO:root:(('127.0.0.1', 51551)) Waiting other nodes.\n",
      "INFO:root:(('127.0.0.1', 52265)) Sending train set vote.\n",
      "INFO:root:(('127.0.0.1', 51551)) Round 1 of 2 finished.\n",
      "INFO:root:(('127.0.0.1', 52265)) Waiting other node votes.\n",
      "INFO:root:(('127.0.0.1', 51551)) Sending train set vote.\n",
      "INFO:root:(127.0.0.1:48497) Recived a model from 0\n",
      "ERROR:root:(127.0.0.1:52265) Error, trying to add a model when the neighbors are not specificated\n",
      "INFO:root:(('127.0.0.1', 51551)) Waiting other node votes.\n",
      "INFO:root:(127.0.0.1:55927) Recived a model from 0\n",
      "ERROR:root:(127.0.0.1:51551) Error, trying to add a model when the neighbors are not specificated\n",
      "INFO:root:(127.0.0.1:55927) Recived a model from 0\n",
      "ERROR:root:(127.0.0.1:48497) Error, trying to add a model when the neighbors are not specificated\n",
      "INFO:root:(('127.0.0.1', 52265)) Recived 3 votes. [('127.0.0.1', 55927), ('127.0.0.1', 48497), ('127.0.0.1', 52265), ('127.0.0.1', 51551)]\n",
      "votes [('127.0.0.1', 55927), ('127.0.0.1', 48497), ('127.0.0.1', 52265), ('127.0.0.1', 51551)] to [\"('127.0.0.1', 55927)\", \"('127.0.0.1', 48497)\", \"('127.0.0.1', 52265)\", \"('127.0.0.1', 51551)\"]\n",
      "INFO:root:(('127.0.0.1', 51551)) Recived 3 votes. [('127.0.0.1', 55927), ('127.0.0.1', 48497), ('127.0.0.1', 52265), ('127.0.0.1', 51551)]\n",
      "votes [('127.0.0.1', 55927), ('127.0.0.1', 48497), ('127.0.0.1', 52265), ('127.0.0.1', 51551)] to [\"('127.0.0.1', 55927)\", \"('127.0.0.1', 48497)\", \"('127.0.0.1', 52265)\", \"('127.0.0.1', 51551)\"]\n",
      "INFO:root:(('127.0.0.1', 55927)) Recived 3 votes. [('127.0.0.1', 55927), ('127.0.0.1', 48497), ('127.0.0.1', 52265), ('127.0.0.1', 51551)]\n",
      "votes [('127.0.0.1', 55927), ('127.0.0.1', 48497), ('127.0.0.1', 52265), ('127.0.0.1', 51551)] to [\"('127.0.0.1', 55927)\", \"('127.0.0.1', 48497)\", \"('127.0.0.1', 52265)\", \"('127.0.0.1', 51551)\"]\n",
      "INFO:root:(('127.0.0.1', 48497)) Recived 3 votes. [('127.0.0.1', 55927), ('127.0.0.1', 48497), ('127.0.0.1', 52265), ('127.0.0.1', 51551)]\n",
      "votes [('127.0.0.1', 55927), ('127.0.0.1', 48497), ('127.0.0.1', 52265), ('127.0.0.1', 51551)] to [\"('127.0.0.1', 55927)\", \"('127.0.0.1', 48497)\", \"('127.0.0.1', 52265)\", \"('127.0.0.1', 51551)\"]INFO:root:('127.0.0.1', 52265) Train set of 2 nodes. [\"('127.0.0.1', 48497)\", \"('127.0.0.1', 51551)\"]\n",
      "\n",
      "INFO:root:('127.0.0.1', 51551) Train set of 2 nodes. [\"('127.0.0.1', 48497)\", \"('127.0.0.1', 51551)\"]\n",
      "INFO:root:('127.0.0.1', 55927) Train set of 2 nodes. [\"('127.0.0.1', 48497)\", \"('127.0.0.1', 51551)\"]\n",
      "INFO:root:('127.0.0.1', 48497) Train set of 2 nodes. [\"('127.0.0.1', 48497)\", \"('127.0.0.1', 51551)\"]\n",
      "INFO:root:(('127.0.0.1', 52265)) Waiting other nodes.\n"
     ]
    },
    {
     "name": "stdout",
     "output_type": "stream",
     "text": [
      "INFO:root:(('127.0.0.1', 51551)) Evaluating...\n",
      "INFO:root:(('127.0.0.1', 55927)) Waiting other nodes.\n",
      "INFO:root:(('127.0.0.1', 48497)) Evaluating...\n",
      "INFO:root:(('127.0.0.1', 52265)) Round 2 of 2 finished.\n",
      "INFO:root:(('127.0.0.1', 51551)) Training...\n",
      "INFO:root:(('127.0.0.1', 55927)) Round 2 of 2 finished.\n",
      "INFO:root:(('127.0.0.1', 48497)) Training...\n",
      "INFO:root:(('127.0.0.1', 52265)) Evaluating...\n",
      "INFO:root:(127.0.0.1:51551) Model added (1/2) from ('127.0.0.1', 51551)\n",
      "INFO:root:(('127.0.0.1', 55927)) Evaluating...\n",
      "INFO:root:(('127.0.0.1', 52265)) Finish!!.\n",
      "INFO:root:(127.0.0.1:48497) Model added (1/2) from ('127.0.0.1', 48497)\n",
      "INFO:root:(('127.0.0.1', 55927)) Finish!!.\n",
      "INFO:root:(('127.0.0.1', 51551)) Broadcasting model to 3 clients. (size: 548864 bytes)\n",
      "INFO:root:(('127.0.0.1', 48497)) Broadcasting model to 3 clients. (size: 548864 bytes)\n",
      "INFO:root:(('127.0.0.1', 48497)) Waiting other nodes.\n",
      "INFO:root:(('127.0.0.1', 48497)) Broadcasting model to 3 clients. (size: 548864 bytes)\n",
      "ERROR:root:(('127.0.0.1', 55927)) Tried to add a model while learning is not running\n",
      "INFO:root:(('127.0.0.1', 48497)) Waiting other nodes.\n",
      "ERROR:root:(('127.0.0.1', 52265)) Tried to add a model while learning is not running\n",
      "INFO:root:(('127.0.0.1', 48497)) Round 2 of 2 finished.\n",
      "INFO:root:(('127.0.0.1', 48497)) Evaluating...\n",
      "INFO:root:(('127.0.0.1', 48497)) Finish!!.\n",
      "INFO:root:(127.0.0.1:51551) Model added (2/2) from ('127.0.0.1', 48497)\n",
      "INFO:root:(127.0.0.1:51551) Agregating models.\n",
      "INFO:root:(('127.0.0.1', 51551)) Waiting other nodes.\n",
      "INFO:root:(('127.0.0.1', 51551)) Broadcasting model to 3 clients. (size: 548864 bytes)\n",
      "ERROR:root:(('127.0.0.1', 55927)) Tried to add a model while learning is not running\n",
      "INFO:root:(('127.0.0.1', 51551)) Waiting other nodes.\n",
      "ERROR:root:(('127.0.0.1', 52265)) Tried to add a model while learning is not running\n",
      "ERROR:root:(('127.0.0.1', 48497)) Tried to add a model while learning is not running\n",
      "INFO:root:(('127.0.0.1', 51551)) Round 2 of 2 finished.\n",
      "INFO:root:(('127.0.0.1', 51551)) Evaluating...\n",
      "INFO:root:(('127.0.0.1', 51551)) Finish!!.\n",
      "INFO:root:Bajando el nodo, dejando de escuchar en 127.0.0.1 55927 y desconectándose de 3 nodos\n",
      "INFO:root:Bajando el nodo, dejando de escuchar en 127.0.0.1 51551 y desconectándose de 3 nodos\n",
      "DEBUG:root:Closed connection: ('127.0.0.1', 55927)\n",
      "DEBUG:root:Closed connection: ('127.0.0.1', 55927)\n",
      "INFO:root:Bajando el nodo, dejando de escuchar en 127.0.0.1 48497 y desconectándose de 3 nodos\n",
      "DEBUG:root:Closed connection: ('127.0.0.1', 55927)\n",
      "DEBUG:root:Closed connection: ('127.0.0.1', 51551)\n"
     ]
    }
   ],
   "source": [
    "from p2pfl.learning.pytorch.mnist_examples.mnistfederated_dm import MnistFederatedDM\n",
    "from p2pfl.learning.pytorch.mnist_examples.models.cnn import CNN\n",
    "from p2pfl.learning.pytorch.mnist_examples.models.mlp import MLP\n",
    "from p2pfl.node import Node\n",
    "import pytest\n",
    "import time\n",
    "import threading\n",
    "\n",
    "nodes = []\n",
    "        \n",
    "def test_node_down_on_learning(n):\n",
    "\n",
    "    # Node Creation\n",
    "    nodes = []\n",
    "    for i in range(n):\n",
    "        node = Node(MLP(),MnistFederatedDM())\n",
    "        node.start()\n",
    "        nodes.append(node)\n",
    "\n",
    "    # Node Connection\n",
    "    for i in range(len(nodes)-1):\n",
    "        nodes[i+1].connect_to(nodes[i].host,nodes[i].port)\n",
    "        time.sleep(0.1)\n",
    "\n",
    "    # Check if they are connected\n",
    "    for node in nodes:\n",
    "        assert len(node.neightboors) == n-1\n",
    "\n",
    "    # Start Learning\n",
    "    nodes[0].set_start_learning(rounds=2,epochs=0)\n",
    "\n",
    "    # Stopping node\n",
    "    time.sleep(0.3)\n",
    "    print(\"STPIIIIIIIIIIIIIIIIIIIIIIIIIIIIIIIIIIIIIIIIIING\")\n",
    "    #nodes[1].stop()\n",
    "    # Wait 4 results\n",
    "    while True:\n",
    "        time.sleep(1)\n",
    "        finish = True\n",
    "        for f in [node.round is None for node in nodes]:\n",
    "            finish = finish and f\n",
    "\n",
    "        if finish:\n",
    "            break\n",
    "\n",
    "    for node in nodes:\n",
    "        node.stop()\n",
    "\n",
    "\n",
    "nodes = []\n",
    "for _ in range(6):\n",
    "    test_node_down_on_learning(4)\n",
    "    break\n"
   ]
  },
  {
   "cell_type": "code",
   "execution_count": 1,
   "id": "a3537319",
   "metadata": {},
   "outputs": [
    {
     "data": {
      "text/plain": [
       "True"
      ]
     },
     "execution_count": 1,
     "metadata": {},
     "output_type": "execute_result"
    }
   ],
   "source": [
    "('127.0.0.1', 50827) in [('127.0.0.1', 54975), ('127.0.0.1', 50827), ('127.0.0.1', 34699), ('127.0.0.1', 46939)]\n"
   ]
  },
  {
   "cell_type": "code",
   "execution_count": 1,
   "id": "d994a577",
   "metadata": {},
   "outputs": [
    {
     "data": {
      "text/plain": [
       "True"
      ]
     },
     "execution_count": 1,
     "metadata": {},
     "output_type": "execute_result"
    }
   ],
   "source": [
    "('127.0.0.1', 47735) in [('127.0.0.1', 47735), ('127.0.0.1', 41705), ('127.0.0.1', 53983), ('127.0.0.1', 52883)]"
   ]
  },
  {
   "cell_type": "code",
   "execution_count": 3,
   "id": "7483b920",
   "metadata": {},
   "outputs": [],
   "source": [
    "a = [('127.0.0.1', 51413), ('127.0.0.1', 50463), ('127.0.0.1', 49439), ('127.0.0.1', 55467)]"
   ]
  },
  {
   "cell_type": "code",
   "execution_count": 4,
   "id": "1834e75d",
   "metadata": {},
   "outputs": [
    {
     "data": {
      "text/plain": [
       "[\"('127.0.0.1', 51413)\",\n",
       " \"('127.0.0.1', 50463)\",\n",
       " \"('127.0.0.1', 49439)\",\n",
       " \"('127.0.0.1', 55467)\"]"
      ]
     },
     "execution_count": 4,
     "metadata": {},
     "output_type": "execute_result"
    }
   ],
   "source": [
    "[str(x) for x in a]"
   ]
  },
  {
   "cell_type": "code",
   "execution_count": null,
   "id": "23fab49d",
   "metadata": {},
   "outputs": [],
   "source": []
  }
 ],
 "metadata": {
  "kernelspec": {
   "display_name": "Python 3 (ipykernel)",
   "language": "python",
   "name": "python3"
  },
  "language_info": {
   "codemirror_mode": {
    "name": "ipython",
    "version": 3
   },
   "file_extension": ".py",
   "mimetype": "text/x-python",
   "name": "python",
   "nbconvert_exporter": "python",
   "pygments_lexer": "ipython3",
   "version": "3.9.2"
  }
 },
 "nbformat": 4,
 "nbformat_minor": 5
}

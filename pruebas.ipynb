{
 "cells": [
  {
   "cell_type": "code",
   "execution_count": 1,
   "id": "cfb3662e",
   "metadata": {},
   "outputs": [],
   "source": [
    "from p2pfl.node import Node"
   ]
  },
  {
   "cell_type": "code",
   "execution_count": 2,
   "id": "a692f2c3",
   "metadata": {
    "scrolled": false
   },
   "outputs": [
    {
     "name": "stdout",
     "output_type": "stream",
     "text": [
      "INFO:root:Nodo a la escucha en localhost 6128\n",
      "INFO:root:Nodo a la escucha en localhost 1111\n"
     ]
    }
   ],
   "source": [
    "n1 = Node(\"localhost\",6128)\n",
    "n2 = Node(\"localhost\",1111)\n",
    "n1.start()\n",
    "n2.start()"
   ]
  },
  {
   "cell_type": "code",
   "execution_count": 3,
   "id": "1f4e2684",
   "metadata": {
    "scrolled": false
   },
   "outputs": [
    {
     "name": "stdout",
     "output_type": "stream",
     "text": [
      "('localhost', 6128)('localhost', 6128)|hola||\n",
      "\n",
      "INFO:root:Conexión aceptada con 127.0.0.1:59008\n"
     ]
    }
   ],
   "source": [
    "n1h, n1p = n1.get_addr()\n",
    "n2.connect_to(n1h,n1p)"
   ]
  },
  {
   "cell_type": "code",
   "execution_count": 4,
   "id": "5a5f64b7",
   "metadata": {},
   "outputs": [
    {
     "name": "stdout",
     "output_type": "stream",
     "text": [
      "('127.0.0.1', 59008)\n",
      "('localhost', 6128)\n"
     ]
    }
   ],
   "source": [
    "for n in n1.neightboors:\n",
    "    print(n.get_addr())\n",
    "\n",
    "for n in n2.neightboors:\n",
    "    print(n.get_addr())\n",
    "    "
   ]
  },
  {
   "cell_type": "code",
   "execution_count": 7,
   "id": "7ad80c93",
   "metadata": {},
   "outputs": [],
   "source": [
    "n1.neightboors[0].stop()\n",
    "n2.neightboors[0].stop()"
   ]
  },
  {
   "cell_type": "code",
   "execution_count": 15,
   "id": "3117eb6f",
   "metadata": {},
   "outputs": [
    {
     "name": "stdout",
     "output_type": "stream",
     "text": [
      "<socket.socket fd=85, family=AddressFamily.AF_INET, type=SocketKind.SOCK_STREAM, proto=0, laddr=('127.0.0.1', 6128), raddr=('127.0.0.1', 59008)>\n",
      "<socket.socket [closed] fd=-1, family=AddressFamily.AF_INET, type=SocketKind.SOCK_STREAM, proto=0>\n"
     ]
    }
   ],
   "source": [
    "print(n1.neightboors[0].socket)\n",
    "print(n2.neightboors[0].socket)\n"
   ]
  },
  {
   "cell_type": "code",
   "execution_count": null,
   "id": "60efd3f3",
   "metadata": {},
   "outputs": [],
   "source": []
  },
  {
   "cell_type": "code",
   "execution_count": 7,
   "id": "af5f336b",
   "metadata": {},
   "outputs": [
    {
     "name": "stdout",
     "output_type": "stream",
     "text": [
      "se cierra en el send\n",
      "('localhost', 6661)|||\n",
      "INFO:root:Conexión rechazada con 127.0.0.1:57476\n",
      "se cierra en el send\n",
      "('localhost', 6662)|||\n",
      "INFO:root:Conexión rechazada con 127.0.0.1:57477\n",
      "nos vamos\n",
      "INFO:root:Dejando de escuchar en localhost 6661\n",
      "nos vamos\n",
      "INFO:root:Dejando de escuchar en localhost 6662\n"
     ]
    }
   ],
   "source": [
    "n1.stop()\n",
    "n2.stop()"
   ]
  },
  {
   "cell_type": "code",
   "execution_count": null,
   "id": "594818fe",
   "metadata": {},
   "outputs": [],
   "source": []
  }
 ],
 "metadata": {
  "kernelspec": {
   "display_name": "Python 3 (ipykernel)",
   "language": "python",
   "name": "python3"
  },
  "language_info": {
   "codemirror_mode": {
    "name": "ipython",
    "version": 3
   },
   "file_extension": ".py",
   "mimetype": "text/x-python",
   "name": "python",
   "nbconvert_exporter": "python",
   "pygments_lexer": "ipython3",
   "version": "3.9.10"
  }
 },
 "nbformat": 4,
 "nbformat_minor": 5
}

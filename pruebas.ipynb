{
 "cells": [
  {
   "cell_type": "code",
   "execution_count": null,
   "id": "de3333e5",
   "metadata": {
    "scrolled": true
   },
   "outputs": [
    {
     "name": "stdout",
     "output_type": "stream",
     "text": [
      "Train: 54000 Val:6000 Test:10000\n",
      "INFO:root:Nodo a la escucha en 127.0.0.1 51873\n",
      "Train: 54000 Val:6000 Test:10000\n",
      "INFO:root:Nodo a la escucha en 127.0.0.1 58203\n",
      "INFO:root:(('127.0.0.1', 51873)) Conexión aceptada con ('127.0.0.1', 58203)\n",
      "INFO:root:(('127.0.0.1', 51873)) Broadcasting start learning...\n",
      "INFO:root:(('127.0.0.1', 51873)) Sending Initial Model Weights\n",
      "INFO:root:(('127.0.0.1', 51873)) Broadcasting model to 1 clients. (size: 548864 bytes)\n",
      "INFO:root:(('127.0.0.1', 58203)) Broadcasting Number of Samples...\n",
      "INFO:root:(('127.0.0.1', 58203)) Initialicing Model Weights\n",
      "INFO:root:(('127.0.0.1', 58203)) Model initialized\n",
      "INFO:root:(('127.0.0.1', 51873)) Broadcasting Number of Samples...\n",
      "INFO:root:(('127.0.0.1', 51873)) Waiting other node votes.\n",
      "INFO:root:(('127.0.0.1', 58203)) Waiting other node votes.\n",
      "('127.0.0.1', 51873) Train set: {('127.0.0.1', 58203): 128, ('127.0.0.1', 51873): 94}\n",
      "('127.0.0.1', 58203) Train set: {('127.0.0.1', 58203): 128, ('127.0.0.1', 51873): 94}\n",
      "INFO:root:(('127.0.0.1', 51873)) Evaluating...\n"
     ]
    },
    {
     "name": "stderr",
     "output_type": "stream",
     "text": [
      "GPU available: False, used: False\n"
     ]
    },
    {
     "name": "stdout",
     "output_type": "stream",
     "text": [
      "INFO:root:(('127.0.0.1', 58203)) Evaluating...\n"
     ]
    },
    {
     "name": "stderr",
     "output_type": "stream",
     "text": [
      "GPU available: False, used: False\n",
      "TPU available: False, using: 0 TPU cores\n",
      "TPU available: False, using: 0 TPU cores\n",
      "IPU available: False, using: 0 IPUs\n",
      "IPU available: False, using: 0 IPUs\n",
      "HPU available: False, using: 0 HPUs\n",
      "HPU available: False, using: 0 HPUs\n"
     ]
    },
    {
     "data": {
      "application/vnd.jupyter.widget-view+json": {
       "model_id": "e6224782dc614f6b89d42aebc2b44f32",
       "version_major": 2,
       "version_minor": 0
      },
      "text/plain": [
       "Testing: 0it [00:00, ?it/s]"
      ]
     },
     "metadata": {},
     "output_type": "display_data"
    },
    {
     "data": {
      "application/vnd.jupyter.widget-view+json": {
       "model_id": "a82c5fa3631542c88a39cb7fb15af721",
       "version_major": 2,
       "version_minor": 0
      },
      "text/plain": [
       "Testing: 0it [00:00, ?it/s]"
      ]
     },
     "metadata": {},
     "output_type": "display_data"
    },
    {
     "name": "stderr",
     "output_type": "stream",
     "text": [
      "Exception in thread learning_thread-127.0.0.1:58203:\n",
      "Traceback (most recent call last):\n",
      "  File \"/usr/lib/python3.9/threading.py\", line 954, in _bootstrap_inner\n",
      "    self.run()\n",
      "  File \"/usr/lib/python3.9/threading.py\", line 892, in run\n",
      "    self._target(*self._args, **self._kwargs)\n",
      "  File \"/home/pedro/Documents/federated_learning_p2p/p2pfl/node.py\", line 247, in __start_learning\n",
      "    self.__train_step()\n",
      "  File \"/home/pedro/Documents/federated_learning_p2p/p2pfl/node.py\", line 352, in __train_step\n",
      "    self.__bc_metrics(self.__evaluate())\n",
      "  File \"/home/pedro/Documents/federated_learning_p2p/p2pfl/node.py\", line 379, in __evaluate\n",
      "    retults = self.learner.evaluate()\n",
      "  File \"/home/pedro/Documents/federated_learning_p2p/p2pfl/learning/pytorch/lightninglearner.py\", line 80, in evaluate\n",
      "    results = self.trainer.test(self.model, self.data, verbose=False)\n",
      "  File \"/home/pedro/.local/share/virtualenvs/federated_learning_p2p-ODhT9q3L/lib/python3.9/site-packages/pytorch_lightning/trainer/trainer.py\", line 938, in test\n",
      "    return self._call_and_handle_interrupt(self._test_impl, model, dataloaders, ckpt_path, verbose, datamodule)\n",
      "  File \"/home/pedro/.local/share/virtualenvs/federated_learning_p2p-ODhT9q3L/lib/python3.9/site-packages/pytorch_lightning/trainer/trainer.py\", line 723, in _call_and_handle_interrupt\n",
      "    return trainer_fn(*args, **kwargs)\n",
      "  File \"/home/pedro/.local/share/virtualenvs/federated_learning_p2p-ODhT9q3L/lib/python3.9/site-packages/pytorch_lightning/trainer/trainer.py\", line 985, in _test_impl\n",
      "    results = self._run(model, ckpt_path=self.ckpt_path)\n",
      "  File \"/home/pedro/.local/share/virtualenvs/federated_learning_p2p-ODhT9q3L/lib/python3.9/site-packages/pytorch_lightning/trainer/trainer.py\", line 1236, in _run\n",
      "    results = self._run_stage()\n",
      "  File \"/home/pedro/.local/share/virtualenvs/federated_learning_p2p-ODhT9q3L/lib/python3.9/site-packages/pytorch_lightning/trainer/trainer.py\", line 1320, in _run_stage\n",
      "    return self._run_evaluate()\n",
      "  File \"/home/pedro/.local/share/virtualenvs/federated_learning_p2p-ODhT9q3L/lib/python3.9/site-packages/pytorch_lightning/trainer/trainer.py\", line 1365, in _run_evaluate\n",
      "    eval_loop_results = self._evaluation_loop.run()\n",
      "  File \"/home/pedro/.local/share/virtualenvs/federated_learning_p2p-ODhT9q3L/lib/python3.9/site-packages/pytorch_lightning/loops/base.py\", line 204, in run\n",
      "    self.advance(*args, **kwargs)\n",
      "  File \"/home/pedro/.local/share/virtualenvs/federated_learning_p2p-ODhT9q3L/lib/python3.9/site-packages/pytorch_lightning/loops/dataloader/evaluation_loop.py\", line 154, in advance\n",
      "    dl_outputs = self.epoch_loop.run(self._data_fetcher, dl_max_batches, kwargs)\n",
      "  File \"/home/pedro/.local/share/virtualenvs/federated_learning_p2p-ODhT9q3L/lib/python3.9/site-packages/pytorch_lightning/loops/base.py\", line 199, in run\n",
      "    self.on_run_start(*args, **kwargs)\n",
      "  File \"/home/pedro/.local/share/virtualenvs/federated_learning_p2p-ODhT9q3L/lib/python3.9/site-packages/pytorch_lightning/loops/epoch/evaluation_epoch_loop.py\", line 88, in on_run_start\n",
      "    self._data_fetcher = iter(data_fetcher)\n",
      "  File \"/home/pedro/.local/share/virtualenvs/federated_learning_p2p-ODhT9q3L/lib/python3.9/site-packages/pytorch_lightning/utilities/fetching.py\", line 178, in __iter__\n",
      "    self.dataloader_iter = iter(self.dataloader)\n",
      "  File \"/home/pedro/.local/share/virtualenvs/federated_learning_p2p-ODhT9q3L/lib/python3.9/site-packages/torch/utils/data/dataloader.py\", line 368, in __iter__\n",
      "    return self._get_iterator()\n",
      "  File \"/home/pedro/.local/share/virtualenvs/federated_learning_p2p-ODhT9q3L/lib/python3.9/site-packages/torch/utils/data/dataloader.py\", line 314, in _get_iterator\n",
      "    return _MultiProcessingDataLoaderIter(self)\n",
      "  File \"/home/pedro/.local/share/virtualenvs/federated_learning_p2p-ODhT9q3L/lib/python3.9/site-packages/torch/utils/data/dataloader.py\", line 927, in __init__\n",
      "    w.start()\n",
      "  File \"/usr/lib/python3.9/multiprocessing/process.py\", line 121, in start\n",
      "    self._popen = self._Popen(self)\n",
      "  File \"/usr/lib/python3.9/multiprocessing/context.py\", line 224, in _Popen\n",
      "    return _default_context.get_context().Process._Popen(process_obj)\n",
      "  File \"/usr/lib/python3.9/multiprocessing/context.py\", line 276, in _Popen\n",
      "    from .popen_fork import Popen\n",
      "ImportError: cannot import name 'Popen' from partially initialized module 'multiprocessing.popen_fork' (most likely due to a circular import) (/usr/lib/python3.9/multiprocessing/popen_fork.py)\n",
      "    retults = self.learner.evaluate()\n",
      "  File \"/home/pedro/Documents/federated_learning_p2p/p2pfl/learning/pytorch/lightninglearner.py\", line 80, in evaluate\n",
      "    results = self.trainer.test(self.model, self.data, verbose=False)\n",
      "  File \"/home/pedro/.local/share/virtualenvs/federated_learning_p2p-ODhT9q3L/lib/python3.9/site-packages/pytorch_lightning/trainer/trainer.py\", line 938, in test\n"
     ]
    },
    {
     "name": "stdout",
     "output_type": "stream",
     "text": [
      "INFO:root:(('127.0.0.1', 51873)) Evaluated. Losss: 2.301456928253174, Metric: 0.11810000240802765. (Check tensorboard for more info)\n",
      "INFO:root:(('127.0.0.1', 51873)) Broadcasting metrics to 1 clients.\n",
      "INFO:root:(('127.0.0.1', 51873)) Training...\n"
     ]
    },
    {
     "name": "stderr",
     "output_type": "stream",
     "text": [
      "GPU available: False, used: False\n",
      "TPU available: False, using: 0 TPU cores\n",
      "IPU available: False, using: 0 IPUs\n",
      "HPU available: False, using: 0 HPUs\n"
     ]
    },
    {
     "data": {
      "application/vnd.jupyter.widget-view+json": {
       "model_id": "",
       "version_major": 2,
       "version_minor": 0
      },
      "text/plain": [
       "Sanity Checking: 0it [00:00, ?it/s]"
      ]
     },
     "metadata": {},
     "output_type": "display_data"
    },
    {
     "data": {
      "application/vnd.jupyter.widget-view+json": {
       "model_id": "0ac2e2c46ee74e7dacc60b019f9c57d2",
       "version_major": 2,
       "version_minor": 0
      },
      "text/plain": [
       "Training: 0it [00:00, ?it/s]"
      ]
     },
     "metadata": {},
     "output_type": "display_data"
    },
    {
     "data": {
      "application/vnd.jupyter.widget-view+json": {
       "model_id": "",
       "version_major": 2,
       "version_minor": 0
      },
      "text/plain": [
       "Validation: 0it [00:00, ?it/s]"
      ]
     },
     "metadata": {},
     "output_type": "display_data"
    },
    {
     "name": "stdout",
     "output_type": "stream",
     "text": [
      "INFO:root:(127.0.0.1:51873) Model added (1/2) from ('127.0.0.1', 51873)\n",
      "INFO:root:(('127.0.0.1', 51873)) Broadcasting model to 1 clients. (size: 548864 bytes)\n",
      "INFO:root:(127.0.0.1:58203) Model added (1/2) from ('127.0.0.1', 51873)\n",
      "INFO:root:(127.0.0.1:51873) Agregating models. Timeout reached\n",
      "INFO:root:(('127.0.0.1', 51873)) Waiting other nodes.\n",
      "INFO:root:(127.0.0.1:58203) Agregating models. Timeout reached\n"
     ]
    }
   ],
   "source": [
    "from p2pfl.node import Node\n",
    "from p2pfl.learning.pytorch.mnist_examples.mnistfederated_dm import MnistFederatedDM\n",
    "from p2pfl.learning.pytorch.mnist_examples.models.mlp import MLP\n",
    "from collections import OrderedDict\n",
    "import torch\n",
    "import time\n",
    "\n",
    "\n",
    "def test_convergence(x):\n",
    "    n,r = x\n",
    "\n",
    "    nodes = []\n",
    "    \n",
    "    for i in range(n):\n",
    "        node = Node(MLP(),MnistFederatedDM())\n",
    "        node.start()\n",
    "        nodes.append(node)\n",
    "\n",
    "    # Node Connection\n",
    "    for i in range(len(nodes)-1):\n",
    "        nodes[i+1].connect_to(nodes[i].host,nodes[i].port)\n",
    "        time.sleep(0.1)\n",
    "\n",
    "    # Check if they are connected\n",
    "    for node in nodes:\n",
    "        assert len(node.neightboors) == n-1\n",
    "\n",
    "    # Start Learning\n",
    "    nodes[0].set_start_learning(rounds=r,epochs=1)\n",
    "\n",
    "    # Wait 4 results\n",
    "    while True:\n",
    "        time.sleep(1)\n",
    "        finish = True\n",
    "        for f in [node.round is None for node in nodes]:\n",
    "            finish = finish and f\n",
    "\n",
    "        if finish:\n",
    "            break\n",
    "\n",
    "\n",
    "    # Validamos Modelos obtenidos sean iguales\n",
    "    model = None\n",
    "    first = True\n",
    "    for node in nodes:\n",
    "        if first:\n",
    "            model = node.learner.get_parameters()\n",
    "            first = False\n",
    "        else:\n",
    "            for layer in model:\n",
    "                a = torch.round(model[layer], decimals=2)\n",
    "                b = torch.round(node.learner.get_parameters()[layer], decimals=2)\n",
    "                assert torch.eq(a, b).all()\n",
    "\n",
    "    # Cerrar\n",
    "    for node in nodes:\n",
    "        node.stop()\n",
    "        time.sleep(.1) #Esperar por la asincronía\n",
    "    \n",
    "    return nodes\n",
    "        \n",
    "nodes = test_convergence((2,2))"
   ]
  },
  {
   "cell_type": "code",
   "execution_count": null,
   "id": "034fde84",
   "metadata": {
    "scrolled": true
   },
   "outputs": [
    {
     "name": "stdout",
     "output_type": "stream",
     "text": [
      "Train: 54000 Val:6000 Test:10000\n",
      "INFO:root:Nodo a la escucha en 127.0.0.1 45675\n",
      "Train: 54000 Val:6000 Test:10000\n",
      "INFO:root:Nodo a la escucha en 127.0.0.1 57089\n",
      "Train: 54000 Val:6000 Test:10000\n",
      "INFO:root:Nodo a la escucha en 127.0.0.1 52805\n",
      "Train: 54000 Val:6000 Test:10000\n",
      "INFO:root:Nodo a la escucha en 127.0.0.1 46139\n",
      "INFO:root:(('127.0.0.1', 45675)) Conexión aceptada con ('127.0.0.1', 57089)\n",
      "INFO:root:(('127.0.0.1', 57089)) Conexión aceptada con ('127.0.0.1', 52805)\n",
      "INFO:root:(('127.0.0.1', 52805)) Conexión aceptada con ('127.0.0.1', 45675)\n",
      "INFO:root:(('127.0.0.1', 52805)) Conexión aceptada con ('127.0.0.1', 46139)\n",
      "INFO:root:(('127.0.0.1', 46139)) Conexión aceptada con ('127.0.0.1', 57089)\n",
      "INFO:root:(('127.0.0.1', 46139)) Conexión aceptada con ('127.0.0.1', 45675)\n",
      "INFO:root:(('127.0.0.1', 45675)) Broadcasting start learning...\n",
      "INFO:root:(('127.0.0.1', 45675)) Sending Initial Model Weights\n",
      "INFO:root:(('127.0.0.1', 45675)) Broadcasting model to 3 clients. (size: 548864 bytes)\n",
      "INFO:root:(('127.0.0.1', 46139)) Broadcasting Number of Samples...\n",
      "INFO:root:(('127.0.0.1', 57089)) Broadcasting Number of Samples...\n",
      "INFO:root:(('127.0.0.1', 52805)) Broadcasting Number of Samples...\n",
      "INFO:root:(('127.0.0.1', 46139)) Initialicing Model Weights\n",
      "INFO:root:(('127.0.0.1', 57089)) Initialicing Model Weights\n",
      "INFO:root:(('127.0.0.1', 52805)) Initialicing Model Weights\n",
      "INFO:root:(('127.0.0.1', 57089)) Model initialized\n",
      "INFO:root:(('127.0.0.1', 52805)) Model initialized\n",
      "INFO:root:(('127.0.0.1', 46139)) Model initialized\n",
      "INFO:root:(('127.0.0.1', 57089)) Stopping learning\n",
      "INFO:root:(('127.0.0.1', 45675)) Broadcasting Number of Samples...\n",
      "INFO:root:Bajando el nodo, dejando de escuchar en 127.0.0.1 57089 y desconectándose de 3 nodos\n",
      "DEBUG:root:Closed connection: ('127.0.0.1', 45675)\n",
      "INFO:root:(('127.0.0.1', 45675)) Waiting other node votes.\n",
      "DEBUG:root:Closed connection: ('127.0.0.1', 57089)\n",
      "DEBUG:root:Closed connection: ('127.0.0.1', 57089)\n",
      "DEBUG:root:Closed connection: ('127.0.0.1', 57089)\n",
      "DEBUG:root:Closed connection: ('127.0.0.1', 52805)\n",
      "DEBUG:root:Closed connection: ('127.0.0.1', 46139)\n",
      "INFO:root:(('127.0.0.1', 46139)) Waiting other node votes.\n",
      "INFO:root:(('127.0.0.1', 52805)) Waiting other node votes.\n",
      "('127.0.0.1', 45675) Train set: {('127.0.0.1', 45675): 485, ('127.0.0.1', 52805): 230, ('127.0.0.1', 46139): 171}\n",
      "('127.0.0.1', 46139) Train set: {('127.0.0.1', 45675): 485, ('127.0.0.1', 52805): 230, ('127.0.0.1', 46139): 171}\n",
      "('127.0.0.1', 52805) Train set: {('127.0.0.1', 45675): 485, ('127.0.0.1', 52805): 230, ('127.0.0.1', 46139): 171}\n",
      "INFO:root:(('127.0.0.1', 45675)) Evaluating...\n"
     ]
    },
    {
     "name": "stderr",
     "output_type": "stream",
     "text": [
      "GPU available: False, used: False\n"
     ]
    },
    {
     "name": "stdout",
     "output_type": "stream",
     "text": [
      "INFO:root:(('127.0.0.1', 46139)) Evaluating...\n"
     ]
    },
    {
     "name": "stderr",
     "output_type": "stream",
     "text": [
      "TPU available: False, using: 0 TPU cores\n",
      "GPU available: False, used: False\n"
     ]
    },
    {
     "name": "stdout",
     "output_type": "stream",
     "text": [
      "INFO:root:(('127.0.0.1', 52805)) Evaluating...\n"
     ]
    },
    {
     "name": "stderr",
     "output_type": "stream",
     "text": [
      "IPU available: False, using: 0 IPUs\n",
      "TPU available: False, using: 0 TPU cores\n",
      "GPU available: False, used: False\n",
      "HPU available: False, using: 0 HPUs\n",
      "IPU available: False, using: 0 IPUs\n",
      "TPU available: False, using: 0 TPU cores\n",
      "HPU available: False, using: 0 HPUs\n",
      "IPU available: False, using: 0 IPUs\n",
      "HPU available: False, using: 0 HPUs\n"
     ]
    },
    {
     "data": {
      "application/vnd.jupyter.widget-view+json": {
       "model_id": "8347a4ab18f148a0a4fec921a795123c",
       "version_major": 2,
       "version_minor": 0
      },
      "text/plain": [
       "Testing: 0it [00:00, ?it/s]"
      ]
     },
     "metadata": {},
     "output_type": "display_data"
    },
    {
     "data": {
      "application/vnd.jupyter.widget-view+json": {
       "model_id": "8bf6e4dc1c464622873732113a4027f0",
       "version_major": 2,
       "version_minor": 0
      },
      "text/plain": [
       "Testing: 0it [00:00, ?it/s]"
      ]
     },
     "metadata": {},
     "output_type": "display_data"
    },
    {
     "name": "stderr",
     "output_type": "stream",
     "text": [
      "Exception in thread learning_thread-127.0.0.1:46139:\n",
      "Traceback (most recent call last):\n",
      "  File \"/usr/lib/python3.9/threading.py\", line 954, in _bootstrap_inner\n",
      "    self.run()\n",
      "  File \"/usr/lib/python3.9/threading.py\", line 892, in run\n",
      "    self._target(*self._args, **self._kwargs)\n",
      "  File \"/home/pedro/Documents/federated_learning_p2p/p2pfl/node.py\", line 246, in __start_learning\n",
      "    self.__train_step()\n",
      "  File \"/home/pedro/Documents/federated_learning_p2p/p2pfl/node.py\", line 351, in __train_step\n",
      "    self.__bc_metrics(self.__evaluate())\n",
      "  File \"/home/pedro/Documents/federated_learning_p2p/p2pfl/node.py\", line 378, in __evaluate\n"
     ]
    },
    {
     "data": {
      "application/vnd.jupyter.widget-view+json": {
       "model_id": "ddae033abf5e43029493a792b8163489",
       "version_major": 2,
       "version_minor": 0
      },
      "text/plain": [
       "Testing: 0it [00:00, ?it/s]"
      ]
     },
     "metadata": {},
     "output_type": "display_data"
    },
    {
     "name": "stderr",
     "output_type": "stream",
     "text": [
      "    retults = self.learner.evaluate()\n",
      "  File \"/home/pedro/Documents/federated_learning_p2p/p2pfl/learning/pytorch/lightninglearner.py\", line 80, in evaluate\n",
      "    results = self.trainer.test(self.model, self.data, verbose=False)\n",
      "  File \"/home/pedro/.local/share/virtualenvs/federated_learning_p2p-ODhT9q3L/lib/python3.9/site-packages/pytorch_lightning/trainer/trainer.py\", line 938, in test\n",
      "    return self._call_and_handle_interrupt(self._test_impl, model, dataloaders, ckpt_path, verbose, datamodule)\n",
      "  File \"/home/pedro/.local/share/virtualenvs/federated_learning_p2p-ODhT9q3L/lib/python3.9/site-packages/pytorch_lightning/trainer/trainer.py\", line 723, in _call_and_handle_interrupt\n",
      "    return trainer_fn(*args, **kwargs)\n",
      "  File \"/home/pedro/.local/share/virtualenvs/federated_learning_p2p-ODhT9q3L/lib/python3.9/site-packages/pytorch_lightning/trainer/trainer.py\", line 985, in _test_impl\n",
      "    results = self._run(model, ckpt_path=self.ckpt_path)\n",
      "  File \"/home/pedro/.local/share/virtualenvs/federated_learning_p2p-ODhT9q3L/lib/python3.9/site-packages/pytorch_lightning/trainer/trainer.py\", line 1236, in _run\n",
      "    results = self._run_stage()\n",
      "  File \"/home/pedro/.local/share/virtualenvs/federated_learning_p2p-ODhT9q3L/lib/python3.9/site-packages/pytorch_lightning/trainer/trainer.py\", line 1320, in _run_stage\n",
      "    return self._run_evaluate()\n",
      "  File \"/home/pedro/.local/share/virtualenvs/federated_learning_p2p-ODhT9q3L/lib/python3.9/site-packages/pytorch_lightning/trainer/trainer.py\", line 1365, in _run_evaluate\n",
      "    eval_loop_results = self._evaluation_loop.run()\n",
      "  File \"/home/pedro/.local/share/virtualenvs/federated_learning_p2p-ODhT9q3L/lib/python3.9/site-packages/pytorch_lightning/loops/base.py\", line 204, in run\n",
      "    self.advance(*args, **kwargs)\n",
      "  File \"/home/pedro/.local/share/virtualenvs/federated_learning_p2p-ODhT9q3L/lib/python3.9/site-packages/pytorch_lightning/loops/dataloader/evaluation_loop.py\", line 154, in advance\n",
      "    dl_outputs = self.epoch_loop.run(self._data_fetcher, dl_max_batches, kwargs)\n",
      "  File \"/home/pedro/.local/share/virtualenvs/federated_learning_p2p-ODhT9q3L/lib/python3.9/site-packages/pytorch_lightning/loops/base.py\", line 199, in run\n",
      "    self.on_run_start(*args, **kwargs)\n",
      "  File \"/home/pedro/.local/share/virtualenvs/federated_learning_p2p-ODhT9q3L/lib/python3.9/site-packages/pytorch_lightning/loops/epoch/evaluation_epoch_loop.py\", line 88, in on_run_start\n",
      "    self._data_fetcher = iter(data_fetcher)\n",
      "  File \"/home/pedro/.local/share/virtualenvs/federated_learning_p2p-ODhT9q3L/lib/python3.9/site-packages/pytorch_lightning/utilities/fetching.py\", line 178, in __iter__\n",
      "    self.dataloader_iter = iter(self.dataloader)\n",
      "  File \"/home/pedro/.local/share/virtualenvs/federated_learning_p2p-ODhT9q3L/lib/python3.9/site-packages/torch/utils/data/dataloader.py\", line 368, in __iter__\n",
      "    return self._get_iterator()\n",
      "  File \"/home/pedro/.local/share/virtualenvs/federated_learning_p2p-ODhT9q3L/lib/python3.9/site-packages/torch/utils/data/dataloader.py\", line 314, in _get_iterator\n",
      "    return _MultiProcessingDataLoaderIter(self)\n",
      "  File \"/home/pedro/.local/share/virtualenvs/federated_learning_p2p-ODhT9q3L/lib/python3.9/site-packages/torch/utils/data/dataloader.py\", line 927, in __init__\n",
      "    w.start()\n",
      "  File \"/usr/lib/python3.9/multiprocessing/process.py\", line 121, in start\n",
      "    self._popen = self._Popen(self)\n",
      "  File \"/usr/lib/python3.9/multiprocessing/context.py\", line 224, in _Popen\n",
      "    return _default_context.get_context().Process._Popen(process_obj)\n",
      "  File \"/usr/lib/python3.9/multiprocessing/context.py\", line 276, in _Popen\n",
      "    from .popen_fork import Popen\n",
      "ImportError: cannot import name 'Popen' from partially initialized module 'multiprocessing.popen_fork' (most likely due to a circular import) (/usr/lib/python3.9/multiprocessing/popen_fork.py)\n"
     ]
    },
    {
     "name": "stdout",
     "output_type": "stream",
     "text": [
      "INFO:root:(('127.0.0.1', 52805)) Evaluated. Losss: 2.301456928253174, Metric: 0.11810000240802765. (Check tensorboard for more info)\n",
      "INFO:root:(('127.0.0.1', 52805)) Broadcasting metrics to 2 clients.\n",
      "INFO:root:(('127.0.0.1', 52805)) Training...\n",
      "INFO:root:(127.0.0.1:52805) Model added (1/3) from ('127.0.0.1', 52805)\n",
      "INFO:root:(('127.0.0.1', 52805)) Broadcasting model to 2 clients. (size: 548864 bytes)\n",
      "INFO:root:(127.0.0.1:45675) Model added (1/3) from ('127.0.0.1', 52805)\n",
      "INFO:root:(127.0.0.1:46139) Model added (1/3) from ('127.0.0.1', 52805)\n",
      "INFO:root:(('127.0.0.1', 45675)) Evaluated. Losss: 2.301456928253174, Metric: 0.11810000240802765. (Check tensorboard for more info)\n",
      "INFO:root:(('127.0.0.1', 45675)) Broadcasting metrics to 2 clients.\n",
      "INFO:root:(('127.0.0.1', 45675)) Training...\n",
      "INFO:root:(127.0.0.1:45675) Model added (2/3) from ('127.0.0.1', 45675)\n",
      "INFO:root:(('127.0.0.1', 45675)) Broadcasting model to 2 clients. (size: 548864 bytes)\n",
      "INFO:root:(127.0.0.1:46139) Model added (2/3) from ('127.0.0.1', 45675)\n",
      "INFO:root:(127.0.0.1:52805) Model added (2/3) from ('127.0.0.1', 45675)\n",
      "INFO:root:(127.0.0.1:52805) Agregating models. Timeout reached\n",
      "INFO:root:(('127.0.0.1', 52805)) Waiting other nodes.\n",
      "INFO:root:(127.0.0.1:45675) Agregating models. Timeout reached\n",
      "INFO:root:(('127.0.0.1', 45675)) Waiting other nodes.\n",
      "INFO:root:(127.0.0.1:46139) Agregating models. Timeout reached\n"
     ]
    }
   ],
   "source": [
    "from p2pfl.learning.pytorch.mnist_examples.mnistfederated_dm import MnistFederatedDM\n",
    "from p2pfl.learning.pytorch.mnist_examples.models.cnn import CNN\n",
    "from p2pfl.learning.pytorch.mnist_examples.models.mlp import MLP\n",
    "from p2pfl.node import Node\n",
    "import pytest\n",
    "import time\n",
    "import threading\n",
    "\n",
    "nodes = []\n",
    "        \n",
    "def test_node_down_on_learning(n):\n",
    "\n",
    "    # Node Creation\n",
    "    nodes = []\n",
    "    for i in range(n):\n",
    "        node = Node(MLP(),MnistFederatedDM())\n",
    "        node.start()\n",
    "        nodes.append(node)\n",
    "\n",
    "    # Node Connection\n",
    "    for i in range(len(nodes)-1):\n",
    "        nodes[i+1].connect_to(nodes[i].host,nodes[i].port)\n",
    "        time.sleep(1)\n",
    "\n",
    "    # Check if they are connected\n",
    "    for node in nodes:\n",
    "        assert len(node.neightboors) == n-1\n",
    "\n",
    "    # Start Learning\n",
    "    nodes[0].set_start_learning(rounds=2,epochs=0)\n",
    "\n",
    "    # Stopping node\n",
    "    nodes[1].stop()\n",
    "    # Wait 4 results\n",
    "    while True:\n",
    "        time.sleep(1)\n",
    "        finish = True\n",
    "        for f in [node.round is None for node in nodes]:\n",
    "            finish = finish and f\n",
    "\n",
    "        if finish:\n",
    "            break\n",
    "\n",
    "    for node in nodes:\n",
    "        node.stop()\n",
    "\n",
    "\n",
    "nodes = []\n",
    "for _ in range(6):\n",
    "    test_node_down_on_learning(4)\n"
   ]
  },
  {
   "cell_type": "code",
   "execution_count": 2,
   "id": "86d86781",
   "metadata": {
    "scrolled": true
   },
   "outputs": [
    {
     "name": "stdout",
     "output_type": "stream",
     "text": [
      "MainThread\n",
      "IOPub\n",
      "Heartbeat\n",
      "Thread-3\n",
      "Thread-4\n",
      "Control\n",
      "IPythonHistorySavingThread\n",
      "Thread-2\n"
     ]
    }
   ],
   "source": [
    "#import threading\n",
    "for thread in threading.enumerate(): \n",
    "    print(thread.name)"
   ]
  },
  {
   "cell_type": "code",
   "execution_count": 6,
   "id": "445e009c",
   "metadata": {},
   "outputs": [
    {
     "data": {
      "text/plain": [
       "('/Users/pedro/Documents/UDC/4/TFG/federated_learning_p2p/p2pfl/node.py',\n",
       " '__on_round_finished',\n",
       " 260)"
      ]
     },
     "execution_count": 6,
     "metadata": {},
     "output_type": "execute_result"
    }
   ],
   "source": [
    "import sys\n",
    "\n",
    "def get_thread_position(thread):\n",
    "    frame = sys._current_frames().get(thread.ident, None)\n",
    "    if frame:\n",
    "        return frame.f_code.co_filename, frame.f_code.co_name, frame.f_code.co_firstlineno\n",
    "\n",
    "get_thread_position(threading.enumerate()[-1])"
   ]
  },
  {
   "cell_type": "code",
   "execution_count": 1,
   "id": "4471063f",
   "metadata": {
    "scrolled": true
   },
   "outputs": [
    {
     "ename": "ModuleNotFoundError",
     "evalue": "No module named 'p2pfl.const'",
     "output_type": "error",
     "traceback": [
      "\u001b[0;31m---------------------------------------------------------------------------\u001b[0m",
      "\u001b[0;31mModuleNotFoundError\u001b[0m                       Traceback (most recent call last)",
      "Input \u001b[0;32mIn [1]\u001b[0m, in \u001b[0;36m<cell line: 1>\u001b[0;34m()\u001b[0m\n\u001b[0;32m----> 1\u001b[0m \u001b[38;5;28;01mfrom\u001b[39;00m \u001b[38;5;21;01mp2pfl\u001b[39;00m\u001b[38;5;21;01m.\u001b[39;00m\u001b[38;5;21;01mconst\u001b[39;00m \u001b[38;5;28;01mimport\u001b[39;00m HEARTBEAT_FREC, SOCKET_TIEMOUT\n\u001b[1;32m      2\u001b[0m \u001b[38;5;28;01mfrom\u001b[39;00m \u001b[38;5;21;01mp2pfl\u001b[39;00m\u001b[38;5;21;01m.\u001b[39;00m\u001b[38;5;21;01mlearning\u001b[39;00m\u001b[38;5;21;01m.\u001b[39;00m\u001b[38;5;21;01mpytorch\u001b[39;00m\u001b[38;5;21;01m.\u001b[39;00m\u001b[38;5;21;01mmnist_examples\u001b[39;00m\u001b[38;5;21;01m.\u001b[39;00m\u001b[38;5;21;01mmnistfederated_dm\u001b[39;00m \u001b[38;5;28;01mimport\u001b[39;00m MnistFederatedDM\n\u001b[1;32m      3\u001b[0m \u001b[38;5;28;01mfrom\u001b[39;00m \u001b[38;5;21;01mp2pfl\u001b[39;00m\u001b[38;5;21;01m.\u001b[39;00m\u001b[38;5;21;01mlearning\u001b[39;00m\u001b[38;5;21;01m.\u001b[39;00m\u001b[38;5;21;01mpytorch\u001b[39;00m\u001b[38;5;21;01m.\u001b[39;00m\u001b[38;5;21;01mmnist_examples\u001b[39;00m\u001b[38;5;21;01m.\u001b[39;00m\u001b[38;5;21;01mmodels\u001b[39;00m\u001b[38;5;21;01m.\u001b[39;00m\u001b[38;5;21;01mcnn\u001b[39;00m \u001b[38;5;28;01mimport\u001b[39;00m CNN\n",
      "\u001b[0;31mModuleNotFoundError\u001b[0m: No module named 'p2pfl.const'"
     ]
    }
   ],
   "source": [
    "TAIN_SET_NUM_NODESfrom p2pfl.const import HEARTBEAT_FREC, SOCKET_TIEMOUT\n",
    "from p2pfl.learning.pytorch.mnist_examples.mnistfederated_dm import MnistFederatedDM\n",
    "from p2pfl.learning.pytorch.mnist_examples.models.cnn import CNN\n",
    "from p2pfl.learning.pytorch.mnist_examples.models.mlp import MLP\n",
    "from p2pfl.node import Node\n",
    "import pytest\n",
    "import time\n",
    "from test.fixtures import two_nodes, four_nodes\n",
    "\n",
    "\n",
    "import threading\n",
    "for thread in threading.enumerate(): \n",
    "    print(thread.name)\n",
    "    \n",
    "n1 = Node(MLP(),MnistFederatedDM())\n",
    "n2 = Node(MLP(),MnistFederatedDM())\n",
    "print(\"\\n\")\n",
    "def test_bad_binary_model():\n",
    "\n",
    "    n1.start()\n",
    "    n2.start()\n",
    "\n",
    "    n1.connect_to(n2.host,n2.port)\n",
    "    time.sleep(0.1) \n",
    "\n",
    "    # Start Learning\n",
    "    n1.set_start_learning(rounds=2,epochs=0)\n",
    " \n",
    "    # Adding noise to the buffer\n",
    "    for _ in range(200):self.neightboors\n",
    "        n1.neightboors[0].param_bufffer += \"noise\".encode(\"utf-8\")\n",
    "    \n",
    "    while not n1.round is None and not n2.round is None:\n",
    "        time.sleep(0.1)\n",
    "        \n",
    "    n1.stop()\n",
    "    n2.stop()\n",
    "    \n",
    "test_bad_binary_model()\n",
    "\n",
    "time.sleep(10)\n",
    "\n",
    "for thread in threading.enumerate(): \n",
    "    print(thread.name)\n",
    "    \n",
    "print(\"\\n\")\n",
    "\n"
   ]
  },
  {
   "cell_type": "code",
   "execution_count": 4,
   "id": "b7fe91dc",
   "metadata": {},
   "outputs": [
    {
     "name": "stdout",
     "output_type": "stream",
     "text": [
      "MainThread\n",
      "IOPub\n",
      "Heartbeat\n",
      "Thread-3\n",
      "Thread-4\n",
      "Control\n",
      "IPythonHistorySavingThread\n",
      "Thread-2\n"
     ]
    }
   ],
   "source": [
    "\n",
    "for thread in threading.enumerate(): \n",
    "    print(thread.name)\n",
    "    "
   ]
  },
  {
   "cell_type": "code",
   "execution_count": 6,
   "id": "aec30564",
   "metadata": {},
   "outputs": [
    {
     "name": "stdout",
     "output_type": "stream",
     "text": [
      "None\n"
     ]
    }
   ],
   "source": [
    "print(n1.round)"
   ]
  },
  {
   "cell_type": "code",
   "execution_count": 4,
   "id": "3bc69eb3",
   "metadata": {},
   "outputs": [],
   "source": [
    "from p2pfl.settings import Settings\n",
    "\n",
    "Settings.AGREGATION_TIEMOUT = 1"
   ]
  },
  {
   "cell_type": "code",
   "execution_count": 5,
   "id": "ccd4109a",
   "metadata": {},
   "outputs": [
    {
     "data": {
      "text/plain": [
       "False"
      ]
     },
     "execution_count": 5,
     "metadata": {},
     "output_type": "execute_result"
    }
   ],
   "source": [
    "\"0.1545318067073822\".isdecimal()"
   ]
  },
  {
   "cell_type": "code",
   "execution_count": 4,
   "id": "6cfda0c3",
   "metadata": {},
   "outputs": [
    {
     "name": "stdout",
     "output_type": "stream",
     "text": [
      "0 2.301456928253174 0.13700607419013977\n"
     ]
    }
   ],
   "source": [
    "message = ['METRICS', '0', '2.301456928253174', '0.13700607419013977']\n",
    "print(int(message[1]), float(message[2]), float(message[3]))"
   ]
  },
  {
   "cell_type": "code",
   "execution_count": 11,
   "id": "98edc3c4",
   "metadata": {},
   "outputs": [
    {
     "data": {
      "text/plain": [
       "[5, 8, 2]"
      ]
     },
     "execution_count": 11,
     "metadata": {},
     "output_type": "execute_result"
    }
   ],
   "source": [
    "import random\n",
    "import math\n",
    "a = [1,2,3,4,5,6,7,8,9,10]\n",
    "\n",
    "random.choices(a, k=3)"
   ]
  },
  {
   "cell_type": "code",
   "execution_count": 13,
   "id": "c840caba",
   "metadata": {},
   "outputs": [
    {
     "data": {
      "text/plain": [
       "[300, 298, 15]"
      ]
     },
     "execution_count": 13,
     "metadata": {},
     "output_type": "execute_result"
    }
   ],
   "source": [
    "[random.randint(0,1000),math.floor(random.randint(0,1000)/2),math.floor(random.randint(0,1000)/4)]"
   ]
  },
  {
   "cell_type": "code",
   "execution_count": 15,
   "id": "3f54ae0e",
   "metadata": {},
   "outputs": [
    {
     "data": {
      "text/plain": [
       "'12'"
      ]
     },
     "execution_count": 15,
     "metadata": {},
     "output_type": "execute_result"
    }
   ],
   "source": [
    "\"\".join((\"1\",\"2\"))"
   ]
  },
  {
   "cell_type": "code",
   "execution_count": 20,
   "id": "77d5a203",
   "metadata": {},
   "outputs": [
    {
     "data": {
      "text/plain": [
       "b'CommunicationProtocol.VOTE_TRAIN_SET host port 443 host port 194 host port 245\\n'"
      ]
     },
     "execution_count": 20,
     "metadata": {},
     "output_type": "execute_result"
    }
   ],
   "source": [
    "def build_vote_train_set_msg(candidates, weights):\n",
    "    aux = \"\"\n",
    "    for i in range(len(candidates)):\n",
    "        aux = aux + \" \" + \" \".join(candidates[i]) + \" \" + str(weights[i])\n",
    "    return (\"CommunicationProtocol.VOTE_TRAIN_SET\" + aux + \"\\n\").encode(\"utf-8\")\n",
    "\n",
    "candidates = [(\"host\",\"port\"),(\"host\",\"port\"),(\"host\",\"port\")]\n",
    "weights = [random.randint(0,1000),math.floor(random.randint(0,1000)/2),math.floor(random.randint(0,1000)/4)]\n",
    "\n",
    "build_vote_train_set_msg(candidates,weights)"
   ]
  },
  {
   "cell_type": "code",
   "execution_count": 2,
   "id": "0fe998c1",
   "metadata": {},
   "outputs": [
    {
     "data": {
      "text/plain": [
       "['1', '2']"
      ]
     },
     "execution_count": 2,
     "metadata": {},
     "output_type": "execute_result"
    }
   ],
   "source": [
    "[str(x) for x in (\"1\",2)]"
   ]
  },
  {
   "cell_type": "code",
   "execution_count": 4,
   "id": "2fdb4422",
   "metadata": {},
   "outputs": [
    {
     "name": "stdout",
     "output_type": "stream",
     "text": [
      "[((1, 2), 1), ((1, 2), 2)]\n"
     ]
    }
   ],
   "source": [
    "a=[(1,2),(1,2)]\n",
    "b=[1,2]\n",
    "print(list(zip(a,b)))"
   ]
  },
  {
   "cell_type": "code",
   "execution_count": 2,
   "id": "4d3c757d",
   "metadata": {},
   "outputs": [
    {
     "data": {
      "text/plain": [
       "['[', ']']"
      ]
     },
     "execution_count": 2,
     "metadata": {},
     "output_type": "execute_result"
    }
   ],
   "source": [
    "list(\"[]\")"
   ]
  },
  {
   "cell_type": "code",
   "execution_count": 4,
   "id": "5249376f",
   "metadata": {},
   "outputs": [
    {
     "ename": "ValueError",
     "evalue": "9 is not in list",
     "output_type": "error",
     "traceback": [
      "\u001b[0;31m---------------------------------------------------------------------------\u001b[0m",
      "\u001b[0;31mValueError\u001b[0m                                Traceback (most recent call last)",
      "Input \u001b[0;32mIn [4]\u001b[0m, in \u001b[0;36m<cell line: 1>\u001b[0;34m()\u001b[0m\n\u001b[0;32m----> 1\u001b[0m \u001b[43m[\u001b[49m\u001b[38;5;241;43m1\u001b[39;49m\u001b[43m,\u001b[49m\u001b[38;5;241;43m2\u001b[39;49m\u001b[43m,\u001b[49m\u001b[38;5;241;43m3\u001b[39;49m\u001b[43m,\u001b[49m\u001b[38;5;241;43m4\u001b[39;49m\u001b[43m]\u001b[49m\u001b[38;5;241;43m.\u001b[39;49m\u001b[43mindex\u001b[49m\u001b[43m(\u001b[49m\u001b[38;5;241;43m9\u001b[39;49m\u001b[43m)\u001b[49m\n",
      "\u001b[0;31mValueError\u001b[0m: 9 is not in list"
     ]
    }
   ],
   "source": [
    "[1,2,3,4].index(9)"
   ]
  },
  {
   "cell_type": "code",
   "execution_count": 5,
   "id": "2ef4f394",
   "metadata": {},
   "outputs": [
    {
     "data": {
      "text/plain": [
       "[3, 4, 5, 6]"
      ]
     },
     "execution_count": 5,
     "metadata": {},
     "output_type": "execute_result"
    }
   ],
   "source": [
    "[1,2,3,4,5,6][2:]"
   ]
  },
  {
   "cell_type": "code",
   "execution_count": 7,
   "id": "cbb77b14",
   "metadata": {},
   "outputs": [
    {
     "data": {
      "text/plain": [
       "1"
      ]
     },
     "execution_count": 7,
     "metadata": {},
     "output_type": "execute_result"
    }
   ],
   "source": [
    "5%2"
   ]
  },
  {
   "cell_type": "code",
   "execution_count": 9,
   "id": "46c8ce8f",
   "metadata": {},
   "outputs": [
    {
     "data": {
      "text/plain": [
       "True"
      ]
     },
     "execution_count": 9,
     "metadata": {},
     "output_type": "execute_result"
    }
   ],
   "source": [
    "all([True,[False]])"
   ]
  },
  {
   "cell_type": "code",
   "execution_count": 1,
   "id": "0084f8ec",
   "metadata": {},
   "outputs": [
    {
     "data": {
      "text/plain": [
       "{(1, 2): 3}"
      ]
     },
     "execution_count": 1,
     "metadata": {},
     "output_type": "execute_result"
    }
   ],
   "source": [
    "{\n",
    "    (1,2):3\n",
    "}"
   ]
  },
  {
   "cell_type": "code",
   "execution_count": 15,
   "id": "7b8eaafb",
   "metadata": {},
   "outputs": [
    {
     "name": "stdout",
     "output_type": "stream",
     "text": [
      "('127.0.0.1', 47605)\n"
     ]
    }
   ],
   "source": [
    "dicta = {('127.0.0.1', 47605): 165}\n",
    "\n",
    "for i in range(len(dicta)):\n",
    "    print(list(dicta.keys())[i])\n"
   ]
  },
  {
   "cell_type": "code",
   "execution_count": 14,
   "id": "eaa5f463",
   "metadata": {},
   "outputs": [
    {
     "data": {
      "text/plain": [
       "[('127.0.0.1', 47605)]"
      ]
     },
     "execution_count": 14,
     "metadata": {},
     "output_type": "execute_result"
    }
   ],
   "source": [
    "list(dicta.keys())"
   ]
  },
  {
   "cell_type": "code",
   "execution_count": 4,
   "id": "d1d25f4e",
   "metadata": {},
   "outputs": [
    {
     "name": "stdout",
     "output_type": "stream",
     "text": [
      "{('127.0.0.1', 34535): 186}\n",
      "[]\n"
     ]
    }
   ],
   "source": [
    "for n in nodes:\n",
    "    for nc in n.neightboors:\n",
    "        \n",
    "        print(nc.get_train_set_votes())"
   ]
  },
  {
   "cell_type": "code",
   "execution_count": 2,
   "id": "4e092334",
   "metadata": {},
   "outputs": [
    {
     "data": {
      "text/plain": [
       "1"
      ]
     },
     "execution_count": 2,
     "metadata": {},
     "output_type": "execute_result"
    }
   ],
   "source": [
    "len({('127.0.0.1', 51977): 149})"
   ]
  },
  {
   "cell_type": "code",
   "execution_count": null,
   "id": "bf3b36b5",
   "metadata": {},
   "outputs": [],
   "source": []
  }
 ],
 "metadata": {
  "kernelspec": {
   "display_name": "Python 3 (ipykernel)",
   "language": "python",
   "name": "python3"
  },
  "language_info": {
   "codemirror_mode": {
    "name": "ipython",
    "version": 3
   },
   "file_extension": ".py",
   "mimetype": "text/x-python",
   "name": "python",
   "nbconvert_exporter": "python",
   "pygments_lexer": "ipython3",
   "version": "3.9.2"
  }
 },
 "nbformat": 4,
 "nbformat_minor": 5
}

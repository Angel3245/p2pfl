{
 "cells": [
  {
   "cell_type": "code",
   "execution_count": 1,
   "id": "de3333e5",
   "metadata": {
    "scrolled": true
   },
   "outputs": [
    {
     "name": "stdout",
     "output_type": "stream",
     "text": [
      "INFO:torch.distributed.nn.jit.instantiator:Created a temporary directory at /var/folders/vm/p9lv42ms7ml71cjvsj4bnbnm0000gn/T/tmp7hi9urys\n",
      "INFO:torch.distributed.nn.jit.instantiator:Writing /var/folders/vm/p9lv42ms7ml71cjvsj4bnbnm0000gn/T/tmp7hi9urys/_remote_module_non_sriptable.py\n",
      "INFO:root:Nodo a la escucha en localhost 49627\n",
      "INFO:root:Nodo a la escucha en localhost 49628\n",
      "INFO:root:Nodo a la escucha en localhost 49629\n",
      "INFO:root:Nodo a la escucha en localhost 49630\n",
      "INFO:root:Conexión aceptada con ('localhost', 49628)\n",
      "INFO:root:Conexión aceptada con ('localhost', 49629)\n",
      "INFO:root:Conexión aceptada con ('localhost', 49627)\n",
      "INFO:root:Conexión aceptada con ('localhost', 49630)\n",
      "INFO:root:Conexión aceptada con ('localhost', 49628)\n",
      "INFO:root:Conexión aceptada con ('localhost', 49627)\n",
      "INFO:root:Broadcasting start learning...\n",
      "INFO:root:Training...\n",
      "INFO:root:Training...\n"
     ]
    },
    {
     "name": "stderr",
     "output_type": "stream",
     "text": [
      "GPU available: False, used: False\n"
     ]
    },
    {
     "name": "stdout",
     "output_type": "stream",
     "text": [
      "INFO:root:Training...\n"
     ]
    },
    {
     "name": "stderr",
     "output_type": "stream",
     "text": [
      "GPU available: False, used: False\n"
     ]
    },
    {
     "name": "stdout",
     "output_type": "stream",
     "text": [
      "INFO:root:Training...\n"
     ]
    },
    {
     "name": "stderr",
     "output_type": "stream",
     "text": [
      "TPU available: False, using: 0 TPU cores\n",
      "GPU available: False, used: False\n",
      "TPU available: False, using: 0 TPU cores\n",
      "IPU available: False, using: 0 IPUs\n",
      "IPU available: False, using: 0 IPUs\n",
      "TPU available: False, using: 0 TPU cores\n",
      "IPU available: False, using: 0 IPUs\n",
      "HPU available: False, using: 0 HPUs\n",
      "HPU available: False, using: 0 HPUs\n",
      "GPU available: False, used: False\n",
      "HPU available: False, using: 0 HPUs\n",
      "TPU available: False, using: 0 TPU cores\n",
      "IPU available: False, using: 0 IPUs\n",
      "HPU available: False, using: 0 HPUs\n",
      "\n",
      "  | Name     | Type     | Params\n",
      "--------------------------------------\n",
      "0 | accuracy | Accuracy | 0     \n",
      "1 | l1       | Linear   | 100 K \n",
      "2 | l2       | Linear   | 33.0 K\n",
      "3 | l3       | Linear   | 2.6 K \n",
      "--------------------------------------\n",
      "136 K     Trainable params\n",
      "0         Non-trainable params\n",
      "136 K     Total params\n",
      "0.544     Total estimated model params size (MB)\n",
      "\n",
      "  | Name     | Type     | Params\n",
      "--------------------------------------\n",
      "0 | accuracy | Accuracy | 0     \n",
      "1 | l1       | Linear   | 100 K \n",
      "2 | l2       | Linear   | 33.0 K\n",
      "3 | l3       | Linear   | 2.6 K \n",
      "--------------------------------------\n",
      "136 K     Trainable params\n",
      "0         Non-trainable params\n",
      "136 K     Total params\n",
      "0.544     Total estimated model params size (MB)\n",
      "\n",
      "  | Name     | Type     | Params\n",
      "--------------------------------------\n",
      "0 | accuracy | Accuracy | 0     \n",
      "1 | l1       | Linear   | 100 K \n",
      "2 | l2       | Linear   | 33.0 K\n",
      "3 | l3       | Linear   | 2.6 K \n",
      "--------------------------------------\n",
      "136 K     Trainable params\n",
      "0         Non-trainable params\n",
      "136 K     Total params\n",
      "0.544     Total estimated model params size (MB)\n",
      "\n",
      "  | Name     | Type     | Params\n",
      "--------------------------------------\n",
      "0 | accuracy | Accuracy | 0     \n",
      "1 | l1       | Linear   | 100 K \n",
      "2 | l2       | Linear   | 33.0 K\n",
      "3 | l3       | Linear   | 2.6 K \n",
      "--------------------------------------\n",
      "136 K     Trainable params\n",
      "0         Non-trainable params\n",
      "136 K     Total params\n",
      "0.544     Total estimated model params size (MB)\n"
     ]
    },
    {
     "name": "stdout",
     "output_type": "stream",
     "text": [
      "Train: 54000 Val:6000 Test:10000Train: 54000 Val:6000 Test:10000\n",
      "\n",
      "Train: 54000 Val:6000 Test:10000\n",
      "Train: 54000 Val:6000 Test:10000\n"
     ]
    },
    {
     "data": {
      "application/vnd.jupyter.widget-view+json": {
       "model_id": "",
       "version_major": 2,
       "version_minor": 0
      },
      "text/plain": [
       "Sanity Checking: 0it [00:00, ?it/s]"
      ]
     },
     "metadata": {},
     "output_type": "display_data"
    },
    {
     "data": {
      "application/vnd.jupyter.widget-view+json": {
       "model_id": "",
       "version_major": 2,
       "version_minor": 0
      },
      "text/plain": [
       "Sanity Checking: 0it [00:00, ?it/s]"
      ]
     },
     "metadata": {},
     "output_type": "display_data"
    },
    {
     "data": {
      "application/vnd.jupyter.widget-view+json": {
       "model_id": "",
       "version_major": 2,
       "version_minor": 0
      },
      "text/plain": [
       "Sanity Checking: 0it [00:00, ?it/s]"
      ]
     },
     "metadata": {},
     "output_type": "display_data"
    },
    {
     "data": {
      "application/vnd.jupyter.widget-view+json": {
       "model_id": "",
       "version_major": 2,
       "version_minor": 0
      },
      "text/plain": [
       "Sanity Checking: 0it [00:00, ?it/s]"
      ]
     },
     "metadata": {},
     "output_type": "display_data"
    },
    {
     "data": {
      "application/vnd.jupyter.widget-view+json": {
       "model_id": "e20ebf9f6d534d768e36da83c5019b68",
       "version_major": 2,
       "version_minor": 0
      },
      "text/plain": [
       "Training: 0it [00:00, ?it/s]"
      ]
     },
     "metadata": {},
     "output_type": "display_data"
    },
    {
     "data": {
      "application/vnd.jupyter.widget-view+json": {
       "model_id": "32a977caf0114adcb541ba3eb3ed74b4",
       "version_major": 2,
       "version_minor": 0
      },
      "text/plain": [
       "Training: 0it [00:00, ?it/s]"
      ]
     },
     "metadata": {},
     "output_type": "display_data"
    },
    {
     "data": {
      "application/vnd.jupyter.widget-view+json": {
       "model_id": "8f39168eab734796ba7f6233140004dc",
       "version_major": 2,
       "version_minor": 0
      },
      "text/plain": [
       "Training: 0it [00:00, ?it/s]"
      ]
     },
     "metadata": {},
     "output_type": "display_data"
    },
    {
     "data": {
      "application/vnd.jupyter.widget-view+json": {
       "model_id": "01b2e0aea5e846fd89c054933e3a12d1",
       "version_major": 2,
       "version_minor": 0
      },
      "text/plain": [
       "Training: 0it [00:00, ?it/s]"
      ]
     },
     "metadata": {},
     "output_type": "display_data"
    },
    {
     "data": {
      "application/vnd.jupyter.widget-view+json": {
       "model_id": "",
       "version_major": 2,
       "version_minor": 0
      },
      "text/plain": [
       "Validation: 0it [00:00, ?it/s]"
      ]
     },
     "metadata": {},
     "output_type": "display_data"
    },
    {
     "data": {
      "application/vnd.jupyter.widget-view+json": {
       "model_id": "",
       "version_major": 2,
       "version_minor": 0
      },
      "text/plain": [
       "Validation: 0it [00:00, ?it/s]"
      ]
     },
     "metadata": {},
     "output_type": "display_data"
    },
    {
     "data": {
      "application/vnd.jupyter.widget-view+json": {
       "model_id": "",
       "version_major": 2,
       "version_minor": 0
      },
      "text/plain": [
       "Validation: 0it [00:00, ?it/s]"
      ]
     },
     "metadata": {},
     "output_type": "display_data"
    },
    {
     "data": {
      "application/vnd.jupyter.widget-view+json": {
       "model_id": "",
       "version_major": 2,
       "version_minor": 0
      },
      "text/plain": [
       "Validation: 0it [00:00, ?it/s]"
      ]
     },
     "metadata": {},
     "output_type": "display_data"
    },
    {
     "name": "stdout",
     "output_type": "stream",
     "text": [
      "INFO:root:Model added (1/4)\n",
      "INFO:root:Broadcasting model to all clients...\n",
      "INFO:root:Model added (1/4)\n",
      "INFO:root:Model added (1/4)\n",
      "INFO:root:Model added (1/4)\n",
      "INFO:root:Model added (2/4)\n",
      "INFO:root:Broadcasting model to all clients...\n",
      "INFO:root:Model added (2/4)\n",
      "INFO:root:Model added (2/4)\n",
      "INFO:root:Model added (2/4)\n",
      "INFO:root:Model added (3/4)\n",
      "INFO:root:Broadcasting model to all clients...\n",
      "INFO:root:Model added (3/4)\n",
      "INFO:root:Broadcasting model to all clients...\n",
      "INFO:root:Model added (3/4)\n",
      "INFO:root:Model added (3/4)\n",
      "INFO:root:Model added (4/4)\n",
      "INFO:root:Agregating models.\n",
      "INFO:root:Round 1 of 2 finished. (('localhost', 49627))\n",
      "Waiting for local model sharing processes to finish\n",
      "INFO:root:Model added (4/4)\n",
      "INFO:root:Model added (4/4)\n",
      "INFO:root:Model added (4/4)\n",
      "INFO:root:Agregating models.\n",
      "INFO:root:Agregating models.\n",
      "INFO:root:Agregating models.\n",
      "INFO:root:Round 1 of 2 finished. (('localhost', 49628))\n",
      "Waiting for local model sharing processes to finish\n",
      "INFO:root:Training...\n"
     ]
    },
    {
     "name": "stderr",
     "output_type": "stream",
     "text": [
      "GPU available: False, used: False\n",
      "TPU available: False, using: 0 TPU cores\n",
      "IPU available: False, using: 0 IPUs\n",
      "HPU available: False, using: 0 HPUs\n"
     ]
    },
    {
     "name": "stdout",
     "output_type": "stream",
     "text": [
      "INFO:root:Round 1 of 2 finished. (('localhost', 49629))\n",
      "Waiting for local model sharing processes to finish\n",
      "INFO:root:Training...\n"
     ]
    },
    {
     "name": "stderr",
     "output_type": "stream",
     "text": [
      "GPU available: False, used: False\n"
     ]
    },
    {
     "name": "stdout",
     "output_type": "stream",
     "text": [
      "INFO:root:Round 1 of 2 finished. (('localhost', 49630))\n",
      "Waiting for local model sharing processes to finish\n",
      "INFO:root:Training...\n"
     ]
    },
    {
     "name": "stderr",
     "output_type": "stream",
     "text": [
      "TPU available: False, using: 0 TPU cores\n",
      "IPU available: False, using: 0 IPUs\n"
     ]
    },
    {
     "name": "stdout",
     "output_type": "stream",
     "text": [
      "Waiting for local model sharing processes to finish\n",
      "INFO:root:Training...\n"
     ]
    },
    {
     "name": "stderr",
     "output_type": "stream",
     "text": [
      "GPU available: False, used: False\n",
      "HPU available: False, using: 0 HPUs\n",
      "TPU available: False, using: 0 TPU cores\n",
      "IPU available: False, using: 0 IPUs\n",
      "HPU available: False, using: 0 HPUs\n",
      "GPU available: False, used: False\n",
      "TPU available: False, using: 0 TPU cores\n",
      "IPU available: False, using: 0 IPUs\n",
      "HPU available: False, using: 0 HPUs\n"
     ]
    },
    {
     "name": "stdout",
     "output_type": "stream",
     "text": [
      "Train: 54000 Val:6000 Test:10000\n"
     ]
    },
    {
     "name": "stderr",
     "output_type": "stream",
     "text": [
      "\n",
      "  | Name     | Type     | Params\n",
      "--------------------------------------\n",
      "0 | accuracy | Accuracy | 0     \n",
      "1 | l1       | Linear   | 100 K \n",
      "2 | l2       | Linear   | 33.0 K\n",
      "3 | l3       | Linear   | 2.6 K \n",
      "--------------------------------------\n",
      "136 K     Trainable params\n",
      "0         Non-trainable params\n",
      "136 K     Total params\n",
      "0.544     Total estimated model params size (MB)\n"
     ]
    },
    {
     "name": "stdout",
     "output_type": "stream",
     "text": [
      "Train: 54000 Val:6000 Test:10000\n",
      "Train: 54000 Val:6000 Test:10000\n"
     ]
    },
    {
     "name": "stderr",
     "output_type": "stream",
     "text": [
      "\n",
      "  | Name     | Type     | Params\n",
      "--------------------------------------\n",
      "0 | accuracy | Accuracy | 0     \n",
      "1 | l1       | Linear   | 100 K \n",
      "2 | l2       | Linear   | 33.0 K\n",
      "3 | l3       | Linear   | 2.6 K \n",
      "--------------------------------------\n",
      "136 K     Trainable params\n",
      "0         Non-trainable params\n",
      "136 K     Total params\n",
      "0.544     Total estimated model params size (MB)\n",
      "\n",
      "  | Name     | Type     | Params\n",
      "--------------------------------------\n",
      "0 | accuracy | Accuracy | 0     \n",
      "1 | l1       | Linear   | 100 K \n",
      "2 | l2       | Linear   | 33.0 K\n",
      "3 | l3       | Linear   | 2.6 K \n",
      "--------------------------------------\n",
      "136 K     Trainable params\n",
      "0         Non-trainable params\n",
      "136 K     Total params\n",
      "0.544     Total estimated model params size (MB)\n"
     ]
    },
    {
     "name": "stdout",
     "output_type": "stream",
     "text": [
      "Train: 54000 Val:6000 Test:10000\n"
     ]
    },
    {
     "name": "stderr",
     "output_type": "stream",
     "text": [
      "\n",
      "  | Name     | Type     | Params\n",
      "--------------------------------------\n",
      "0 | accuracy | Accuracy | 0     \n",
      "1 | l1       | Linear   | 100 K \n",
      "2 | l2       | Linear   | 33.0 K\n",
      "3 | l3       | Linear   | 2.6 K \n",
      "--------------------------------------\n",
      "136 K     Trainable params\n",
      "0         Non-trainable params\n",
      "136 K     Total params\n",
      "0.544     Total estimated model params size (MB)\n"
     ]
    },
    {
     "data": {
      "application/vnd.jupyter.widget-view+json": {
       "model_id": "",
       "version_major": 2,
       "version_minor": 0
      },
      "text/plain": [
       "Sanity Checking: 0it [00:00, ?it/s]"
      ]
     },
     "metadata": {},
     "output_type": "display_data"
    },
    {
     "data": {
      "application/vnd.jupyter.widget-view+json": {
       "model_id": "",
       "version_major": 2,
       "version_minor": 0
      },
      "text/plain": [
       "Sanity Checking: 0it [00:00, ?it/s]"
      ]
     },
     "metadata": {},
     "output_type": "display_data"
    },
    {
     "data": {
      "application/vnd.jupyter.widget-view+json": {
       "model_id": "",
       "version_major": 2,
       "version_minor": 0
      },
      "text/plain": [
       "Sanity Checking: 0it [00:00, ?it/s]"
      ]
     },
     "metadata": {},
     "output_type": "display_data"
    },
    {
     "data": {
      "application/vnd.jupyter.widget-view+json": {
       "model_id": "",
       "version_major": 2,
       "version_minor": 0
      },
      "text/plain": [
       "Sanity Checking: 0it [00:00, ?it/s]"
      ]
     },
     "metadata": {},
     "output_type": "display_data"
    },
    {
     "data": {
      "application/vnd.jupyter.widget-view+json": {
       "model_id": "01d8129cf1b04b5cbf3896d709e76d92",
       "version_major": 2,
       "version_minor": 0
      },
      "text/plain": [
       "Training: 0it [00:00, ?it/s]"
      ]
     },
     "metadata": {},
     "output_type": "display_data"
    },
    {
     "data": {
      "application/vnd.jupyter.widget-view+json": {
       "model_id": "5442ec33bbad465ea7ba9ec0c73af527",
       "version_major": 2,
       "version_minor": 0
      },
      "text/plain": [
       "Training: 0it [00:00, ?it/s]"
      ]
     },
     "metadata": {},
     "output_type": "display_data"
    },
    {
     "data": {
      "application/vnd.jupyter.widget-view+json": {
       "model_id": "d021207bd6eb48c1bc19c4f7792c6cc2",
       "version_major": 2,
       "version_minor": 0
      },
      "text/plain": [
       "Training: 0it [00:00, ?it/s]"
      ]
     },
     "metadata": {},
     "output_type": "display_data"
    },
    {
     "data": {
      "application/vnd.jupyter.widget-view+json": {
       "model_id": "55d3bdab2a584cfc8beac424fae803b1",
       "version_major": 2,
       "version_minor": 0
      },
      "text/plain": [
       "Training: 0it [00:00, ?it/s]"
      ]
     },
     "metadata": {},
     "output_type": "display_data"
    },
    {
     "data": {
      "application/vnd.jupyter.widget-view+json": {
       "model_id": "a54a70d63113416fb8f7ea6cae5e0ff9",
       "version_major": 2,
       "version_minor": 0
      },
      "text/plain": [
       "Validation: 0it [00:00, ?it/s]"
      ]
     },
     "metadata": {},
     "output_type": "display_data"
    },
    {
     "data": {
      "application/vnd.jupyter.widget-view+json": {
       "model_id": "50681a68b94e42fc9d82421dbd8e41ba",
       "version_major": 2,
       "version_minor": 0
      },
      "text/plain": [
       "Validation: 0it [00:00, ?it/s]"
      ]
     },
     "metadata": {},
     "output_type": "display_data"
    },
    {
     "data": {
      "application/vnd.jupyter.widget-view+json": {
       "model_id": "b75340997cb849bc992b7bc4105747ca",
       "version_major": 2,
       "version_minor": 0
      },
      "text/plain": [
       "Validation: 0it [00:00, ?it/s]"
      ]
     },
     "metadata": {},
     "output_type": "display_data"
    },
    {
     "data": {
      "application/vnd.jupyter.widget-view+json": {
       "model_id": "7e6aa473e6d74edeab052f96a24c0c53",
       "version_major": 2,
       "version_minor": 0
      },
      "text/plain": [
       "Validation: 0it [00:00, ?it/s]"
      ]
     },
     "metadata": {},
     "output_type": "display_data"
    },
    {
     "name": "stdout",
     "output_type": "stream",
     "text": [
      "INFO:root:Model added (2/4)\n",
      "INFO:root:Broadcasting model to all clients...\n",
      "INFO:root:Model added (2/4)\n",
      "INFO:root:Model added (2/4)\n",
      "INFO:root:Model added (2/4)\n",
      "INFO:root:Model added (3/4)\n",
      "INFO:root:Broadcasting model to all clients...\n",
      "DEBUG:root:Too mucho errors. ('localhost', 49629)\n",
      "DEBUG:root:Last error: b'>=\\xe6\\xe5U9\\x82\\x18\\x16\\xbe\\xdd\\x17\\xd8\\xbdO\\x98\\x19\\xbe;O\"\\xbdz\\xe7\\xd6=\\xb4T\\xca<\\xa7\\x10\\xe1\\xbd\\n,n=\\xe9m\\x98=\\x0c\\x8ai=\\x010v\\xbdF+'\n",
      "DEBUG:root:Closed connection with ('localhost', 49629)\n",
      "INFO:root:Model added (3/4)\n",
      "DEBUG:root:('localhost', 49627) (NodeConnection) Exception: [Errno 54] Connection reset by peer\n",
      "INFO:root:Model added (3/4)\n",
      "ERROR:root:[Errno 54] Connection reset by peer\n",
      "Traceback (most recent call last):\n",
      "  File \"/Users/pedro/Documents/UDC/4/TFG/federated_learning_p2p/p2pfl/node_connection.py\", line 39, in run\n",
      "    msg = self.socket.recv(BUFFER_SIZE)\n",
      "ConnectionResetError: [Errno 54] Connection reset by peer\n",
      "DEBUG:root:Closed connection with ('localhost', 49627)\n",
      "INFO:root:Model added (3/3)\n",
      "INFO:root:Agregating models.\n",
      "INFO:root:Broadcasting model to all clients...\n",
      "INFO:root:Round 2 of 2 finished. (('localhost', 49627))\n",
      "INFO:root:Finish!!.\n",
      "INFO:root:Model added (4/4)\n",
      "INFO:root:Model added (4/4)\n",
      "INFO:root:Agregating models.\n",
      "INFO:root:Agregating models.\n",
      "INFO:root:Round 2 of 2 finished. (('localhost', 49630))\n",
      "INFO:root:Finish!!.\n",
      "INFO:root:Round 2 of 2 finished. (('localhost', 49628))\n",
      "INFO:root:Finish!!.\n"
     ]
    },
    {
     "ename": "KeyboardInterrupt",
     "evalue": "",
     "output_type": "error",
     "traceback": [
      "\u001b[0;31m---------------------------------------------------------------------------\u001b[0m",
      "\u001b[0;31mKeyboardInterrupt\u001b[0m                         Traceback (most recent call last)",
      "Input \u001b[0;32mIn [1]\u001b[0m, in \u001b[0;36m<cell line: 56>\u001b[0;34m()\u001b[0m\n\u001b[1;32m     52\u001b[0m                 \u001b[38;5;28;01massert\u001b[39;00m torch\u001b[38;5;241m.\u001b[39meq(a, b)\u001b[38;5;241m.\u001b[39mall()\n\u001b[1;32m     54\u001b[0m     \u001b[38;5;28;01mreturn\u001b[39;00m nodes\n\u001b[0;32m---> 56\u001b[0m nodes \u001b[38;5;241m=\u001b[39m \u001b[43mtest_convergence\u001b[49m\u001b[43m(\u001b[49m\u001b[43m(\u001b[49m\u001b[38;5;241;43m4\u001b[39;49m\u001b[43m,\u001b[49m\u001b[38;5;241;43m2\u001b[39;49m\u001b[43m)\u001b[49m\u001b[43m)\u001b[49m\n",
      "Input \u001b[0;32mIn [1]\u001b[0m, in \u001b[0;36mtest_convergence\u001b[0;34m(x)\u001b[0m\n\u001b[1;32m     30\u001b[0m \u001b[38;5;66;03m# Wait 4 results\u001b[39;00m\n\u001b[1;32m     31\u001b[0m \u001b[38;5;28;01mwhile\u001b[39;00m \u001b[38;5;28;01mTrue\u001b[39;00m:\n\u001b[0;32m---> 32\u001b[0m     \u001b[43mtime\u001b[49m\u001b[38;5;241;43m.\u001b[39;49m\u001b[43msleep\u001b[49m\u001b[43m(\u001b[49m\u001b[38;5;241;43m1\u001b[39;49m\u001b[43m)\u001b[49m\n\u001b[1;32m     33\u001b[0m     finish \u001b[38;5;241m=\u001b[39m \u001b[38;5;28;01mTrue\u001b[39;00m\n\u001b[1;32m     34\u001b[0m     \u001b[38;5;28;01mfor\u001b[39;00m f \u001b[38;5;129;01min\u001b[39;00m [node\u001b[38;5;241m.\u001b[39mround \u001b[38;5;129;01mis\u001b[39;00m \u001b[38;5;28;01mNone\u001b[39;00m \u001b[38;5;28;01mfor\u001b[39;00m node \u001b[38;5;129;01min\u001b[39;00m nodes]:\n",
      "\u001b[0;31mKeyboardInterrupt\u001b[0m: "
     ]
    }
   ],
   "source": [
    "from p2pfl.node import Node\n",
    "from p2pfl.learning.learner import MyNodeLearning\n",
    "from p2pfl.agregator import FedAvg    \n",
    "from collections import OrderedDict\n",
    "import torch\n",
    "import time\n",
    "\n",
    "def test_convergence(x):\n",
    "    n,r = x\n",
    "\n",
    "    # Node Creation\n",
    "    nodes = []\n",
    "    for i in range(n):\n",
    "        node = Node(host=\"localhost\")\n",
    "        node.start()\n",
    "        nodes.append(node)\n",
    "\n",
    "    # Node Connection\n",
    "    for i in range(len(nodes)-1):\n",
    "        nodes[i+1].connect_to(nodes[i].host,nodes[i].port)\n",
    "        time.sleep(0.1)\n",
    "\n",
    "    # Check if they are connected\n",
    "    for node in nodes:\n",
    "        assert len(node.neightboors) == n-1\n",
    "\n",
    "    # Start Learning\n",
    "    nodes[0].set_start_learning(rounds=r)\n",
    "\n",
    "    # Wait 4 results\n",
    "    while True:\n",
    "        time.sleep(1)\n",
    "        finish = True\n",
    "        for f in [node.round is None for node in nodes]:\n",
    "            finish = finish and f\n",
    "\n",
    "        if finish:\n",
    "            break\n",
    "\n",
    "\n",
    "    # Validamos Modelos obtenidos sean iguales\n",
    "    model = None\n",
    "    first = True\n",
    "    for node in nodes:\n",
    "        if first:\n",
    "            model = node.learner.get_parameters()\n",
    "            first = False\n",
    "        else:\n",
    "            for layer in model:\n",
    "                a = torch.round(model[layer], decimals=2)\n",
    "                b = torch.round(node.learner.get_parameters()[layer], decimals=2)\n",
    "                assert torch.eq(a, b).all()\n",
    "\n",
    "    return nodes\n",
    "\n",
    "nodes = test_convergence((4,2))"
   ]
  },
  {
   "cell_type": "code",
   "execution_count": 2,
   "id": "23e00247",
   "metadata": {},
   "outputs": [
    {
     "ename": "NameError",
     "evalue": "name 'nodes' is not defined",
     "output_type": "error",
     "traceback": [
      "\u001b[0;31m---------------------------------------------------------------------------\u001b[0m",
      "\u001b[0;31mNameError\u001b[0m                                 Traceback (most recent call last)",
      "Input \u001b[0;32mIn [2]\u001b[0m, in \u001b[0;36m<cell line: 1>\u001b[0;34m()\u001b[0m\n\u001b[0;32m----> 1\u001b[0m \u001b[38;5;28;01mfor\u001b[39;00m node \u001b[38;5;129;01min\u001b[39;00m \u001b[43mnodes\u001b[49m:\n\u001b[1;32m      2\u001b[0m         \u001b[38;5;28mprint\u001b[39m(node\u001b[38;5;241m.\u001b[39mlearner\u001b[38;5;241m.\u001b[39mget_parameters())\n\u001b[1;32m      3\u001b[0m         \u001b[38;5;28mprint\u001b[39m(\u001b[38;5;124m\"\u001b[39m\u001b[38;5;130;01m\\n\u001b[39;00m\u001b[38;5;130;01m\\n\u001b[39;00m\u001b[38;5;130;01m\\n\u001b[39;00m\u001b[38;5;130;01m\\n\u001b[39;00m\u001b[38;5;124m\"\u001b[39m)\n",
      "\u001b[0;31mNameError\u001b[0m: name 'nodes' is not defined"
     ]
    }
   ],
   "source": [
    "for node in nodes:\n",
    "        print(node.learner.get_parameters())\n",
    "        print(\"\\n\\n\\n\\n\")"
   ]
  },
  {
   "cell_type": "code",
   "execution_count": 1,
   "id": "eca992c8",
   "metadata": {},
   "outputs": [
    {
     "ename": "NameError",
     "evalue": "name 'nodes' is not defined",
     "output_type": "error",
     "traceback": [
      "\u001b[0;31m---------------------------------------------------------------------------\u001b[0m",
      "\u001b[0;31mNameError\u001b[0m                                 Traceback (most recent call last)",
      "Input \u001b[0;32mIn [1]\u001b[0m, in \u001b[0;36m<cell line: 2>\u001b[0;34m()\u001b[0m\n\u001b[1;32m      1\u001b[0m \u001b[38;5;28;01mwhile\u001b[39;00m \u001b[38;5;28;01mTrue\u001b[39;00m:\n\u001b[0;32m----> 2\u001b[0m     \u001b[38;5;28;01mif\u001b[39;00m \u001b[43mnodes\u001b[49m[\u001b[38;5;241m1\u001b[39m]\u001b[38;5;241m.\u001b[39mround_models_shared:\n\u001b[1;32m      3\u001b[0m         \u001b[38;5;28;01mbreak\u001b[39;00m\n\u001b[1;32m      4\u001b[0m     time\u001b[38;5;241m.\u001b[39msleep(\u001b[38;5;241m0.1\u001b[39m)\n",
      "\u001b[0;31mNameError\u001b[0m: name 'nodes' is not defined"
     ]
    }
   ],
   "source": [
    "while True:\n",
    "    if nodes[1].round_models_shared:\n",
    "        break\n",
    "    time.sleep(0.1)"
   ]
  },
  {
   "cell_type": "code",
   "execution_count": null,
   "id": "8d965bc9",
   "metadata": {},
   "outputs": [],
   "source": []
  }
 ],
 "metadata": {
  "kernelspec": {
   "display_name": "Python 3 (ipykernel)",
   "language": "python",
   "name": "python3"
  },
  "language_info": {
   "codemirror_mode": {
    "name": "ipython",
    "version": 3
   },
   "file_extension": ".py",
   "mimetype": "text/x-python",
   "name": "python",
   "nbconvert_exporter": "python",
   "pygments_lexer": "ipython3",
   "version": "3.9.12"
  }
 },
 "nbformat": 4,
 "nbformat_minor": 5
}

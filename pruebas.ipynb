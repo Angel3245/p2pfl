{
 "cells": [
  {
   "cell_type": "code",
   "execution_count": 1,
   "id": "de3333e5",
   "metadata": {
    "scrolled": true
   },
   "outputs": [
    {
     "name": "stdout",
     "output_type": "stream",
     "text": [
      "Train: 54000 Val:6000 Test:10000\n",
      "INFO:root:Nodo listening at 127.0.0.1:33037\n",
      "Train: 54000 Val:6000 Test:10000\n",
      "INFO:root:Nodo listening at 127.0.0.1:56497\n",
      "Train: 54000 Val:6000 Test:10000\n",
      "INFO:root:Nodo listening at 127.0.0.1:58235\n",
      "Train: 54000 Val:6000 Test:10000\n",
      "INFO:root:Nodo listening at 127.0.0.1:39375\n",
      "INFO:root:('127.0.0.1', 56497) Connected to 127.0.0.1:33037\n",
      "INFO:root:('127.0.0.1', 33037) Conexión aceptada con 127.0.0.1:56497\n",
      "INFO:root:('127.0.0.1', 56497) Conexión aceptada con 127.0.0.1:58235\n",
      "INFO:root:('127.0.0.1', 58235) Connected to 127.0.0.1:56497\n",
      "INFO:root:('127.0.0.1', 33037) Connected to 127.0.0.1:58235\n",
      "INFO:root:('127.0.0.1', 58235) Conexión aceptada con 127.0.0.1:33037\n",
      "Processed 1 messages ({'438070627904359754': b'CONNECT_TO 127.0.0.1 58235 438070627904359754\\n'})\n",
      "INFO:root:('127.0.0.1', 39375) Connected to 127.0.0.1:58235\n",
      "INFO:root:('127.0.0.1', 58235) Conexión aceptada con 127.0.0.1:39375\n",
      "INFO:root:('127.0.0.1', 33037) Connected to 127.0.0.1:39375\n",
      "INFO:root:('127.0.0.1', 56497) Connected to 127.0.0.1:39375\n",
      "INFO:root:('127.0.0.1', 39375) Conexión aceptada con 127.0.0.1:56497\n",
      "Processed 1 messages ({'7495005431558838038': b'CONNECT_TO 127.0.0.1 39375 7495005431558838038\\n'})Processed 1 messages ({'7495005431558838038': b'CONNECT_TO 127.0.0.1 39375 7495005431558838038\\n'})\n",
      "\n",
      "INFO:root:('127.0.0.1', 39375) Conexión aceptada con 127.0.0.1:33037\n",
      "INFO:root:(('127.0.0.1', 33037)) Broadcasting start learning...\n",
      "Processed 1 messages ({'2355715545993363715': b'START_LEARNING 2 1 2355715545993363715\\n'})\n",
      "Processed 1 messages ({'2355715545993363715': b'START_LEARNING 2 1 2355715545993363715\\n'})\n",
      "INFO:root:(('127.0.0.1', 33037)) Sending Initial Model Weights\n",
      "INFO:root:(('127.0.0.1', 33037)) Broadcasting model to 3 clients. (size: 548864 bytes)\n",
      "Processed 1 messages ({'2355715545993363715': b'START_LEARNING 2 1 2355715545993363715\\n'})\n",
      "INFO:root:(('127.0.0.1', 56497)) Broadcasting Number of Samples...\n",
      "INFO:root:(('127.0.0.1', 58235)) Broadcasting Number of Samples...\n",
      "INFO:root:(('127.0.0.1', 39375)) Broadcasting Number of Samples...\n",
      "INFO:root:(('127.0.0.1', 56497)) Initialicing Model Weights\n",
      "INFO:root:(('127.0.0.1', 58235)) Initialicing Model Weights\n",
      "INFO:root:(('127.0.0.1', 39375)) Initialicing Model Weights\n",
      "INFO:root:(('127.0.0.1', 56497)) Model initialized\n",
      "INFO:root:(('127.0.0.1', 58235)) Model initialized\n",
      "INFO:root:(('127.0.0.1', 39375)) Model initialized\n",
      "INFO:root:(('127.0.0.1', 33037)) Broadcasting Number of Samples...\n",
      "INFO:root:(('127.0.0.1', 33037)) Sending train set vote.\n",
      "INFO:root:(('127.0.0.1', 33037)) Waiting other node votes.\n",
      "INFO:root:(('127.0.0.1', 56497)) Sending train set vote.\n",
      "INFO:root:(('127.0.0.1', 56497)) Waiting other node votes.\n",
      "INFO:root:(('127.0.0.1', 58235)) Sending train set vote.\n",
      "INFO:root:(('127.0.0.1', 58235)) Waiting other node votes.\n",
      "INFO:root:(('127.0.0.1', 39375)) Sending train set vote.\n",
      "INFO:root:('127.0.0.1', 58235) Train set of 4 nodes. [('127.0.0.1', 39375), ('127.0.0.1', 56497), ('127.0.0.1', 58235), ('127.0.0.1', 33037)]\n",
      "INFO:root:(('127.0.0.1', 39375)) Waiting other node votes.\n",
      "INFO:root:(('127.0.0.1', 58235)) Evaluating...\n",
      "INFO:root:('127.0.0.1', 56497) Train set of 4 nodes. [('127.0.0.1', 39375), ('127.0.0.1', 56497), ('127.0.0.1', 58235), ('127.0.0.1', 33037)]\n",
      "INFO:root:('127.0.0.1', 33037) Train set of 4 nodes. [('127.0.0.1', 39375), ('127.0.0.1', 56497), ('127.0.0.1', 58235), ('127.0.0.1', 33037)]\n",
      "INFO:root:('127.0.0.1', 39375) Train set of 4 nodes. [('127.0.0.1', 39375), ('127.0.0.1', 56497), ('127.0.0.1', 58235), ('127.0.0.1', 33037)]\n",
      "INFO:root:(('127.0.0.1', 56497)) Evaluating...\n",
      "INFO:root:(('127.0.0.1', 33037)) Evaluating...\n",
      "INFO:root:(('127.0.0.1', 39375)) Evaluating...\n"
     ]
    },
    {
     "data": {
      "application/vnd.jupyter.widget-view+json": {
       "model_id": "3caae46e77f84e6699d2dee98dbe96ac",
       "version_major": 2,
       "version_minor": 0
      },
      "text/plain": [
       "Testing: 0it [00:00, ?it/s]"
      ]
     },
     "metadata": {},
     "output_type": "display_data"
    },
    {
     "data": {
      "application/vnd.jupyter.widget-view+json": {
       "model_id": "4e089a1a70144f278282ed9e1ad05185",
       "version_major": 2,
       "version_minor": 0
      },
      "text/plain": [
       "Testing: 0it [00:00, ?it/s]"
      ]
     },
     "metadata": {},
     "output_type": "display_data"
    },
    {
     "data": {
      "application/vnd.jupyter.widget-view+json": {
       "model_id": "52552e2ebfe24169a5f219d47ea7f243",
       "version_major": 2,
       "version_minor": 0
      },
      "text/plain": [
       "Testing: 0it [00:00, ?it/s]"
      ]
     },
     "metadata": {},
     "output_type": "display_data"
    },
    {
     "data": {
      "application/vnd.jupyter.widget-view+json": {
       "model_id": "e5adaa3ec2de46398e4e7ab74c42878a",
       "version_major": 2,
       "version_minor": 0
      },
      "text/plain": [
       "Testing: 0it [00:00, ?it/s]"
      ]
     },
     "metadata": {},
     "output_type": "display_data"
    },
    {
     "name": "stdout",
     "output_type": "stream",
     "text": [
      "ERROR:root:Something went wrong with pytorch lightning. cannot import name 'Popen' from partially initialized module 'multiprocessing.popen_fork' (most likely due to a circular import) (/usr/lib/python3.9/multiprocessing/popen_fork.py)\n",
      "ERROR:root:Something went wrong with pytorch lightning. cannot import name 'Popen' from partially initialized module 'multiprocessing.popen_fork' (most likely due to a circular import) (/usr/lib/python3.9/multiprocessing/popen_fork.py)\n",
      "INFO:root:(('127.0.0.1', 58235)) Training...\n",
      "INFO:root:(('127.0.0.1', 33037)) Training...\n"
     ]
    },
    {
     "data": {
      "application/vnd.jupyter.widget-view+json": {
       "model_id": "",
       "version_major": 2,
       "version_minor": 0
      },
      "text/plain": [
       "Sanity Checking: 0it [00:00, ?it/s]"
      ]
     },
     "metadata": {},
     "output_type": "display_data"
    },
    {
     "data": {
      "application/vnd.jupyter.widget-view+json": {
       "model_id": "",
       "version_major": 2,
       "version_minor": 0
      },
      "text/plain": [
       "Sanity Checking: 0it [00:00, ?it/s]"
      ]
     },
     "metadata": {},
     "output_type": "display_data"
    },
    {
     "name": "stdout",
     "output_type": "stream",
     "text": [
      "-----------------------------SOlo se puden mandar 1, se mandan 1INFO:root:(('127.0.0.1', 58235)) Cant connect to other nodes when learning is running. (however, other nodes can be connected to the node.)\n",
      "\n",
      "Processed 1 messages ({'438070627904359754': b'CONNECT_TO 127.0.0.1 58235 438070627904359754\\n'})\n",
      "-----------------------------SOlo se puden mandar 1, se mandan 1\n",
      "INFO:root:(('127.0.0.1', 39375)) Cant connect to other nodes when learning is running. (however, other nodes can be connected to the node.)\n",
      "Processed 1 messages ({'7495005431558838038': b'CONNECT_TO 127.0.0.1 39375 7495005431558838038\\n'})\n",
      "-----------------------------SOlo se puden mandar 1, se mandan 1\n",
      "-----------------------------SOlo se puden mandar 1, se mandan 1\n"
     ]
    },
    {
     "data": {
      "application/vnd.jupyter.widget-view+json": {
       "model_id": "402fc91c33c74c3ebdb939868833af34",
       "version_major": 2,
       "version_minor": 0
      },
      "text/plain": [
       "Training: 0it [00:00, ?it/s]"
      ]
     },
     "metadata": {},
     "output_type": "display_data"
    },
    {
     "data": {
      "application/vnd.jupyter.widget-view+json": {
       "model_id": "41c743435fc84ea3b6e6a97a5ccbe546",
       "version_major": 2,
       "version_minor": 0
      },
      "text/plain": [
       "Training: 0it [00:00, ?it/s]"
      ]
     },
     "metadata": {},
     "output_type": "display_data"
    },
    {
     "name": "stdout",
     "output_type": "stream",
     "text": [
      "INFO:root:(('127.0.0.1', 39375)) Cant connect to other nodes when learning is running. (however, other nodes can be connected to the node.)\n",
      "-----------------------------SOlo se puden mandar 1, se mandan 1Processed 1 messages ({'438070627904359754': b'CONNECT_TO 127.0.0.1 58235 438070627904359754\\n'})\n",
      "\n",
      "-----------------------------SOlo se puden mandar 1, se mandan 1\n",
      "-----------------------------SOlo se puden mandar 1, se mandan 1\n",
      "-----------------------------SOlo se puden mandar 1, se mandan 1\n",
      "INFO:root:(('127.0.0.1', 56497)) Cant connect to other nodes when learning is running. (however, other nodes can be connected to the node.)\n",
      "Processed 1 messages ({'438070627904359754': b'CONNECT_TO 127.0.0.1 58235 438070627904359754\\n'})\n",
      "INFO:root:(('127.0.0.1', 58235)) Cant connect to other nodes when learning is running. (however, other nodes can be connected to the node.)\n",
      "-----------------------------SOlo se puden mandar 1, se mandan 1\n",
      "Processed 1 messages ({'7495005431558838038': b'CONNECT_TO 127.0.0.1 39375 7495005431558838038\\n'})\n",
      "-----------------------------SOlo se puden mandar 1, se mandan 1\n",
      "-----------------------------SOlo se puden mandar 1, se mandan 1\n",
      "Processed 1 messages ({'-2253963276380141201': b'BEAT -2253963276380141201\\n'})\n",
      "Processed 1 messages ({'-2253963276380141201': b'BEAT -2253963276380141201\\n'})\n",
      "Processed 1 messages ({'-2253963276380141201': b'BEAT -2253963276380141201\\n'})\n",
      "Processed 1 messages ({'-347479298499124919': b'BEAT -347479298499124919\\n'})\n",
      "Processed 1 messages ({'-347479298499124919': b'BEAT -347479298499124919\\n'})\n",
      "Processed 1 messages ({'-347479298499124919': b'BEAT -347479298499124919\\n'})\n",
      "-----------------------------SOlo se puden mandar 1, se mandan 1\n",
      "-----------------------------SOlo se puden mandar 1, se mandan 1\n",
      "Processed 1 messages ({'-1222895206039089136': b'BEAT -1222895206039089136\\n'})\n",
      "Processed 1 messages ({'-1222895206039089136': b'BEAT -1222895206039089136\\n'})\n",
      "Processed 1 messages ({'-1222895206039089136': b'BEAT -1222895206039089136\\n'})\n",
      "Processed 1 messages ({'5520797163900933949': b'BEAT 5520797163900933949\\n'})\n",
      "Processed 1 messages ({'5520797163900933949': b'BEAT 5520797163900933949\\n'})\n",
      "-----------------------------SOlo se puden mandar 1, se mandan 1\n",
      "Processed 1 messages ({'5520797163900933949': b'BEAT 5520797163900933949\\n'})\n",
      "-----------------------------SOlo se puden mandar 1, se mandan 1\n",
      "-----------------------------SOlo se puden mandar 1, se mandan 1\n",
      "-----------------------------SOlo se puden mandar 1, se mandan 1\n",
      "-----------------------------SOlo se puden mandar 1, se mandan 1\n",
      "-----------------------------SOlo se puden mandar 1, se mandan 1\n",
      "INFO:root:(('127.0.0.1', 39375)) Evaluated. Losss: 2.301456928253174, Metric: 0.11810000240802765. (Check tensorboard for more info)\n",
      "INFO:root:(('127.0.0.1', 39375)) Training...\n"
     ]
    },
    {
     "data": {
      "application/vnd.jupyter.widget-view+json": {
       "model_id": "",
       "version_major": 2,
       "version_minor": 0
      },
      "text/plain": [
       "Sanity Checking: 0it [00:00, ?it/s]"
      ]
     },
     "metadata": {},
     "output_type": "display_data"
    },
    {
     "data": {
      "application/vnd.jupyter.widget-view+json": {
       "model_id": "d7bb4dc931ab458294d928e18a30ebc0",
       "version_major": 2,
       "version_minor": 0
      },
      "text/plain": [
       "Training: 0it [00:00, ?it/s]"
      ]
     },
     "metadata": {},
     "output_type": "display_data"
    },
    {
     "name": "stdout",
     "output_type": "stream",
     "text": [
      "-----------------------------SOlo se puden mandar 1, se mandan 1-----------------------------SOlo se puden mandar 1, se mandan 1\n",
      "\n",
      "-----------------------------SOlo se puden mandar 1, se mandan 1\n",
      "-----------------------------SOlo se puden mandar 1, se mandan 1\n",
      "Processed 1 messages ({'5576033028278015084': b'BEAT 5576033028278015084\\n'})\n",
      "Processed 1 messages ({'5576033028278015084': b'BEAT 5576033028278015084\\n'})\n",
      "Processed 1 messages ({'5576033028278015084': b'BEAT 5576033028278015084\\n'})\n",
      "Processed 1 messages ({'4148399237115058018': b'BEAT 4148399237115058018\\n'})\n",
      "Processed 1 messages ({'4148399237115058018': b'BEAT 4148399237115058018\\n'})\n",
      "Processed 1 messages ({'4148399237115058018': b'BEAT 4148399237115058018\\n'})\n",
      "-----------------------------SOlo se puden mandar 1, se mandan 1\n",
      "-----------------------------SOlo se puden mandar 1, se mandan 1\n",
      "Processed 1 messages ({'8671607173666474142': b'BEAT 8671607173666474142\\n'})\n",
      "Processed 1 messages ({'8671607173666474142': b'BEAT 8671607173666474142\\n'})\n",
      "Processed 1 messages ({'8671607173666474142': b'BEAT 8671607173666474142\\n'})\n",
      "Processed 1 messages ({'-6884942069408351492': b'BEAT -6884942069408351492\\n'})\n",
      "Processed 1 messages ({'-6884942069408351492': b'BEAT -6884942069408351492\\n'})\n",
      "Processed 1 messages ({'-6884942069408351492': b'BEAT -6884942069408351492\\n'})\n",
      "-----------------------------SOlo se puden mandar 1, se mandan 1\n",
      "-----------------------------SOlo se puden mandar 1, se mandan 1\n",
      "-----------------------------SOlo se puden mandar 1, se mandan 1\n",
      "-----------------------------SOlo se puden mandar 1, se mandan 1\n",
      "-----------------------------SOlo se puden mandar 1, se mandan 1\n",
      "-----------------------------SOlo se puden mandar 1, se mandan 1\n",
      "INFO:root:(('127.0.0.1', 56497)) Evaluated. Losss: 2.301456928253174, Metric: 0.11810000240802765. (Check tensorboard for more info)\n",
      "INFO:root:(('127.0.0.1', 56497)) Training...\n"
     ]
    },
    {
     "data": {
      "application/vnd.jupyter.widget-view+json": {
       "model_id": "",
       "version_major": 2,
       "version_minor": 0
      },
      "text/plain": [
       "Sanity Checking: 0it [00:00, ?it/s]"
      ]
     },
     "metadata": {},
     "output_type": "display_data"
    },
    {
     "name": "stdout",
     "output_type": "stream",
     "text": [
      "-----------------------------SOlo se puden mandar 1, se mandan 1\n",
      "-----------------------------SOlo se puden mandar 1, se mandan 1\n",
      "-----------------------------SOlo se puden mandar 1, se mandan 1\n"
     ]
    },
    {
     "data": {
      "application/vnd.jupyter.widget-view+json": {
       "model_id": "c9cbbe7fa950420b9919de9816dfee12",
       "version_major": 2,
       "version_minor": 0
      },
      "text/plain": [
       "Training: 0it [00:00, ?it/s]"
      ]
     },
     "metadata": {},
     "output_type": "display_data"
    },
    {
     "name": "stdout",
     "output_type": "stream",
     "text": [
      "-----------------------------SOlo se puden mandar 1, se mandan 1\n",
      "Processed 1 messages ({'-6817100957813641811': b'BEAT -6817100957813641811\\n'})\n",
      "Processed 1 messages ({'-6817100957813641811': b'BEAT -6817100957813641811\\n'})\n",
      "Processed 1 messages ({'-6817100957813641811': b'BEAT -6817100957813641811\\n'})\n",
      "Processed 1 messages ({'485987849655206485': b'BEAT 485987849655206485\\n'})\n",
      "Processed 1 messages ({'485987849655206485': b'BEAT 485987849655206485\\n'})\n",
      "Processed 1 messages ({'485987849655206485': b'BEAT 485987849655206485\\n'})\n",
      "-----------------------------SOlo se puden mandar 1, se mandan 1\n",
      "-----------------------------SOlo se puden mandar 1, se mandan 1\n",
      "Processed 1 messages ({'3398774520207955474': b'BEAT 3398774520207955474\\n'})\n",
      "Processed 1 messages ({'3398774520207955474': b'BEAT 3398774520207955474\\n'})\n",
      "Processed 1 messages ({'3398774520207955474': b'BEAT 3398774520207955474\\n'})\n",
      "Processed 1 messages ({'184467296023768864': b'BEAT 184467296023768864\\n'})\n",
      "Processed 1 messages ({'184467296023768864': b'BEAT 184467296023768864\\n'})\n",
      "Processed 1 messages ({'184467296023768864': b'BEAT 184467296023768864\\n'})\n",
      "-----------------------------SOlo se puden mandar 1, se mandan 1\n",
      "-----------------------------SOlo se puden mandar 1, se mandan 1\n",
      "-----------------------------SOlo se puden mandar 1, se mandan 1\n",
      "-----------------------------SOlo se puden mandar 1, se mandan 1\n",
      "-----------------------------SOlo se puden mandar 1, se mandan 1\n",
      "-----------------------------SOlo se puden mandar 1, se mandan 1\n",
      "-----------------------------SOlo se puden mandar 1, se mandan 1\n",
      "-----------------------------SOlo se puden mandar 1, se mandan 1\n",
      "-----------------------------SOlo se puden mandar 1, se mandan 1\n",
      "-----------------------------SOlo se puden mandar 1, se mandan 1\n",
      "Processed 1 messages ({'3525434349596251199': b'BEAT 3525434349596251199\\n'})\n",
      "Processed 1 messages ({'3525434349596251199': b'BEAT 3525434349596251199\\n'})\n",
      "Processed 1 messages ({'3525434349596251199': b'BEAT 3525434349596251199\\n'})\n",
      "Processed 1 messages ({'-388153324971710831': b'BEAT -388153324971710831\\n'})\n",
      "Processed 1 messages ({'-388153324971710831': b'BEAT -388153324971710831\\n'})\n",
      "Processed 1 messages ({'-388153324971710831': b'BEAT -388153324971710831\\n'})\n",
      "-----------------------------SOlo se puden mandar 1, se mandan 1\n",
      "-----------------------------SOlo se puden mandar 1, se mandan 1\n",
      "Processed 1 messages ({'-4532027175487840228': b'BEAT -4532027175487840228\\n'})\n",
      "Processed 1 messages ({'-4532027175487840228': b'BEAT -4532027175487840228\\n'})\n",
      "Processed 1 messages ({'-4532027175487840228': b'BEAT -4532027175487840228\\n'})\n",
      "Processed 1 messages ({'8886239536070399819': b'BEAT 8886239536070399819\\n'})\n",
      "Processed 1 messages ({'8886239536070399819': b'BEAT 8886239536070399819\\n'})\n",
      "Processed 1 messages ({'8886239536070399819': b'BEAT 8886239536070399819\\n'})\n",
      "-----------------------------SOlo se puden mandar 1, se mandan 1\n",
      "-----------------------------SOlo se puden mandar 1, se mandan 1\n",
      "-----------------------------SOlo se puden mandar 1, se mandan 1\n",
      "-----------------------------SOlo se puden mandar 1, se mandan 1\n",
      "-----------------------------SOlo se puden mandar 1, se mandan 1\n",
      "-----------------------------SOlo se puden mandar 1, se mandan 1\n",
      "-----------------------------SOlo se puden mandar 1, se mandan 1\n",
      "-----------------------------SOlo se puden mandar 1, se mandan 1\n",
      "-----------------------------SOlo se puden mandar 1, se mandan 1\n",
      "-----------------------------SOlo se puden mandar 1, se mandan 1\n",
      "Processed 1 messages ({'-2336986173997917170': b'BEAT -2336986173997917170\\n'})Processed 1 messages ({'-2336986173997917170': b'BEAT -2336986173997917170\\n'})\n",
      "\n",
      "Processed 1 messages ({'-2336986173997917170': b'BEAT -2336986173997917170\\n'})\n",
      "Processed 1 messages ({'-18501901279126814': b'BEAT -18501901279126814\\n'})\n",
      "Processed 1 messages ({'-18501901279126814': b'BEAT -18501901279126814\\n'})\n",
      "Processed 1 messages ({'-18501901279126814': b'BEAT -18501901279126814\\n'})\n",
      "-----------------------------SOlo se puden mandar 1, se mandan 1\n",
      "-----------------------------SOlo se puden mandar 1, se mandan 1\n",
      "Processed 1 messages ({'3158794134992599302': b'BEAT 3158794134992599302\\n'})\n",
      "Processed 1 messages ({'3158794134992599302': b'BEAT 3158794134992599302\\n'})\n",
      "Processed 1 messages ({'3158794134992599302': b'BEAT 3158794134992599302\\n'})\n",
      "Processed 1 messages ({'-7371879437717976565': b'BEAT -7371879437717976565\\n'})\n",
      "Processed 1 messages ({'-7371879437717976565': b'BEAT -7371879437717976565\\n'})\n",
      "Processed 1 messages ({'-7371879437717976565': b'BEAT -7371879437717976565\\n'})\n",
      "-----------------------------SOlo se puden mandar 1, se mandan 1\n",
      "-----------------------------SOlo se puden mandar 1, se mandan 1\n",
      "-----------------------------SOlo se puden mandar 1, se mandan 1\n",
      "-----------------------------SOlo se puden mandar 1, se mandan 1\n",
      "-----------------------------SOlo se puden mandar 1, se mandan 1\n",
      "-----------------------------SOlo se puden mandar 1, se mandan 1\n",
      "-----------------------------SOlo se puden mandar 1, se mandan 1\n",
      "-----------------------------SOlo se puden mandar 1, se mandan 1\n",
      "-----------------------------SOlo se puden mandar 1, se mandan 1\n",
      "-----------------------------SOlo se puden mandar 1, se mandan 1\n",
      "Processed 1 messages ({'5015015876777593248': b'BEAT 5015015876777593248\\n'})\n",
      "Processed 1 messages ({'5015015876777593248': b'BEAT 5015015876777593248\\n'})\n",
      "Processed 1 messages ({'5015015876777593248': b'BEAT 5015015876777593248\\n'})\n",
      "Processed 1 messages ({'4952358609708505095': b'BEAT 4952358609708505095\\n'})\n",
      "Processed 1 messages ({'4952358609708505095': b'BEAT 4952358609708505095\\n'})\n",
      "Processed 1 messages ({'4952358609708505095': b'BEAT 4952358609708505095\\n'})\n",
      "-----------------------------SOlo se puden mandar 1, se mandan 1\n",
      "-----------------------------SOlo se puden mandar 1, se mandan 1\n",
      "Processed 1 messages ({'4849947506243873217': b'BEAT 4849947506243873217\\n'})\n",
      "Processed 1 messages ({'4849947506243873217': b'BEAT 4849947506243873217\\n'})\n",
      "Processed 1 messages ({'4849947506243873217': b'BEAT 4849947506243873217\\n'})\n",
      "Processed 1 messages ({'8724168809010346775': b'BEAT 8724168809010346775\\n'})\n",
      "Processed 1 messages ({'8724168809010346775': b'BEAT 8724168809010346775\\n'})\n",
      "Processed 1 messages ({'8724168809010346775': b'BEAT 8724168809010346775\\n'})\n",
      "-----------------------------SOlo se puden mandar 1, se mandan 1\n",
      "-----------------------------SOlo se puden mandar 1, se mandan 1\n"
     ]
    },
    {
     "data": {
      "application/vnd.jupyter.widget-view+json": {
       "model_id": "",
       "version_major": 2,
       "version_minor": 0
      },
      "text/plain": [
       "Validation: 0it [00:00, ?it/s]"
      ]
     },
     "metadata": {},
     "output_type": "display_data"
    },
    {
     "data": {
      "application/vnd.jupyter.widget-view+json": {
       "model_id": "",
       "version_major": 2,
       "version_minor": 0
      },
      "text/plain": [
       "Validation: 0it [00:00, ?it/s]"
      ]
     },
     "metadata": {},
     "output_type": "display_data"
    },
    {
     "name": "stdout",
     "output_type": "stream",
     "text": [
      "-----------------------------SOlo se puden mandar 1, se mandan 1\n",
      "-----------------------------SOlo se puden mandar 1, se mandan 1\n",
      "-----------------------------SOlo se puden mandar 1, se mandan 1\n",
      "-----------------------------SOlo se puden mandar 1, se mandan 1\n",
      "-----------------------------SOlo se puden mandar 1, se mandan 1\n",
      "-----------------------------SOlo se puden mandar 1, se mandan 1\n",
      "-----------------------------SOlo se puden mandar 1, se mandan 1\n",
      "-----------------------------SOlo se puden mandar 1, se mandan 1\n",
      "INFO:root:(127.0.0.1:33037) Model added (1/4) from ('127.0.0.1', 33037)\n",
      "INFO:root:(('127.0.0.1', 33037)) Broadcasting model to 3 clients. (size: 548864 bytes)\n",
      "INFO:root:(127.0.0.1:56497) Model added (1/4) from ('127.0.0.1', 33037)\n",
      "INFO:root:(127.0.0.1:39375) Model added (1/4) from ('127.0.0.1', 33037)\n",
      "INFO:root:(127.0.0.1:58235) Model added (1/4) from ('127.0.0.1', 33037)\n",
      "INFO:root:(127.0.0.1:58235) Model added (2/4) from ('127.0.0.1', 58235)\n",
      "INFO:root:(('127.0.0.1', 58235)) Broadcasting model to 3 clients. (size: 548864 bytes)\n",
      "INFO:root:(127.0.0.1:39375) Model added (2/4) from ('127.0.0.1', 58235)\n",
      "INFO:root:(127.0.0.1:33037) Model added (2/4) from ('127.0.0.1', 58235)\n",
      "INFO:root:(127.0.0.1:56497) Model added (2/4) from ('127.0.0.1', 58235)\n",
      "Processed 1 messages ({'-1391968844881425302': b'BEAT -1391968844881425302\\n'})\n",
      "Processed 1 messages ({'-1391968844881425302': b'BEAT -1391968844881425302\\n'})\n",
      "Processed 1 messages ({'-1391968844881425302': b'BEAT -1391968844881425302\\n'})\n",
      "Processed 1 messages ({'-6585500709926319027': b'BEAT -6585500709926319027\\n'})\n",
      "Processed 1 messages ({'-6585500709926319027': b'BEAT -6585500709926319027\\n'})\n",
      "Processed 1 messages ({'-6585500709926319027': b'BEAT -6585500709926319027\\n'})\n",
      "-----------------------------SOlo se puden mandar 1, se mandan 1\n"
     ]
    },
    {
     "data": {
      "application/vnd.jupyter.widget-view+json": {
       "model_id": "",
       "version_major": 2,
       "version_minor": 0
      },
      "text/plain": [
       "Validation: 0it [00:00, ?it/s]"
      ]
     },
     "metadata": {},
     "output_type": "display_data"
    },
    {
     "name": "stdout",
     "output_type": "stream",
     "text": [
      "Processed 1 messages ({'7152934916403634403': b'BEAT 7152934916403634403\\n'})\n",
      "Processed 1 messages ({'7152934916403634403': b'BEAT 7152934916403634403\\n'})\n",
      "Processed 1 messages ({'7152934916403634403': b'BEAT 7152934916403634403\\n'})\n",
      "-----------------------------SOlo se puden mandar 1, se mandan 1\n",
      "Processed 1 messages ({'2456290062538719069': b'BEAT 2456290062538719069\\n'})\n",
      "Processed 1 messages ({'2456290062538719069': b'BEAT 2456290062538719069\\n'})\n",
      "Processed 1 messages ({'2456290062538719069': b'BEAT 2456290062538719069\\n'})\n",
      "-----------------------------SOlo se puden mandar 1, se mandan 1\n",
      "-----------------------------SOlo se puden mandar 1, se mandan 1\n",
      "-----------------------------SOlo se puden mandar 1, se mandan 1\n",
      "-----------------------------SOlo se puden mandar 1, se mandan 1\n",
      "-----------------------------SOlo se puden mandar 1, se mandan 1\n",
      "-----------------------------SOlo se puden mandar 1, se mandan 1\n",
      "-----------------------------SOlo se puden mandar 1, se mandan 1\n",
      "INFO:root:(127.0.0.1:39375) Model added (3/4) from ('127.0.0.1', 39375)\n",
      "INFO:root:(('127.0.0.1', 39375)) Broadcasting model to 3 clients. (size: 548864 bytes)\n",
      "INFO:root:(127.0.0.1:33037) Model added (3/4) from ('127.0.0.1', 39375)\n",
      "INFO:root:(127.0.0.1:56497) Model added (3/4) from ('127.0.0.1', 39375)\n",
      "INFO:root:(127.0.0.1:58235) Model added (3/4) from ('127.0.0.1', 39375)\n",
      "-----------------------------SOlo se puden mandar 1, se mandan 1\n",
      "-----------------------------SOlo se puden mandar 1, se mandan 1\n",
      "-----------------------------SOlo se puden mandar 1, se mandan 1\n",
      "-----------------------------SOlo se puden mandar 1, se mandan 1\n"
     ]
    },
    {
     "data": {
      "application/vnd.jupyter.widget-view+json": {
       "model_id": "",
       "version_major": 2,
       "version_minor": 0
      },
      "text/plain": [
       "Validation: 0it [00:00, ?it/s]"
      ]
     },
     "metadata": {},
     "output_type": "display_data"
    },
    {
     "name": "stdout",
     "output_type": "stream",
     "text": [
      "INFO:root:(127.0.0.1:56497) Model added (4/4) from ('127.0.0.1', 56497)\n",
      "INFO:root:(127.0.0.1:56497) Agregating models.\n",
      "INFO:root:(('127.0.0.1', 56497)) Broadcasting model to 3 clients. (size: 548864 bytes)\n",
      "INFO:root:(('127.0.0.1', 56497)) Waiting other nodes.\n",
      "INFO:root:(127.0.0.1:33037) Model added (4/4) from ('127.0.0.1', 56497)\n",
      "INFO:root:(127.0.0.1:33037) Agregating models.\n",
      "INFO:root:(127.0.0.1:58235) Model added (4/4) from ('127.0.0.1', 56497)\n",
      "INFO:root:(127.0.0.1:58235) Agregating models.\n",
      "INFO:root:(127.0.0.1:39375) Model added (4/4) from ('127.0.0.1', 56497)\n",
      "INFO:root:(127.0.0.1:39375) Agregating models.\n",
      "INFO:root:(('127.0.0.1', 33037)) Waiting other nodes.\n",
      "INFO:root:(('127.0.0.1', 58235)) Waiting other nodes.\n",
      "INFO:root:(('127.0.0.1', 39375)) Waiting other nodes.\n",
      "INFO:root:(('127.0.0.1', 39375)) Broadcasting model to 3 clients. (size: 548864 bytes)\n",
      "INFO:root:(('127.0.0.1', 56497)) Broadcasting model to 3 clients. (size: 548864 bytes)\n",
      "INFO:root:(('127.0.0.1', 58235)) Broadcasting model to 3 clients. (size: 548864 bytes)\n",
      "INFO:root:(('127.0.0.1', 33037)) Broadcasting model to 3 clients. (size: 548864 bytes)\n",
      "INFO:root:(('127.0.0.1', 39375)) Waiting other nodes.\n",
      "INFO:root:(('127.0.0.1', 56497)) Waiting other nodes.\n",
      "INFO:root:(('127.0.0.1', 58235)) Waiting other nodes.\n",
      "INFO:root:(('127.0.0.1', 33037)) Waiting other nodes.\n",
      "INFO:root:(('127.0.0.1', 39375)) Round 1 of 2 finished.\n",
      "INFO:root:(('127.0.0.1', 56497)) Round 1 of 2 finished.\n",
      "INFO:root:(('127.0.0.1', 58235)) Round 1 of 2 finished.\n",
      "INFO:root:(('127.0.0.1', 33037)) Round 1 of 2 finished.\n",
      "INFO:root:(('127.0.0.1', 39375)) Sending train set vote.\n",
      "INFO:root:(('127.0.0.1', 56497)) Sending train set vote.\n",
      "INFO:root:(('127.0.0.1', 58235)) Sending train set vote.\n",
      "INFO:root:(('127.0.0.1', 33037)) Sending train set vote.\n",
      "INFO:root:(('127.0.0.1', 39375)) Waiting other node votes.\n",
      "INFO:root:(('127.0.0.1', 56497)) Waiting other node votes.\n",
      "INFO:root:(('127.0.0.1', 58235)) Waiting other node votes.\n",
      "INFO:root:(('127.0.0.1', 33037)) Waiting other node votes.\n",
      "INFO:root:('127.0.0.1', 39375) Train set of 4 nodes. [('127.0.0.1', 58235), ('127.0.0.1', 33037), ('127.0.0.1', 39375), ('127.0.0.1', 56497)]\n",
      "INFO:root:('127.0.0.1', 56497) Train set of 4 nodes. [('127.0.0.1', 58235), ('127.0.0.1', 33037), ('127.0.0.1', 39375), ('127.0.0.1', 56497)]\n",
      "INFO:root:('127.0.0.1', 58235) Train set of 4 nodes. [('127.0.0.1', 58235), ('127.0.0.1', 33037), ('127.0.0.1', 39375), ('127.0.0.1', 56497)]\n",
      "INFO:root:('127.0.0.1', 33037) Train set of 4 nodes. [('127.0.0.1', 58235), ('127.0.0.1', 33037), ('127.0.0.1', 39375), ('127.0.0.1', 56497)]\n",
      "INFO:root:(('127.0.0.1', 39375)) Evaluating...\n",
      "INFO:root:(('127.0.0.1', 56497)) Evaluating...\n",
      "INFO:root:(('127.0.0.1', 58235)) Evaluating...\n",
      "INFO:root:(('127.0.0.1', 33037)) Evaluating...\n"
     ]
    },
    {
     "data": {
      "application/vnd.jupyter.widget-view+json": {
       "model_id": "620476e37b80474d8a5c79bffc3aa1a1",
       "version_major": 2,
       "version_minor": 0
      },
      "text/plain": [
       "Testing: 0it [00:00, ?it/s]"
      ]
     },
     "metadata": {},
     "output_type": "display_data"
    },
    {
     "data": {
      "application/vnd.jupyter.widget-view+json": {
       "model_id": "9b67884e52c74243b3889c8bd2db8c10",
       "version_major": 2,
       "version_minor": 0
      },
      "text/plain": [
       "Testing: 0it [00:00, ?it/s]"
      ]
     },
     "metadata": {},
     "output_type": "display_data"
    },
    {
     "data": {
      "application/vnd.jupyter.widget-view+json": {
       "model_id": "f954f9dfa4e14c5eacb8abbe3a68ce46",
       "version_major": 2,
       "version_minor": 0
      },
      "text/plain": [
       "Testing: 0it [00:00, ?it/s]"
      ]
     },
     "metadata": {},
     "output_type": "display_data"
    },
    {
     "data": {
      "application/vnd.jupyter.widget-view+json": {
       "model_id": "d1b1ae76c85642eb98a3282caf541188",
       "version_major": 2,
       "version_minor": 0
      },
      "text/plain": [
       "Testing: 0it [00:00, ?it/s]"
      ]
     },
     "metadata": {},
     "output_type": "display_data"
    },
    {
     "name": "stdout",
     "output_type": "stream",
     "text": [
      "Processed 1 messages ({'1367848483692956406': b'BEAT 1367848483692956406\\n'})\n",
      "Processed 1 messages ({'1367848483692956406': b'BEAT 1367848483692956406\\n'})\n",
      "Processed 1 messages ({'1367848483692956406': b'BEAT 1367848483692956406\\n'})\n",
      "Processed 1 messages ({'4291566455291867976': b'BEAT 4291566455291867976\\n'})\n",
      "Processed 1 messages ({'4291566455291867976': b'BEAT 4291566455291867976\\n'})\n",
      "Processed 1 messages ({'4291566455291867976': b'BEAT 4291566455291867976\\n'})\n",
      "-----------------------------SOlo se puden mandar 1, se mandan 1\n",
      "Processed 1 messages ({'3392562057241294041': b'BEAT 3392562057241294041\\n'})\n",
      "Processed 1 messages ({'3392562057241294041': b'BEAT 3392562057241294041\\n'})\n",
      "Processed 1 messages ({'3392562057241294041': b'BEAT 3392562057241294041\\n'})\n",
      "Processed 1 messages ({'7270642959615825839': b'BEAT 7270642959615825839\\n'})\n",
      "Processed 1 messages ({'7270642959615825839': b'BEAT 7270642959615825839\\n'})\n",
      "Processed 1 messages ({'7270642959615825839': b'BEAT 7270642959615825839\\n'})\n",
      "-----------------------------SOlo se puden mandar 1, se mandan 1\n",
      "-----------------------------SOlo se puden mandar 1, se mandan 1\n",
      "-----------------------------SOlo se puden mandar 1, se mandan 1\n",
      "-----------------------------SOlo se puden mandar 1, se mandan 1\n",
      "-----------------------------SOlo se puden mandar 1, se mandan 1\n",
      "-----------------------------SOlo se puden mandar 1, se mandan 1\n",
      "-----------------------------SOlo se puden mandar 1, se mandan 1\n",
      "-----------------------------SOlo se puden mandar 1, se mandan 1\n",
      "-----------------------------SOlo se puden mandar 1, se mandan 1\n",
      "-----------------------------SOlo se puden mandar 1, se mandan 1\n",
      "-----------------------------SOlo se puden mandar 1, se mandan 1\n",
      "INFO:root:(('127.0.0.1', 39375)) Evaluated. Losss: 0.16284576058387756, Metric: 0.957099974155426. (Check tensorboard for more info)\n",
      "INFO:root:(('127.0.0.1', 39375)) Training...\n",
      "INFO:root:(('127.0.0.1', 56497)) Evaluated. Losss: 0.16284576058387756, Metric: 0.957099974155426. (Check tensorboard for more info)\n",
      "INFO:root:(('127.0.0.1', 56497)) Training...\n",
      "INFO:root:(('127.0.0.1', 33037)) Evaluated. Losss: 0.16284576058387756, Metric: 0.957099974155426. (Check tensorboard for more info)\n",
      "INFO:root:(('127.0.0.1', 33037)) Training...\n",
      "INFO:root:(('127.0.0.1', 58235)) Evaluated. Losss: 0.16284576058387756, Metric: 0.957099974155426. (Check tensorboard for more info)\n",
      "INFO:root:(('127.0.0.1', 58235)) Training...\n"
     ]
    },
    {
     "data": {
      "application/vnd.jupyter.widget-view+json": {
       "model_id": "",
       "version_major": 2,
       "version_minor": 0
      },
      "text/plain": [
       "Sanity Checking: 0it [00:00, ?it/s]"
      ]
     },
     "metadata": {},
     "output_type": "display_data"
    },
    {
     "data": {
      "application/vnd.jupyter.widget-view+json": {
       "model_id": "",
       "version_major": 2,
       "version_minor": 0
      },
      "text/plain": [
       "Sanity Checking: 0it [00:00, ?it/s]"
      ]
     },
     "metadata": {},
     "output_type": "display_data"
    },
    {
     "data": {
      "application/vnd.jupyter.widget-view+json": {
       "model_id": "",
       "version_major": 2,
       "version_minor": 0
      },
      "text/plain": [
       "Sanity Checking: 0it [00:00, ?it/s]"
      ]
     },
     "metadata": {},
     "output_type": "display_data"
    },
    {
     "data": {
      "application/vnd.jupyter.widget-view+json": {
       "model_id": "",
       "version_major": 2,
       "version_minor": 0
      },
      "text/plain": [
       "Sanity Checking: 0it [00:00, ?it/s]"
      ]
     },
     "metadata": {},
     "output_type": "display_data"
    },
    {
     "data": {
      "application/vnd.jupyter.widget-view+json": {
       "model_id": "a45d14e4127e48f99d07781f73546ef8",
       "version_major": 2,
       "version_minor": 0
      },
      "text/plain": [
       "Training: 0it [00:00, ?it/s]"
      ]
     },
     "metadata": {},
     "output_type": "display_data"
    },
    {
     "data": {
      "application/vnd.jupyter.widget-view+json": {
       "model_id": "f425e2160b84492a94be63b260007af1",
       "version_major": 2,
       "version_minor": 0
      },
      "text/plain": [
       "Training: 0it [00:00, ?it/s]"
      ]
     },
     "metadata": {},
     "output_type": "display_data"
    },
    {
     "data": {
      "application/vnd.jupyter.widget-view+json": {
       "model_id": "f09538f46ea74350b23a535ec9e52b68",
       "version_major": 2,
       "version_minor": 0
      },
      "text/plain": [
       "Training: 0it [00:00, ?it/s]"
      ]
     },
     "metadata": {},
     "output_type": "display_data"
    },
    {
     "data": {
      "application/vnd.jupyter.widget-view+json": {
       "model_id": "2ee6acfaa18449a69506a33f55afc1fa",
       "version_major": 2,
       "version_minor": 0
      },
      "text/plain": [
       "Training: 0it [00:00, ?it/s]"
      ]
     },
     "metadata": {},
     "output_type": "display_data"
    },
    {
     "name": "stdout",
     "output_type": "stream",
     "text": [
      "Processed 1 messages ({'-6063836165488709889': b'BEAT -6063836165488709889\\n'})\n",
      "Processed 1 messages ({'-6063836165488709889': b'BEAT -6063836165488709889\\n'})\n",
      "Processed 1 messages ({'-6063836165488709889': b'BEAT -6063836165488709889\\n'})\n",
      "Processed 1 messages ({'-4377389580431723953': b'BEAT -4377389580431723953\\n'})\n",
      "Processed 1 messages ({'-4377389580431723953': b'BEAT -4377389580431723953\\n'})\n",
      "Processed 1 messages ({'-4377389580431723953': b'BEAT -4377389580431723953\\n'})\n",
      "-----------------------------SOlo se puden mandar 1, se mandan 1\n",
      "Processed 1 messages ({'-6149700559308455159': b'BEAT -6149700559308455159\\n'})\n",
      "Processed 1 messages ({'-6149700559308455159': b'BEAT -6149700559308455159\\n'})\n",
      "Processed 1 messages ({'-6149700559308455159': b'BEAT -6149700559308455159\\n'})\n",
      "Processed 1 messages ({'7720701890378907263': b'BEAT 7720701890378907263\\n'})\n",
      "Processed 1 messages ({'7720701890378907263': b'BEAT 7720701890378907263\\n'})\n",
      "Processed 1 messages ({'7720701890378907263': b'BEAT 7720701890378907263\\n'})\n",
      "-----------------------------SOlo se puden mandar 1, se mandan 1\n",
      "-----------------------------SOlo se puden mandar 1, se mandan 1\n",
      "-----------------------------SOlo se puden mandar 1, se mandan 1\n",
      "-----------------------------SOlo se puden mandar 1, se mandan 1\n",
      "-----------------------------SOlo se puden mandar 1, se mandan 1\n",
      "-----------------------------SOlo se puden mandar 1, se mandan 1\n",
      "-----------------------------SOlo se puden mandar 1, se mandan 1\n",
      "-----------------------------SOlo se puden mandar 1, se mandan 1\n",
      "-----------------------------SOlo se puden mandar 1, se mandan 1\n",
      "-----------------------------SOlo se puden mandar 1, se mandan 1\n",
      "-----------------------------SOlo se puden mandar 1, se mandan 1\n",
      "Processed 1 messages ({'1073940884012097175': b'BEAT 1073940884012097175\\n'})\n",
      "Processed 1 messages ({'1073940884012097175': b'BEAT 1073940884012097175\\n'})\n",
      "Processed 1 messages ({'1073940884012097175': b'BEAT 1073940884012097175\\n'})\n",
      "Processed 1 messages ({'1856993786344430140': b'BEAT 1856993786344430140\\n'})\n",
      "Processed 1 messages ({'1856993786344430140': b'BEAT 1856993786344430140\\n'})\n",
      "Processed 1 messages ({'1856993786344430140': b'BEAT 1856993786344430140\\n'})\n",
      "Processed 1 messages ({'-838051450417860865': b'BEAT -838051450417860865\\n'})\n",
      "Processed 1 messages ({'-838051450417860865': b'BEAT -838051450417860865\\n'})\n",
      "Processed 1 messages ({'-838051450417860865': b'BEAT -838051450417860865\\n'})\n",
      "-----------------------------SOlo se puden mandar 1, se mandan 1\n",
      "Processed 1 messages ({'639320233392507601': b'BEAT 639320233392507601\\n'})\n",
      "Processed 1 messages ({'639320233392507601': b'BEAT 639320233392507601\\n'})\n",
      "Processed 1 messages ({'639320233392507601': b'BEAT 639320233392507601\\n'})\n",
      "-----------------------------SOlo se puden mandar 1, se mandan 1\n",
      "-----------------------------SOlo se puden mandar 1, se mandan 1\n",
      "-----------------------------SOlo se puden mandar 1, se mandan 1\n",
      "-----------------------------SOlo se puden mandar 1, se mandan 1\n",
      "-----------------------------SOlo se puden mandar 1, se mandan 1\n",
      "-----------------------------SOlo se puden mandar 1, se mandan 1\n",
      "-----------------------------SOlo se puden mandar 1, se mandan 1\n",
      "-----------------------------SOlo se puden mandar 1, se mandan 1\n",
      "-----------------------------SOlo se puden mandar 1, se mandan 1\n",
      "-----------------------------SOlo se puden mandar 1, se mandan 1\n",
      "-----------------------------SOlo se puden mandar 1, se mandan 1\n",
      "Processed 1 messages ({'7618905718793732625': b'BEAT 7618905718793732625\\n'})\n",
      "Processed 1 messages ({'7618905718793732625': b'BEAT 7618905718793732625\\n'})\n",
      "Processed 1 messages ({'7618905718793732625': b'BEAT 7618905718793732625\\n'})\n",
      "Processed 1 messages ({'9019510244376614710': b'BEAT 9019510244376614710\\n'})\n",
      "Processed 1 messages ({'9019510244376614710': b'BEAT 9019510244376614710\\n'})\n",
      "Processed 1 messages ({'9019510244376614710': b'BEAT 9019510244376614710\\n'})\n",
      "Processed 1 messages ({'-1626694956022573525': b'BEAT -1626694956022573525\\n'})\n",
      "Processed 1 messages ({'-1626694956022573525': b'BEAT -1626694956022573525\\n'})\n",
      "Processed 1 messages ({'-1626694956022573525': b'BEAT -1626694956022573525\\n'})\n",
      "-----------------------------SOlo se puden mandar 1, se mandan 1\n",
      "Processed 1 messages ({'4028338318678878876': b'BEAT 4028338318678878876\\n'})\n",
      "Processed 1 messages ({'4028338318678878876': b'BEAT 4028338318678878876\\n'})\n",
      "Processed 1 messages ({'4028338318678878876': b'BEAT 4028338318678878876\\n'})\n",
      "-----------------------------SOlo se puden mandar 1, se mandan 1\n",
      "-----------------------------SOlo se puden mandar 1, se mandan 1\n",
      "-----------------------------SOlo se puden mandar 1, se mandan 1\n",
      "-----------------------------SOlo se puden mandar 1, se mandan 1\n",
      "-----------------------------SOlo se puden mandar 1, se mandan 1\n",
      "-----------------------------SOlo se puden mandar 1, se mandan 1\n",
      "-----------------------------SOlo se puden mandar 1, se mandan 1\n",
      "-----------------------------SOlo se puden mandar 1, se mandan 1\n",
      "-----------------------------SOlo se puden mandar 1, se mandan 1\n",
      "-----------------------------SOlo se puden mandar 1, se mandan 1\n",
      "-----------------------------SOlo se puden mandar 1, se mandan 1\n",
      "Processed 1 messages ({'-4399498034515987833': b'BEAT -4399498034515987833\\n'})\n",
      "Processed 1 messages ({'-4399498034515987833': b'BEAT -4399498034515987833\\n'})\n",
      "Processed 1 messages ({'-4399498034515987833': b'BEAT -4399498034515987833\\n'})\n",
      "Processed 1 messages ({'4654542982622325225': b'BEAT 4654542982622325225\\n'})\n",
      "Processed 1 messages ({'4654542982622325225': b'BEAT 4654542982622325225\\n'})\n",
      "Processed 1 messages ({'4654542982622325225': b'BEAT 4654542982622325225\\n'})\n",
      "Processed 1 messages ({'-8785140967741780872': b'BEAT -8785140967741780872\\n'})\n",
      "Processed 1 messages ({'-8785140967741780872': b'BEAT -8785140967741780872\\n'})\n",
      "Processed 1 messages ({'-8785140967741780872': b'BEAT -8785140967741780872\\n'})\n",
      "-----------------------------SOlo se puden mandar 1, se mandan 1\n",
      "Processed 1 messages ({'2183113341011480880': b'BEAT 2183113341011480880\\n'})\n",
      "Processed 1 messages ({'2183113341011480880': b'BEAT 2183113341011480880\\n'})\n",
      "Processed 1 messages ({'2183113341011480880': b'BEAT 2183113341011480880\\n'})\n",
      "-----------------------------SOlo se puden mandar 1, se mandan 1\n",
      "-----------------------------SOlo se puden mandar 1, se mandan 1\n",
      "-----------------------------SOlo se puden mandar 1, se mandan 1\n",
      "-----------------------------SOlo se puden mandar 1, se mandan 1\n",
      "-----------------------------SOlo se puden mandar 1, se mandan 1\n",
      "-----------------------------SOlo se puden mandar 1, se mandan 1\n",
      "-----------------------------SOlo se puden mandar 1, se mandan 1\n",
      "-----------------------------SOlo se puden mandar 1, se mandan 1\n",
      "-----------------------------SOlo se puden mandar 1, se mandan 1\n",
      "-----------------------------SOlo se puden mandar 1, se mandan 1\n",
      "-----------------------------SOlo se puden mandar 1, se mandan 1\n",
      "Processed 1 messages ({'-6205302252548198501': b'BEAT -6205302252548198501\\n'})\n",
      "Processed 1 messages ({'-6205302252548198501': b'BEAT -6205302252548198501\\n'})\n",
      "Processed 1 messages ({'-6205302252548198501': b'BEAT -6205302252548198501\\n'})\n",
      "Processed 1 messages ({'-4238443823047203983': b'BEAT -4238443823047203983\\n'})\n",
      "Processed 1 messages ({'-4238443823047203983': b'BEAT -4238443823047203983\\n'})\n",
      "Processed 1 messages ({'-4238443823047203983': b'BEAT -4238443823047203983\\n'})\n",
      "Processed 1 messages ({'7744957268789285775': b'BEAT 7744957268789285775\\n'})\n",
      "Processed 1 messages ({'7744957268789285775': b'BEAT 7744957268789285775\\n'})\n",
      "Processed 1 messages ({'7744957268789285775': b'BEAT 7744957268789285775\\n'})\n",
      "Processed 1 messages ({'5044373101770277228': b'BEAT 5044373101770277228\\n'})\n",
      "Processed 1 messages ({'5044373101770277228': b'BEAT 5044373101770277228\\n'})\n",
      "Processed 1 messages ({'5044373101770277228': b'BEAT 5044373101770277228\\n'})\n",
      "-----------------------------SOlo se puden mandar 1, se mandan 1\n",
      "-----------------------------SOlo se puden mandar 1, se mandan 1\n",
      "-----------------------------SOlo se puden mandar 1, se mandan 1\n",
      "-----------------------------SOlo se puden mandar 1, se mandan 1\n",
      "-----------------------------SOlo se puden mandar 1, se mandan 1\n",
      "-----------------------------SOlo se puden mandar 1, se mandan 1\n",
      "-----------------------------SOlo se puden mandar 1, se mandan 1\n",
      "-----------------------------SOlo se puden mandar 1, se mandan 1\n"
     ]
    },
    {
     "name": "stdout",
     "output_type": "stream",
     "text": [
      "-----------------------------SOlo se puden mandar 1, se mandan 1\n",
      "-----------------------------SOlo se puden mandar 1, se mandan 1\n",
      "-----------------------------SOlo se puden mandar 1, se mandan 1\n",
      "-----------------------------SOlo se puden mandar 1, se mandan 1\n",
      "Processed 1 messages ({'-5214244031063370437': b'BEAT -5214244031063370437\\n'})Processed 1 messages ({'-5214244031063370437': b'BEAT -5214244031063370437\\n'})\n",
      "\n",
      "Processed 1 messages ({'-5214244031063370437': b'BEAT -5214244031063370437\\n'})\n",
      "Processed 1 messages ({'1752659963628882955': b'BEAT 1752659963628882955\\n'})\n",
      "Processed 1 messages ({'1752659963628882955': b'BEAT 1752659963628882955\\n'})\n",
      "Processed 1 messages ({'1752659963628882955': b'BEAT 1752659963628882955\\n'})\n",
      "Processed 1 messages ({'-7012483000803358775': b'BEAT -7012483000803358775\\n'})\n",
      "Processed 1 messages ({'-7012483000803358775': b'BEAT -7012483000803358775\\n'})\n",
      "Processed 1 messages ({'-7012483000803358775': b'BEAT -7012483000803358775\\n'})\n",
      "Processed 1 messages ({'-6373431692623255904': b'BEAT -6373431692623255904\\n'})\n",
      "Processed 1 messages ({'-6373431692623255904': b'BEAT -6373431692623255904\\n'})\n",
      "Processed 1 messages ({'-6373431692623255904': b'BEAT -6373431692623255904\\n'})\n",
      "-----------------------------SOlo se puden mandar 1, se mandan 1\n",
      "-----------------------------SOlo se puden mandar 1, se mandan 1\n",
      "-----------------------------SOlo se puden mandar 1, se mandan 1\n",
      "-----------------------------SOlo se puden mandar 1, se mandan 1\n",
      "-----------------------------SOlo se puden mandar 1, se mandan 1\n",
      "-----------------------------SOlo se puden mandar 1, se mandan 1\n",
      "-----------------------------SOlo se puden mandar 1, se mandan 1\n",
      "-----------------------------SOlo se puden mandar 1, se mandan 1\n",
      "-----------------------------SOlo se puden mandar 1, se mandan 1\n",
      "-----------------------------SOlo se puden mandar 1, se mandan 1\n",
      "-----------------------------SOlo se puden mandar 1, se mandan 1\n",
      "-----------------------------SOlo se puden mandar 1, se mandan 1\n",
      "Processed 1 messages ({'951105535368803938': b'BEAT 951105535368803938\\n'})\n",
      "Processed 1 messages ({'951105535368803938': b'BEAT 951105535368803938\\n'})\n",
      "Processed 1 messages ({'951105535368803938': b'BEAT 951105535368803938\\n'})\n",
      "Processed 1 messages ({'-7817336206961636685': b'BEAT -7817336206961636685\\n'})\n",
      "Processed 1 messages ({'-7817336206961636685': b'BEAT -7817336206961636685\\n'})\n",
      "Processed 1 messages ({'-7817336206961636685': b'BEAT -7817336206961636685\\n'})\n",
      "Processed 1 messages ({'-5954212983545379786': b'BEAT -5954212983545379786\\n'})\n",
      "Processed 1 messages ({'-5954212983545379786': b'BEAT -5954212983545379786\\n'})\n",
      "Processed 1 messages ({'-5954212983545379786': b'BEAT -5954212983545379786\\n'})\n",
      "Processed 1 messages ({'-8216542272021816623': b'BEAT -8216542272021816623\\n'})\n",
      "Processed 1 messages ({'-8216542272021816623': b'BEAT -8216542272021816623\\n'})\n",
      "Processed 1 messages ({'-8216542272021816623': b'BEAT -8216542272021816623\\n'})\n",
      "-----------------------------SOlo se puden mandar 1, se mandan 1\n",
      "-----------------------------SOlo se puden mandar 1, se mandan 1\n",
      "-----------------------------SOlo se puden mandar 1, se mandan 1\n",
      "-----------------------------SOlo se puden mandar 1, se mandan 1\n",
      "-----------------------------SOlo se puden mandar 1, se mandan 1\n",
      "-----------------------------SOlo se puden mandar 1, se mandan 1\n",
      "-----------------------------SOlo se puden mandar 1, se mandan 1\n",
      "-----------------------------SOlo se puden mandar 1, se mandan 1\n"
     ]
    },
    {
     "data": {
      "application/vnd.jupyter.widget-view+json": {
       "model_id": "",
       "version_major": 2,
       "version_minor": 0
      },
      "text/plain": [
       "Validation: 0it [00:00, ?it/s]"
      ]
     },
     "metadata": {},
     "output_type": "display_data"
    },
    {
     "data": {
      "application/vnd.jupyter.widget-view+json": {
       "model_id": "",
       "version_major": 2,
       "version_minor": 0
      },
      "text/plain": [
       "Validation: 0it [00:00, ?it/s]"
      ]
     },
     "metadata": {},
     "output_type": "display_data"
    },
    {
     "data": {
      "application/vnd.jupyter.widget-view+json": {
       "model_id": "",
       "version_major": 2,
       "version_minor": 0
      },
      "text/plain": [
       "Validation: 0it [00:00, ?it/s]"
      ]
     },
     "metadata": {},
     "output_type": "display_data"
    },
    {
     "data": {
      "application/vnd.jupyter.widget-view+json": {
       "model_id": "",
       "version_major": 2,
       "version_minor": 0
      },
      "text/plain": [
       "Validation: 0it [00:00, ?it/s]"
      ]
     },
     "metadata": {},
     "output_type": "display_data"
    },
    {
     "name": "stdout",
     "output_type": "stream",
     "text": [
      "-----------------------------SOlo se puden mandar 1, se mandan 1\n",
      "-----------------------------SOlo se puden mandar 1, se mandan 1\n",
      "-----------------------------SOlo se puden mandar 1, se mandan 1\n",
      "-----------------------------SOlo se puden mandar 1, se mandan 1\n",
      "Processed 1 messages ({'-734788817930087904': b'BEAT -734788817930087904\\n'})Processed 1 messages ({'-734788817930087904': b'BEAT -734788817930087904\\n'})\n",
      "Processed 1 messages ({'-734788817930087904': b'BEAT -734788817930087904\\n'})\n",
      "\n",
      "Processed 1 messages ({'-6448936560071242146': b'BEAT -6448936560071242146\\n'})\n",
      "Processed 1 messages ({'-6448936560071242146': b'BEAT -6448936560071242146\\n'})\n",
      "Processed 1 messages ({'-6448936560071242146': b'BEAT -6448936560071242146\\n'})\n",
      "Processed 1 messages ({'-2288411110960302968': b'BEAT -2288411110960302968\\n'})\n",
      "Processed 1 messages ({'-2288411110960302968': b'BEAT -2288411110960302968\\n'})\n",
      "Processed 1 messages ({'-2288411110960302968': b'BEAT -2288411110960302968\\n'})\n",
      "Processed 1 messages ({'-6216305186959145976': b'BEAT -6216305186959145976\\n'})\n",
      "Processed 1 messages ({'-6216305186959145976': b'BEAT -6216305186959145976\\n'})\n",
      "Processed 1 messages ({'-6216305186959145976': b'BEAT -6216305186959145976\\n'})\n",
      "-----------------------------SOlo se puden mandar 1, se mandan 1\n",
      "-----------------------------SOlo se puden mandar 1, se mandan 1\n",
      "-----------------------------SOlo se puden mandar 1, se mandan 1\n",
      "-----------------------------SOlo se puden mandar 1, se mandan 1\n",
      "INFO:root:(127.0.0.1:33037) Model added (1/4) from ('127.0.0.1', 33037)\n",
      "INFO:root:(127.0.0.1:39375) Model added (1/4) from ('127.0.0.1', 39375)\n",
      "INFO:root:(('127.0.0.1', 33037)) Broadcasting model to 3 clients. (size: 548864 bytes)\n",
      "INFO:root:(127.0.0.1:58235) Model added (1/4) from ('127.0.0.1', 58235)\n",
      "INFO:root:(('127.0.0.1', 39375)) Broadcasting model to 3 clients. (size: 548864 bytes)\n",
      "INFO:root:(('127.0.0.1', 58235)) Broadcasting model to 3 clients. (size: 548864 bytes)\n",
      "INFO:root:(127.0.0.1:56497) Model added (1/4) from ('127.0.0.1', 56497)\n",
      "INFO:root:(('127.0.0.1', 56497)) Broadcasting model to 3 clients. (size: 548864 bytes)\n",
      "INFO:root:(127.0.0.1:56497) Model added (2/4) from ('127.0.0.1', 58235)\n",
      "INFO:root:(127.0.0.1:39375) Model added (2/4) from ('127.0.0.1', 58235)\n",
      "INFO:root:(127.0.0.1:58235) Model added (2/4) from ('127.0.0.1', 33037)\n",
      "INFO:root:(127.0.0.1:33037) Model added (2/4) from ('127.0.0.1', 58235)\n",
      "INFO:root:(127.0.0.1:56497) Model added (3/4) from ('127.0.0.1', 39375)\n",
      "INFO:root:(127.0.0.1:39375) Model added (3/4) from ('127.0.0.1', 33037)\n",
      "INFO:root:(127.0.0.1:58235) Model added (3/4) from ('127.0.0.1', 39375)\n",
      "INFO:root:(127.0.0.1:33037) Model added (3/4) from ('127.0.0.1', 56497)\n",
      "INFO:root:(127.0.0.1:56497) Model added (4/4) from ('127.0.0.1', 33037)\n",
      "INFO:root:(127.0.0.1:39375) Model added (4/4) from ('127.0.0.1', 56497)\n",
      "INFO:root:(127.0.0.1:58235) Model added (4/4) from ('127.0.0.1', 56497)\n",
      "INFO:root:(127.0.0.1:33037) Model added (4/4) from ('127.0.0.1', 39375)\n",
      "INFO:root:(127.0.0.1:56497) Agregating models.\n",
      "INFO:root:(127.0.0.1:39375) Agregating models.\n",
      "INFO:root:(127.0.0.1:58235) Agregating models.\n",
      "INFO:root:(127.0.0.1:33037) Agregating models.\n",
      "INFO:root:(('127.0.0.1', 58235)) Waiting other nodes.\n",
      "INFO:root:(('127.0.0.1', 56497)) Waiting other nodes.\n",
      "INFO:root:(('127.0.0.1', 39375)) Waiting other nodes.\n",
      "INFO:root:(('127.0.0.1', 33037)) Waiting other nodes.\n",
      "INFO:root:(('127.0.0.1', 56497)) Broadcasting model to 3 clients. (size: 548864 bytes)\n",
      "INFO:root:(('127.0.0.1', 39375)) Broadcasting model to 3 clients. (size: 548864 bytes)\n",
      "INFO:root:(('127.0.0.1', 56497)) Waiting other nodes.\n",
      "INFO:root:(('127.0.0.1', 33037)) Broadcasting model to 3 clients. (size: 548864 bytes)\n",
      "INFO:root:(('127.0.0.1', 58235)) Broadcasting model to 3 clients. (size: 548864 bytes)\n",
      "INFO:root:(('127.0.0.1', 39375)) Waiting other nodes.\n",
      "INFO:root:(('127.0.0.1', 56497)) Round 2 of 2 finished.\n",
      "INFO:root:(('127.0.0.1', 33037)) Waiting other nodes.\n",
      "INFO:root:(('127.0.0.1', 58235)) Waiting other nodes.\n",
      "INFO:root:(('127.0.0.1', 39375)) Round 2 of 2 finished.\n",
      "INFO:root:(('127.0.0.1', 56497)) Evaluating...\n",
      "INFO:root:(('127.0.0.1', 33037)) Round 2 of 2 finished.\n",
      "INFO:root:(('127.0.0.1', 58235)) Round 2 of 2 finished.\n",
      "INFO:root:(('127.0.0.1', 39375)) Evaluating...\n",
      "INFO:root:(('127.0.0.1', 33037)) Evaluating...\n",
      "INFO:root:(('127.0.0.1', 58235)) Evaluating...\n"
     ]
    },
    {
     "data": {
      "application/vnd.jupyter.widget-view+json": {
       "model_id": "e8d7b4c72e6247e4a98d802f5fa9965d",
       "version_major": 2,
       "version_minor": 0
      },
      "text/plain": [
       "Testing: 0it [00:00, ?it/s]"
      ]
     },
     "metadata": {},
     "output_type": "display_data"
    },
    {
     "data": {
      "application/vnd.jupyter.widget-view+json": {
       "model_id": "e33a8cf424ab4f9c9322f2ca5a73a025",
       "version_major": 2,
       "version_minor": 0
      },
      "text/plain": [
       "Testing: 0it [00:00, ?it/s]"
      ]
     },
     "metadata": {},
     "output_type": "display_data"
    },
    {
     "data": {
      "application/vnd.jupyter.widget-view+json": {
       "model_id": "fbb2a6e21a2c48e3911ddcf4db9266e4",
       "version_major": 2,
       "version_minor": 0
      },
      "text/plain": [
       "Testing: 0it [00:00, ?it/s]"
      ]
     },
     "metadata": {},
     "output_type": "display_data"
    },
    {
     "data": {
      "application/vnd.jupyter.widget-view+json": {
       "model_id": "e83d0dc9c647406e8afa012a53993a0d",
       "version_major": 2,
       "version_minor": 0
      },
      "text/plain": [
       "Testing: 0it [00:00, ?it/s]"
      ]
     },
     "metadata": {},
     "output_type": "display_data"
    },
    {
     "name": "stdout",
     "output_type": "stream",
     "text": [
      "-----------------------------SOlo se puden mandar 1, se mandan 1\n",
      "-----------------------------SOlo se puden mandar 1, se mandan 1\n",
      "-----------------------------SOlo se puden mandar 1, se mandan 1\n",
      "-----------------------------SOlo se puden mandar 1, se mandan 1\n",
      "-----------------------------SOlo se puden mandar 1, se mandan 1\n",
      "-----------------------------SOlo se puden mandar 1, se mandan 1\n",
      "-----------------------------SOlo se puden mandar 1, se mandan 1\n",
      "-----------------------------SOlo se puden mandar 1, se mandan 1\n",
      "Processed 1 messages ({'5892052709940975066': b'BEAT 5892052709940975066\\n'})\n",
      "Processed 1 messages ({'5892052709940975066': b'BEAT 5892052709940975066\\n'})\n",
      "Processed 1 messages ({'5892052709940975066': b'BEAT 5892052709940975066\\n'})\n",
      "Processed 1 messages ({'5962252428423591368': b'BEAT 5962252428423591368\\n'})\n",
      "Processed 1 messages ({'5962252428423591368': b'BEAT 5962252428423591368\\n'})\n",
      "Processed 1 messages ({'5962252428423591368': b'BEAT 5962252428423591368\\n'})\n",
      "Processed 1 messages ({'334853706766064200': b'BEAT 334853706766064200\\n'})\n",
      "Processed 1 messages ({'334853706766064200': b'BEAT 334853706766064200\\n'})\n",
      "Processed 1 messages ({'334853706766064200': b'BEAT 334853706766064200\\n'})\n",
      "Processed 1 messages ({'-3362569245816781475': b'BEAT -3362569245816781475\\n'})\n",
      "Processed 1 messages ({'-3362569245816781475': b'BEAT -3362569245816781475\\n'})\n",
      "Processed 1 messages ({'-3362569245816781475': b'BEAT -3362569245816781475\\n'})\n",
      "-----------------------------SOlo se puden mandar 1, se mandan 1\n",
      "-----------------------------SOlo se puden mandar 1, se mandan 1\n",
      "-----------------------------SOlo se puden mandar 1, se mandan 1\n",
      "-----------------------------SOlo se puden mandar 1, se mandan 1\n",
      "INFO:root:(('127.0.0.1', 39375)) Evaluated. Losss: 0.07856038212776184, Metric: 0.9763000011444092. (Check tensorboard for more info)\n",
      "INFO:root:(('127.0.0.1', 33037)) Evaluated. Losss: 0.07856039702892303, Metric: 0.9763000011444092. (Check tensorboard for more info)\n",
      "INFO:root:(('127.0.0.1', 39375)) Finish!!.\n",
      "INFO:root:(('127.0.0.1', 33037)) Finish!!.\n",
      "INFO:root:(('127.0.0.1', 56497)) Evaluated. Losss: 0.07856038957834244, Metric: 0.9763000011444092. (Check tensorboard for more info)\n",
      "INFO:root:(('127.0.0.1', 58235)) Evaluated. Losss: 0.07856038212776184, Metric: 0.9763000011444092. (Check tensorboard for more info)\n",
      "INFO:root:(('127.0.0.1', 56497)) Finish!!.\n",
      "INFO:root:(('127.0.0.1', 58235)) Finish!!.\n",
      "-----------------------------SOlo se puden mandar 1, se mandan 1\n",
      "-----------------------------SOlo se puden mandar 1, se mandan 1\n",
      "-----------------------------SOlo se puden mandar 1, se mandan 1\n",
      "-----------------------------SOlo se puden mandar 1, se mandan 1\n",
      "INFO:root:Bajando el nodo, dejando de escuchar en 127.0.0.1 33037 y desconectándose de 3 nodos\n",
      "DEBUG:root:Closed connection: ('127.0.0.1', 33037)\n",
      "DEBUG:root:Closed connection: ('127.0.0.1', 33037)\n",
      "DEBUG:root:Closed connection: ('127.0.0.1', 33037)\n",
      "DEBUG:root:Closed connection: ('127.0.0.1', 56497)\n",
      "DEBUG:root:Closed connection: ('127.0.0.1', 58235)\n",
      "DEBUG:root:Closed connection: ('127.0.0.1', 39375)\n",
      "INFO:root:Bajando el nodo, dejando de escuchar en 127.0.0.1 56497 y desconectándose de 2 nodos\n",
      "DEBUG:root:Closed connection: ('127.0.0.1', 56497)\n",
      "DEBUG:root:Closed connection: ('127.0.0.1', 56497)\n",
      "DEBUG:root:Closed connection: ('127.0.0.1', 39375)\n",
      "DEBUG:root:Closed connection: ('127.0.0.1', 58235)\n",
      "INFO:root:Bajando el nodo, dejando de escuchar en 127.0.0.1 58235 y desconectándose de 1 nodos\n",
      "DEBUG:root:Closed connection: ('127.0.0.1', 58235)\n",
      "DEBUG:root:Closed connection: ('127.0.0.1', 39375)\n",
      "INFO:root:Bajando el nodo, dejando de escuchar en 127.0.0.1 39375 y desconectándose de 0 nodos\n"
     ]
    }
   ],
   "source": [
    "from p2pfl.node import Node\n",
    "from p2pfl.learning.pytorch.mnist_examples.mnistfederated_dm import MnistFederatedDM\n",
    "from p2pfl.learning.pytorch.mnist_examples.models.mlp import MLP\n",
    "from collections import OrderedDict\n",
    "import torch\n",
    "import time\n",
    "\n",
    "\n",
    "def test_convergence(x):\n",
    "    n,r = x\n",
    "\n",
    "    nodes = []\n",
    "    \n",
    "    for i in range(n):\n",
    "        node = Node(MLP(),MnistFederatedDM())\n",
    "        node.start()\n",
    "        nodes.append(node)\n",
    "\n",
    "    # Node Connection\n",
    "    for i in range(len(nodes)-1):\n",
    "        nodes[i+1].connect_to(nodes[i].host,nodes[i].port)\n",
    "        time.sleep(0.1)\n",
    "\n",
    "    # Check if they are connected\n",
    "    for node in nodes:\n",
    "        assert len(node.neightboors) == n-1\n",
    "\n",
    "    # Start Learning\n",
    "    nodes[0].set_start_learning(rounds=r,epochs=1)\n",
    "\n",
    "    # Wait 4 results\n",
    "    while True:\n",
    "        time.sleep(1)\n",
    "        finish = True\n",
    "        for f in [node.round is None for node in nodes]:\n",
    "            finish = finish and f\n",
    "\n",
    "        if finish:\n",
    "            break\n",
    "\n",
    "\n",
    "    # Validamos Modelos obtenidos sean iguales\n",
    "    model = None\n",
    "    first = True\n",
    "    for node in nodes:\n",
    "        if first:\n",
    "            model = node.learner.get_parameters()\n",
    "            first = False\n",
    "        else:\n",
    "            for layer in model:\n",
    "                a = torch.round(model[layer], decimals=2)\n",
    "                b = torch.round(node.learner.get_parameters()[layer], decimals=2)\n",
    "                assert torch.eq(a, b).all()\n",
    "\n",
    "    # Cerrar\n",
    "    for node in nodes:\n",
    "        node.stop()\n",
    "        time.sleep(.1) #Esperar por la asincronía\n",
    "    \n",
    "    return nodes\n",
    "        \n",
    "nodes = test_convergence((4,2))"
   ]
  },
  {
   "cell_type": "code",
   "execution_count": 1,
   "id": "034fde84",
   "metadata": {
    "scrolled": true
   },
   "outputs": [
    {
     "name": "stdout",
     "output_type": "stream",
     "text": [
      "Train: 54000 Val:6000 Test:10000\n",
      "INFO:root:Nodo listening at 127.0.0.1:41233\n",
      "aaaaaaa 7.152557373046875e-07\n",
      "Train: 54000 Val:6000 Test:10000\n",
      "INFO:root:Nodo listening at 127.0.0.1:51209\n",
      "aaaaaaa 7.152557373046875e-07\n",
      "Train: 54000 Val:6000 Test:10000\n",
      "INFO:root:Nodo listening at 127.0.0.1:34731\n",
      "aaaaaaa 7.152557373046875e-07\n",
      "Train: 54000 Val:6000 Test:10000\n",
      "INFO:root:Nodo listening at 127.0.0.1:51613\n",
      "aaaaaaa 4.76837158203125e-07\n",
      "INFO:root:('127.0.0.1', 51209) Connected to 127.0.0.1:41233\n",
      "INFO:root:('127.0.0.1', 41233) Conexión aceptada con 127.0.0.1:51209\n",
      "aaaaaaa 6.67572021484375e-06\n",
      "aaaaaaa 5.245208740234375e-06\n",
      "aaaaaaa 5.245208740234375e-06\n",
      "aaaaaaa 5.0067901611328125e-06\n",
      "INFO:root:('127.0.0.1', 34731) Connected to 127.0.0.1:51209\n",
      "INFO:root:('127.0.0.1', 51209) Conexión aceptada con 127.0.0.1:34731\n",
      "INFO:root:('127.0.0.1', 41233) Connected to 127.0.0.1:34731\n",
      "Processed 1 messages ({'-2127817028240986534': b'CONNECT_TO 127.0.0.1 34731 -2127817028240986534\\n'})\n",
      "INFO:root:('127.0.0.1', 34731) Conexión aceptada con 127.0.0.1:41233\n",
      "aaaaaaa 0.0001811981201171875\n",
      "INFO:root:('127.0.0.1', 34731) Connected to 127.0.0.1:34731\n",
      "Processed 1 messages ({'-2127817028240986534': b'CONNECT_TO 127.0.0.1 34731 -2127817028240986534\\n'})DEBUG:root:('127.0.0.1', 34731) (NodeConnection Loop) Exception: [Errno 104] Connection reset by peer\n",
      "DEBUG:root:Closed connection: ('127.0.0.1', 34731)\n",
      "\n",
      "aaaaaaa 2.6226043701171875e-06\n",
      "aaaaaaa 4.744529724121094e-05\n",
      "INFO:root:('127.0.0.1', 51209) Already connected to 127.0.0.1:34731\n",
      "Processed 1 messages ({'-2127817028240986534': b'CONNECT_TO 127.0.0.1 34731 -2127817028240986534\\n'})\n",
      "aaaaaaa 2.384185791015625e-06\n",
      "INFO:root:('127.0.0.1', 51613) Connected to 127.0.0.1:34731\n",
      "INFO:root:('127.0.0.1', 34731) Conexión aceptada con 127.0.0.1:51613\n",
      "INFO:root:('127.0.0.1', 41233) Connected to 127.0.0.1:51613\n",
      "INFO:root:('127.0.0.1', 51209) Connected to 127.0.0.1:51613\n",
      "INFO:root:('127.0.0.1', 51613) Conexión aceptada con 127.0.0.1:41233\n",
      "Processed 1 messages ({'-2297567559826436156': b'CONNECT_TO 127.0.0.1 51613 -2297567559826436156\\n'})\n",
      "Processed 1 messages ({'-2297567559826436156': b'CONNECT_TO 127.0.0.1 51613 -2297567559826436156\\n'})\n",
      "INFO:root:('127.0.0.1', 51613) Conexión aceptada con 127.0.0.1:51209\n",
      "aaaaaaa 0.00014495849609375\n",
      "aaaaaaa 0.00016260147094726562\n",
      "INFO:root:('127.0.0.1', 51613) Already connected to 127.0.0.1:34731\n",
      "Processed 1 messages ({'-2127817028240986534': b'CONNECT_TO 127.0.0.1 34731 -2127817028240986534\\n'})\n",
      "aaaaaaa 5.0067901611328125e-06\n",
      "aaaaaaa 7.963180541992188e-05\n",
      "INFO:root:('127.0.0.1', 41233) Already connected to 127.0.0.1:34731\n",
      "Processed 1 messages ({'-2127817028240986534': b'CONNECT_TO 127.0.0.1 34731 -2127817028240986534\\n'})\n",
      "3\n",
      "3\n",
      "3\n",
      "3\n",
      "INFO:root:(('127.0.0.1', 41233)) Broadcasting start learning...\n",
      "Processed 1 messages ({'-2770842008075114623': b'START_LEARNING 2 0 -2770842008075114623\\n'})\n",
      "INFO:root:(('127.0.0.1', 41233)) Sending Initial Model Weights\n",
      "Processed 1 messages ({'-2770842008075114623': b'START_LEARNING 2 0 -2770842008075114623\\n'})\n",
      "Processed 1 messages ({'-2770842008075114623': b'START_LEARNING 2 0 -2770842008075114623\\n'})\n",
      "INFO:root:(('127.0.0.1', 41233)) Broadcasting model to 3 clients. (size: 548864 bytes)\n",
      "INFO:root:(('127.0.0.1', 51209)) Broadcasting Number of Samples...\n",
      "INFO:root:(('127.0.0.1', 51613)) Broadcasting Number of Samples...\n",
      "INFO:root:(('127.0.0.1', 34731)) Broadcasting Number of Samples...\n",
      "INFO:root:(('127.0.0.1', 51209)) Initialicing Model Weights\n",
      "INFO:root:(('127.0.0.1', 51613)) Initialicing Model Weights\n",
      "INFO:root:(('127.0.0.1', 34731)) Initialicing Model Weights\n",
      "INFO:root:(('127.0.0.1', 51209)) Model initialized\n",
      "INFO:root:(('127.0.0.1', 34731)) Model initialized\n",
      "INFO:root:(('127.0.0.1', 51613)) Model initialized\n",
      "INFO:root:(('127.0.0.1', 41233)) Broadcasting Number of Samples...\n",
      "INFO:root:(('127.0.0.1', 41233)) Sending train set vote.\n",
      "INFO:root:(('127.0.0.1', 41233)) Waiting other node votes.\n",
      "INFO:root:(('127.0.0.1', 51209)) Sending train set vote.\n",
      "INFO:root:(('127.0.0.1', 51613)) Sending train set vote.\n",
      "INFO:root:(('127.0.0.1', 34731)) Sending train set vote.\n",
      "INFO:root:(('127.0.0.1', 51209)) Waiting other node votes.\n",
      "INFO:root:(('127.0.0.1', 51613)) Waiting other node votes.\n",
      "INFO:root:('127.0.0.1', 51209) Train set of 4 nodes. [('127.0.0.1', 51209), ('127.0.0.1', 41233), ('127.0.0.1', 51613), ('127.0.0.1', 34731)]\n",
      "INFO:root:(('127.0.0.1', 34731)) Waiting other node votes.\n",
      "INFO:root:('127.0.0.1', 41233) Train set of 4 nodes. [('127.0.0.1', 51209), ('127.0.0.1', 41233), ('127.0.0.1', 51613), ('127.0.0.1', 34731)]\n",
      "INFO:root:('127.0.0.1', 51613) Train set of 4 nodes. [('127.0.0.1', 51209), ('127.0.0.1', 41233), ('127.0.0.1', 51613), ('127.0.0.1', 34731)]\n",
      "INFO:root:(('127.0.0.1', 51209)) Evaluating...\n",
      "INFO:root:('127.0.0.1', 34731) Train set of 4 nodes. [('127.0.0.1', 51209), ('127.0.0.1', 41233), ('127.0.0.1', 51613), ('127.0.0.1', 34731)]\n",
      "INFO:root:(('127.0.0.1', 41233)) Evaluating...\n",
      "INFO:root:(('127.0.0.1', 51613)) Evaluating...\n",
      "INFO:root:(('127.0.0.1', 51209)) Training...\n",
      "INFO:root:(('127.0.0.1', 34731)) Evaluating...\n",
      "INFO:root:(('127.0.0.1', 41233)) Training...\n",
      "INFO:root:(('127.0.0.1', 51613)) Training...\n",
      "INFO:root:(127.0.0.1:51209) Model added (1/4) from ('127.0.0.1', 51209)\n",
      "INFO:root:(('127.0.0.1', 34731)) Training...\n",
      "INFO:root:(127.0.0.1:41233) Model added (1/4) from ('127.0.0.1', 41233)\n",
      "INFO:root:(127.0.0.1:51613) Model added (1/4) from ('127.0.0.1', 51613)\n",
      "INFO:root:(('127.0.0.1', 51209)) Broadcasting model to 3 clients. (size: 548864 bytes)\n",
      "INFO:root:(127.0.0.1:34731) Model added (1/4) from ('127.0.0.1', 34731)\n",
      "INFO:root:(('127.0.0.1', 41233)) Broadcasting model to 3 clients. (size: 548864 bytes)\n",
      "INFO:root:(('127.0.0.1', 51613)) Broadcasting model to 3 clients. (size: 548864 bytes)\n",
      "INFO:root:(('127.0.0.1', 34731)) Broadcasting model to 3 clients. (size: 548864 bytes)\n",
      "INFO:root:(127.0.0.1:51613) Model added (2/4) from ('127.0.0.1', 51209)\n",
      "INFO:root:(127.0.0.1:34731) Model added (2/4) from ('127.0.0.1', 41233)\n",
      "INFO:root:(127.0.0.1:41233) Model added (2/4) from ('127.0.0.1', 51209)\n",
      "INFO:root:(127.0.0.1:34731) Model added (3/4) from ('127.0.0.1', 51209)\n",
      "INFO:root:(127.0.0.1:51613) Model added (3/4) from ('127.0.0.1', 41233)\n",
      "INFO:root:(127.0.0.1:51209) Model added (2/4) from ('127.0.0.1', 51613)\n",
      "INFO:root:(127.0.0.1:41233) Model added (3/4) from ('127.0.0.1', 51613)\n",
      "INFO:root:(127.0.0.1:34731) Model added (4/4) from ('127.0.0.1', 51613)\n",
      "INFO:root:(127.0.0.1:51209) Model added (3/4) from ('127.0.0.1', 41233)\n",
      "INFO:root:(127.0.0.1:34731) Agregating models.\n",
      "INFO:root:(127.0.0.1:41233) Model added (4/4) from ('127.0.0.1', 34731)\n",
      "INFO:root:(127.0.0.1:51209) Model added (4/4) from ('127.0.0.1', 34731)\n",
      "INFO:root:(127.0.0.1:41233) Agregating models.\n",
      "INFO:root:(127.0.0.1:51209) Agregating models.\n",
      "INFO:root:(127.0.0.1:51613) Model added (4/4) from ('127.0.0.1', 34731)\n",
      "INFO:root:(127.0.0.1:51613) Agregating models.\n",
      "INFO:root:(('127.0.0.1', 34731)) Waiting other nodes.\n",
      "INFO:root:(('127.0.0.1', 41233)) Waiting other nodes.\n",
      "INFO:root:(('127.0.0.1', 51613)) Waiting other nodes.\n",
      "INFO:root:(('127.0.0.1', 51209)) Waiting other nodes.\n",
      "INFO:root:(('127.0.0.1', 34731)) Broadcasting model to 3 clients. (size: 548864 bytes)\n",
      "INFO:root:(('127.0.0.1', 51613)) Broadcasting model to 3 clients. (size: 548864 bytes)\n",
      "INFO:root:(('127.0.0.1', 41233)) Broadcasting model to 3 clients. (size: 548864 bytes)\n",
      "INFO:root:(('127.0.0.1', 51209)) Broadcasting model to 3 clients. (size: 548864 bytes)\n",
      "INFO:root:(('127.0.0.1', 34731)) Waiting other nodes.\n",
      "INFO:root:(('127.0.0.1', 51613)) Waiting other nodes.\n",
      "INFO:root:(('127.0.0.1', 41233)) Waiting other nodes.\n",
      "INFO:root:(('127.0.0.1', 51209)) Waiting other nodes.\n",
      "INFO:root:(('127.0.0.1', 34731)) Round 1 of 2 finished.\n",
      "INFO:root:(('127.0.0.1', 51613)) Round 1 of 2 finished.\n",
      "INFO:root:(('127.0.0.1', 41233)) Round 1 of 2 finished.\n",
      "INFO:root:(('127.0.0.1', 51209)) Round 1 of 2 finished.\n",
      "INFO:root:(('127.0.0.1', 34731)) Sending train set vote.\n",
      "INFO:root:(('127.0.0.1', 51613)) Sending train set vote.\n",
      "INFO:root:(('127.0.0.1', 41233)) Sending train set vote.\n",
      "INFO:root:(('127.0.0.1', 51209)) Sending train set vote.\n",
      "INFO:root:(('127.0.0.1', 34731)) Waiting other node votes.\n",
      "INFO:root:(('127.0.0.1', 51613)) Waiting other node votes.\n"
     ]
    },
    {
     "name": "stdout",
     "output_type": "stream",
     "text": [
      "INFO:root:(('127.0.0.1', 41233)) Waiting other node votes.\n",
      "INFO:root:(('127.0.0.1', 51209)) Waiting other node votes.\n",
      "INFO:root:('127.0.0.1', 34731) Train set of 4 nodes. [('127.0.0.1', 51209), ('127.0.0.1', 41233), ('127.0.0.1', 34731), ('127.0.0.1', 51613)]\n",
      "INFO:root:('127.0.0.1', 51613) Train set of 4 nodes. [('127.0.0.1', 51209), ('127.0.0.1', 41233), ('127.0.0.1', 34731), ('127.0.0.1', 51613)]\n",
      "INFO:root:('127.0.0.1', 41233) Train set of 4 nodes. [('127.0.0.1', 51209), ('127.0.0.1', 41233), ('127.0.0.1', 34731), ('127.0.0.1', 51613)]\n",
      "INFO:root:('127.0.0.1', 51209) Train set of 4 nodes. [('127.0.0.1', 51209), ('127.0.0.1', 41233), ('127.0.0.1', 34731), ('127.0.0.1', 51613)]\n",
      "INFO:root:(('127.0.0.1', 34731)) Evaluating...\n",
      "INFO:root:(('127.0.0.1', 51613)) Evaluating...\n",
      "INFO:root:(('127.0.0.1', 41233)) Evaluating...\n",
      "INFO:root:(('127.0.0.1', 51209)) Evaluating...\n",
      "INFO:root:(('127.0.0.1', 34731)) Training...\n",
      "INFO:root:(('127.0.0.1', 51613)) Training...\n",
      "INFO:root:(('127.0.0.1', 41233)) Training...\n",
      "INFO:root:(('127.0.0.1', 51209)) Training...\n",
      "INFO:root:(127.0.0.1:34731) Model added (1/4) from ('127.0.0.1', 34731)\n",
      "INFO:root:(127.0.0.1:41233) Model added (1/4) from ('127.0.0.1', 41233)\n",
      "INFO:root:(127.0.0.1:51613) Model added (1/4) from ('127.0.0.1', 51613)\n",
      "INFO:root:(127.0.0.1:51209) Model added (1/4) from ('127.0.0.1', 51209)\n",
      "INFO:root:(('127.0.0.1', 34731)) Broadcasting model to 3 clients. (size: 548864 bytes)\n",
      "INFO:root:(('127.0.0.1', 41233)) Broadcasting model to 3 clients. (size: 548864 bytes)\n",
      "INFO:root:(('127.0.0.1', 51613)) Broadcasting model to 3 clients. (size: 548864 bytes)\n",
      "INFO:root:(('127.0.0.1', 51209)) Broadcasting model to 3 clients. (size: 548864 bytes)\n",
      "INFO:root:(127.0.0.1:51209) Model added (2/4) from ('127.0.0.1', 41233)\n",
      "INFO:root:(127.0.0.1:34731) Model added (2/4) from ('127.0.0.1', 41233)\n",
      "INFO:root:(127.0.0.1:51613) Model added (2/4) from ('127.0.0.1', 51209)\n",
      "INFO:root:(127.0.0.1:34731) Model added (3/4) from ('127.0.0.1', 51209)\n",
      "INFO:root:(127.0.0.1:41233) Model added (2/4) from ('127.0.0.1', 51613)\n",
      "INFO:root:(127.0.0.1:51613) Model added (3/4) from ('127.0.0.1', 41233)\n",
      "INFO:root:(127.0.0.1:34731) Model added (4/4) from ('127.0.0.1', 51613)\n",
      "INFO:root:(127.0.0.1:51209) Model added (3/4) from ('127.0.0.1', 51613)\n",
      "INFO:root:(127.0.0.1:41233) Model added (3/4) from ('127.0.0.1', 34731)\n",
      "INFO:root:(127.0.0.1:51613) Model added (4/4) from ('127.0.0.1', 34731)\n",
      "INFO:root:(127.0.0.1:34731) Agregating models.\n",
      "INFO:root:(127.0.0.1:51209) Model added (4/4) from ('127.0.0.1', 34731)\n",
      "INFO:root:(127.0.0.1:41233) Model added (4/4) from ('127.0.0.1', 51209)\n",
      "INFO:root:(127.0.0.1:51613) Agregating models.\n",
      "INFO:root:(127.0.0.1:51209) Agregating models.\n",
      "INFO:root:(127.0.0.1:41233) Agregating models.\n",
      "INFO:root:(('127.0.0.1', 34731)) Waiting other nodes.\n",
      "INFO:root:(('127.0.0.1', 51209)) Waiting other nodes.\n",
      "INFO:root:(('127.0.0.1', 51613)) Waiting other nodes.\n",
      "INFO:root:(('127.0.0.1', 41233)) Waiting other nodes.\n",
      "INFO:root:(('127.0.0.1', 51613)) Broadcasting model to 3 clients. (size: 548864 bytes)\n",
      "INFO:root:(('127.0.0.1', 34731)) Broadcasting model to 3 clients. (size: 548864 bytes)\n",
      "INFO:root:(('127.0.0.1', 51209)) Broadcasting model to 3 clients. (size: 548864 bytes)\n",
      "INFO:root:(('127.0.0.1', 41233)) Broadcasting model to 3 clients. (size: 548864 bytes)\n",
      "INFO:root:(('127.0.0.1', 51613)) Waiting other nodes.\n",
      "INFO:root:(('127.0.0.1', 34731)) Waiting other nodes.\n",
      "INFO:root:(('127.0.0.1', 51209)) Waiting other nodes.\n",
      "INFO:root:(('127.0.0.1', 41233)) Waiting other nodes.\n",
      "INFO:root:(('127.0.0.1', 51613)) Round 2 of 2 finished.\n",
      "INFO:root:(('127.0.0.1', 34731)) Round 2 of 2 finished.\n",
      "INFO:root:(('127.0.0.1', 34731)) Evaluating...\n",
      "INFO:root:(('127.0.0.1', 41233)) Round 2 of 2 finished.\n",
      "INFO:root:(('127.0.0.1', 51613)) Evaluating...\n",
      "INFO:root:(('127.0.0.1', 51209)) Round 2 of 2 finished.\n",
      "INFO:root:(('127.0.0.1', 34731)) Finish!!.\n",
      "INFO:root:(('127.0.0.1', 41233)) Evaluating...\n",
      "INFO:root:(('127.0.0.1', 51613)) Finish!!.\n",
      "INFO:root:(('127.0.0.1', 51209)) Evaluating...\n",
      "INFO:root:(('127.0.0.1', 41233)) Finish!!.\n",
      "INFO:root:(('127.0.0.1', 51209)) Finish!!.\n",
      "INFO:root:Bajando el nodo, dejando de escuchar en 127.0.0.1 51209 y desconectándose de 3 nodos\n",
      "DEBUG:root:Closed connection: ('127.0.0.1', 51209)\n",
      "DEBUG:root:Closed connection: ('127.0.0.1', 51209)\n",
      "DEBUG:root:Closed connection: ('127.0.0.1', 51209)\n",
      "DEBUG:root:Closed connection: ('127.0.0.1', 41233)\n",
      "DEBUG:root:Closed connection: ('127.0.0.1', 51613)\n",
      "DEBUG:root:Closed connection: ('127.0.0.1', 34731)\n",
      "aaaaaaa 6.747245788574219e-05\n",
      "INFO:root:('127.0.0.1', 51613) Connected to 127.0.0.1:51613\n",
      "Processed 1 messages ({'-2297567559826436156': b'CONNECT_TO 127.0.0.1 51613 -2297567559826436156\\n'})\n",
      "DEBUG:root:('127.0.0.1', 51613) (NodeConnection Loop) Exception: [Errno 104] Connection reset by peer\n",
      "DEBUG:root:Closed connection: ('127.0.0.1', 51613)\n",
      "aaaaaaa 4.7206878662109375e-05\n",
      "aaaaaaa 6.604194641113281e-05\n",
      "INFO:root:('127.0.0.1', 34731) Connected to 127.0.0.1:34731\n",
      "DEBUG:root:('127.0.0.1', 34731) (NodeConnection Send) Exception: [Errno 32] Broken pipe\n",
      "DEBUG:root:('127.0.0.1', 34731) (NodeConnection Loop) Exception: [Errno 104] Connection reset by peer\n",
      "INFO:root:('127.0.0.1', 34731) Already connected to 127.0.0.1:51613\n",
      "Processed 2 messages ({'-2127817028240986534': b'CONNECT_TO 127.0.0.1 34731 -2127817028240986534\\n', '-2297567559826436156': b'CONNECT_TO 127.0.0.1 51613 -2297567559826436156\\n'})\n",
      "DEBUG:root:Closed connection: ('127.0.0.1', 34731)\n",
      "INFO:root:Bajando el nodo, dejando de escuchar en 127.0.0.1 41233 y desconectándose de 2 nodos\n",
      "DEBUG:root:Closed connection: ('127.0.0.1', 41233)\n",
      "DEBUG:root:Closed connection: ('127.0.0.1', 41233)\n",
      "INFO:root:Bajando el nodo, dejando de escuchar en 127.0.0.1 34731 y desconectándose de 2 nodos\n",
      "DEBUG:root:Closed connection: ('127.0.0.1', 34731)\n",
      "INFO:root:Bajando el nodo, dejando de escuchar en 127.0.0.1 51613 y desconectándose de 2 nodos\n",
      "DEBUG:root:Closed connection: ('127.0.0.1', 51613)\n",
      "DEBUG:root:Closed connection: ('127.0.0.1', 34731)\n",
      "DEBUG:root:Closed connection: ('127.0.0.1', 51613)\n"
     ]
    }
   ],
   "source": [
    "from p2pfl.learning.pytorch.mnist_examples.mnistfederated_dm import MnistFederatedDM\n",
    "from p2pfl.learning.pytorch.mnist_examples.models.cnn import CNN\n",
    "from p2pfl.learning.pytorch.mnist_examples.models.mlp import MLP\n",
    "from p2pfl.node import Node\n",
    "import pytest\n",
    "import time\n",
    "import threading\n",
    "\n",
    "nodes = []\n",
    "        \n",
    "def test_node_down_on_learning(n):\n",
    "\n",
    "    # Node Creation\n",
    "    nodes = []\n",
    "    for i in range(n):\n",
    "        node = Node(MLP(),MnistFederatedDM())\n",
    "        node.start()\n",
    "        nodes.append(node)\n",
    "\n",
    "    # Node Connection\n",
    "    for i in range(len(nodes)-1):\n",
    "        nodes[i+1].connect_to(nodes[i].host,nodes[i].port)\n",
    "        time.sleep(1)\n",
    "\n",
    "    # Check if they are connected\n",
    "    for node in nodes:\n",
    "        print(len(node.neightboors))\n",
    "        assert len(node.neightboors) == n-1\n",
    "\n",
    "    # Start Learning\n",
    "    nodes[0].set_start_learning(rounds=2,epochs=0)\n",
    "\n",
    "    # Stopping node\n",
    "    time.sleep(0.3)\n",
    "    nodes[1].stop()\n",
    "    # Wait 4 results\n",
    "    while True:\n",
    "        time.sleep(1)\n",
    "        finish = True\n",
    "        for f in [node.round is None for node in nodes]:\n",
    "            finish = finish and f\n",
    "\n",
    "        if finish:\n",
    "            break\n",
    "\n",
    "    for node in nodes:\n",
    "        node.stop()\n",
    "\n",
    "\n",
    "nodes = []\n",
    "for _ in range(6):\n",
    "    test_node_down_on_learning(4)\n",
    "    break\n"
   ]
  },
  {
   "cell_type": "code",
   "execution_count": 1,
   "id": "06543d66",
   "metadata": {},
   "outputs": [
    {
     "data": {
      "text/plain": [
       "dict_items([(('127.0.0.1', 35159), 185), (('127.0.0.1', 54181), 62)])"
      ]
     },
     "execution_count": 1,
     "metadata": {},
     "output_type": "execute_result"
    }
   ],
   "source": [
    "a = {('127.0.0.1', 35159): 185, ('127.0.0.1', 54181): 62}\n",
    "a.items()"
   ]
  },
  {
   "cell_type": "code",
   "execution_count": 1,
   "id": "e1589282",
   "metadata": {},
   "outputs": [
    {
     "name": "stdout",
     "output_type": "stream",
     "text": [
      "Train: 54000 Val:6000 Test:10000\n",
      "INFO:root:Nodo listening at 127.0.0.1:38537\n",
      "Train: 54000 Val:6000 Test:10000\n",
      "INFO:root:Nodo listening at 127.0.0.1:42513\n",
      "Train: 54000 Val:6000 Test:10000\n",
      "INFO:root:Nodo listening at 127.0.0.1:41845\n",
      "Train: 54000 Val:6000 Test:10000\n",
      "INFO:root:Nodo listening at 127.0.0.1:60271\n",
      "INFO:root:('127.0.0.1', 38537) Connected to 127.0.0.1:42513\n",
      "INFO:root:('127.0.0.1', 42513) Conexión aceptada con 127.0.0.1:38537\n",
      "INFO:root:('127.0.0.1', 41845) Connected to 127.0.0.1:38537\n",
      "INFO:root:('127.0.0.1', 38537) Conexión aceptada con 127.0.0.1:41845\n",
      "INFO:root:('127.0.0.1', 42513) Connected to 127.0.0.1:41845\n",
      "INFO:root:('127.0.0.1', 41845) Conexión aceptada con 127.0.0.1:42513\n",
      "INFO:root:(('127.0.0.1', 38537)) Broadcasting start learning...\n",
      "INFO:root:(('127.0.0.1', 38537)) Sending Initial Model Weights\n",
      "INFO:root:(('127.0.0.1', 38537)) Broadcasting model to 2 clients. (size: 548864 bytes)\n",
      "INFO:root:(('127.0.0.1', 42513)) Broadcasting Number of Samples...\n",
      "INFO:root:(('127.0.0.1', 41845)) Broadcasting Number of Samples...\n",
      "INFO:root:(('127.0.0.1', 42513)) Initialicing Model Weights\n",
      "INFO:root:(('127.0.0.1', 41845)) Initialicing Model Weights\n",
      "INFO:root:(('127.0.0.1', 42513)) Model initialized\n",
      "INFO:root:(('127.0.0.1', 41845)) Model initialized\n",
      "INFO:root:(('127.0.0.1', 38537)) Broadcasting Number of Samples...\n",
      "INFO:root:(('127.0.0.1', 38537)) Sending train set vote.\n",
      "INFO:root:(('127.0.0.1', 38537)) Waiting other node votes.\n",
      "INFO:root:(('127.0.0.1', 42513)) Sending train set vote.\n",
      "INFO:root:(('127.0.0.1', 42513)) Waiting other node votes.\n",
      "INFO:root:(('127.0.0.1', 41845)) Sending train set vote.\n",
      "INFO:root:(('127.0.0.1', 41845)) Waiting other node votes.\n",
      "INFO:root:('127.0.0.1', 41845) Train set of 3 nodes. [('127.0.0.1', 41845), ('127.0.0.1', 42513), ('127.0.0.1', 38537)]\n",
      "INFO:root:('127.0.0.1', 38537) Train set of 3 nodes. [('127.0.0.1', 41845), ('127.0.0.1', 42513), ('127.0.0.1', 38537)]\n",
      "INFO:root:(('127.0.0.1', 41845)) Evaluating...\n",
      "INFO:root:('127.0.0.1', 42513) Train set of 3 nodes. [('127.0.0.1', 41845), ('127.0.0.1', 42513), ('127.0.0.1', 38537)]\n",
      "INFO:root:(('127.0.0.1', 38537)) Evaluating...\n",
      "INFO:root:(('127.0.0.1', 42513)) Evaluating...\n"
     ]
    },
    {
     "data": {
      "application/vnd.jupyter.widget-view+json": {
       "model_id": "41b26a87bfdb453998c97633d2a3de72",
       "version_major": 2,
       "version_minor": 0
      },
      "text/plain": [
       "Testing: 0it [00:00, ?it/s]"
      ]
     },
     "metadata": {},
     "output_type": "display_data"
    },
    {
     "data": {
      "application/vnd.jupyter.widget-view+json": {
       "model_id": "12df7b2935e64689aa975f6d8e346066",
       "version_major": 2,
       "version_minor": 0
      },
      "text/plain": [
       "Testing: 0it [00:00, ?it/s]"
      ]
     },
     "metadata": {},
     "output_type": "display_data"
    },
    {
     "data": {
      "application/vnd.jupyter.widget-view+json": {
       "model_id": "960678ae3e1942788022480e8447c712",
       "version_major": 2,
       "version_minor": 0
      },
      "text/plain": [
       "Testing: 0it [00:00, ?it/s]"
      ]
     },
     "metadata": {},
     "output_type": "display_data"
    },
    {
     "name": "stdout",
     "output_type": "stream",
     "text": [
      "INFO:root:('127.0.0.1', 38537) Conexión aceptada con 127.0.0.1:60271\n",
      "INFO:root:('127.0.0.1', 60271) Connected to 127.0.0.1:38537\n",
      "TO IMPLEMET WHEN THE TOPOLOGY WAS NOT FULLY CONNECTED\n",
      "DEBUG:root:Closed connection: ('127.0.0.1', 60271)\n",
      "DEBUG:root:Closed connection: ('127.0.0.1', 38537)\n",
      "INFO:root:(('127.0.0.1', 38537)) Evaluated. Losss: 2.301456928253174, Metric: 0.11810000240802765. (Check tensorboard for more info)\n",
      "INFO:root:(('127.0.0.1', 38537)) Training...\n",
      "INFO:root:(('127.0.0.1', 42513)) Evaluated. Losss: 2.301456928253174, Metric: 0.11810000240802765. (Check tensorboard for more info)\n",
      "INFO:root:(('127.0.0.1', 42513)) Training...\n"
     ]
    },
    {
     "data": {
      "application/vnd.jupyter.widget-view+json": {
       "model_id": "",
       "version_major": 2,
       "version_minor": 0
      },
      "text/plain": [
       "Sanity Checking: 0it [00:00, ?it/s]"
      ]
     },
     "metadata": {},
     "output_type": "display_data"
    },
    {
     "data": {
      "application/vnd.jupyter.widget-view+json": {
       "model_id": "",
       "version_major": 2,
       "version_minor": 0
      },
      "text/plain": [
       "Sanity Checking: 0it [00:00, ?it/s]"
      ]
     },
     "metadata": {},
     "output_type": "display_data"
    },
    {
     "data": {
      "application/vnd.jupyter.widget-view+json": {
       "model_id": "e959431ef0df4fee8c8f084ce213d561",
       "version_major": 2,
       "version_minor": 0
      },
      "text/plain": [
       "Training: 0it [00:00, ?it/s]"
      ]
     },
     "metadata": {},
     "output_type": "display_data"
    },
    {
     "data": {
      "application/vnd.jupyter.widget-view+json": {
       "model_id": "d566be11dba44045a940c2122400538b",
       "version_major": 2,
       "version_minor": 0
      },
      "text/plain": [
       "Training: 0it [00:00, ?it/s]"
      ]
     },
     "metadata": {},
     "output_type": "display_data"
    },
    {
     "name": "stdout",
     "output_type": "stream",
     "text": [
      "INFO:root:(('127.0.0.1', 41845)) Evaluated. Losss: 2.301456928253174, Metric: 0.11810000240802765. (Check tensorboard for more info)\n",
      "INFO:root:(('127.0.0.1', 41845)) Training...\n"
     ]
    },
    {
     "data": {
      "application/vnd.jupyter.widget-view+json": {
       "model_id": "",
       "version_major": 2,
       "version_minor": 0
      },
      "text/plain": [
       "Sanity Checking: 0it [00:00, ?it/s]"
      ]
     },
     "metadata": {},
     "output_type": "display_data"
    },
    {
     "data": {
      "application/vnd.jupyter.widget-view+json": {
       "model_id": "77aec8ddbc6a4c08b0070bc720399b06",
       "version_major": 2,
       "version_minor": 0
      },
      "text/plain": [
       "Training: 0it [00:00, ?it/s]"
      ]
     },
     "metadata": {},
     "output_type": "display_data"
    },
    {
     "data": {
      "application/vnd.jupyter.widget-view+json": {
       "model_id": "",
       "version_major": 2,
       "version_minor": 0
      },
      "text/plain": [
       "Validation: 0it [00:00, ?it/s]"
      ]
     },
     "metadata": {},
     "output_type": "display_data"
    },
    {
     "data": {
      "application/vnd.jupyter.widget-view+json": {
       "model_id": "",
       "version_major": 2,
       "version_minor": 0
      },
      "text/plain": [
       "Validation: 0it [00:00, ?it/s]"
      ]
     },
     "metadata": {},
     "output_type": "display_data"
    },
    {
     "data": {
      "application/vnd.jupyter.widget-view+json": {
       "model_id": "",
       "version_major": 2,
       "version_minor": 0
      },
      "text/plain": [
       "Validation: 0it [00:00, ?it/s]"
      ]
     },
     "metadata": {},
     "output_type": "display_data"
    },
    {
     "name": "stdout",
     "output_type": "stream",
     "text": [
      "INFO:root:(127.0.0.1:41845) Model added (1/3) from ('127.0.0.1', 41845)\n",
      "INFO:root:(('127.0.0.1', 41845)) Broadcasting model to 2 clients. (size: 548864 bytes)\n",
      "INFO:root:(127.0.0.1:38537) Model added (1/3) from ('127.0.0.1', 41845)\n",
      "INFO:root:(127.0.0.1:42513) Model added (1/3) from ('127.0.0.1', 41845)\n",
      "INFO:root:(127.0.0.1:42513) Model added (2/3) from ('127.0.0.1', 42513)\n",
      "INFO:root:(('127.0.0.1', 42513)) Broadcasting model to 2 clients. (size: 548864 bytes)\n",
      "INFO:root:(127.0.0.1:41845) Model added (2/3) from ('127.0.0.1', 42513)\n",
      "INFO:root:(127.0.0.1:38537) Model added (2/3) from ('127.0.0.1', 42513)\n",
      "INFO:root:(127.0.0.1:38537) Model added (3/3) from ('127.0.0.1', 38537)\n",
      "INFO:root:(('127.0.0.1', 38537)) Broadcasting model to 2 clients. (size: 548864 bytes)\n",
      "INFO:root:(127.0.0.1:38537) Agregating models.\n",
      "INFO:root:(('127.0.0.1', 38537)) Waiting other nodes.\n",
      "INFO:root:(127.0.0.1:42513) Model added (3/3) from ('127.0.0.1', 38537)\n",
      "INFO:root:(127.0.0.1:42513) Agregating models.\n",
      "INFO:root:(127.0.0.1:41845) Model added (3/3) from ('127.0.0.1', 38537)\n",
      "INFO:root:(127.0.0.1:41845) Agregating models.\n",
      "INFO:root:(('127.0.0.1', 42513)) Waiting other nodes.\n",
      "INFO:root:(('127.0.0.1', 41845)) Waiting other nodes.\n",
      "INFO:root:(('127.0.0.1', 41845)) Broadcasting model to 2 clients. (size: 548864 bytes)\n",
      "INFO:root:(('127.0.0.1', 38537)) Broadcasting model to 2 clients. (size: 548864 bytes)\n",
      "INFO:root:(('127.0.0.1', 42513)) Broadcasting model to 2 clients. (size: 548864 bytes)\n",
      "INFO:root:(('127.0.0.1', 41845)) Waiting other nodes.\n",
      "INFO:root:(('127.0.0.1', 38537)) Waiting other nodes.\n",
      "INFO:root:(('127.0.0.1', 42513)) Waiting other nodes.\n",
      "INFO:root:(('127.0.0.1', 42513)) Round 1 of 2 finished.\n",
      "INFO:root:(('127.0.0.1', 38537)) Round 1 of 2 finished.\n",
      "INFO:root:(('127.0.0.1', 38537)) Sending train set vote.\n",
      "INFO:root:(('127.0.0.1', 42513)) Sending train set vote.\n",
      "INFO:root:(('127.0.0.1', 41845)) Round 1 of 2 finished.\n",
      "INFO:root:(('127.0.0.1', 38537)) Waiting other node votes.\n",
      "INFO:root:(('127.0.0.1', 42513)) Waiting other node votes.\n",
      "INFO:root:(('127.0.0.1', 41845)) Sending train set vote.\n",
      "INFO:root:('127.0.0.1', 38537) Train set of 3 nodes. [('127.0.0.1', 41845), ('127.0.0.1', 38537), ('127.0.0.1', 42513)]\n",
      "INFO:root:(('127.0.0.1', 41845)) Waiting other node votes.\n",
      "INFO:root:(('127.0.0.1', 38537)) Evaluating...\n",
      "INFO:root:('127.0.0.1', 42513) Train set of 3 nodes. [('127.0.0.1', 41845), ('127.0.0.1', 38537), ('127.0.0.1', 42513)]\n",
      "INFO:root:('127.0.0.1', 41845) Train set of 3 nodes. [('127.0.0.1', 41845), ('127.0.0.1', 38537), ('127.0.0.1', 42513)]\n",
      "INFO:root:(('127.0.0.1', 42513)) Evaluating...\n",
      "INFO:root:(('127.0.0.1', 41845)) Evaluating...\n"
     ]
    },
    {
     "data": {
      "application/vnd.jupyter.widget-view+json": {
       "model_id": "9faebded645f47dc8fe10d93e01124a6",
       "version_major": 2,
       "version_minor": 0
      },
      "text/plain": [
       "Testing: 0it [00:00, ?it/s]"
      ]
     },
     "metadata": {},
     "output_type": "display_data"
    },
    {
     "data": {
      "application/vnd.jupyter.widget-view+json": {
       "model_id": "4cbc9bf759774c4ca8918b675bc2036b",
       "version_major": 2,
       "version_minor": 0
      },
      "text/plain": [
       "Testing: 0it [00:00, ?it/s]"
      ]
     },
     "metadata": {},
     "output_type": "display_data"
    },
    {
     "data": {
      "application/vnd.jupyter.widget-view+json": {
       "model_id": "5852a16907c74cdf9af5bd544bfd2961",
       "version_major": 2,
       "version_minor": 0
      },
      "text/plain": [
       "Testing: 0it [00:00, ?it/s]"
      ]
     },
     "metadata": {},
     "output_type": "display_data"
    },
    {
     "name": "stdout",
     "output_type": "stream",
     "text": [
      "INFO:root:(('127.0.0.1', 42513)) Evaluated. Losss: 0.14803001284599304, Metric: 0.9588000178337097. (Check tensorboard for more info)\n",
      "INFO:root:(('127.0.0.1', 41845)) Evaluated. Losss: 0.14803001284599304, Metric: 0.9588000178337097. (Check tensorboard for more info)\n",
      "INFO:root:(('127.0.0.1', 38537)) Evaluated. Losss: 0.14803001284599304, Metric: 0.9588000178337097. (Check tensorboard for more info)\n",
      "INFO:root:(('127.0.0.1', 42513)) Training...\n",
      "INFO:root:(('127.0.0.1', 41845)) Training...\n",
      "INFO:root:(('127.0.0.1', 38537)) Training...\n"
     ]
    },
    {
     "data": {
      "application/vnd.jupyter.widget-view+json": {
       "model_id": "",
       "version_major": 2,
       "version_minor": 0
      },
      "text/plain": [
       "Sanity Checking: 0it [00:00, ?it/s]"
      ]
     },
     "metadata": {},
     "output_type": "display_data"
    },
    {
     "data": {
      "application/vnd.jupyter.widget-view+json": {
       "model_id": "",
       "version_major": 2,
       "version_minor": 0
      },
      "text/plain": [
       "Sanity Checking: 0it [00:00, ?it/s]"
      ]
     },
     "metadata": {},
     "output_type": "display_data"
    },
    {
     "data": {
      "application/vnd.jupyter.widget-view+json": {
       "model_id": "",
       "version_major": 2,
       "version_minor": 0
      },
      "text/plain": [
       "Sanity Checking: 0it [00:00, ?it/s]"
      ]
     },
     "metadata": {},
     "output_type": "display_data"
    },
    {
     "data": {
      "application/vnd.jupyter.widget-view+json": {
       "model_id": "f46f8239da6349f390d93f5effc1cd92",
       "version_major": 2,
       "version_minor": 0
      },
      "text/plain": [
       "Training: 0it [00:00, ?it/s]"
      ]
     },
     "metadata": {},
     "output_type": "display_data"
    },
    {
     "data": {
      "application/vnd.jupyter.widget-view+json": {
       "model_id": "1d836c0580f046038dc36cef93540123",
       "version_major": 2,
       "version_minor": 0
      },
      "text/plain": [
       "Training: 0it [00:00, ?it/s]"
      ]
     },
     "metadata": {},
     "output_type": "display_data"
    },
    {
     "data": {
      "application/vnd.jupyter.widget-view+json": {
       "model_id": "fa6e5fd3c2bc4b58b67627af97bb2422",
       "version_major": 2,
       "version_minor": 0
      },
      "text/plain": [
       "Training: 0it [00:00, ?it/s]"
      ]
     },
     "metadata": {},
     "output_type": "display_data"
    },
    {
     "data": {
      "application/vnd.jupyter.widget-view+json": {
       "model_id": "",
       "version_major": 2,
       "version_minor": 0
      },
      "text/plain": [
       "Validation: 0it [00:00, ?it/s]"
      ]
     },
     "metadata": {},
     "output_type": "display_data"
    },
    {
     "data": {
      "application/vnd.jupyter.widget-view+json": {
       "model_id": "",
       "version_major": 2,
       "version_minor": 0
      },
      "text/plain": [
       "Validation: 0it [00:00, ?it/s]"
      ]
     },
     "metadata": {},
     "output_type": "display_data"
    },
    {
     "data": {
      "application/vnd.jupyter.widget-view+json": {
       "model_id": "",
       "version_major": 2,
       "version_minor": 0
      },
      "text/plain": [
       "Validation: 0it [00:00, ?it/s]"
      ]
     },
     "metadata": {},
     "output_type": "display_data"
    },
    {
     "name": "stdout",
     "output_type": "stream",
     "text": [
      "INFO:root:(127.0.0.1:38537) Model added (1/3) from ('127.0.0.1', 38537)\n",
      "INFO:root:(127.0.0.1:42513) Model added (1/3) from ('127.0.0.1', 42513)\n",
      "INFO:root:(('127.0.0.1', 38537)) Broadcasting model to 2 clients. (size: 548864 bytes)\n",
      "INFO:root:(('127.0.0.1', 42513)) Broadcasting model to 2 clients. (size: 548864 bytes)\n",
      "INFO:root:(127.0.0.1:41845) Model added (1/3) from ('127.0.0.1', 42513)\n",
      "INFO:root:(127.0.0.1:38537) Model added (2/3) from ('127.0.0.1', 42513)\n",
      "INFO:root:(127.0.0.1:41845) Model added (2/3) from ('127.0.0.1', 38537)\n",
      "INFO:root:(127.0.0.1:42513) Model added (2/3) from ('127.0.0.1', 38537)\n",
      "INFO:root:(127.0.0.1:41845) Model added (3/3) from ('127.0.0.1', 41845)\n",
      "INFO:root:(127.0.0.1:41845) Agregating models.\n",
      "INFO:root:(('127.0.0.1', 41845)) Broadcasting model to 2 clients. (size: 548864 bytes)\n",
      "INFO:root:(('127.0.0.1', 41845)) Waiting other nodes.\n",
      "INFO:root:(127.0.0.1:38537) Model added (3/3) from ('127.0.0.1', 41845)\n",
      "INFO:root:(127.0.0.1:42513) Model added (3/3) from ('127.0.0.1', 41845)\n",
      "INFO:root:(127.0.0.1:38537) Agregating models.\n",
      "INFO:root:(127.0.0.1:42513) Agregating models.\n",
      "INFO:root:(('127.0.0.1', 38537)) Waiting other nodes.\n",
      "INFO:root:(('127.0.0.1', 42513)) Waiting other nodes.\n",
      "INFO:root:(('127.0.0.1', 38537)) Broadcasting model to 2 clients. (size: 548864 bytes)\n",
      "INFO:root:(('127.0.0.1', 41845)) Broadcasting model to 2 clients. (size: 548864 bytes)\n",
      "INFO:root:(('127.0.0.1', 42513)) Broadcasting model to 2 clients. (size: 548864 bytes)\n",
      "INFO:root:(('127.0.0.1', 38537)) Waiting other nodes.\n",
      "INFO:root:(('127.0.0.1', 41845)) Waiting other nodes.\n",
      "INFO:root:(('127.0.0.1', 42513)) Waiting other nodes.\n",
      "INFO:root:(('127.0.0.1', 38537)) Round 2 of 2 finished.\n",
      "INFO:root:(('127.0.0.1', 41845)) Round 2 of 2 finished.\n",
      "INFO:root:(('127.0.0.1', 42513)) Round 2 of 2 finished.\n",
      "INFO:root:(('127.0.0.1', 38537)) Evaluating...\n",
      "INFO:root:(('127.0.0.1', 41845)) Evaluating...\n",
      "INFO:root:(('127.0.0.1', 42513)) Evaluating...\n"
     ]
    },
    {
     "data": {
      "application/vnd.jupyter.widget-view+json": {
       "model_id": "e64f790e98864eeb9e1a03f375418463",
       "version_major": 2,
       "version_minor": 0
      },
      "text/plain": [
       "Testing: 0it [00:00, ?it/s]"
      ]
     },
     "metadata": {},
     "output_type": "display_data"
    },
    {
     "data": {
      "application/vnd.jupyter.widget-view+json": {
       "model_id": "a8cf0a21ad9c4d56bf86e12a24427a05",
       "version_major": 2,
       "version_minor": 0
      },
      "text/plain": [
       "Testing: 0it [00:00, ?it/s]"
      ]
     },
     "metadata": {},
     "output_type": "display_data"
    },
    {
     "data": {
      "application/vnd.jupyter.widget-view+json": {
       "model_id": "2d34ee15c09f49f4abac703417c7f910",
       "version_major": 2,
       "version_minor": 0
      },
      "text/plain": [
       "Testing: 0it [00:00, ?it/s]"
      ]
     },
     "metadata": {},
     "output_type": "display_data"
    },
    {
     "name": "stdout",
     "output_type": "stream",
     "text": [
      "INFO:root:(('127.0.0.1', 42513)) Evaluated. Losss: 0.07695037126541138, Metric: 0.9758999943733215. (Check tensorboard for more info)\n",
      "INFO:root:(('127.0.0.1', 42513)) Finish!!.\n",
      "INFO:root:(('127.0.0.1', 41845)) Evaluated. Losss: 0.07695037126541138, Metric: 0.9758999943733215. (Check tensorboard for more info)\n",
      "INFO:root:(('127.0.0.1', 38537)) Evaluated. Losss: 0.07695037126541138, Metric: 0.9758999943733215. (Check tensorboard for more info)\n",
      "INFO:root:(('127.0.0.1', 41845)) Finish!!.\n",
      "INFO:root:(('127.0.0.1', 38537)) Finish!!.\n",
      "INFO:root:Bajando el nodo, dejando de escuchar en 127.0.0.1 38537 y desconectándose de 2 nodos\n",
      "DEBUG:root:Closed connection: ('127.0.0.1', 38537)\n",
      "DEBUG:root:Closed connection: ('127.0.0.1', 38537)\n",
      "DEBUG:root:Closed connection: ('127.0.0.1', 42513)\n",
      "DEBUG:root:Closed connection: ('127.0.0.1', 41845)\n",
      "INFO:root:Bajando el nodo, dejando de escuchar en 127.0.0.1 42513 y desconectándose de 1 nodos\n",
      "DEBUG:root:Closed connection: ('127.0.0.1', 42513)\n",
      "DEBUG:root:Closed connection: ('127.0.0.1', 41845)\n",
      "INFO:root:Bajando el nodo, dejando de escuchar en 127.0.0.1 41845 y desconectándose de 0 nodos\n",
      "INFO:root:Bajando el nodo, dejando de escuchar en 127.0.0.1 60271 y desconectándose de 0 nodos\n"
     ]
    }
   ],
   "source": [
    "from p2pfl.node import Node\n",
    "from p2pfl.learning.pytorch.mnist_examples.mnistfederated_dm import MnistFederatedDM\n",
    "from p2pfl.learning.pytorch.mnist_examples.models.mlp import MLP\n",
    "from collections import OrderedDict\n",
    "import torch\n",
    "import time\n",
    "\n",
    "def test_connect_to_train_running(four_nodes):\n",
    "    n1,n2,n3,n4 = four_nodes\n",
    "\n",
    "    # Connect Nodes (unless the n4)\n",
    "    n1.connect_to(n2.host,n2.port)\n",
    "    n3.connect_to(n1.host,n1.port)\n",
    "    time.sleep(0.1) #Esperar por la asincronía\n",
    "\n",
    "    n1.set_start_learning(2,1)\n",
    "\n",
    "    time.sleep(2)\n",
    "    \n",
    "    n4.connect_to(n1.host,n1.port,full=False)\n",
    "\n",
    "    time.sleep(2)\n",
    "\n",
    "    #assert n4.round is not None\n",
    "\n",
    "    # If the new node doesent know that learning is running, it will cause inanition in the other nodes (that are waiting for him to finish)\n",
    "\n",
    "    while all([n1.round is not None for n in [n1,n2,n3,n4]]):\n",
    "        time.sleep(0.1)\n",
    "\n",
    "    for n in [n1,n2,n3,n4]:\n",
    "        n.stop()\n",
    "        time.sleep(0.1)\n",
    "        \n",
    "        \n",
    "nodes = []\n",
    "    \n",
    "for i in range(4):\n",
    "    node = Node(MLP(),MnistFederatedDM())\n",
    "    node.start()\n",
    "    nodes.append(node)\n",
    "    \n",
    "test_connect_to_train_running(nodes)\n"
   ]
  },
  {
   "cell_type": "code",
   "execution_count": 4,
   "id": "8fee9167",
   "metadata": {},
   "outputs": [
    {
     "data": {
      "text/plain": [
       "3116227613539867172"
      ]
     },
     "execution_count": 4,
     "metadata": {},
     "output_type": "execute_result"
    }
   ],
   "source": [
    "hash(\"msg\" + str(datetime.now()))"
   ]
  },
  {
   "cell_type": "code",
   "execution_count": 3,
   "id": "a0e41183",
   "metadata": {},
   "outputs": [
    {
     "data": {
      "text/plain": [
       "'2022-06-27 17:13:54.992782'"
      ]
     },
     "execution_count": 3,
     "metadata": {},
     "output_type": "execute_result"
    }
   ],
   "source": [
    "from datetime import datetime\n",
    "\n",
    "now = datetime.now()\n",
    "str(now)"
   ]
  },
  {
   "cell_type": "code",
   "execution_count": 6,
   "id": "8faa3093",
   "metadata": {},
   "outputs": [
    {
     "data": {
      "text/plain": [
       "5682035749826620771"
      ]
     },
     "execution_count": 6,
     "metadata": {},
     "output_type": "execute_result"
    }
   ],
   "source": [
    "hash(\"caca\".encode(\"utf-8\"))"
   ]
  },
  {
   "cell_type": "code",
   "execution_count": 8,
   "id": "33838a79",
   "metadata": {},
   "outputs": [
    {
     "data": {
      "text/plain": [
       "'1656343107.3914704'"
      ]
     },
     "execution_count": 8,
     "metadata": {},
     "output_type": "execute_result"
    }
   ],
   "source": [
    "str(time.time())"
   ]
  },
  {
   "cell_type": "code",
   "execution_count": 3,
   "id": "e44b6c2c",
   "metadata": {},
   "outputs": [
    {
     "data": {
      "text/plain": [
       "False"
      ]
     },
     "execution_count": 3,
     "metadata": {},
     "output_type": "execute_result"
    }
   ],
   "source": [
    "\"-1\".isdecimal()"
   ]
  },
  {
   "cell_type": "code",
   "execution_count": 4,
   "id": "81d11015",
   "metadata": {},
   "outputs": [
    {
     "name": "stdout",
     "output_type": "stream",
     "text": [
      "[(1, 1), 1]\n"
     ]
    }
   ],
   "source": [
    "a = [(1,1)]\n",
    "b = {1:1}\n",
    "\n",
    "a = a + list(b)\n",
    "print(a)"
   ]
  },
  {
   "cell_type": "code",
   "execution_count": 1,
   "id": "c31113eb",
   "metadata": {},
   "outputs": [
    {
     "data": {
      "text/plain": [
       "False"
      ]
     },
     "execution_count": 1,
     "metadata": {},
     "output_type": "execute_result"
    }
   ],
   "source": [
    "None in []"
   ]
  },
  {
   "cell_type": "code",
   "execution_count": 9,
   "id": "ebaa1124",
   "metadata": {},
   "outputs": [
    {
     "name": "stdout",
     "output_type": "stream",
     "text": [
      "{1: 1}\n",
      "Processed {'-8414875811797426002': b'BEAT -8414875811797426002\\n'} messages from <NodeConnection(node_connection-127.0.0.1:35411-127.0.0.1:47939, started 140116999796480)>\n",
      "Processed {'7452549549026162342': b'BEAT 7452549549026162342\\n'} messages from <NodeConnection(node_connection-127.0.0.1:47939-127.0.0.1:35411, started 140117347022592)>\n",
      "Processed {'8384566461848987428': b'BEAT 8384566461848987428\\n'} messages from <NodeConnection(node_connection-127.0.0.1:35411-127.0.0.1:47939, started 140116999796480)>\n",
      "Processed {'-1284154675020740598': b'BEAT -1284154675020740598\\n'} messages from <NodeConnection(node_connection-127.0.0.1:47939-127.0.0.1:35411, started 140117347022592)>\n",
      "Processed {'9016479497930719462': b'BEAT 9016479497930719462\\n'} messages from <NodeConnection(node_connection-127.0.0.1:35411-127.0.0.1:47939, started 140116999796480)>\n",
      "Processed {'5086953804389111734': b'BEAT 5086953804389111734\\n'} messages from <NodeConnection(node_connection-127.0.0.1:47939-127.0.0.1:35411, started 140117347022592)>\n",
      "Processed {'-792821734141639382': b'BEAT -792821734141639382\\n'} messages from <NodeConnection(node_connection-127.0.0.1:35411-127.0.0.1:47939, started 140116999796480)>\n",
      "Processed {'-1845664963254644474': b'BEAT -1845664963254644474\\n'} messages from <NodeConnection(node_connection-127.0.0.1:47939-127.0.0.1:35411, started 140117347022592)>\n",
      "Processed {'-5524498534580275323': b'BEAT -5524498534580275323\\n'} messages from <NodeConnection(node_connection-127.0.0.1:35411-127.0.0.1:47939, started 140116999796480)>\n",
      "Processed {'-1399150252137504283': b'BEAT -1399150252137504283\\n'} messages from <NodeConnection(node_connection-127.0.0.1:47939-127.0.0.1:35411, started 140117347022592)>\n",
      "Processed {'6178943189749201941': b'BEAT 6178943189749201941\\n'} messages from <NodeConnection(node_connection-127.0.0.1:35411-127.0.0.1:47939, started 140116999796480)>\n",
      "Processed {'-892753775651542057': b'BEAT -892753775651542057\\n'} messages from <NodeConnection(node_connection-127.0.0.1:47939-127.0.0.1:35411, started 140117347022592)>\n",
      "Processed {'2908868137255474791': b'BEAT 2908868137255474791\\n'} messages from <NodeConnection(node_connection-127.0.0.1:35411-127.0.0.1:47939, started 140116999796480)>\n",
      "Processed {'-7400422820478851108': b'BEAT -7400422820478851108\\n'} messages from <NodeConnection(node_connection-127.0.0.1:47939-127.0.0.1:35411, started 140117347022592)>\n",
      "Processed {'6227760539554257420': b'BEAT 6227760539554257420\\n'} messages from <NodeConnection(node_connection-127.0.0.1:35411-127.0.0.1:47939, started 140116999796480)>\n",
      "Processed {'9089931901857463649': b'BEAT 9089931901857463649\\n'} messages from <NodeConnection(node_connection-127.0.0.1:47939-127.0.0.1:35411, started 140117347022592)>\n",
      "Processed {'-5865869582334176664': b'BEAT -5865869582334176664\\n'} messages from <NodeConnection(node_connection-127.0.0.1:35411-127.0.0.1:47939, started 140116999796480)>\n",
      "Processed {'3957217871835786023': b'BEAT 3957217871835786023\\n'} messages from <NodeConnection(node_connection-127.0.0.1:47939-127.0.0.1:35411, started 140117347022592)>\n",
      "Processed {'-1563025610718330838': b'BEAT -1563025610718330838\\n'} messages from <NodeConnection(node_connection-127.0.0.1:47939-127.0.0.1:35411, started 140117347022592)>Processed {'-8747160664978278336': b'BEAT -8747160664978278336\\n'} messages from <NodeConnection(node_connection-127.0.0.1:35411-127.0.0.1:47939, started 140116999796480)>\n",
      "\n",
      "Processed {'2290198509957382856': b'BEAT 2290198509957382856\\n'} messages from <NodeConnection(node_connection-127.0.0.1:35411-127.0.0.1:47939, started 140116999796480)>Processed {'-8581927043508499684': b'BEAT -8581927043508499684\\n'} messages from <NodeConnection(node_connection-127.0.0.1:47939-127.0.0.1:35411, started 140117347022592)>\n",
      "\n",
      "Processed {'3987010126505585015': b'BEAT 3987010126505585015\\n'} messages from <NodeConnection(node_connection-127.0.0.1:35411-127.0.0.1:47939, started 140116999796480)>\n",
      "Processed {'539700375552547012': b'BEAT 539700375552547012\\n'} messages from <NodeConnection(node_connection-127.0.0.1:47939-127.0.0.1:35411, started 140117347022592)>\n",
      "Processed {'6675765108913943075': b'BEAT 6675765108913943075\\n'} messages from <NodeConnection(node_connection-127.0.0.1:35411-127.0.0.1:47939, started 140116999796480)>Processed {'-570990168859686857': b'BEAT -570990168859686857\\n'} messages from <NodeConnection(node_connection-127.0.0.1:47939-127.0.0.1:35411, started 140117347022592)>\n",
      "\n",
      "Processed {'5972824268930203126': b'BEAT 5972824268930203126\\n'} messages from <NodeConnection(node_connection-127.0.0.1:47939-127.0.0.1:35411, started 140117347022592)>Processed {'3934928309724411592': b'BEAT 3934928309724411592\\n'} messages from <NodeConnection(node_connection-127.0.0.1:35411-127.0.0.1:47939, started 140116999796480)>\n",
      "\n",
      "Processed {'-7444367250522008710': b'BEAT -7444367250522008710\\n'} messages from <NodeConnection(node_connection-127.0.0.1:47939-127.0.0.1:35411, started 140117347022592)>\n",
      "Processed {'-6656446200577001960': b'BEAT -6656446200577001960\\n'} messages from <NodeConnection(node_connection-127.0.0.1:35411-127.0.0.1:47939, started 140116999796480)>\n",
      "Processed {'-3376469328011228015': b'BEAT -3376469328011228015\\n'} messages from <NodeConnection(node_connection-127.0.0.1:35411-127.0.0.1:47939, started 140116999796480)>Processed {'5748428777920672708': b'BEAT 5748428777920672708\\n'} messages from <NodeConnection(node_connection-127.0.0.1:47939-127.0.0.1:35411, started 140117347022592)>\n",
      "\n",
      "Processed {'-3926669803582364599': b'BEAT -3926669803582364599\\n'} messages from <NodeConnection(node_connection-127.0.0.1:47939-127.0.0.1:35411, started 140117347022592)>Processed {'-8118863092281487275': b'BEAT -8118863092281487275\\n'} messages from <NodeConnection(node_connection-127.0.0.1:35411-127.0.0.1:47939, started 140116999796480)>\n",
      "\n"
     ]
    }
   ],
   "source": [
    "a = {1:2} | {1:1}\n",
    "print(a)"
   ]
  },
  {
   "cell_type": "code",
   "execution_count": 3,
   "id": "e1743fa5",
   "metadata": {},
   "outputs": [
    {
     "data": {
      "text/plain": [
       "{'-6292952804535679250': b'NUM_SAMPLES 54000 10000 -6292952804535679250\\n',\n",
       " '8763277242718051430': b'NUM_SAMPLES 54000 10000 8763277242718051430\\n'}"
      ]
     },
     "execution_count": 3,
     "metadata": {},
     "output_type": "execute_result"
    }
   ],
   "source": [
    "a = {'-6292952804535679250': b'NUM_SAMPLES 54000 10000 -6292952804535679250\\n', '8763277242718051430': b'NUM_SAMPLES 54000 10000 8763277242718051430\\n'}\n",
    "a"
   ]
  },
  {
   "cell_type": "code",
   "execution_count": 4,
   "id": "a0e5c62b",
   "metadata": {},
   "outputs": [
    {
     "ename": "ValueError",
     "evalue": "too many values to unpack (expected 2)",
     "output_type": "error",
     "traceback": [
      "\u001b[0;31m---------------------------------------------------------------------------\u001b[0m",
      "\u001b[0;31mValueError\u001b[0m                                Traceback (most recent call last)",
      "Input \u001b[0;32mIn [4]\u001b[0m, in \u001b[0;36m<cell line: 1>\u001b[0;34m()\u001b[0m\n\u001b[0;32m----> 1\u001b[0m [k \u001b[38;5;28;01mfor\u001b[39;00m k,v \u001b[38;5;129;01min\u001b[39;00m a]\n",
      "Input \u001b[0;32mIn [4]\u001b[0m, in \u001b[0;36m<listcomp>\u001b[0;34m(.0)\u001b[0m\n\u001b[0;32m----> 1\u001b[0m [k \u001b[38;5;28;01mfor\u001b[39;00m k,v \u001b[38;5;129;01min\u001b[39;00m a]\n",
      "\u001b[0;31mValueError\u001b[0m: too many values to unpack (expected 2)"
     ]
    }
   ],
   "source": [
    "[k for k,v in a]"
   ]
  },
  {
   "cell_type": "code",
   "execution_count": 6,
   "id": "2d58c4a0",
   "metadata": {},
   "outputs": [
    {
     "data": {
      "text/plain": [
       "[b'NUM_SAMPLES 54000 10000 -6292952804535679250\\n',\n",
       " b'NUM_SAMPLES 54000 10000 8763277242718051430\\n']"
      ]
     },
     "execution_count": 6,
     "metadata": {},
     "output_type": "execute_result"
    }
   ],
   "source": [
    "list(a.values())"
   ]
  },
  {
   "cell_type": "code",
   "execution_count": 2,
   "id": "48cf513f",
   "metadata": {},
   "outputs": [
    {
     "data": {
      "text/plain": [
       "['NUM_SAMPLES',\n",
       " '54000',\n",
       " '10000',\n",
       " '7567134918904634235',\n",
       " 'VOTE_TRAIN_SET',\n",
       " '127.0.0.1',\n",
       " '35157',\n",
       " '776',\n",
       " '127.0.0.1',\n",
       " '35157',\n",
       " '384',\n",
       " '127.0.0.1',\n",
       " '35157',\n",
       " '249',\n",
       " '\\\\VOTE_TRAIN_SET',\n",
       " '4066132568365956543']"
      ]
     },
     "execution_count": 2,
     "metadata": {},
     "output_type": "execute_result"
    }
   ],
   "source": [
    "a = \"NUM_SAMPLES 54000 10000 7567134918904634235\\nVOTE_TRAIN_SET  127.0.0.1 35157 776 127.0.0.1 35157 384 127.0.0.1 35157 249 \\\\VOTE_TRAIN_SET 4066132568365956543\\n\"\n",
    "\n",
    "a.split()"
   ]
  },
  {
   "cell_type": "code",
   "execution_count": 4,
   "id": "a7e3ba39",
   "metadata": {},
   "outputs": [
    {
     "name": "stdout",
     "output_type": "stream",
     "text": [
      "(1, 5)\n"
     ]
    }
   ],
   "source": [
    "a = {1:5}\n",
    "\n",
    "for x in a.items():\n",
    "    print(x)"
   ]
  },
  {
   "cell_type": "code",
   "execution_count": 1,
   "id": "6853dc1c",
   "metadata": {
    "scrolled": true
   },
   "outputs": [
    {
     "name": "stdout",
     "output_type": "stream",
     "text": [
      "INFO:root:Nodo listening at 127.0.0.1:50711\n",
      "INFO:root:Nodo listening at 127.0.0.1:46033\n",
      "INFO:root:('127.0.0.1', 50711) Connected to 127.0.0.1:46033\n",
      "INFO:root:('127.0.0.1', 46033) Conexión aceptada con 127.0.0.1:50711\n",
      "DEBUG:root:Closed connection: ('127.0.0.1', 46033)\n",
      "DEBUG:root:Closed connection: ('127.0.0.1', 50711)\n",
      "INFO:root:Bajando el nodo, dejando de escuchar en 127.0.0.1 46033 y desconectándose de 0 nodos\n",
      "INFO:root:Bajando el nodo, dejando de escuchar en 127.0.0.1 50711 y desconectándose de 0 nodos\n"
     ]
    }
   ],
   "source": [
    "from p2pfl.base_node import BaseNode\n",
    "import time\n",
    "\n",
    "def test_node_paring():\n",
    "    n1 = BaseNode()\n",
    "    n2 = BaseNode()\n",
    "    n1.start()\n",
    "    n2.start()\n",
    "    # Conexión\n",
    "    n1.connect_to(n2.host,n2.port)\n",
    "    time.sleep(0.1) #Esperar por la asincronía\n",
    "    assert len(n1.neightboors) == len(n2.neightboors)==1\n",
    "\n",
    "    # Desconexión\n",
    "    n2.neightboors[0].stop()\n",
    "    time.sleep(0.1) #Esperar por la asincronía\n",
    "    assert len(n1.neightboors) == len(n2.neightboors)== 0\n",
    "    \n",
    "    n1.stop()\n",
    "    n2.stop()\n",
    "\n",
    "test_node_paring()"
   ]
  },
  {
   "cell_type": "code",
   "execution_count": 1,
   "id": "a0093ca8",
   "metadata": {},
   "outputs": [
    {
     "ename": "TypeError",
     "evalue": "unsupported operand type(s) for -: 'list' and 'list'",
     "output_type": "error",
     "traceback": [
      "\u001b[0;31m---------------------------------------------------------------------------\u001b[0m",
      "\u001b[0;31mTypeError\u001b[0m                                 Traceback (most recent call last)",
      "Input \u001b[0;32mIn [1]\u001b[0m, in \u001b[0;36m<cell line: 1>\u001b[0;34m()\u001b[0m\n\u001b[0;32m----> 1\u001b[0m \u001b[43m[\u001b[49m\u001b[43m]\u001b[49m\u001b[43m \u001b[49m\u001b[38;5;241;43m-\u001b[39;49m\u001b[43m \u001b[49m\u001b[43m[\u001b[49m\u001b[43m]\u001b[49m\n",
      "\u001b[0;31mTypeError\u001b[0m: unsupported operand type(s) for -: 'list' and 'list'"
     ]
    }
   ],
   "source": [
    "[] - []"
   ]
  },
  {
   "cell_type": "code",
   "execution_count": 3,
   "id": "3b6ad4a6",
   "metadata": {},
   "outputs": [
    {
     "ename": "TypeError",
     "evalue": "'set' object is not subscriptable",
     "output_type": "error",
     "traceback": [
      "\u001b[0;31m---------------------------------------------------------------------------\u001b[0m",
      "\u001b[0;31mTypeError\u001b[0m                                 Traceback (most recent call last)",
      "Input \u001b[0;32mIn [3]\u001b[0m, in \u001b[0;36m<cell line: 1>\u001b[0;34m()\u001b[0m\n\u001b[0;32m----> 1\u001b[0m \u001b[38;5;28;43mset\u001b[39;49m\u001b[43m(\u001b[49m\u001b[43m[\u001b[49m\u001b[43m]\u001b[49m\u001b[43m)\u001b[49m\u001b[43m[\u001b[49m\u001b[38;5;241;43m0\u001b[39;49m\u001b[43m]\u001b[49m\n",
      "\u001b[0;31mTypeError\u001b[0m: 'set' object is not subscriptable"
     ]
    }
   ],
   "source": [
    "set([])[0]"
   ]
  },
  {
   "cell_type": "code",
   "execution_count": null,
   "id": "ee22b862",
   "metadata": {},
   "outputs": [],
   "source": []
  }
 ],
 "metadata": {
  "kernelspec": {
   "display_name": "Python 3 (ipykernel)",
   "language": "python",
   "name": "python3"
  },
  "language_info": {
   "codemirror_mode": {
    "name": "ipython",
    "version": 3
   },
   "file_extension": ".py",
   "mimetype": "text/x-python",
   "name": "python",
   "nbconvert_exporter": "python",
   "pygments_lexer": "ipython3",
   "version": "3.9.2"
  }
 },
 "nbformat": 4,
 "nbformat_minor": 5
}

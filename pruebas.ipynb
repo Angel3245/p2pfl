{
 "cells": [
  {
   "cell_type": "code",
   "execution_count": null,
   "id": "de3333e5",
   "metadata": {
    "scrolled": true
   },
   "outputs": [
    {
     "name": "stdout",
     "output_type": "stream",
     "text": [
      "INFO:root:Nodo a la escucha en localhost 49210\n",
      "INFO:root:Nodo a la escucha en localhost 49211\n",
      "INFO:root:Conexión aceptada con ('localhost', 49211)\n",
      "INFO:root:Broadcasting start learning...\n",
      "INFO:root:Training...\n",
      "INFO:root:Training...\n"
     ]
    },
    {
     "name": "stderr",
     "output_type": "stream",
     "text": [
      "GPU available: False, used: False\n",
      "TPU available: False, using: 0 TPU cores\n",
      "GPU available: False, used: False\n",
      "IPU available: False, using: 0 IPUs\n",
      "TPU available: False, using: 0 TPU cores\n",
      "HPU available: False, using: 0 HPUs\n",
      "IPU available: False, using: 0 IPUs\n",
      "HPU available: False, using: 0 HPUs\n",
      "\n",
      "  | Name     | Type     | Params\n",
      "--------------------------------------\n",
      "0 | accuracy | Accuracy | 0     \n",
      "1 | l1       | Linear   | 100 K \n",
      "2 | l2       | Linear   | 33.0 K\n",
      "3 | l3       | Linear   | 2.6 K \n",
      "--------------------------------------\n",
      "136 K     Trainable params\n",
      "0         Non-trainable params\n",
      "136 K     Total params\n",
      "0.544     Total estimated model params size (MB)\n",
      "\n",
      "  | Name     | Type     | Params\n",
      "--------------------------------------\n",
      "0 | accuracy | Accuracy | 0     \n",
      "1 | l1       | Linear   | 100 K \n",
      "2 | l2       | Linear   | 33.0 K\n",
      "3 | l3       | Linear   | 2.6 K \n",
      "--------------------------------------\n",
      "136 K     Trainable params\n",
      "0         Non-trainable params\n",
      "136 K     Total params\n",
      "0.544     Total estimated model params size (MB)\n"
     ]
    },
    {
     "name": "stdout",
     "output_type": "stream",
     "text": [
      "Train: 54000 Val:6000 Test:10000Train: 54000 Val:6000 Test:10000\n",
      "\n"
     ]
    },
    {
     "data": {
      "application/vnd.jupyter.widget-view+json": {
       "model_id": "",
       "version_major": 2,
       "version_minor": 0
      },
      "text/plain": [
       "Sanity Checking: 0it [00:00, ?it/s]"
      ]
     },
     "metadata": {},
     "output_type": "display_data"
    },
    {
     "data": {
      "application/vnd.jupyter.widget-view+json": {
       "model_id": "",
       "version_major": 2,
       "version_minor": 0
      },
      "text/plain": [
       "Sanity Checking: 0it [00:00, ?it/s]"
      ]
     },
     "metadata": {},
     "output_type": "display_data"
    },
    {
     "data": {
      "application/vnd.jupyter.widget-view+json": {
       "model_id": "dec160e36a824d3bb4d7a398de965988",
       "version_major": 2,
       "version_minor": 0
      },
      "text/plain": [
       "Training: 0it [00:00, ?it/s]"
      ]
     },
     "metadata": {},
     "output_type": "display_data"
    },
    {
     "data": {
      "application/vnd.jupyter.widget-view+json": {
       "model_id": "b652b81e9c3845c5a533a815b1160175",
       "version_major": 2,
       "version_minor": 0
      },
      "text/plain": [
       "Training: 0it [00:00, ?it/s]"
      ]
     },
     "metadata": {},
     "output_type": "display_data"
    }
   ],
   "source": [
    "from p2pfl.node import Node\n",
    "from p2pfl.learning.learner import MyNodeLearning\n",
    "from p2pfl.agregator import FedAvg    \n",
    "from collections import OrderedDict\n",
    "import torch\n",
    "import time\n",
    "\n",
    "def test_convergence(x):\n",
    "    n,r = x\n",
    "\n",
    "    # Node Creation\n",
    "    nodes = []\n",
    "    for i in range(n):\n",
    "        node = Node(host=\"localhost\")\n",
    "        node.start()\n",
    "        nodes.append(node)\n",
    "\n",
    "    # Node Connection\n",
    "    for i in range(len(nodes)-1):\n",
    "        nodes[i+1].connect_to(nodes[i].host,nodes[i].port)\n",
    "        time.sleep(0.1)\n",
    "\n",
    "    # Check if they are connected\n",
    "    for node in nodes:\n",
    "        assert len(node.neightboors) == n-1\n",
    "\n",
    "    # Start Learning\n",
    "    nodes[0].set_start_learning(rounds=r)\n",
    "\n",
    "    # Wait 4 results\n",
    "    while True:\n",
    "        time.sleep(1)\n",
    "        finish = True\n",
    "        for f in [node.round is None for node in nodes]:\n",
    "            finish = finish and f\n",
    "            \n",
    "        if finish:\n",
    "            break\n",
    "\n",
    "\n",
    "    # Cerrar\n",
    "    return nodes\n",
    "\n",
    "nodes = test_convergence((2,1))"
   ]
  },
  {
   "cell_type": "code",
   "execution_count": 2,
   "id": "a9668fdd",
   "metadata": {},
   "outputs": [
    {
     "name": "stdout",
     "output_type": "stream",
     "text": [
      "OrderedDict([('l1.weight', tensor([[-0.0144, -0.0117, -0.0035,  ...,  0.0202, -0.0111, -0.0125],\n",
      "        [-0.0113, -0.0192, -0.0093,  ..., -0.0315,  0.0006, -0.0133],\n",
      "        [-0.0087,  0.0193, -0.0201,  ..., -0.0276, -0.0196, -0.0139],\n",
      "        ...,\n",
      "        [-0.0211,  0.0275,  0.0104,  ...,  0.0254,  0.0144, -0.0117],\n",
      "        [-0.0160, -0.0092, -0.0127,  ...,  0.0165,  0.0189,  0.0099],\n",
      "        [-0.0073, -0.0195, -0.0051,  ..., -0.0269,  0.0178,  0.0037]])), ('l1.bias', tensor([ 0.0150, -0.0079,  0.0800,  0.0251, -0.0372,  0.0086,  0.0506, -0.0098,\n",
      "         0.0295,  0.0245,  0.0013,  0.0214,  0.0456, -0.0130, -0.0045,  0.0569,\n",
      "         0.0052,  0.0599, -0.0170,  0.0168, -0.0044,  0.0088, -0.0295,  0.0003,\n",
      "         0.0106,  0.0616,  0.0061,  0.0392,  0.0353,  0.0431,  0.0391,  0.0004,\n",
      "        -0.0118,  0.0461,  0.0518, -0.0442,  0.0381,  0.0883, -0.0383,  0.0174,\n",
      "         0.0563, -0.0472,  0.0344,  0.0278,  0.0262,  0.0095,  0.0309,  0.0429,\n",
      "         0.0088,  0.0187, -0.0109,  0.0314, -0.0121, -0.0114, -0.0318,  0.0471,\n",
      "         0.0003,  0.0240,  0.0399,  0.0097,  0.0418, -0.0104,  0.0412,  0.0843,\n",
      "        -0.0382,  0.0784,  0.0497,  0.0389, -0.0036, -0.0160,  0.0347, -0.0640,\n",
      "         0.0049,  0.0422, -0.0016,  0.0270,  0.0449,  0.0326,  0.0281,  0.0210,\n",
      "         0.0200, -0.0034, -0.0262,  0.0027,  0.0280, -0.0038, -0.0067,  0.0484,\n",
      "        -0.0134, -0.0163, -0.0189,  0.0169, -0.0155,  0.0073,  0.0458, -0.0271,\n",
      "         0.0337, -0.0308,  0.0117, -0.0053,  0.0025, -0.0020,  0.0135,  0.0095,\n",
      "         0.0626, -0.0050, -0.0133, -0.0007,  0.0369,  0.0501, -0.0329, -0.0123,\n",
      "         0.0431, -0.0101, -0.0147,  0.0504,  0.0489,  0.0728,  0.0494,  0.0662,\n",
      "         0.0347,  0.0174,  0.0103,  0.0497,  0.0411,  0.0352,  0.0403, -0.0075])), ('l2.weight', tensor([[ 0.0618, -0.0245, -0.0551,  ...,  0.0150,  0.0361,  0.0880],\n",
      "        [-0.0268, -0.0654,  0.0721,  ..., -0.0343, -0.0578,  0.0717],\n",
      "        [ 0.1033,  0.0622,  0.0373,  ...,  0.1235, -0.0587,  0.0189],\n",
      "        ...,\n",
      "        [-0.0197, -0.0721,  0.0414,  ..., -0.0519,  0.0257, -0.0254],\n",
      "        [ 0.0484, -0.0582, -0.0414,  ..., -0.0707,  0.0221, -0.0115],\n",
      "        [ 0.0836, -0.0364, -0.0177,  ..., -0.0192,  0.0175, -0.0018]])), ('l2.bias', tensor([ 3.9121e-02,  5.5440e-02,  8.0124e-03, -3.4874e-02,  5.3828e-02,\n",
      "         3.3167e-02,  3.8927e-03,  5.6495e-02,  4.8579e-02,  8.3714e-02,\n",
      "         3.2253e-02, -5.9812e-02,  4.0243e-02, -3.2223e-02, -6.1437e-02,\n",
      "        -1.7887e-02,  3.4164e-02, -5.0679e-02,  1.1348e-02,  5.0980e-02,\n",
      "        -9.5005e-02,  3.9072e-02,  6.9132e-02,  6.5994e-02, -2.5008e-02,\n",
      "         2.4313e-02, -4.2422e-02,  8.3648e-02, -1.9218e-02, -1.6562e-02,\n",
      "         9.1997e-03, -4.0517e-02,  4.8682e-02,  2.4187e-02,  3.6831e-02,\n",
      "         5.6912e-02,  2.2288e-02, -7.4922e-02,  7.1279e-02,  6.6322e-02,\n",
      "        -1.6456e-03,  1.0364e-02,  7.0002e-02,  1.7975e-02,  1.9533e-03,\n",
      "         5.8287e-02, -6.6042e-02,  6.2520e-02, -6.8522e-02,  6.4234e-02,\n",
      "        -3.7283e-02, -7.8065e-03,  4.9319e-02,  2.2151e-02, -2.9917e-02,\n",
      "        -7.6417e-02,  3.4543e-02, -1.7042e-02,  1.3266e-02, -2.1781e-02,\n",
      "         3.6597e-02,  2.9649e-02,  2.4318e-02,  3.1918e-02,  2.5920e-02,\n",
      "        -6.2509e-02, -8.3492e-03,  4.3164e-02, -1.3526e-02,  4.2539e-02,\n",
      "         3.3587e-02,  2.9836e-02, -6.5574e-02,  1.7342e-02,  3.1147e-02,\n",
      "        -4.6019e-02,  2.6688e-02, -1.7527e-02, -1.4769e-02, -6.7537e-02,\n",
      "        -1.5052e-02, -3.4059e-03,  5.5816e-02, -4.3359e-02,  5.9143e-02,\n",
      "         9.7352e-03,  5.3113e-02,  7.3202e-02,  1.1245e-01,  7.7723e-02,\n",
      "         2.9620e-02,  5.0431e-02, -3.8710e-02, -2.8965e-02,  9.1137e-02,\n",
      "         1.9923e-02,  3.0998e-02, -3.4634e-02,  1.0005e-02, -1.9527e-02,\n",
      "         1.1891e-02,  1.0524e-01, -2.3706e-02,  1.0105e-01, -3.1908e-02,\n",
      "         1.3869e-02,  3.8812e-02,  6.9648e-02, -2.0103e-02, -7.8429e-03,\n",
      "        -3.0702e-02,  3.2711e-02,  9.5314e-04,  1.5614e-03, -8.7615e-04,\n",
      "         9.3399e-02, -3.4564e-02,  2.4500e-02,  1.3915e-02, -1.4646e-03,\n",
      "         4.2973e-02, -7.3009e-02, -3.8304e-02,  5.9136e-02,  2.9246e-02,\n",
      "        -2.2636e-02, -8.2688e-02,  7.8127e-02,  6.3584e-02, -9.2358e-03,\n",
      "         5.5601e-02,  5.5720e-02,  7.4559e-02, -5.5130e-02,  5.5196e-03,\n",
      "        -5.6786e-02,  1.1252e-01,  4.7604e-02,  1.0335e-01, -5.0790e-02,\n",
      "         6.9656e-02,  1.2186e-02, -4.9425e-02, -3.0958e-03,  6.2505e-02,\n",
      "         4.6869e-02, -3.9660e-02, -6.0248e-02, -7.2747e-02,  6.2782e-02,\n",
      "         1.9167e-02,  5.3424e-02,  5.5397e-02, -4.2643e-02, -2.1734e-02,\n",
      "         4.3013e-02,  3.7967e-02,  1.0117e-01, -3.8183e-02, -4.7521e-02,\n",
      "         5.9180e-02,  9.8654e-03, -4.7785e-02,  6.1925e-02,  5.6971e-02,\n",
      "        -3.3097e-02, -6.6628e-02,  5.0364e-02,  1.3006e-02, -4.5339e-02,\n",
      "         7.8970e-02,  1.4207e-02,  6.2414e-02,  3.1629e-02, -3.7148e-02,\n",
      "         4.3440e-02, -5.0048e-02, -4.5374e-02, -4.8559e-02, -3.2550e-02,\n",
      "         7.1714e-02, -9.2288e-03,  5.8396e-02,  1.0749e-01,  2.5581e-02,\n",
      "        -2.9084e-02, -2.4490e-02, -4.2698e-02,  3.3536e-02,  5.1726e-02,\n",
      "        -4.0674e-02, -2.3728e-02,  6.7891e-02, -3.8421e-02,  2.0830e-02,\n",
      "        -4.7383e-02,  4.5380e-02, -6.5134e-02,  1.3810e-02,  1.4811e-02,\n",
      "        -2.3155e-02, -1.7838e-02,  6.1809e-02,  5.2215e-02,  3.8760e-02,\n",
      "         6.2442e-02,  8.1756e-02,  9.7144e-02, -2.6772e-02,  4.0777e-02,\n",
      "         3.7322e-02, -4.4500e-03, -8.4739e-03, -5.0757e-02, -2.4688e-02,\n",
      "        -1.0670e-02,  2.2661e-02,  4.5451e-03, -1.3700e-02,  5.2938e-02,\n",
      "        -8.2601e-02,  7.2776e-02, -5.1808e-02, -6.7058e-02, -5.2843e-06,\n",
      "        -8.7703e-03,  6.1062e-02,  8.1895e-03, -8.8268e-03, -8.8461e-02,\n",
      "        -5.5012e-02,  7.6729e-03,  1.1205e-02, -2.0370e-02, -1.2142e-03,\n",
      "         1.4833e-02, -4.5585e-02,  7.6229e-04,  5.4319e-02,  4.7073e-02,\n",
      "         1.1311e-02,  1.2087e-02,  8.0193e-02, -3.4896e-02, -3.5528e-02,\n",
      "         5.9808e-02,  6.3732e-02,  4.2600e-02,  1.2016e-02,  6.1717e-02,\n",
      "         5.3554e-02,  7.4799e-02,  2.4504e-02,  9.9338e-02, -2.6186e-02,\n",
      "        -3.9796e-03])), ('l3.weight', tensor([[-0.1514, -0.0636, -0.1990,  ...,  0.0094, -0.1053, -0.0480],\n",
      "        [-0.0993,  0.0189,  0.0442,  ..., -0.0785,  0.0209, -0.0077],\n",
      "        [-0.0514,  0.0251, -0.0061,  ...,  0.0099,  0.0133,  0.0095],\n",
      "        ...,\n",
      "        [-0.0969, -0.0071,  0.0849,  ...,  0.0072, -0.0729, -0.0286],\n",
      "        [ 0.0021, -0.1243, -0.1252,  ..., -0.1098, -0.0381, -0.0384],\n",
      "        [ 0.0881,  0.0186, -0.0405,  ...,  0.0039, -0.0342,  0.0539]])), ('l3.bias', tensor([-0.0954,  0.0514,  0.0261, -0.0412,  0.0215,  0.0163,  0.0207, -0.0014,\n",
      "         0.0207,  0.0414]))])\n"
     ]
    }
   ],
   "source": [
    "# Validamos Modelos obtenidos sean iguales\n",
    "print(nodes[1].learner.get_parameters())"
   ]
  },
  {
   "cell_type": "code",
   "execution_count": null,
   "id": "ee4c6209",
   "metadata": {},
   "outputs": [],
   "source": []
  }
 ],
 "metadata": {
  "kernelspec": {
   "display_name": "Python 3 (ipykernel)",
   "language": "python",
   "name": "python3"
  },
  "language_info": {
   "codemirror_mode": {
    "name": "ipython",
    "version": 3
   },
   "file_extension": ".py",
   "mimetype": "text/x-python",
   "name": "python",
   "nbconvert_exporter": "python",
   "pygments_lexer": "ipython3",
   "version": "3.9.12"
  }
 },
 "nbformat": 4,
 "nbformat_minor": 5
}
